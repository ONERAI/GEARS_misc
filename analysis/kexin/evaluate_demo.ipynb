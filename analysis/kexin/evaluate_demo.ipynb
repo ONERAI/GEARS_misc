{
 "cells": [
  {
   "cell_type": "code",
   "execution_count": 3,
   "id": "bc9cb2b0",
   "metadata": {},
   "outputs": [],
   "source": [
    "import numpy as np\n",
    "import torch\n",
    "import scanpy as sc\n",
    "from data import PertDataloader, Network\n",
    "\n",
    "import warnings\n",
    "warnings.filterwarnings(\"ignore\")\n",
    "\n",
    "name2path = {\n",
    "    'GNN_Disentangle-L2': 'GNN_Disentangle_GAT_string_20.0_64_2_l2_Norman2019_gene_emb_pert_emb_constant_sim_gnn',\n",
    "    'GNN_Disentangle_Sim': 'GNN_Disentangle_GAT_string_20.0_64_2_l3_Norman2019_gamma2_gene_emb_pert_emb_constant_sim_gnn',\n",
    "    'GNN_Disentangle_Sim_No_Gene': 'GNN_Disentangle_sim_gnn', \n",
    "    'No-Perturb': 'No_Perturb_GAT_string_20.0_64_2_l3_Norman2019_gamma2_gene_emb_pert_emb_constant_sim_gnn',\n",
    "    'No-GNN': 'best_no_gnn'\n",
    "}\n",
    "\n",
    "name = 'No-GNN'\n",
    "\n",
    "model_name = name2path[name]\n",
    "args = np.load('./saved_args/'+model_name+'.npy', allow_pickle = True).item()\n",
    "args['device'] = 'cuda:5'"
   ]
  },
  {
   "cell_type": "code",
   "execution_count": 4,
   "id": "c3eb9136",
   "metadata": {},
   "outputs": [
    {
     "name": "stdout",
     "output_type": "stream",
     "text": [
      "There are 24886 edges in the PPI.\n",
      "Creating pyg object for each cell in the data...\n",
      "Local copy of pyg dataset is detected. Loading...\n",
      "Loading splits...\n",
      "Local copy of split is detected. Loading...\n",
      "Simulation split test composition:\n",
      "combo_seen0:9\n",
      "combo_seen1:52\n",
      "combo_seen2:18\n",
      "unseen_single:37\n",
      "Creating dataloaders....\n",
      "Dataloaders created...\n"
     ]
    }
   ],
   "source": [
    "if args['network_name'] == 'string':\n",
    "    args['network_path'] = '/dfs/project/perturb-gnn/graphs/STRING_full_9606.csv'\n",
    "\n",
    "if args['dataset'] == 'Norman2019':\n",
    "    data_path = '/dfs/project/perturb-gnn/datasets/Norman2019/Norman2019_hvg+perts_more_de.h5ad'\n",
    "\n",
    "adata = sc.read_h5ad(data_path)\n",
    "if 'gene_symbols' not in adata.var.columns.values:\n",
    "    adata.var['gene_symbols'] = adata.var['gene_name']\n",
    "gene_list = [f for f in adata.var.gene_symbols.values]\n",
    "# Set up message passing network\n",
    "network = Network(fname=args['network_path'], gene_list=args['gene_list'],\n",
    "                  percentile=args['top_edge_percent'])\n",
    "\n",
    "# Pertrubation dataloader\n",
    "pertdl = PertDataloader(adata, network.G, network.weights, args)"
   ]
  },
  {
   "cell_type": "code",
   "execution_count": 5,
   "id": "fb4e8988",
   "metadata": {},
   "outputs": [],
   "source": [
    "model = torch.load('./saved_models/' + model_name)\n",
    "from inference import evaluate, compute_metrics, deeper_analysis, GI_subgroup\n",
    "\n",
    "test_res = evaluate(pertdl.loaders['test_loader'],\n",
    "                        pertdl.loaders['edge_index'],\n",
    "                        pertdl.loaders['edge_attr'], model, args)\n",
    "\n",
    "test_metrics, test_pert_res = compute_metrics(test_res)"
   ]
  },
  {
   "cell_type": "code",
   "execution_count": 8,
   "id": "675d8064",
   "metadata": {},
   "outputs": [
    {
     "name": "stdout",
     "output_type": "stream",
     "text": [
      "test_combo_seen0_mse: 0.0149425315\n",
      "test_combo_seen0_mae: 0.08616412\n",
      "test_combo_seen0_spearman: 0.819335605624276\n",
      "test_combo_seen0_pearson: 0.9708977858783006\n",
      "test_combo_seen0_r2: 0.901788848892149\n",
      "test_combo_seen0_mse_de: 0.18566363\n",
      "test_combo_seen0_mae_de: 0.352761\n",
      "test_combo_seen0_spearman_de: 0.7186594257562022\n",
      "test_combo_seen0_pearson_de: 0.8483505186854559\n",
      "test_combo_seen0_r2_de: -0.8162012349942849\n",
      "test_combo_seen1_mse: 0.016289996\n",
      "test_combo_seen1_mae: 0.09451111\n",
      "test_combo_seen1_spearman: 0.8268785803302016\n",
      "test_combo_seen1_pearson: 0.9729620212236851\n",
      "test_combo_seen1_r2: 0.8926126228112553\n",
      "test_combo_seen1_mse_de: 0.20140103\n",
      "test_combo_seen1_mae_de: 0.3661127\n",
      "test_combo_seen1_spearman_de: 0.785525628950841\n",
      "test_combo_seen1_pearson_de: 0.8540952321097159\n",
      "test_combo_seen1_r2_de: -2.2421149073586397\n",
      "test_combo_seen2_mse: 0.01899721\n",
      "test_combo_seen2_mae: 0.108064085\n",
      "test_combo_seen2_spearman: 0.847178200541306\n",
      "test_combo_seen2_pearson: 0.9747761116353681\n",
      "test_combo_seen2_r2: 0.8707545974390972\n",
      "test_combo_seen2_mse_de: 0.15260483\n",
      "test_combo_seen2_mae_de: 0.31903273\n",
      "test_combo_seen2_spearman_de: 0.8979096328896693\n",
      "test_combo_seen2_pearson_de: 0.9535229889485541\n",
      "test_combo_seen2_r2_de: 0.8325486503855144\n",
      "test_unseen_single_mse: 0.012150957\n",
      "test_unseen_single_mae: 0.08619606\n",
      "test_unseen_single_spearman: 0.8365876209821612\n",
      "test_unseen_single_pearson: 0.9817300663563078\n",
      "test_unseen_single_r2: 0.918754390774908\n",
      "test_unseen_single_mse_de: 0.15922807\n",
      "test_unseen_single_mae_de: 0.31190258\n",
      "test_unseen_single_spearman_de: 0.7504688142490015\n",
      "test_unseen_single_pearson_de: 0.8799177871401669\n",
      "test_unseen_single_r2_de: -0.22040330356584428\n"
     ]
    }
   ],
   "source": [
    "import pickle\n",
    "metrics = ['mse', 'mae', 'spearman', 'pearson', 'r2']\n",
    "subgroup_path = './splits/Norman2019_simulation_1_0.1_subgroup.pkl'\n",
    "subgroup = pickle.load(open(subgroup_path, \"rb\"))\n",
    "        \n",
    "subgroup_analysis = {}\n",
    "for name in subgroup['test_subgroup'].keys():\n",
    "    subgroup_analysis[name] = {}\n",
    "    for m in list(list(test_pert_res.values())[0].keys()):\n",
    "        subgroup_analysis[name][m] = []\n",
    "\n",
    "for name, pert_list in subgroup['test_subgroup'].items():\n",
    "    for pert in pert_list:\n",
    "        for m, res in test_pert_res[pert].items():\n",
    "            subgroup_analysis[name][m].append(res)\n",
    "\n",
    "for name, result in subgroup_analysis.items():\n",
    "    for m in result.keys():\n",
    "        subgroup_analysis[name][m] = np.mean(subgroup_analysis[name][m])\n",
    "        print('test_' + name + '_' + m + ': ' + str(subgroup_analysis[name][m]))"
   ]
  },
  {
   "cell_type": "code",
   "execution_count": 9,
   "id": "9ac424a1",
   "metadata": {
    "scrolled": true
   },
   "outputs": [],
   "source": [
    "out = deeper_analysis(adata, test_res)\n",
    "GI_out = GI_subgroup(out)"
   ]
  },
  {
   "cell_type": "code",
   "execution_count": null,
   "id": "e91b8bf2",
   "metadata": {},
   "outputs": [],
   "source": []
  },
  {
   "cell_type": "code",
   "execution_count": null,
   "id": "51022789",
   "metadata": {},
   "outputs": [],
   "source": []
  }
 ],
 "metadata": {
  "kernelspec": {
   "display_name": "Python 3 (ipykernel)",
   "language": "python",
   "name": "python3"
  },
  "language_info": {
   "codemirror_mode": {
    "name": "ipython",
    "version": 3
   },
   "file_extension": ".py",
   "mimetype": "text/x-python",
   "name": "python",
   "nbconvert_exporter": "python",
   "pygments_lexer": "ipython3",
   "version": "3.8.11"
  }
 },
 "nbformat": 4,
 "nbformat_minor": 5
}

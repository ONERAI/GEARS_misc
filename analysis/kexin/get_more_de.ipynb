{
 "cells": [
  {
   "cell_type": "code",
   "execution_count": 20,
   "id": "cf949f0c",
   "metadata": {},
   "outputs": [],
   "source": [
    "import scanpy as sc\n",
    "adata = sc.read_h5ad('/dfs/project/perturb-gnn/datasets/Adamson2016/Adamson2016_hvg+perts.h5ad')"
   ]
  },
  {
   "cell_type": "code",
   "execution_count": 21,
   "id": "75c3192c",
   "metadata": {},
   "outputs": [],
   "source": [
    "import scanpy as sc\n",
    "import pandas as pd\n",
    "\n",
    "def rank_genes_groups_by_cov(\n",
    "    adata,\n",
    "    groupby,\n",
    "    control_group,\n",
    "    covariate,\n",
    "    pool_doses=False,\n",
    "    n_genes=50,\n",
    "    rankby_abs=True,\n",
    "    key_added='rank_genes_groups_cov',\n",
    "    return_dict=False,\n",
    "):\n",
    "\n",
    "    \"\"\"\n",
    "    Function that generates a list of differentially expressed genes computed\n",
    "    separately for each covariate category, and using the respective control\n",
    "    cells as reference.\n",
    "\n",
    "    Usage example:\n",
    "\n",
    "    rank_genes_groups_by_cov(\n",
    "        adata,\n",
    "        groupby='cov_product_dose',\n",
    "        covariate_key='cell_type',\n",
    "        control_group='Vehicle_0'\n",
    "    )\n",
    "\n",
    "    Parameters\n",
    "    ----------\n",
    "    adata : AnnData\n",
    "        AnnData dataset\n",
    "    groupby : str\n",
    "        Obs column that defines the groups, should be\n",
    "        cartesian product of covariate_perturbation_cont_var,\n",
    "        it is important that this format is followed.\n",
    "    control_group : str\n",
    "        String that defines the control group in the groupby obs\n",
    "    covariate : str\n",
    "        Obs column that defines the main covariate by which we\n",
    "        want to separate DEG computation (eg. cell type, species, etc.)\n",
    "    n_genes : int (default: 50)\n",
    "        Number of DEGs to include in the lists\n",
    "    rankby_abs : bool (default: True)\n",
    "        If True, rank genes by absolute values of the score, thus including\n",
    "        top downregulated genes in the top N genes. If False, the ranking will\n",
    "        have only upregulated genes at the top.\n",
    "    key_added : str (default: 'rank_genes_groups_cov')\n",
    "        Key used when adding the dictionary to adata.uns\n",
    "    return_dict : str (default: False)\n",
    "        Signals whether to return the dictionary or not\n",
    "\n",
    "    Returns\n",
    "    -------\n",
    "    Adds the DEG dictionary to adata.uns\n",
    "\n",
    "    If return_dict is True returns:\n",
    "    gene_dict : dict\n",
    "        Dictionary where groups are stored as keys, and the list of DEGs\n",
    "        are the corresponding values\n",
    "\n",
    "    \"\"\"\n",
    "\n",
    "    gene_dict = {}\n",
    "    cov_categories = adata.obs[covariate].unique()\n",
    "    for cov_cat in cov_categories:\n",
    "        print(cov_cat)\n",
    "        #name of the control group in the groupby obs column\n",
    "        control_group_cov = '_'.join([cov_cat, control_group])\n",
    "\n",
    "        #subset adata to cells belonging to a covariate category\n",
    "        adata_cov = adata[adata.obs[covariate]==cov_cat]\n",
    "\n",
    "        #compute DEGs\n",
    "        sc.tl.rank_genes_groups(\n",
    "            adata_cov,\n",
    "            groupby=groupby,\n",
    "            reference=control_group_cov,\n",
    "            rankby_abs=rankby_abs,\n",
    "            n_genes=n_genes\n",
    "        )\n",
    "\n",
    "        #add entries to dictionary of gene sets\n",
    "        de_genes = pd.DataFrame(adata_cov.uns['rank_genes_groups']['names'])\n",
    "        for group in de_genes:\n",
    "            gene_dict[group] = de_genes[group].tolist()\n",
    "\n",
    "    adata.uns[key_added] = gene_dict\n",
    "\n",
    "    if return_dict:\n",
    "        return gene_dict\n",
    "\n"
   ]
  },
  {
   "cell_type": "code",
   "execution_count": 22,
   "id": "0f587e9d",
   "metadata": {},
   "outputs": [
    {
     "name": "stdout",
     "output_type": "stream",
     "text": [
      "K562(?)\n",
      "WARNING: Default of the method has been changed to 't-test' from 't-test_overestim_var'\n"
     ]
    },
    {
     "name": "stderr",
     "output_type": "stream",
     "text": [
      "Trying to set attribute `.uns` of view, copying.\n",
      "/dfs/user/kexinh/miniconda3/envs/eee/lib/python3.8/site-packages/scanpy/tools/_rank_genes_groups.py:394: PerformanceWarning: DataFrame is highly fragmented.  This is usually the result of calling `frame.insert` many times, which has poor performance.  Consider joining all columns at once using pd.concat(axis=1) instead.  To get a de-fragmented frame, use `newframe = frame.copy()`\n",
      "  self.stats[group_name, 'names'] = self.var_names[global_indices]\n",
      "/dfs/user/kexinh/miniconda3/envs/eee/lib/python3.8/site-packages/scanpy/tools/_rank_genes_groups.py:396: PerformanceWarning: DataFrame is highly fragmented.  This is usually the result of calling `frame.insert` many times, which has poor performance.  Consider joining all columns at once using pd.concat(axis=1) instead.  To get a de-fragmented frame, use `newframe = frame.copy()`\n",
      "  self.stats[group_name, 'scores'] = scores[global_indices]\n",
      "/dfs/user/kexinh/miniconda3/envs/eee/lib/python3.8/site-packages/scanpy/tools/_rank_genes_groups.py:399: PerformanceWarning: DataFrame is highly fragmented.  This is usually the result of calling `frame.insert` many times, which has poor performance.  Consider joining all columns at once using pd.concat(axis=1) instead.  To get a de-fragmented frame, use `newframe = frame.copy()`\n",
      "  self.stats[group_name, 'pvals'] = pvals[global_indices]\n",
      "/dfs/user/kexinh/miniconda3/envs/eee/lib/python3.8/site-packages/scanpy/tools/_rank_genes_groups.py:409: PerformanceWarning: DataFrame is highly fragmented.  This is usually the result of calling `frame.insert` many times, which has poor performance.  Consider joining all columns at once using pd.concat(axis=1) instead.  To get a de-fragmented frame, use `newframe = frame.copy()`\n",
      "  self.stats[group_name, 'pvals_adj'] = pvals_adj[global_indices]\n",
      "/dfs/user/kexinh/miniconda3/envs/eee/lib/python3.8/site-packages/scanpy/tools/_rank_genes_groups.py:420: PerformanceWarning: DataFrame is highly fragmented.  This is usually the result of calling `frame.insert` many times, which has poor performance.  Consider joining all columns at once using pd.concat(axis=1) instead.  To get a de-fragmented frame, use `newframe = frame.copy()`\n",
      "  self.stats[group_name, 'logfoldchanges'] = np.log2(\n"
     ]
    }
   ],
   "source": [
    "rank_genes_groups_by_cov(adata, \n",
    "                         groupby='cov_drug_dose_name', \n",
    "                         covariate='cell_type', \n",
    "                         control_group='ctrl_1', \n",
    "                         n_genes=50,\n",
    "                         key_added = 'rank_genes_groups_cov_top50')"
   ]
  },
  {
   "cell_type": "code",
   "execution_count": 23,
   "id": "619e24c2",
   "metadata": {},
   "outputs": [
    {
     "name": "stdout",
     "output_type": "stream",
     "text": [
      "K562(?)\n",
      "WARNING: Default of the method has been changed to 't-test' from 't-test_overestim_var'\n"
     ]
    },
    {
     "name": "stderr",
     "output_type": "stream",
     "text": [
      "Trying to set attribute `.uns` of view, copying.\n"
     ]
    }
   ],
   "source": [
    "rank_genes_groups_by_cov(adata, \n",
    "                         groupby='cov_drug_dose_name', \n",
    "                         covariate='cell_type', \n",
    "                         control_group='ctrl_1', \n",
    "                         n_genes=100,\n",
    "                         key_added = 'rank_genes_groups_cov_top100')"
   ]
  },
  {
   "cell_type": "code",
   "execution_count": 24,
   "id": "f1710d3b",
   "metadata": {},
   "outputs": [
    {
     "name": "stdout",
     "output_type": "stream",
     "text": [
      "K562(?)\n",
      "WARNING: Default of the method has been changed to 't-test' from 't-test_overestim_var'\n"
     ]
    },
    {
     "name": "stderr",
     "output_type": "stream",
     "text": [
      "Trying to set attribute `.uns` of view, copying.\n"
     ]
    }
   ],
   "source": [
    "rank_genes_groups_by_cov(adata, \n",
    "                         groupby='cov_drug_dose_name', \n",
    "                         covariate='cell_type', \n",
    "                         control_group='ctrl_1', \n",
    "                         n_genes=200,\n",
    "                         key_added = 'rank_genes_groups_cov_top200')"
   ]
  },
  {
   "cell_type": "code",
   "execution_count": 25,
   "id": "d3bbcea0",
   "metadata": {},
   "outputs": [],
   "source": [
    "adata.write_h5ad('/dfs/project/perturb-gnn/datasets/Adamson2016_hvg+perts_more_de.h5ad')"
   ]
  },
  {
   "cell_type": "code",
   "execution_count": 26,
   "id": "1e0d7ceb",
   "metadata": {},
   "outputs": [
    {
     "data": {
      "text/plain": [
       "['CREB1+ctrl', 'ctrl', 'ZNF326+ctrl', 'BHLHE40+ctrl', 'DDIT3+ctrl', ..., 'CARS+ctrl', 'TMED2+ctrl', 'P4HB+ctrl', 'SPCS3+ctrl', 'SPCS2+ctrl']\n",
       "Length: 88\n",
       "Categories (88, object): ['AARS+ctrl', 'AMIGO3+ctrl', 'ARHGAP22+ctrl', 'ASCC3+ctrl', ..., 'XRN1+ctrl', 'YIPF5+ctrl', 'ZNF326+ctrl', 'ctrl']"
      ]
     },
     "execution_count": 26,
     "metadata": {},
     "output_type": "execute_result"
    }
   ],
   "source": [
    "adata.obs.condition.unique()"
   ]
  },
  {
   "cell_type": "code",
   "execution_count": null,
   "id": "7d8091b7",
   "metadata": {},
   "outputs": [],
   "source": []
  }
 ],
 "metadata": {
  "kernelspec": {
   "display_name": "Python 3 (ipykernel)",
   "language": "python",
   "name": "python3"
  },
  "language_info": {
   "codemirror_mode": {
    "name": "ipython",
    "version": 3
   },
   "file_extension": ".py",
   "mimetype": "text/x-python",
   "name": "python",
   "nbconvert_exporter": "python",
   "pygments_lexer": "ipython3",
   "version": "3.8.11"
  }
 },
 "nbformat": 4,
 "nbformat_minor": 5
}

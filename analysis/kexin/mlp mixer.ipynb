{
 "cells": [
  {
   "cell_type": "code",
   "execution_count": 1,
   "id": "bc9cb2b0",
   "metadata": {},
   "outputs": [],
   "source": [
    "import numpy as np\n",
    "import torch\n",
    "import scanpy as sc\n",
    "from data import PertDataloader, Network\n",
    "\n",
    "\n",
    "name2path = {\n",
    "    'GNN_Disentangle-L2': 'GNN_Disentangle_GAT_string_20.0_64_2_l2_Norman2019_gene_emb_pert_emb_constant_sim_gnn',\n",
    "    'GNN_Disentangle_Sim': 'GNN_Disentangle_GAT_string_20.0_64_2_l3_Norman2019_gamma2_gene_emb_pert_emb_constant_sim_gnn',\n",
    "    'GNN_Disentangle_Sim_No_Gene': 'GNN_Disentangle_sim_gnn', \n",
    "    'No-Perturb': 'No_Perturb_GAT_string_20.0_64_2_l3_Norman2019_gamma2_gene_emb_pert_emb_constant_sim_gnn'\n",
    "}\n",
    "\n",
    "\n",
    "name = 'GNN_Disentangle_Sim_No_Gene'\n",
    "\n",
    "model_name = name2path[name]\n",
    "args = np.load('./saved_args/'+model_name+'.npy', allow_pickle = True).item()\n",
    "args['device'] = 'cuda:3'"
   ]
  },
  {
   "cell_type": "code",
   "execution_count": 2,
   "id": "fccbaffa",
   "metadata": {},
   "outputs": [],
   "source": [
    "#import wandb\n",
    "#wandb.init(project='pert_gnn_simulation', entity='kexinhuang', name=name)"
   ]
  },
  {
   "cell_type": "code",
   "execution_count": 4,
   "id": "c3eb9136",
   "metadata": {},
   "outputs": [
    {
     "name": "stdout",
     "output_type": "stream",
     "text": [
      "There are 101013 edges in the PPI.\n",
      "Creating pyg object for each cell in the data...\n",
      "Local copy of pyg dataset is detected. Loading...\n",
      "Loading splits...\n",
      "Local copy of split is detected. Loading...\n",
      "Simulation split test composition:\n",
      "combo_seen0:9\n",
      "combo_seen1:52\n",
      "combo_seen2:18\n",
      "unseen_single:37\n",
      "Creating dataloaders....\n",
      "Dataloaders created...\n"
     ]
    }
   ],
   "source": [
    "if args['network_name'] == 'string':\n",
    "    args['network_path'] = '/dfs/project/perturb-gnn/graphs/STRING_full_9606.csv'\n",
    "\n",
    "if args['dataset'] == 'Norman2019':\n",
    "    data_path = '/dfs/project/perturb-gnn/datasets/Norman2019/Norman2019_hvg+perts_more_de.h5ad'\n",
    "\n",
    "adata = sc.read_h5ad(data_path)\n",
    "if 'gene_symbols' not in adata.var.columns.values:\n",
    "    adata.var['gene_symbols'] = adata.var['gene_name']\n",
    "gene_list = [f for f in adata.var.gene_symbols.values]\n",
    "# Set up message passing network\n",
    "network = Network(fname=args['network_path'], gene_list=args['gene_list'],\n",
    "                  percentile=args['top_edge_percent'])\n",
    "\n",
    "# Pertrubation dataloader\n",
    "pertdl = PertDataloader(adata, network.G, network.weights, args)"
   ]
  },
  {
   "cell_type": "code",
   "execution_count": 5,
   "id": "baa76ec8",
   "metadata": {},
   "outputs": [],
   "source": [
    "loader = pertdl.loaders['train_loader']"
   ]
  },
  {
   "cell_type": "code",
   "execution_count": 9,
   "id": "496affd3",
   "metadata": {},
   "outputs": [],
   "source": [
    "for data in loader:\n",
    "    break"
   ]
  },
  {
   "cell_type": "code",
   "execution_count": 8,
   "id": "32513115",
   "metadata": {},
   "outputs": [],
   "source": [
    "import torch\n",
    "import numpy as np\n",
    "import torch.nn as nn\n",
    "import torch.nn.functional as F"
   ]
  },
  {
   "cell_type": "code",
   "execution_count": 11,
   "id": "49700e88",
   "metadata": {},
   "outputs": [],
   "source": [
    "num_graphs = len(data.batch.unique())"
   ]
  },
  {
   "cell_type": "code",
   "execution_count": 10,
   "id": "0e283f82",
   "metadata": {},
   "outputs": [],
   "source": [
    "emb = nn.Embedding(5045, 64, max_norm=True)"
   ]
  },
  {
   "cell_type": "code",
   "execution_count": 13,
   "id": "da4d1a6e",
   "metadata": {},
   "outputs": [],
   "source": [
    "emb_o = emb(torch.LongTensor(list(range(5045))).repeat(num_graphs, ))"
   ]
  },
  {
   "cell_type": "code",
   "execution_count": 14,
   "id": "386bf3bf",
   "metadata": {},
   "outputs": [
    {
     "data": {
      "text/plain": [
       "torch.Size([161440, 64])"
      ]
     },
     "execution_count": 14,
     "metadata": {},
     "output_type": "execute_result"
    }
   ],
   "source": [
    "emb_o.shape"
   ]
  },
  {
   "cell_type": "code",
   "execution_count": 15,
   "id": "4cd41398",
   "metadata": {},
   "outputs": [],
   "source": [
    "base_emb = emb_o.reshape(num_graphs, 5045, -1)"
   ]
  },
  {
   "cell_type": "code",
   "execution_count": 17,
   "id": "aee85896",
   "metadata": {},
   "outputs": [
    {
     "data": {
      "text/plain": [
       "torch.Size([32, 5045, 64])"
      ]
     },
     "execution_count": 17,
     "metadata": {},
     "output_type": "execute_result"
    }
   ],
   "source": [
    "base_emb.shape"
   ]
  },
  {
   "cell_type": "code",
   "execution_count": 24,
   "id": "b0781d66",
   "metadata": {},
   "outputs": [],
   "source": [
    "class MLP(nn.Module):\n",
    "    def __init__(self, num_features, expansion_factor, dropout):\n",
    "        super().__init__()\n",
    "        num_hidden = num_features * expansion_factor\n",
    "        self.fc1 = nn.Linear(num_features, num_hidden)\n",
    "        self.dropout1 = nn.Dropout(dropout)\n",
    "        self.fc2 = nn.Linear(num_hidden, num_features)\n",
    "        self.dropout2 = nn.Dropout(dropout)\n",
    "\n",
    "    def forward(self, x):\n",
    "        x = self.dropout1(F.gelu(self.fc1(x)))\n",
    "        x = self.dropout2(self.fc2(x))\n",
    "        return x\n",
    "\n",
    "\n",
    "class TokenMixer(nn.Module):\n",
    "    def __init__(self, num_features, num_patches, expansion_factor, dropout):\n",
    "        super().__init__()\n",
    "        self.norm = nn.LayerNorm(num_features)\n",
    "        self.mlp = MLP(num_patches, expansion_factor, dropout)\n",
    "\n",
    "    def forward(self, x):\n",
    "        # x.shape == (batch_size, num_patches, num_features)\n",
    "        residual = x\n",
    "        x = self.norm(x)\n",
    "        x = x.transpose(1, 2)\n",
    "        # x.shape == (batch_size, num_features, num_patches)\n",
    "        x = self.mlp(x)\n",
    "        x = x.transpose(1, 2)\n",
    "        # x.shape == (batch_size, num_patches, num_features)\n",
    "        out = x + residual\n",
    "        return out\n",
    "\n",
    "\n",
    "class ChannelMixer(nn.Module):\n",
    "    def __init__(self, num_features, num_patches, expansion_factor, dropout):\n",
    "        super().__init__()\n",
    "        self.norm = nn.LayerNorm(num_features)\n",
    "        self.mlp = MLP(num_features, expansion_factor, dropout)\n",
    "\n",
    "    def forward(self, x):\n",
    "        # x.shape == (batch_size, num_patches, num_features)\n",
    "        residual = x\n",
    "        x = self.norm(x)\n",
    "        x = self.mlp(x)\n",
    "        # x.shape == (batch_size, num_patches, num_features)\n",
    "        out = x + residual\n",
    "        return out\n",
    "\n",
    "\n",
    "class MixerLayer(nn.Module):\n",
    "    def __init__(self, num_features, num_patches, expansion_factor, dropout):\n",
    "        super().__init__()\n",
    "        self.token_mixer = TokenMixer(\n",
    "            num_features, num_patches, expansion_factor, dropout\n",
    "        )\n",
    "        self.channel_mixer = ChannelMixer(\n",
    "            num_features, num_patches, expansion_factor, dropout\n",
    "        )\n",
    "\n",
    "    def forward(self, x):\n",
    "        # x.shape == (batch_size, num_patches, num_features)\n",
    "        x = self.token_mixer(x)\n",
    "        x = self.channel_mixer(x)\n",
    "        # x.shape == (batch_size, num_patches, num_features)\n",
    "        return x\n",
    "    \n",
    "mixer = MixerLayer(64, 5045, 2, 0.1)"
   ]
  },
  {
   "cell_type": "code",
   "execution_count": 27,
   "id": "67121d49",
   "metadata": {},
   "outputs": [],
   "source": [
    "mixer = nn.Sequential(\n",
    "                    *[\n",
    "                        MixerLayer(64, 5045, 2, 0.3)\n",
    "                        for _ in range(2)\n",
    "                    ]\n",
    "                )"
   ]
  },
  {
   "cell_type": "code",
   "execution_count": 28,
   "id": "dfdc1e77",
   "metadata": {},
   "outputs": [
    {
     "data": {
      "text/plain": [
       "tensor([[[ 0.1904, -0.0113, -0.5770,  ..., -1.1207,  1.1071,  0.9854],\n",
       "         [ 1.0404, -1.1618, -1.1913,  ..., -0.0767,  0.3916, -0.4452],\n",
       "         [-0.1410,  0.1107,  0.9528,  ...,  0.3103, -0.3393, -0.4750],\n",
       "         ...,\n",
       "         [-0.1382,  0.8997,  0.1446,  ...,  0.2115,  0.6487, -0.1571],\n",
       "         [ 1.0052, -0.3672,  0.1188,  ..., -0.0523,  0.0688,  0.3462],\n",
       "         [-0.0667,  0.4412,  0.1082,  ..., -0.3944,  0.1929, -1.0405]],\n",
       "\n",
       "        [[-0.5534,  0.3848, -0.9856,  ..., -0.1377,  0.5450,  0.7492],\n",
       "         [ 0.1708, -0.1524, -0.2508,  ...,  0.0147, -0.6033, -0.2640],\n",
       "         [-0.4169,  0.2331,  0.4029,  ...,  0.1368, -1.0101, -0.5444],\n",
       "         ...,\n",
       "         [ 0.6307,  1.0567,  0.2277,  ..., -0.0283, -0.0182, -0.1679],\n",
       "         [ 0.3622,  0.3869,  0.0556,  ...,  0.6102, -0.8638, -1.0897],\n",
       "         [ 0.8843,  0.0194,  0.4571,  ...,  0.0995, -0.0102, -0.0671]],\n",
       "\n",
       "        [[ 0.9770, -0.2882,  0.1499,  ..., -1.2680,  0.6785,  0.2482],\n",
       "         [ 0.3956, -0.2058,  0.1097,  ..., -0.2966, -0.3785, -1.2051],\n",
       "         [ 1.0259, -0.4264, -0.6579,  ...,  0.2615, -1.8129, -0.0083],\n",
       "         ...,\n",
       "         [-0.0907,  1.2929, -0.3408,  ..., -0.1877,  0.9118,  0.5388],\n",
       "         [ 0.6560,  0.5414, -0.5143,  ..., -0.1882, -0.3675, -0.3197],\n",
       "         [-0.0217,  0.6540,  0.5581,  ...,  0.2307, -0.1469,  0.1557]],\n",
       "\n",
       "        ...,\n",
       "\n",
       "        [[ 0.1003, -0.0505, -0.0261,  ..., -0.0169,  0.6714, -0.3318],\n",
       "         [ 0.1621,  0.7277, -0.6592,  ...,  0.5067, -0.1216, -0.9090],\n",
       "         [ 0.8229,  0.0470, -0.0697,  ..., -0.3169, -1.1113,  0.5425],\n",
       "         ...,\n",
       "         [ 0.7501,  0.6069, -0.0067,  ...,  0.2412,  0.3959,  0.0281],\n",
       "         [ 0.6561, -0.6432, -0.4981,  ...,  0.7122, -1.1038,  0.1841],\n",
       "         [-0.0193,  0.8692,  0.4138,  ...,  0.0745,  0.4275, -0.2536]],\n",
       "\n",
       "        [[ 0.1912, -0.4698,  0.9964,  ...,  0.0196,  0.4880,  0.4102],\n",
       "         [ 0.6840, -0.6914, -0.5560,  ..., -0.1624, -0.1195,  0.7650],\n",
       "         [ 1.0820,  0.0572,  0.7217,  ..., -0.5807, -0.6000, -0.4595],\n",
       "         ...,\n",
       "         [-0.1302,  0.5611,  0.0155,  ...,  1.0101, -0.0167, -0.5332],\n",
       "         [ 0.5086,  0.6398,  0.1319,  ..., -0.0414, -0.5014, -0.7978],\n",
       "         [ 0.2473,  1.0740,  0.5868,  ...,  0.3080,  0.0642, -0.8702]],\n",
       "\n",
       "        [[ 0.0645,  0.6514, -0.0346,  ..., -0.3775,  0.0059,  0.2931],\n",
       "         [ 1.0590, -0.4105, -1.1494,  ..., -0.2930,  0.1028, -0.6452],\n",
       "         [ 0.9337, -0.1741, -0.2635,  ...,  0.3760, -1.0695,  0.1700],\n",
       "         ...,\n",
       "         [-0.1789,  0.6886,  0.6344,  ...,  0.3861,  0.5452, -0.3959],\n",
       "         [ 0.2532, -0.6318, -0.0276,  ...,  0.0739, -0.4360, -0.5272],\n",
       "         [ 0.9975,  0.6412, -0.7855,  ...,  0.7245, -0.4960, -0.3931]]],\n",
       "       grad_fn=<AddBackward0>)"
      ]
     },
     "execution_count": 28,
     "metadata": {},
     "output_type": "execute_result"
    }
   ],
   "source": [
    "mixer(base_emb)"
   ]
  },
  {
   "cell_type": "code",
   "execution_count": null,
   "id": "32cb00c6",
   "metadata": {},
   "outputs": [],
   "source": []
  }
 ],
 "metadata": {
  "kernelspec": {
   "display_name": "Python 3 (ipykernel)",
   "language": "python",
   "name": "python3"
  },
  "language_info": {
   "codemirror_mode": {
    "name": "ipython",
    "version": 3
   },
   "file_extension": ".py",
   "mimetype": "text/x-python",
   "name": "python",
   "nbconvert_exporter": "python",
   "pygments_lexer": "ipython3",
   "version": "3.8.11"
  }
 },
 "nbformat": 4,
 "nbformat_minor": 5
}

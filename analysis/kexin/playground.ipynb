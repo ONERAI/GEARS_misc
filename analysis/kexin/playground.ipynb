{
 "cells": [
  {
   "cell_type": "code",
   "execution_count": 1,
   "id": "bc9cb2b0",
   "metadata": {},
   "outputs": [],
   "source": [
    "import numpy as np\n",
    "import torch\n",
    "import scanpy as sc\n",
    "from data import PertDataloader, Network\n",
    "\n",
    "\n",
    "model_name = 'GNN_Disentangle_GAT_string_20.0_64_2_l3_Norman2019_gamma2_gene_emb'\n",
    "args = np.load('./saved_args/'+model_name+'.npy', allow_pickle = True).item()"
   ]
  },
  {
   "cell_type": "code",
   "execution_count": 2,
   "id": "c3eb9136",
   "metadata": {},
   "outputs": [
    {
     "name": "stdout",
     "output_type": "stream",
     "text": [
      "There are 101013 edges in the PPI.\n",
      "Creating pyg object for each cell in the data...\n",
      "Local copy of pyg dataset is detected. Loading...\n",
      "Loading splits...\n",
      "Local copy of split is detected. Loading...\n",
      "Simulation split test composition:\n",
      "combo_seen0:9\n",
      "combo_seen1:52\n",
      "combo_seen2:18\n",
      "unseen_single:37\n",
      "Creating dataloaders....\n",
      "Dataloaders created...\n"
     ]
    }
   ],
   "source": [
    "if args['network_name'] == 'string':\n",
    "    args['network_path'] = '/dfs/project/perturb-gnn/graphs/STRING_full_9606.csv'\n",
    "\n",
    "if args['dataset'] == 'Norman2019':\n",
    "    data_path = '/dfs/project/perturb-gnn/datasets/Norman2019_hvg+perts.h5ad'\n",
    "\n",
    "adata = sc.read_h5ad(data_path)\n",
    "if 'gene_symbols' not in adata.var.columns.values:\n",
    "    adata.var['gene_symbols'] = adata.var['gene_name']\n",
    "gene_list = [f for f in adata.var.gene_symbols.values]\n",
    "# Set up message passing network\n",
    "network = Network(fname=args['network_path'], gene_list=args['gene_list'],\n",
    "                  percentile=args['top_edge_percent'])\n",
    "\n",
    "# Pertrubation dataloader\n",
    "pertdl = PertDataloader(adata, network.G, network.weights, args)"
   ]
  },
  {
   "cell_type": "code",
   "execution_count": 75,
   "id": "34899c73",
   "metadata": {},
   "outputs": [],
   "source": [
    "node_map_inv = {j:i for i,j in pertdl.node_map.items()}"
   ]
  },
  {
   "cell_type": "code",
   "execution_count": 71,
   "id": "cfe9e40b",
   "metadata": {},
   "outputs": [
    {
     "data": {
      "text/plain": [
       "<networkx.classes.digraph.DiGraph at 0x7fb757cb0eb0>"
      ]
     },
     "execution_count": 71,
     "metadata": {},
     "output_type": "execute_result"
    }
   ],
   "source": [
    "network.G"
   ]
  },
  {
   "cell_type": "code",
   "execution_count": 6,
   "id": "34143c71",
   "metadata": {},
   "outputs": [],
   "source": [
    "self = torch.load('./saved_models/'+ model_name)"
   ]
  },
  {
   "cell_type": "code",
   "execution_count": 9,
   "id": "eaf2d3e6",
   "metadata": {},
   "outputs": [],
   "source": [
    "for batch in pertdl.loaders['train_loader']:\n",
    "    break"
   ]
  },
  {
   "cell_type": "code",
   "execution_count": 10,
   "id": "d2d87b67",
   "metadata": {},
   "outputs": [],
   "source": [
    "batch.to(args['device'])\n",
    "data = batch\n",
    "x, edge_index, edge_attr, batch = data.x, data.edge_index, \\\n",
    "                                          data.edge_attr, data.batch"
   ]
  },
  {
   "cell_type": "code",
   "execution_count": 13,
   "id": "2f448647",
   "metadata": {},
   "outputs": [],
   "source": [
    "pert = x[:, 1].reshape(-1,1)\n",
    "pert_emb = self.pert_w(pert)\n",
    "\n",
    "\n",
    "gene_base = x[:, 0].reshape(-1,1)\n",
    "base_emb = self.gene_basal_w(gene_base)\n",
    "\n",
    "emb = self.emb(torch.LongTensor(list(range(self.num_genes))).repeat(self.args['batch_size'], ).to(self.args['device']))\n",
    "base_emb = torch.cat((emb, base_emb), axis = 1)\n",
    "base_emb = self.emb_trans(base_emb)"
   ]
  },
  {
   "cell_type": "code",
   "execution_count": 14,
   "id": "990db630",
   "metadata": {},
   "outputs": [
    {
     "data": {
      "text/plain": [
       "torch.Size([161440, 64])"
      ]
     },
     "execution_count": 14,
     "metadata": {},
     "output_type": "execute_result"
    }
   ],
   "source": [
    "base_emb.shape"
   ]
  },
  {
   "cell_type": "code",
   "execution_count": 16,
   "id": "106fc284",
   "metadata": {},
   "outputs": [],
   "source": [
    "import torch.nn as nn\n",
    "pert_emb_trans = nn.Linear(64, 64)"
   ]
  },
  {
   "cell_type": "code",
   "execution_count": 18,
   "id": "cda80ba5",
   "metadata": {},
   "outputs": [
    {
     "data": {
      "text/plain": [
       "torch.Size([161440, 1])"
      ]
     },
     "execution_count": 18,
     "metadata": {},
     "output_type": "execute_result"
    }
   ],
   "source": [
    "pert.shape"
   ]
  },
  {
   "cell_type": "code",
   "execution_count": 32,
   "id": "9b9a5491",
   "metadata": {},
   "outputs": [],
   "source": [
    "pert_index = torch.where(pert.reshape(*data.y.shape) == 1)"
   ]
  },
  {
   "cell_type": "code",
   "execution_count": 35,
   "id": "223b1a1b",
   "metadata": {},
   "outputs": [],
   "source": [
    "emb_one_set = self.emb(torch.LongTensor(list(range(self.num_genes))).to(self.args['device']))"
   ]
  },
  {
   "cell_type": "code",
   "execution_count": 36,
   "id": "cb9eb226",
   "metadata": {},
   "outputs": [],
   "source": [
    "pert_emb_trans.to(args['device'])\n",
    "pert_global_emb = pert_emb_trans(emb_one_set)"
   ]
  },
  {
   "cell_type": "code",
   "execution_count": 37,
   "id": "a28a8bfd",
   "metadata": {},
   "outputs": [
    {
     "data": {
      "text/plain": [
       "torch.Size([5045, 64])"
      ]
     },
     "execution_count": 37,
     "metadata": {},
     "output_type": "execute_result"
    }
   ],
   "source": [
    "pert_global_emb.shape"
   ]
  },
  {
   "cell_type": "code",
   "execution_count": 38,
   "id": "c3bca42f",
   "metadata": {},
   "outputs": [],
   "source": [
    "batch_pert_index = pert_index[0]\n",
    "pert_global_emb_batch = pert_global_emb[pert_index[1]]"
   ]
  },
  {
   "cell_type": "code",
   "execution_count": 46,
   "id": "3a438312",
   "metadata": {},
   "outputs": [],
   "source": [
    "base_emb = base_emb.reshape(self.args['batch_size'], self.num_genes, -1)"
   ]
  },
  {
   "cell_type": "code",
   "execution_count": 67,
   "id": "0cd4b8ce",
   "metadata": {},
   "outputs": [],
   "source": [
    "from model import MLP\n",
    "hidden_size = 64\n",
    "pert_lambda_pred = MLP([hidden_size, hidden_size, 1], last_layer_act='ReLU')"
   ]
  },
  {
   "cell_type": "code",
   "execution_count": 68,
   "id": "fffd5b89",
   "metadata": {},
   "outputs": [
    {
     "data": {
      "text/plain": [
       "MLP(\n",
       "  (relu): ReLU()\n",
       "  (network): Sequential(\n",
       "    (0): Linear(in_features=64, out_features=64, bias=True)\n",
       "    (1): BatchNorm1d(64, eps=1e-05, momentum=0.1, affine=True, track_running_stats=True)\n",
       "    (2): ReLU()\n",
       "    (3): Linear(in_features=64, out_features=1, bias=True)\n",
       "  )\n",
       ")"
      ]
     },
     "execution_count": 68,
     "metadata": {},
     "output_type": "execute_result"
    }
   ],
   "source": [
    "pert_lambda_pred.to(args['device'])"
   ]
  },
  {
   "cell_type": "code",
   "execution_count": 69,
   "id": "79bd5e62",
   "metadata": {},
   "outputs": [],
   "source": [
    "pert_emb_lambda = pert_lambda_pred(pert_global_emb[pert_index[1]])"
   ]
  },
  {
   "cell_type": "code",
   "execution_count": 84,
   "id": "d8be243e",
   "metadata": {},
   "outputs": [
    {
     "data": {
      "text/plain": [
       "'LHX1'"
      ]
     },
     "execution_count": 84,
     "metadata": {},
     "output_type": "execute_result"
    }
   ],
   "source": [
    "node_map_inv[pert_index[1][4].item()]"
   ]
  },
  {
   "cell_type": "code",
   "execution_count": 78,
   "id": "f8b33296",
   "metadata": {},
   "outputs": [
    {
     "data": {
      "text/plain": [
       "4115"
      ]
     },
     "execution_count": 78,
     "metadata": {},
     "output_type": "execute_result"
    }
   ],
   "source": [
    "pert_index[1][i].item()"
   ]
  },
  {
   "cell_type": "code",
   "execution_count": 70,
   "id": "ce512c6c",
   "metadata": {},
   "outputs": [],
   "source": [
    "for i, j in enumerate(batch_pert_index):\n",
    "    base_emb[j] += pert_emb_lambda[i] * pert_global_emb[pert_index[1][i]]"
   ]
  },
  {
   "cell_type": "code",
   "execution_count": 52,
   "id": "bfaae243",
   "metadata": {},
   "outputs": [
    {
     "data": {
      "text/plain": [
       "tensor([[-6.7838e-02,  8.4169e-02, -5.8724e-02,  ...,  9.5274e-02,\n",
       "         -3.1291e-02,  6.7311e-02],\n",
       "        [-6.7334e-02,  8.4227e-02, -5.9290e-02,  ...,  9.6037e-02,\n",
       "         -3.1273e-02,  6.7037e-02],\n",
       "        [-6.5092e-02,  8.4487e-02, -6.1930e-02,  ...,  9.9567e-02,\n",
       "         -3.1193e-02,  6.5812e-02],\n",
       "        ...,\n",
       "        [ 6.6734e-04,  1.1483e-01, -6.6853e-01,  ...,  5.0136e-01,\n",
       "          1.5226e-02, -5.3027e-02],\n",
       "        [-6.0340e-02,  1.4597e-01, -4.7651e-02,  ...,  1.7981e-01,\n",
       "         -4.2171e-02,  1.5695e-01],\n",
       "        [-6.0688e-02,  1.4593e-01, -4.7246e-02,  ...,  1.7927e-01,\n",
       "         -4.2184e-02,  1.5714e-01]], device='cuda:5', grad_fn=<ViewBackward>)"
      ]
     },
     "execution_count": 52,
     "metadata": {},
     "output_type": "execute_result"
    }
   ],
   "source": [
    "base_emb.reshape(self.args['batch_size'] * self.num_genes, -1)"
   ]
  },
  {
   "cell_type": "code",
   "execution_count": 98,
   "id": "355d1ab2",
   "metadata": {},
   "outputs": [
    {
     "data": {
      "text/plain": [
       "0"
      ]
     },
     "execution_count": 98,
     "metadata": {},
     "output_type": "execute_result"
    }
   ],
   "source": [
    "np.random.binomial(1, 0.75, 1)[0]"
   ]
  },
  {
   "cell_type": "code",
   "execution_count": null,
   "id": "092b5dcf",
   "metadata": {},
   "outputs": [],
   "source": []
  },
  {
   "cell_type": "code",
   "execution_count": 46,
   "id": "49c6203a",
   "metadata": {
    "scrolled": false
   },
   "outputs": [
    {
     "data": {
      "text/html": [
       "<div>\n",
       "<style scoped>\n",
       "    .dataframe tbody tr th:only-of-type {\n",
       "        vertical-align: middle;\n",
       "    }\n",
       "\n",
       "    .dataframe tbody tr th {\n",
       "        vertical-align: top;\n",
       "    }\n",
       "\n",
       "    .dataframe thead th {\n",
       "        text-align: right;\n",
       "    }\n",
       "</style>\n",
       "<table border=\"1\" class=\"dataframe\">\n",
       "  <thead>\n",
       "    <tr style=\"text-align: right;\">\n",
       "      <th></th>\n",
       "      <th>mse_de_cpa</th>\n",
       "      <th>mse_de_gnn</th>\n",
       "      <th>group</th>\n",
       "    </tr>\n",
       "  </thead>\n",
       "  <tbody>\n",
       "    <tr>\n",
       "      <th>AHR+KLF1</th>\n",
       "      <td>0.357695</td>\n",
       "      <td>0.368303</td>\n",
       "      <td>combo_seen2</td>\n",
       "    </tr>\n",
       "    <tr>\n",
       "      <th>CEBPE+RUNX1T1</th>\n",
       "      <td>0.100133</td>\n",
       "      <td>0.339434</td>\n",
       "      <td>combo_seen2</td>\n",
       "    </tr>\n",
       "    <tr>\n",
       "      <th>CNN1+MAPK1</th>\n",
       "      <td>0.078004</td>\n",
       "      <td>0.113659</td>\n",
       "      <td>combo_seen2</td>\n",
       "    </tr>\n",
       "    <tr>\n",
       "      <th>CNN1+UBASH3A</th>\n",
       "      <td>0.783318</td>\n",
       "      <td>0.708051</td>\n",
       "      <td>combo_seen2</td>\n",
       "    </tr>\n",
       "    <tr>\n",
       "      <th>ETS2+CNN1</th>\n",
       "      <td>0.133394</td>\n",
       "      <td>0.093787</td>\n",
       "      <td>combo_seen2</td>\n",
       "    </tr>\n",
       "    <tr>\n",
       "      <th>ETS2+IKZF3</th>\n",
       "      <td>0.310006</td>\n",
       "      <td>0.968617</td>\n",
       "      <td>combo_seen2</td>\n",
       "    </tr>\n",
       "    <tr>\n",
       "      <th>ETS2+MAPK1</th>\n",
       "      <td>0.355581</td>\n",
       "      <td>0.954693</td>\n",
       "      <td>combo_seen2</td>\n",
       "    </tr>\n",
       "    <tr>\n",
       "      <th>FOSB+IKZF3</th>\n",
       "      <td>0.356463</td>\n",
       "      <td>0.507040</td>\n",
       "      <td>combo_seen2</td>\n",
       "    </tr>\n",
       "    <tr>\n",
       "      <th>FOSB+UBASH3B</th>\n",
       "      <td>0.050452</td>\n",
       "      <td>0.069400</td>\n",
       "      <td>combo_seen2</td>\n",
       "    </tr>\n",
       "    <tr>\n",
       "      <th>FOXA1+HOXB9</th>\n",
       "      <td>0.180823</td>\n",
       "      <td>0.211096</td>\n",
       "      <td>combo_seen2</td>\n",
       "    </tr>\n",
       "    <tr>\n",
       "      <th>IGDCC3+MAPK1</th>\n",
       "      <td>0.086858</td>\n",
       "      <td>0.127221</td>\n",
       "      <td>combo_seen2</td>\n",
       "    </tr>\n",
       "    <tr>\n",
       "      <th>LYL1+IER5L</th>\n",
       "      <td>0.253240</td>\n",
       "      <td>0.247038</td>\n",
       "      <td>combo_seen2</td>\n",
       "    </tr>\n",
       "    <tr>\n",
       "      <th>MAPK1+PRTG</th>\n",
       "      <td>0.076250</td>\n",
       "      <td>0.142495</td>\n",
       "      <td>combo_seen2</td>\n",
       "    </tr>\n",
       "    <tr>\n",
       "      <th>SAMD1+ZBTB1</th>\n",
       "      <td>0.257489</td>\n",
       "      <td>0.424606</td>\n",
       "      <td>combo_seen2</td>\n",
       "    </tr>\n",
       "    <tr>\n",
       "      <th>TBX3+TBX2</th>\n",
       "      <td>0.430185</td>\n",
       "      <td>0.536733</td>\n",
       "      <td>combo_seen2</td>\n",
       "    </tr>\n",
       "    <tr>\n",
       "      <th>UBASH3B+PTPN9</th>\n",
       "      <td>0.297899</td>\n",
       "      <td>0.282023</td>\n",
       "      <td>combo_seen2</td>\n",
       "    </tr>\n",
       "    <tr>\n",
       "      <th>ZC3HAV1+CEBPE</th>\n",
       "      <td>0.080642</td>\n",
       "      <td>0.226491</td>\n",
       "      <td>combo_seen2</td>\n",
       "    </tr>\n",
       "    <tr>\n",
       "      <th>ZC3HAV1+HOXC13</th>\n",
       "      <td>0.151680</td>\n",
       "      <td>0.145023</td>\n",
       "      <td>combo_seen2</td>\n",
       "    </tr>\n",
       "  </tbody>\n",
       "</table>\n",
       "</div>"
      ],
      "text/plain": [
       "                mse_de_cpa  mse_de_gnn        group\n",
       "AHR+KLF1          0.357695    0.368303  combo_seen2\n",
       "CEBPE+RUNX1T1     0.100133    0.339434  combo_seen2\n",
       "CNN1+MAPK1        0.078004    0.113659  combo_seen2\n",
       "CNN1+UBASH3A      0.783318    0.708051  combo_seen2\n",
       "ETS2+CNN1         0.133394    0.093787  combo_seen2\n",
       "ETS2+IKZF3        0.310006    0.968617  combo_seen2\n",
       "ETS2+MAPK1        0.355581    0.954693  combo_seen2\n",
       "FOSB+IKZF3        0.356463    0.507040  combo_seen2\n",
       "FOSB+UBASH3B      0.050452    0.069400  combo_seen2\n",
       "FOXA1+HOXB9       0.180823    0.211096  combo_seen2\n",
       "IGDCC3+MAPK1      0.086858    0.127221  combo_seen2\n",
       "LYL1+IER5L        0.253240    0.247038  combo_seen2\n",
       "MAPK1+PRTG        0.076250    0.142495  combo_seen2\n",
       "SAMD1+ZBTB1       0.257489    0.424606  combo_seen2\n",
       "TBX3+TBX2         0.430185    0.536733  combo_seen2\n",
       "UBASH3B+PTPN9     0.297899    0.282023  combo_seen2\n",
       "ZC3HAV1+CEBPE     0.080642    0.226491  combo_seen2\n",
       "ZC3HAV1+HOXC13    0.151680    0.145023  combo_seen2"
      ]
     },
     "execution_count": 46,
     "metadata": {},
     "output_type": "execute_result"
    }
   ],
   "source": [
    "df_eval[df_eval.group == 'combo_seen2']"
   ]
  },
  {
   "cell_type": "code",
   "execution_count": 47,
   "id": "1698f451",
   "metadata": {},
   "outputs": [],
   "source": [
    "df_eval.to_csv('./cpa_gnn_comparison.csv', index = False)"
   ]
  },
  {
   "cell_type": "code",
   "execution_count": null,
   "id": "5e6f9463",
   "metadata": {},
   "outputs": [],
   "source": []
  }
 ],
 "metadata": {
  "kernelspec": {
   "display_name": "Python 3 (ipykernel)",
   "language": "python",
   "name": "python3"
  },
  "language_info": {
   "codemirror_mode": {
    "name": "ipython",
    "version": 3
   },
   "file_extension": ".py",
   "mimetype": "text/x-python",
   "name": "python",
   "nbconvert_exporter": "python",
   "pygments_lexer": "ipython3",
   "version": "3.8.11"
  }
 },
 "nbformat": 4,
 "nbformat_minor": 5
}

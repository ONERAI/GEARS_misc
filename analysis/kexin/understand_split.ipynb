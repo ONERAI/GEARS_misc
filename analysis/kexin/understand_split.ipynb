{
 "cells": [
  {
   "cell_type": "code",
   "execution_count": 1,
   "id": "141b18d4",
   "metadata": {},
   "outputs": [],
   "source": [
    "import scanpy as sc\n",
    "import numpy as np\n",
    "import pandas as pd\n",
    "from data import DataSplitter\n",
    "\n",
    "adata = sc.read('/dfs/project/perturb-gnn/datasets/Norman2019_hvg+perts.h5ad')"
   ]
  },
  {
   "cell_type": "code",
   "execution_count": 3,
   "id": "8d52fce9",
   "metadata": {},
   "outputs": [
    {
     "data": {
      "text/plain": [
       "284"
      ]
     },
     "execution_count": 3,
     "metadata": {},
     "output_type": "execute_result"
    }
   ],
   "source": [
    "len(adata.obs.condition.unique())"
   ]
  },
  {
   "cell_type": "code",
   "execution_count": 11,
   "id": "2c3b0966",
   "metadata": {},
   "outputs": [
    {
     "data": {
      "text/plain": [
       "['TSC22D1+ctrl', 'KLF1+MAP2K6', 'ctrl', 'CEBPE+RUNX1T1', 'MAML2+ctrl', ..., 'STIL+ctrl', 'CDKN1C+ctrl', 'ctrl+CDKN1B', 'CDKN1B+CDKN1A', 'C3orf72+FOXL2']\n",
       "Length: 284\n",
       "Categories (284, object): ['AHR+FEV', 'AHR+KLF1', 'AHR+ctrl', 'ARID1A+ctrl', ..., 'ZC3HAV1+HOXC13', 'ZC3HAV1+ctrl', 'ZNF318+FOXL2', 'ZNF318+ctrl']"
      ]
     },
     "execution_count": 11,
     "metadata": {},
     "output_type": "execute_result"
    }
   ],
   "source": [
    "adata.obs.condition.unique()"
   ]
  },
  {
   "cell_type": "code",
   "execution_count": 2,
   "id": "b2234031",
   "metadata": {},
   "outputs": [],
   "source": [
    "def print_split_stats(adata, split_column):\n",
    "    x = dict(adata.obs.groupby(split_column).agg({'condition': lambda x: x}).condition)\n",
    "    for name in ['train', 'val', 'test']:\n",
    "        single_count = 0\n",
    "        double_count = 0\n",
    "        for i in x[name].unique().tolist():\n",
    "            if i != 'ctrl' and 'ctrl' in i:\n",
    "                single_count += 1\n",
    "            else:\n",
    "                if i!= 'ctrl':\n",
    "                    double_count +=1\n",
    "        print(name + ' set has ' + str(len(x[name].unique().tolist())) + \\\n",
    "              ' unique perts (# single pert ' + str(single_count) + ', # double pert ' + str(double_count) \\\n",
    "              +') with '+ str(len(x[name])) + ' data point')"
   ]
  },
  {
   "cell_type": "code",
   "execution_count": 25,
   "id": "376c2441",
   "metadata": {},
   "outputs": [
    {
     "name": "stdout",
     "output_type": "stream",
     "text": [
      "train set has 178 unique perts (# single pert 111, # double pert 66) with 63964 data point\n",
      "val set has 18 unique perts (# single pert 18, # double pert 0) with 6286 data point\n",
      "test set has 23 unique perts (# single pert 23, # double pert 0) with 5778 data point\n"
     ]
    }
   ],
   "source": [
    "D = DataSplitter(adata, 'single')\n",
    "new_adata = D.split_data(test_pert_genes=None,\n",
    "             test_perts=None, split_name='split_new', test_size=0.1, seed = 1)\n",
    "print_split_stats(new_adata, 'split_new')"
   ]
  },
  {
   "cell_type": "code",
   "execution_count": 3,
   "id": "ad78cbd7",
   "metadata": {},
   "outputs": [
    {
     "name": "stdout",
     "output_type": "stream",
     "text": [
      "train set has 113 unique perts (# single pert 112, # double pert 0) with 44168 data point\n",
      "val set has 18 unique perts (# single pert 18, # double pert 0) with 6040 data point\n",
      "test set has 22 unique perts (# single pert 22, # double pert 0) with 5552 data point\n"
     ]
    }
   ],
   "source": [
    "D = DataSplitter(adata, 'single_only')\n",
    "new_adata = D.split_data(test_pert_genes=None,\n",
    "             test_perts=None, split_name='split_new', test_size=0.1, seed = 1)\n",
    "print_split_stats(new_adata, 'split_new')"
   ]
  },
  {
   "cell_type": "code",
   "execution_count": 10,
   "id": "eab409d4",
   "metadata": {},
   "outputs": [
    {
     "name": "stdout",
     "output_type": "stream",
     "text": [
      "train set has 92 unique perts (# single pert 70, # double pert 21) with 34784 data point\n",
      "val set has 45 unique perts (# single pert 35, # double pert 10) with 15783 data point\n",
      "test set has 59 unique perts (# single pert 47, # double pert 12) with 16264 data point\n"
     ]
    }
   ],
   "source": [
    "D = DataSplitter(adata, 'combo', seen=0)\n",
    "new_adata = D.split_data(test_pert_genes=None,\n",
    "             test_perts=None, split_name='split_new', test_size=0.25, seed = 1)\n",
    "print_split_stats(new_adata, 'split_new')\n",
    "# drop all the singles A/B, and single A/B + C"
   ]
  },
  {
   "cell_type": "code",
   "execution_count": 28,
   "id": "1f1665e8",
   "metadata": {},
   "outputs": [
    {
     "name": "stdout",
     "output_type": "stream",
     "text": [
      "train set has 178 unique perts (# single pert 111, # double pert 66) with 63964 data point\n",
      "val set has 42 unique perts (# single pert 18, # double pert 24) with 13215 data point\n",
      "test set has 62 unique perts (# single pert 23, # double pert 39) with 13780 data point\n"
     ]
    }
   ],
   "source": [
    "D = DataSplitter(adata, 'combo', seen=1)\n",
    "new_adata = D.split_data(test_pert_genes=None,\n",
    "             test_perts=None, split_name='split_new', test_size=0.1, seed = 1)\n",
    "print_split_stats(new_adata, 'split_new')\n",
    "# select A, drop all the singles B, and single B + C"
   ]
  },
  {
   "cell_type": "code",
   "execution_count": 8,
   "id": "fd49bce5",
   "metadata": {},
   "outputs": [
    {
     "name": "stdout",
     "output_type": "stream",
     "text": [
      "train set has 224 unique perts (# single pert 152, # double pert 71) with 75081 data point\n",
      "val set has 25 unique perts (# single pert 0, # double pert 25) with 6600 data point\n",
      "test set has 35 unique perts (# single pert 0, # double pert 35) with 9524 data point\n"
     ]
    }
   ],
   "source": [
    "D = DataSplitter(adata, 'combo', seen=2)\n",
    "new_adata = D.split_data(test_pert_genes=None,\n",
    "             test_perts=None, split_name='split_new', test_size=0.3, seed = 1)\n",
    "print_split_stats(new_adata, 'split_new')\n",
    "# just include everything"
   ]
  },
  {
   "cell_type": "code",
   "execution_count": 4,
   "id": "41bb791e",
   "metadata": {},
   "outputs": [],
   "source": [
    "def print_split_stats_dict(d):\n",
    "    for name in ['train', 'val', 'test']:\n",
    "        single_count = 0\n",
    "        double_count = 0\n",
    "        for i in d[name]:\n",
    "            if i != 'ctrl' and 'ctrl' in i:\n",
    "                single_count += 1\n",
    "            else:\n",
    "                if i!= 'ctrl':\n",
    "                    double_count +=1\n",
    "        print(name + ' set has ' + str(len(d[name])) + \\\n",
    "              ' unique perts: # single pert ' + str(single_count) + ', # double pert ' + str(double_count))"
   ]
  },
  {
   "cell_type": "code",
   "execution_count": 24,
   "id": "cc2cef05",
   "metadata": {},
   "outputs": [
    {
     "name": "stdout",
     "output_type": "stream",
     "text": [
      "train set has 178 unique perts: # single pert 111, # double pert 66\n",
      "val set has 22 unique perts: # single pert 18, # double pert 3\n",
      "test set has 26 unique perts: # single pert 23, # double pert 3\n"
     ]
    }
   ],
   "source": [
    "import pickle\n",
    "split_path = './splits/Norman2019_combo_seen0_1_0.1.pkl'\n",
    "print_split_stats_dict(pickle.load(open(split_path, \"rb\")))"
   ]
  },
  {
   "cell_type": "code",
   "execution_count": 30,
   "id": "17a956b7",
   "metadata": {},
   "outputs": [
    {
     "name": "stdout",
     "output_type": "stream",
     "text": [
      "train set has 178 unique perts: # single pert 111, # double pert 66\n",
      "val set has 43 unique perts: # single pert 18, # double pert 24\n",
      "test set has 62 unique perts: # single pert 23, # double pert 39\n"
     ]
    }
   ],
   "source": [
    "split_path = './splits/Norman2019_combo_seen1_1_0.1.pkl'\n",
    "print_split_stats_dict(pickle.load(open(split_path, \"rb\")))"
   ]
  },
  {
   "cell_type": "code",
   "execution_count": 31,
   "id": "61fb3b08",
   "metadata": {},
   "outputs": [
    {
     "name": "stdout",
     "output_type": "stream",
     "text": [
      "train set has 260 unique perts: # single pert 152, # double pert 107\n",
      "val set has 12 unique perts: # single pert 0, # double pert 11\n",
      "test set has 13 unique perts: # single pert 0, # double pert 13\n"
     ]
    }
   ],
   "source": [
    "split_path = './splits/Norman2019_combo_seen2_1_0.1.pkl'\n",
    "print_split_stats_dict(pickle.load(open(split_path, \"rb\")))"
   ]
  },
  {
   "cell_type": "code",
   "execution_count": 14,
   "id": "e0d6778c",
   "metadata": {},
   "outputs": [],
   "source": [
    "## helper function\n",
    "def parse_single_pert(i):\n",
    "    a = i.split('+')[0]\n",
    "    b = i.split('+')[1]\n",
    "    if a == 'ctrl':\n",
    "        pert = b\n",
    "    else:\n",
    "        pert = a\n",
    "    return pert\n",
    "\n",
    "def parse_combo_pert(i):\n",
    "    return i.split('+')[0], i.split('+')[1]\n",
    "\n",
    "\n",
    "def parse_any_pert(p):\n",
    "    if ('ctrl' in p) and (p != 'ctrl'):\n",
    "        return [parse_single_pert(p)]\n",
    "    elif 'ctrl' not in p:\n",
    "        out = parse_combo_pert(p)\n",
    "        return [out[0], out[1]]\n",
    "        "
   ]
  },
  {
   "cell_type": "code",
   "execution_count": 5,
   "id": "616fef2c",
   "metadata": {},
   "outputs": [],
   "source": [
    "pert_list = [p for p in D.adata.obs['condition'].unique() if\n",
    "                        p != 'ctrl']"
   ]
  },
  {
   "cell_type": "code",
   "execution_count": 6,
   "id": "827cb037",
   "metadata": {},
   "outputs": [],
   "source": [
    "unique_pert_genes = D.get_genes_from_perts(pert_list)"
   ]
  },
  {
   "cell_type": "code",
   "execution_count": 7,
   "id": "02fcca1f",
   "metadata": {},
   "outputs": [
    {
     "data": {
      "text/plain": [
       "105"
      ]
     },
     "execution_count": 7,
     "metadata": {},
     "output_type": "execute_result"
    }
   ],
   "source": [
    "len(unique_pert_genes)"
   ]
  },
  {
   "cell_type": "code",
   "execution_count": 8,
   "id": "202302da",
   "metadata": {},
   "outputs": [
    {
     "data": {
      "text/plain": [
       "array(['AHR', 'ARID1A', 'ARRDC3', 'ATL1', 'BAK1', 'BCL2L11', 'BCORL1',\n",
       "       'BPGM', 'C19orf26', 'C3orf72', 'CBFA2T3', 'CBL', 'CDKN1A',\n",
       "       'CDKN1B', 'CDKN1C', 'CEBPA', 'CEBPB', 'CEBPE', 'CELF2', 'CITED1',\n",
       "       'CKS1B', 'CLDN6', 'CNN1', 'CNNM4', 'COL1A1', 'COL2A1', 'CSRNP1',\n",
       "       'DLX2', 'DUSP9', 'EGR1', 'ELMSAN1', 'ETS2', 'FEV', 'FOSB', 'FOXA1',\n",
       "       'FOXA3', 'FOXF1', 'FOXL2', 'FOXO4', 'GLB1L2', 'HES7', 'HK2',\n",
       "       'HNF4A', 'HOXA13', 'HOXB9', 'HOXC13', 'IER5L', 'IGDCC3', 'IKZF3',\n",
       "       'IRF1', 'ISL2', 'JUN', 'KIAA1804', 'KIF18B', 'KIF2C', 'KLF1',\n",
       "       'KMT2A', 'LHX1', 'LYL1', 'MAML2', 'MAP2K3', 'MAP2K6', 'MAP4K3',\n",
       "       'MAP4K5', 'MAP7D1', 'MAPK1', 'MEIS1', 'MIDN', 'NCL', 'NIT1',\n",
       "       'OSR2', 'PLK4', 'POU3F2', 'PRDM1', 'PRTG', 'PTPN1', 'PTPN12',\n",
       "       'PTPN13', 'PTPN9', 'RHOXF2BB', 'RREB1', 'RUNX1T1', 'S1PR2',\n",
       "       'SAMD1', 'SET', 'SGK1', 'SLC38A2', 'SLC4A1', 'SLC6A9', 'SNAI1',\n",
       "       'SPI1', 'STIL', 'TBX2', 'TBX3', 'TGFBR2', 'TMSB4X', 'TP73',\n",
       "       'TSC22D1', 'UBASH3A', 'UBASH3B', 'ZBTB1', 'ZBTB10', 'ZBTB25',\n",
       "       'ZC3HAV1', 'ZNF318'], dtype='<U8')"
      ]
     },
     "execution_count": 8,
     "metadata": {},
     "output_type": "execute_result"
    }
   ],
   "source": [
    "unique_pert_genes"
   ]
  },
  {
   "cell_type": "code",
   "execution_count": 98,
   "id": "1585cbae",
   "metadata": {},
   "outputs": [],
   "source": [
    "def parse_combo_pert(i):\n",
    "    return i.split('+')[0], i.split('+')[1]"
   ]
  },
  {
   "cell_type": "code",
   "execution_count": 161,
   "id": "304e6e6f",
   "metadata": {},
   "outputs": [],
   "source": [
    "train_gene_set_size = 0.7\n",
    "combo_seen2_train_frac = 0.7\n",
    "seed = 1\n",
    "\n",
    "pert_train = []\n",
    "unseen_single = []\n",
    "combo_seen0 = []\n",
    "combo_seen1 = []\n",
    "combo_seen1 = []\n",
    "combo_seen2 = []\n",
    "np.random.seed(seed=seed)\n",
    "train_gene_candidates = np.random.choice(unique_pert_genes,\n",
    "                                        int(len(unique_pert_genes) * train_gene_set_size), replace = False)"
   ]
  },
  {
   "cell_type": "code",
   "execution_count": 162,
   "id": "6d288b61",
   "metadata": {},
   "outputs": [],
   "source": [
    "ood_genes = np.setdiff1d(unique_pert_genes, train_gene_candidates)"
   ]
  },
  {
   "cell_type": "code",
   "execution_count": 163,
   "id": "67238c91",
   "metadata": {},
   "outputs": [
    {
     "data": {
      "text/plain": [
       "73"
      ]
     },
     "execution_count": 163,
     "metadata": {},
     "output_type": "execute_result"
    }
   ],
   "source": [
    "len(train_gene_candidates)"
   ]
  },
  {
   "cell_type": "code",
   "execution_count": 164,
   "id": "29e0bf5c",
   "metadata": {},
   "outputs": [
    {
     "data": {
      "text/plain": [
       "73"
      ]
     },
     "execution_count": 164,
     "metadata": {},
     "output_type": "execute_result"
    }
   ],
   "source": [
    "len(np.unique(train_gene_candidates))"
   ]
  },
  {
   "cell_type": "code",
   "execution_count": 165,
   "id": "a1fa9452",
   "metadata": {},
   "outputs": [
    {
     "data": {
      "text/plain": [
       "283"
      ]
     },
     "execution_count": 165,
     "metadata": {},
     "output_type": "execute_result"
    }
   ],
   "source": [
    "len(pert_list)"
   ]
  },
  {
   "cell_type": "code",
   "execution_count": 166,
   "id": "189a76a1",
   "metadata": {},
   "outputs": [
    {
     "data": {
      "text/plain": [
       "283"
      ]
     },
     "execution_count": 166,
     "metadata": {},
     "output_type": "execute_result"
    }
   ],
   "source": [
    "len(np.unique(pert_list))"
   ]
  },
  {
   "cell_type": "code",
   "execution_count": 167,
   "id": "21fd286a",
   "metadata": {},
   "outputs": [],
   "source": [
    "pert_single_train = D.get_perts_from_genes(train_gene_candidates, pert_list,'single')\n",
    "pert_combo = D.get_perts_from_genes(train_gene_candidates, pert_list,'combo')\n",
    "pert_train.extend(pert_single_train)"
   ]
  },
  {
   "cell_type": "code",
   "execution_count": 168,
   "id": "8ef3e6ce",
   "metadata": {},
   "outputs": [
    {
     "data": {
      "text/plain": [
       "108"
      ]
     },
     "execution_count": 168,
     "metadata": {},
     "output_type": "execute_result"
    }
   ],
   "source": [
    "len(pert_single_train)"
   ]
  },
  {
   "cell_type": "code",
   "execution_count": 169,
   "id": "351664c9",
   "metadata": {},
   "outputs": [
    {
     "data": {
      "text/plain": [
       "120"
      ]
     },
     "execution_count": 169,
     "metadata": {},
     "output_type": "execute_result"
    }
   ],
   "source": [
    "len(pert_combo)"
   ]
  },
  {
   "cell_type": "code",
   "execution_count": 170,
   "id": "65cd4af1",
   "metadata": {},
   "outputs": [],
   "source": [
    "combo_seen1 = [x for x in pert_combo if len([t for t in x.split('+') if\n",
    "                                     t in train_gene_candidates]) == 1]"
   ]
  },
  {
   "cell_type": "code",
   "execution_count": 171,
   "id": "408a026a",
   "metadata": {},
   "outputs": [
    {
     "data": {
      "text/plain": [
       "61"
      ]
     },
     "execution_count": 171,
     "metadata": {},
     "output_type": "execute_result"
    }
   ],
   "source": [
    "len(combo_seen1)"
   ]
  },
  {
   "cell_type": "code",
   "execution_count": 172,
   "id": "800620d6",
   "metadata": {},
   "outputs": [],
   "source": [
    "pert_combo = np.setdiff1d(pert_combo, combo_seen1)"
   ]
  },
  {
   "cell_type": "code",
   "execution_count": 173,
   "id": "c558409a",
   "metadata": {},
   "outputs": [
    {
     "data": {
      "text/plain": [
       "59"
      ]
     },
     "execution_count": 173,
     "metadata": {},
     "output_type": "execute_result"
    }
   ],
   "source": [
    "len(pert_combo)"
   ]
  },
  {
   "cell_type": "code",
   "execution_count": 174,
   "id": "9ed752a2",
   "metadata": {},
   "outputs": [],
   "source": [
    "np.random.seed(seed=seed)\n",
    "pert_combo_train = np.random.choice(pert_combo, int(len(pert_combo) * combo_seen2_train_frac), replace = False)"
   ]
  },
  {
   "cell_type": "code",
   "execution_count": 175,
   "id": "c854f9d4",
   "metadata": {},
   "outputs": [],
   "source": [
    "combo_seen2 = np.setdiff1d(pert_combo, pert_combo_train)"
   ]
  },
  {
   "cell_type": "code",
   "execution_count": 176,
   "id": "1635d83c",
   "metadata": {},
   "outputs": [],
   "source": [
    "pert_train.extend(pert_combo_train)"
   ]
  },
  {
   "cell_type": "code",
   "execution_count": 177,
   "id": "4d54162a",
   "metadata": {},
   "outputs": [
    {
     "data": {
      "text/plain": [
       "59"
      ]
     },
     "execution_count": 177,
     "metadata": {},
     "output_type": "execute_result"
    }
   ],
   "source": [
    "len(pert_combo)"
   ]
  },
  {
   "cell_type": "code",
   "execution_count": 178,
   "id": "3d69663e",
   "metadata": {},
   "outputs": [
    {
     "data": {
      "text/plain": [
       "149"
      ]
     },
     "execution_count": 178,
     "metadata": {},
     "output_type": "execute_result"
    }
   ],
   "source": [
    "len(pert_train)"
   ]
  },
  {
   "cell_type": "code",
   "execution_count": 179,
   "id": "7f215de2",
   "metadata": {},
   "outputs": [
    {
     "data": {
      "text/plain": [
       "18"
      ]
     },
     "execution_count": 179,
     "metadata": {},
     "output_type": "execute_result"
    }
   ],
   "source": [
    "len(combo_seen2)"
   ]
  },
  {
   "cell_type": "code",
   "execution_count": 188,
   "id": "6b8605ef",
   "metadata": {},
   "outputs": [
    {
     "data": {
      "text/plain": [
       "41"
      ]
     },
     "execution_count": 188,
     "metadata": {},
     "output_type": "execute_result"
    }
   ],
   "source": [
    "len(pert_combo_train)"
   ]
  },
  {
   "cell_type": "code",
   "execution_count": 180,
   "id": "31d09049",
   "metadata": {},
   "outputs": [
    {
     "data": {
      "text/plain": [
       "228"
      ]
     },
     "execution_count": 180,
     "metadata": {},
     "output_type": "execute_result"
    }
   ],
   "source": [
    "len(D.get_perts_from_genes(train_gene_candidates, pert_list,'both'))"
   ]
  },
  {
   "cell_type": "code",
   "execution_count": 181,
   "id": "71391737",
   "metadata": {},
   "outputs": [],
   "source": [
    "unseen_single = D.get_perts_from_genes(ood_genes, pert_list, 'single')"
   ]
  },
  {
   "cell_type": "code",
   "execution_count": 182,
   "id": "b1144c5b",
   "metadata": {},
   "outputs": [
    {
     "data": {
      "text/plain": [
       "44"
      ]
     },
     "execution_count": 182,
     "metadata": {},
     "output_type": "execute_result"
    }
   ],
   "source": [
    "len(unseen_single)"
   ]
  },
  {
   "cell_type": "code",
   "execution_count": 183,
   "id": "3a712a4d",
   "metadata": {},
   "outputs": [
    {
     "data": {
      "text/plain": [
       "44"
      ]
     },
     "execution_count": 183,
     "metadata": {},
     "output_type": "execute_result"
    }
   ],
   "source": [
    "len(np.unique(unseen_single))"
   ]
  },
  {
   "cell_type": "code",
   "execution_count": 184,
   "id": "ff2b2b20",
   "metadata": {},
   "outputs": [],
   "source": [
    "combo_ood = D.get_perts_from_genes(ood_genes, pert_list, 'combo')"
   ]
  },
  {
   "cell_type": "code",
   "execution_count": 185,
   "id": "4b932d6c",
   "metadata": {},
   "outputs": [],
   "source": [
    "combo_seen0 = [x for x in combo_ood if len([t for t in x.split('+') if\n",
    "                                     t in train_gene_candidates]) == 0]"
   ]
  },
  {
   "cell_type": "code",
   "execution_count": 186,
   "id": "f4438f9c",
   "metadata": {},
   "outputs": [
    {
     "data": {
      "text/plain": [
       "283"
      ]
     },
     "execution_count": 186,
     "metadata": {},
     "output_type": "execute_result"
    }
   ],
   "source": [
    "len(combo_seen1) + len(combo_seen0) + len(unseen_single) + len(pert_train) + len(combo_seen2)"
   ]
  },
  {
   "cell_type": "code",
   "execution_count": 187,
   "id": "711ebf75",
   "metadata": {},
   "outputs": [
    {
     "data": {
      "text/plain": [
       "72"
      ]
     },
     "execution_count": 187,
     "metadata": {},
     "output_type": "execute_result"
    }
   ],
   "source": [
    "len(combo_ood)"
   ]
  },
  {
   "cell_type": "code",
   "execution_count": 189,
   "id": "8678b8d5",
   "metadata": {},
   "outputs": [
    {
     "data": {
      "text/plain": [
       "149"
      ]
     },
     "execution_count": 189,
     "metadata": {},
     "output_type": "execute_result"
    }
   ],
   "source": [
    "len(pert_train)"
   ]
  },
  {
   "cell_type": "code",
   "execution_count": 2,
   "id": "7a6e3786",
   "metadata": {},
   "outputs": [],
   "source": [
    "DS = DataSplitter(adata, split_type='simulation')\n",
    "                \n",
    "adata, subgroup = DS.split_data(train_gene_set_size = 0.75, \n",
    "                                combo_seen2_train_frac = 0.75,\n",
    "                                seed=1)"
   ]
  },
  {
   "cell_type": "code",
   "execution_count": 10,
   "id": "a8d5e628",
   "metadata": {},
   "outputs": [
    {
     "data": {
      "text/plain": [
       "train    51283\n",
       "test     31898\n",
       "val       8024\n",
       "Name: split, dtype: int64"
      ]
     },
     "execution_count": 10,
     "metadata": {},
     "output_type": "execute_result"
    }
   ],
   "source": [
    "adata.obs.split.value_counts()"
   ]
  },
  {
   "cell_type": "code",
   "execution_count": 13,
   "id": "899c4b2e",
   "metadata": {},
   "outputs": [],
   "source": [
    "test_perts = adata.obs[adata.obs.split == 'test'].condition.unique()"
   ]
  },
  {
   "cell_type": "code",
   "execution_count": 14,
   "id": "60a8d651",
   "metadata": {},
   "outputs": [],
   "source": [
    "test_pert_res = {}\n",
    "for i in test_perts:\n",
    "    test_pert_res[i] = {'r2': 0.35, 'r2_de': 0.58}"
   ]
  },
  {
   "cell_type": "code",
   "execution_count": 19,
   "id": "ad8ab1e2",
   "metadata": {},
   "outputs": [
    {
     "data": {
      "text/plain": [
       "{'r2': 0.35, 'r2_de': 0.58}"
      ]
     },
     "execution_count": 19,
     "metadata": {},
     "output_type": "execute_result"
    }
   ],
   "source": [
    "list(test_pert_res.values())[0]"
   ]
  },
  {
   "cell_type": "code",
   "execution_count": 20,
   "id": "e5696487",
   "metadata": {
    "scrolled": false
   },
   "outputs": [
    {
     "name": "stdout",
     "output_type": "stream",
     "text": [
      "test_combo_seen0_r2: 0.35\n",
      "test_combo_seen0_r2_de: 0.58\n",
      "test_combo_seen1_r2: 0.35000000000000014\n",
      "test_combo_seen1_r2_de: 0.5799999999999998\n",
      "test_combo_seen2_r2: 0.3499999999999999\n",
      "test_combo_seen2_r2_de: 0.58\n",
      "test_unseen_single_r2: 0.3499999999999999\n",
      "test_unseen_single_r2_de: 0.5799999999999997\n"
     ]
    }
   ],
   "source": [
    "subgroup_analysis = {}\n",
    "for name in subgroup['test_subgroup'].keys():\n",
    "    subgroup_analysis[name] = {}\n",
    "    for m in list(test_pert_res.values())[0].keys():\n",
    "        subgroup_analysis[name][m] = []\n",
    "        \n",
    "for name, pert_list in subgroup['test_subgroup'].items():\n",
    "    for pert in pert_list:\n",
    "        for m, res in test_pert_res[pert].items():\n",
    "            subgroup_analysis[name][m].append(res)\n",
    "            \n",
    "for name, result in subgroup_analysis.items():\n",
    "    for m in result.keys():\n",
    "        subgroup_analysis[name][m] = np.mean(subgroup_analysis[name][m])\n",
    "        #if args['wandb']:\n",
    "        #    wandb.log({'test_' + name + '_' + m: subgroup_analysis[name][m]})\n",
    "            \n",
    "        print('test_' + name + '_' + m + ': ' + str(subgroup_analysis[name][m]))"
   ]
  },
  {
   "cell_type": "code",
   "execution_count": null,
   "id": "75c26582",
   "metadata": {},
   "outputs": [],
   "source": [
    "\n",
    "{'AHR+FEV': {'r2': 0.9321523789238141,\n",
    "  'mse': 0.011103348,\n",
    "  'r2_de': 0.6442925181646209,\n",
    "  'mse_de': 0.92472154},\n",
    " 'AHR+KLF1': {'r2': 0.966444615617381,\n",
    "  'mse': 0.0054913764,\n",
    "  'r2_de': -0.8421060510555765,\n",
    "  'mse_de': 0.6459228}\n",
    "}"
   ]
  }
 ],
 "metadata": {
  "kernelspec": {
   "display_name": "Python 3 (ipykernel)",
   "language": "python",
   "name": "python3"
  },
  "language_info": {
   "codemirror_mode": {
    "name": "ipython",
    "version": 3
   },
   "file_extension": ".py",
   "mimetype": "text/x-python",
   "name": "python",
   "nbconvert_exporter": "python",
   "pygments_lexer": "ipython3",
   "version": "3.8.11"
  }
 },
 "nbformat": 4,
 "nbformat_minor": 5
}

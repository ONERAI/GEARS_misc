{
 "cells": [
  {
   "cell_type": "code",
   "execution_count": 52,
   "id": "c7e626f6",
   "metadata": {},
   "outputs": [],
   "source": [
    "import scanpy as sc\n",
    "adamson = sc.read_h5ad('/dfs/project/perturb-gnn/datasets/Adamson2016/Adamson2016_all_genes.h5ad')\n",
    "norman = sc.read_h5ad('/dfs/project/perturb-gnn/datasets/Norman2019/Norman2019_all_genes.h5ad')"
   ]
  },
  {
   "cell_type": "code",
   "execution_count": 7,
   "id": "842304cc",
   "metadata": {},
   "outputs": [
    {
     "data": {
      "text/plain": [
       "array(['ctrl'], dtype=object)"
      ]
     },
     "execution_count": 7,
     "metadata": {},
     "output_type": "execute_result"
    }
   ],
   "source": [
    "import numpy as np\n",
    "\n",
    "np.intersect1d(adamson.obs.condition.unique(), norman.obs.condition.unique())"
   ]
  },
  {
   "cell_type": "code",
   "execution_count": 42,
   "id": "da0b49d8",
   "metadata": {},
   "outputs": [],
   "source": [
    "from utils import parse_any_pert\n",
    "n_perts = []\n",
    "a_perts = []\n",
    "\n",
    "for i in norman.obs.condition.unique():\n",
    "    if i != 'ctrl':\n",
    "        n_perts = n_perts + parse_any_pert(i)\n",
    "\n",
    "for j in adamson.obs.condition.unique():\n",
    "    if j != 'ctrl':\n",
    "        a_perts = a_perts + parse_any_pert(j)"
   ]
  },
  {
   "cell_type": "code",
   "execution_count": 43,
   "id": "7fcf364a",
   "metadata": {},
   "outputs": [
    {
     "data": {
      "text/plain": [
       "array([], dtype='<U8')"
      ]
     },
     "execution_count": 43,
     "metadata": {},
     "output_type": "execute_result"
    }
   ],
   "source": [
    "np.intersect1d(n_perts, a_perts)"
   ]
  },
  {
   "cell_type": "code",
   "execution_count": null,
   "id": "20c6fb50",
   "metadata": {},
   "outputs": [],
   "source": []
  },
  {
   "cell_type": "code",
   "execution_count": null,
   "id": "00e0bf63",
   "metadata": {},
   "outputs": [],
   "source": []
  },
  {
   "cell_type": "code",
   "execution_count": 53,
   "id": "c53d032d",
   "metadata": {},
   "outputs": [],
   "source": [
    "gene_list_a = adamson.var.gene_name.values\n",
    "gene_list_n = norman.var.gene_name.values"
   ]
  },
  {
   "cell_type": "code",
   "execution_count": 45,
   "id": "4add4d07",
   "metadata": {},
   "outputs": [
    {
     "data": {
      "text/plain": [
       "array(['AAK1', 'AASS', 'ABAT', ..., 'ZSWIM4', 'ZSWIM8', 'ZYX'],\n",
       "      dtype=object)"
      ]
     },
     "execution_count": 45,
     "metadata": {},
     "output_type": "execute_result"
    }
   ],
   "source": [
    "np.intersect1d(gene_list_n, gene_list_a)"
   ]
  },
  {
   "cell_type": "code",
   "execution_count": 63,
   "id": "18a608c0",
   "metadata": {},
   "outputs": [
    {
     "data": {
      "text/plain": [
       "15635"
      ]
     },
     "execution_count": 63,
     "metadata": {},
     "output_type": "execute_result"
    }
   ],
   "source": [
    "len(np.intersect1d(gene_list_n, gene_list_a))"
   ]
  },
  {
   "cell_type": "code",
   "execution_count": 54,
   "id": "05d56279",
   "metadata": {},
   "outputs": [
    {
     "data": {
      "text/plain": [
       "105"
      ]
     },
     "execution_count": 54,
     "metadata": {},
     "output_type": "execute_result"
    }
   ],
   "source": [
    "len(np.intersect1d(gene_list_n, n_perts))"
   ]
  },
  {
   "cell_type": "code",
   "execution_count": 55,
   "id": "3714e06d",
   "metadata": {},
   "outputs": [
    {
     "data": {
      "text/plain": [
       "105"
      ]
     },
     "execution_count": 55,
     "metadata": {},
     "output_type": "execute_result"
    }
   ],
   "source": [
    "len(np.unique(n_perts))"
   ]
  },
  {
   "cell_type": "code",
   "execution_count": 56,
   "id": "bba81d6d",
   "metadata": {},
   "outputs": [
    {
     "data": {
      "text/plain": [
       "97"
      ]
     },
     "execution_count": 56,
     "metadata": {},
     "output_type": "execute_result"
    }
   ],
   "source": [
    "len(np.intersect1d(np.intersect1d(gene_list_n, gene_list_a), n_perts))"
   ]
  },
  {
   "cell_type": "code",
   "execution_count": 57,
   "id": "51eafc37",
   "metadata": {},
   "outputs": [
    {
     "data": {
      "text/plain": [
       "84"
      ]
     },
     "execution_count": 57,
     "metadata": {},
     "output_type": "execute_result"
    }
   ],
   "source": [
    "len(np.intersect1d(np.intersect1d(gene_list_n, gene_list_a), a_perts))"
   ]
  },
  {
   "cell_type": "code",
   "execution_count": 58,
   "id": "80e3dd88",
   "metadata": {},
   "outputs": [
    {
     "data": {
      "text/plain": [
       "84"
      ]
     },
     "execution_count": 58,
     "metadata": {},
     "output_type": "execute_result"
    }
   ],
   "source": [
    "len(np.intersect1d(gene_list_n, a_perts))"
   ]
  },
  {
   "cell_type": "code",
   "execution_count": 59,
   "id": "8af06d2b",
   "metadata": {},
   "outputs": [
    {
     "data": {
      "text/plain": [
       "86"
      ]
     },
     "execution_count": 59,
     "metadata": {},
     "output_type": "execute_result"
    }
   ],
   "source": [
    "len(a_perts)"
   ]
  },
  {
   "cell_type": "code",
   "execution_count": 60,
   "id": "7de9786a",
   "metadata": {},
   "outputs": [
    {
     "data": {
      "text/plain": [
       "97"
      ]
     },
     "execution_count": 60,
     "metadata": {},
     "output_type": "execute_result"
    }
   ],
   "source": [
    "len(np.intersect1d(gene_list_a, n_perts))"
   ]
  },
  {
   "cell_type": "markdown",
   "id": "09538676",
   "metadata": {},
   "source": []
  },
  {
   "cell_type": "code",
   "execution_count": 61,
   "id": "f4b9c430",
   "metadata": {},
   "outputs": [
    {
     "data": {
      "text/plain": [
       "AnnData object with n_obs × n_vars = 69249 × 16528\n",
       "    obs: 'guide_identity', 'UMI_count', 'gem_group', 'good_coverage', 'number_of_cells', 'perturbed', 'guide_merged', 'dose_val', 'condition', 'cell_type', 'control', 'drug_dose_name', 'cov_drug_dose_name'\n",
       "    var: 'highly_variable', 'means', 'dispersions', 'dispersions_norm', 'gene_name'\n",
       "    uns: 'hvg', 'rank_genes_groups_cov'\n",
       "    layers: 'counts'"
      ]
     },
     "execution_count": 61,
     "metadata": {},
     "output_type": "execute_result"
    }
   ],
   "source": [
    "adamson"
   ]
  },
  {
   "cell_type": "code",
   "execution_count": 62,
   "id": "7cd19c63",
   "metadata": {},
   "outputs": [
    {
     "data": {
      "text/plain": [
       "AnnData object with n_obs × n_vars = 91205 × 24665\n",
       "    obs: 'guide_identity', 'UMI_count', 'gemgroup', 'good_coverage', 'number_of_cells', 'guide_merged', 'dose_val', 'condition', 'cell_type', 'control', 'drug_dose_name', 'cov_drug_dose_name'\n",
       "    var: 'gene_name', 'mean', 'std', 'cv', 'fano', 'in_matrix'\n",
       "    layers: 'counts'"
      ]
     },
     "execution_count": 62,
     "metadata": {},
     "output_type": "execute_result"
    }
   ],
   "source": [
    "norman"
   ]
  },
  {
   "cell_type": "code",
   "execution_count": 67,
   "id": "cf69d568",
   "metadata": {},
   "outputs": [],
   "source": [
    "adamsom_ctrl = adamson.X[adamson.obs.condition == 'ctrl'].toarray()\n",
    "norman_ctrl = norman.X[norman.obs.condition == 'ctrl'].toarray()"
   ]
  },
  {
   "cell_type": "code",
   "execution_count": 68,
   "id": "571036c4",
   "metadata": {},
   "outputs": [],
   "source": [
    "shared_genes = np.intersect1d(gene_list_n, gene_list_a)"
   ]
  },
  {
   "cell_type": "code",
   "execution_count": 71,
   "id": "b46e5a26",
   "metadata": {},
   "outputs": [
    {
     "data": {
      "text/plain": [
       "16528"
      ]
     },
     "execution_count": 71,
     "metadata": {},
     "output_type": "execute_result"
    }
   ],
   "source": [
    "np.isin(gene_list_a, shared_genes)"
   ]
  },
  {
   "cell_type": "code",
   "execution_count": 82,
   "id": "189f95dc",
   "metadata": {},
   "outputs": [],
   "source": [
    "gene_index_shared_a = [np.where(gene_list_a == i)[0][0] for i in shared_genes]\n",
    "gene_index_shared_n = [np.where(gene_list_n == i)[0][0] for i in shared_genes]"
   ]
  },
  {
   "cell_type": "code",
   "execution_count": 83,
   "id": "ea7548a3",
   "metadata": {},
   "outputs": [],
   "source": [
    "adamson_ctrl_mean_shared = np.mean(adamsom_ctrl[:, gene_index_shared_a], axis = 0)\n",
    "norman_ctrl_mean_shared = np.mean(norman_ctrl[:, gene_index_shared_n], axis = 0)"
   ]
  },
  {
   "cell_type": "code",
   "execution_count": 84,
   "id": "e95d2dd0",
   "metadata": {},
   "outputs": [
    {
     "data": {
      "text/plain": [
       "(15635,)"
      ]
     },
     "execution_count": 84,
     "metadata": {},
     "output_type": "execute_result"
    }
   ],
   "source": [
    "norman_ctrl_mean_shared.shape"
   ]
  },
  {
   "cell_type": "code",
   "execution_count": 85,
   "id": "e0f9c9e0",
   "metadata": {},
   "outputs": [
    {
     "data": {
      "text/plain": [
       "(15635,)"
      ]
     },
     "execution_count": 85,
     "metadata": {},
     "output_type": "execute_result"
    }
   ],
   "source": [
    "adamson_ctrl_mean_shared.shape"
   ]
  },
  {
   "cell_type": "code",
   "execution_count": 86,
   "id": "a9553649",
   "metadata": {},
   "outputs": [
    {
     "data": {
      "text/plain": [
       "array([0.19075479, 0.02885861, 0.35032082, ..., 0.1352876 , 0.05029039,\n",
       "       0.1709597 ], dtype=float32)"
      ]
     },
     "execution_count": 86,
     "metadata": {},
     "output_type": "execute_result"
    }
   ],
   "source": [
    "adamson_ctrl_mean_shared"
   ]
  },
  {
   "cell_type": "code",
   "execution_count": 87,
   "id": "99f42db7",
   "metadata": {},
   "outputs": [
    {
     "data": {
      "text/plain": [
       "array([0.24580754, 0.02288895, 0.18921098, ..., 0.19522466, 0.05271349,\n",
       "       0.1479242 ], dtype=float32)"
      ]
     },
     "execution_count": 87,
     "metadata": {},
     "output_type": "execute_result"
    }
   ],
   "source": [
    "norman_ctrl_mean_shared"
   ]
  },
  {
   "cell_type": "code",
   "execution_count": 89,
   "id": "572d3e24",
   "metadata": {},
   "outputs": [
    {
     "name": "stderr",
     "output_type": "stream",
     "text": [
      "/dfs/user/kexinh/miniconda3/envs/eee/lib/python3.8/site-packages/seaborn/_decorators.py:36: FutureWarning: Pass the following variables as keyword args: x, y. From version 0.12, the only valid positional argument will be `data`, and passing other arguments without an explicit keyword will result in an error or misinterpretation.\n",
      "  warnings.warn(\n"
     ]
    },
    {
     "data": {
      "text/plain": [
       "<AxesSubplot:>"
      ]
     },
     "execution_count": 89,
     "metadata": {},
     "output_type": "execute_result"
    },
    {
     "data": {
      "image/png": "[encoded data removed]",
      "text/plain": [
       "<Figure size 504x504 with 1 Axes>"
      ]
     },
     "metadata": {},
     "output_type": "display_data"
    }
   ],
   "source": [
    "import seaborn as sns\n",
    "sns.set(rc={'figure.figsize':(7, 7)})\n",
    "\n",
    "sns.scatterplot(adamson_ctrl_mean_shared, norman_ctrl_mean_shared, s = 3)"
   ]
  },
  {
   "cell_type": "code",
   "execution_count": 90,
   "id": "8386947e",
   "metadata": {},
   "outputs": [
    {
     "data": {
      "text/plain": [
       "(0.9410465864505129, 0.0)"
      ]
     },
     "execution_count": 90,
     "metadata": {},
     "output_type": "execute_result"
    }
   ],
   "source": [
    "from scipy.stats import pearsonr\n",
    "pearsonr(adamson_ctrl_mean_shared, norman_ctrl_mean_shared)"
   ]
  },
  {
   "cell_type": "code",
   "execution_count": 91,
   "id": "4f5bdd27",
   "metadata": {},
   "outputs": [],
   "source": [
    "X_adamson = adamson.X[:, gene_index_shared_a]\n",
    "X_norman = norman.X[:, gene_index_shared_n]"
   ]
  },
  {
   "cell_type": "code",
   "execution_count": 95,
   "id": "b04257e4",
   "metadata": {},
   "outputs": [],
   "source": [
    "a_perts_in_shared = np.intersect1d(shared_genes, a_perts)\n",
    "n_perts_in_shared = np.intersect1d(shared_genes, n_perts)"
   ]
  },
  {
   "cell_type": "code",
   "execution_count": 97,
   "id": "1d6e2808",
   "metadata": {},
   "outputs": [
    {
     "data": {
      "text/plain": [
       "97"
      ]
     },
     "execution_count": 97,
     "metadata": {},
     "output_type": "execute_result"
    }
   ],
   "source": [
    "len(n_perts_in_shared)"
   ]
  },
  {
   "cell_type": "code",
   "execution_count": 99,
   "id": "0a807e1b",
   "metadata": {},
   "outputs": [],
   "source": [
    "genes_to_keep = a_perts_in_shared.tolist() + n_perts_in_shared.tolist()"
   ]
  },
  {
   "cell_type": "code",
   "execution_count": 117,
   "id": "c10c50db",
   "metadata": {},
   "outputs": [],
   "source": [
    "norman_new = norman[:, gene_index_shared_n]"
   ]
  },
  {
   "cell_type": "code",
   "execution_count": 118,
   "id": "06d0d2ee",
   "metadata": {},
   "outputs": [
    {
     "name": "stderr",
     "output_type": "stream",
     "text": [
      "Trying to set attribute `.uns` of view, copying.\n"
     ]
    }
   ],
   "source": [
    "sc.pp.highly_variable_genes(norman_new,n_top_genes=5000, subset=False)"
   ]
  },
  {
   "cell_type": "code",
   "execution_count": 119,
   "id": "5d01c7e6",
   "metadata": {},
   "outputs": [],
   "source": [
    "## use the source HVG genes\n",
    "norman_new.var['highly_variable'] = norman_new.var['highly_variable'] + norman_new.var.gene_name.isin(genes_to_keep)\n",
    "norman_new = norman_new[:,norman_new.var['highly_variable'] == True]"
   ]
  },
  {
   "cell_type": "code",
   "execution_count": 124,
   "id": "4a87364a",
   "metadata": {},
   "outputs": [],
   "source": [
    "adamson_new = adamson[:, adamson.var.gene_name.isin(norman_new.var.gene_name.values) == True]"
   ]
  },
  {
   "cell_type": "code",
   "execution_count": 125,
   "id": "7d6f937b",
   "metadata": {},
   "outputs": [
    {
     "data": {
      "text/plain": [
       "View of AnnData object with n_obs × n_vars = 69249 × 5093\n",
       "    obs: 'guide_identity', 'UMI_count', 'gem_group', 'good_coverage', 'number_of_cells', 'perturbed', 'guide_merged', 'dose_val', 'condition', 'cell_type', 'control', 'drug_dose_name', 'cov_drug_dose_name'\n",
       "    var: 'highly_variable', 'means', 'dispersions', 'dispersions_norm', 'gene_name'\n",
       "    uns: 'hvg', 'rank_genes_groups_cov'\n",
       "    layers: 'counts'"
      ]
     },
     "execution_count": 125,
     "metadata": {},
     "output_type": "execute_result"
    }
   ],
   "source": [
    "adamson_new"
   ]
  },
  {
   "cell_type": "code",
   "execution_count": 136,
   "id": "ceb9fb8d",
   "metadata": {},
   "outputs": [],
   "source": [
    "x = 'KLF1+MAP2K6'\n",
    "\n",
    "def detect_not_in_shared(x, n_perts_in_shared):\n",
    "    flag = True\n",
    "    if x != 'ctrl':\n",
    "        for i in parse_any_pert(x):\n",
    "            if i not in n_perts_in_shared:\n",
    "                flag = False\n",
    "    return flag"
   ]
  },
  {
   "cell_type": "code",
   "execution_count": 137,
   "id": "083d9809",
   "metadata": {},
   "outputs": [
    {
     "data": {
      "text/plain": [
       "True"
      ]
     },
     "execution_count": 137,
     "metadata": {},
     "output_type": "execute_result"
    }
   ],
   "source": [
    "detect_not_in_shared(x, n_perts_in_shared)"
   ]
  },
  {
   "cell_type": "code",
   "execution_count": 144,
   "id": "89f756d0",
   "metadata": {},
   "outputs": [],
   "source": [
    "import scanpy as sc\n",
    "import pandas as pd\n",
    "\n",
    "def rank_genes_groups_by_cov(\n",
    "    adata,\n",
    "    groupby,\n",
    "    control_group,\n",
    "    covariate,\n",
    "    pool_doses=False,\n",
    "    n_genes=50,\n",
    "    rankby_abs=True,\n",
    "    key_added='rank_genes_groups_cov',\n",
    "    return_dict=False,\n",
    "):\n",
    "\n",
    "    \"\"\"\n",
    "    Function that generates a list of differentially expressed genes computed\n",
    "    separately for each covariate category, and using the respective control\n",
    "    cells as reference.\n",
    "\n",
    "    Usage example:\n",
    "\n",
    "    rank_genes_groups_by_cov(\n",
    "        adata,\n",
    "        groupby='cov_product_dose',\n",
    "        covariate_key='cell_type',\n",
    "        control_group='Vehicle_0'\n",
    "    )\n",
    "\n",
    "    Parameters\n",
    "    ----------\n",
    "    adata : AnnData\n",
    "        AnnData dataset\n",
    "    groupby : str\n",
    "        Obs column that defines the groups, should be\n",
    "        cartesian product of covariate_perturbation_cont_var,\n",
    "        it is important that this format is followed.\n",
    "    control_group : str\n",
    "        String that defines the control group in the groupby obs\n",
    "    covariate : str\n",
    "        Obs column that defines the main covariate by which we\n",
    "        want to separate DEG computation (eg. cell type, species, etc.)\n",
    "    n_genes : int (default: 50)\n",
    "        Number of DEGs to include in the lists\n",
    "    rankby_abs : bool (default: True)\n",
    "        If True, rank genes by absolute values of the score, thus including\n",
    "        top downregulated genes in the top N genes. If False, the ranking will\n",
    "        have only upregulated genes at the top.\n",
    "    key_added : str (default: 'rank_genes_groups_cov')\n",
    "        Key used when adding the dictionary to adata.uns\n",
    "    return_dict : str (default: False)\n",
    "        Signals whether to return the dictionary or not\n",
    "\n",
    "    Returns\n",
    "    -------\n",
    "    Adds the DEG dictionary to adata.uns\n",
    "\n",
    "    If return_dict is True returns:\n",
    "    gene_dict : dict\n",
    "        Dictionary where groups are stored as keys, and the list of DEGs\n",
    "        are the corresponding values\n",
    "\n",
    "    \"\"\"\n",
    "\n",
    "    gene_dict = {}\n",
    "    cov_categories = adata.obs[covariate].unique()\n",
    "    for cov_cat in cov_categories:\n",
    "        print(cov_cat)\n",
    "        #name of the control group in the groupby obs column\n",
    "        control_group_cov = '_'.join([cov_cat, control_group])\n",
    "\n",
    "        #subset adata to cells belonging to a covariate category\n",
    "        adata_cov = adata[adata.obs[covariate]==cov_cat]\n",
    "\n",
    "        #compute DEGs\n",
    "        sc.tl.rank_genes_groups(\n",
    "            adata_cov,\n",
    "            groupby=groupby,\n",
    "            reference=control_group_cov,\n",
    "            rankby_abs=rankby_abs,\n",
    "            n_genes=n_genes\n",
    "        )\n",
    "\n",
    "        #add entries to dictionary of gene sets\n",
    "        de_genes = pd.DataFrame(adata_cov.uns['rank_genes_groups']['names'])\n",
    "        for group in de_genes:\n",
    "            gene_dict[group] = de_genes[group].tolist()\n",
    "\n",
    "    adata.uns[key_added] = gene_dict\n",
    "\n",
    "    if return_dict:\n",
    "        return gene_dict\n",
    "\n"
   ]
  },
  {
   "cell_type": "code",
   "execution_count": 140,
   "id": "48bc9494",
   "metadata": {},
   "outputs": [],
   "source": [
    "norman_filter_cells = norman_new[norman_new.obs.condition.apply(lambda x: detect_not_in_shared(x, n_perts_in_shared)) == True]"
   ]
  },
  {
   "cell_type": "code",
   "execution_count": 142,
   "id": "a003bbdc",
   "metadata": {},
   "outputs": [],
   "source": [
    "adamson_filter_cells = adamson_new[adamson_new.obs.condition.apply(lambda x: detect_not_in_shared(x, a_perts_in_shared)) == True]"
   ]
  },
  {
   "cell_type": "code",
   "execution_count": 145,
   "id": "7a640bf5",
   "metadata": {
    "scrolled": true
   },
   "outputs": [
    {
     "name": "stdout",
     "output_type": "stream",
     "text": [
      "K562(?)\n",
      "WARNING: Default of the method has been changed to 't-test' from 't-test_overestim_var'\n"
     ]
    },
    {
     "name": "stderr",
     "output_type": "stream",
     "text": [
      "Trying to set attribute `.uns` of view, copying.\n",
      "/dfs/user/kexinh/miniconda3/envs/eee/lib/python3.8/site-packages/scanpy/tools/_rank_genes_groups.py:394: PerformanceWarning: DataFrame is highly fragmented.  This is usually the result of calling `frame.insert` many times, which has poor performance.  Consider joining all columns at once using pd.concat(axis=1) instead.  To get a de-fragmented frame, use `newframe = frame.copy()`\n",
      "  self.stats[group_name, 'names'] = self.var_names[global_indices]\n",
      "/dfs/user/kexinh/miniconda3/envs/eee/lib/python3.8/site-packages/scanpy/tools/_rank_genes_groups.py:396: PerformanceWarning: DataFrame is highly fragmented.  This is usually the result of calling `frame.insert` many times, which has poor performance.  Consider joining all columns at once using pd.concat(axis=1) instead.  To get a de-fragmented frame, use `newframe = frame.copy()`\n",
      "  self.stats[group_name, 'scores'] = scores[global_indices]\n",
      "/dfs/user/kexinh/miniconda3/envs/eee/lib/python3.8/site-packages/scanpy/tools/_rank_genes_groups.py:399: PerformanceWarning: DataFrame is highly fragmented.  This is usually the result of calling `frame.insert` many times, which has poor performance.  Consider joining all columns at once using pd.concat(axis=1) instead.  To get a de-fragmented frame, use `newframe = frame.copy()`\n",
      "  self.stats[group_name, 'pvals'] = pvals[global_indices]\n",
      "/dfs/user/kexinh/miniconda3/envs/eee/lib/python3.8/site-packages/scanpy/tools/_rank_genes_groups.py:409: PerformanceWarning: DataFrame is highly fragmented.  This is usually the result of calling `frame.insert` many times, which has poor performance.  Consider joining all columns at once using pd.concat(axis=1) instead.  To get a de-fragmented frame, use `newframe = frame.copy()`\n",
      "  self.stats[group_name, 'pvals_adj'] = pvals_adj[global_indices]\n",
      "/dfs/user/kexinh/miniconda3/envs/eee/lib/python3.8/site-packages/scanpy/tools/_rank_genes_groups.py:420: PerformanceWarning: DataFrame is highly fragmented.  This is usually the result of calling `frame.insert` many times, which has poor performance.  Consider joining all columns at once using pd.concat(axis=1) instead.  To get a de-fragmented frame, use `newframe = frame.copy()`\n",
      "  self.stats[group_name, 'logfoldchanges'] = np.log2(\n",
      "Trying to set attribute `.uns` of view, copying.\n"
     ]
    },
    {
     "name": "stdout",
     "output_type": "stream",
     "text": [
      "K562(?)\n",
      "WARNING: Default of the method has been changed to 't-test' from 't-test_overestim_var'\n"
     ]
    },
    {
     "name": "stderr",
     "output_type": "stream",
     "text": [
      "Trying to set attribute `.uns` of view, copying.\n"
     ]
    },
    {
     "name": "stdout",
     "output_type": "stream",
     "text": [
      "K562(?)\n",
      "WARNING: Default of the method has been changed to 't-test' from 't-test_overestim_var'\n"
     ]
    },
    {
     "name": "stderr",
     "output_type": "stream",
     "text": [
      "Trying to set attribute `.uns` of view, copying.\n"
     ]
    },
    {
     "name": "stdout",
     "output_type": "stream",
     "text": [
      "K562(?)\n",
      "WARNING: Default of the method has been changed to 't-test' from 't-test_overestim_var'\n"
     ]
    },
    {
     "name": "stderr",
     "output_type": "stream",
     "text": [
      "Trying to set attribute `.uns` of view, copying.\n"
     ]
    }
   ],
   "source": [
    "# calculate DE genes\n",
    "rank_genes_groups_by_cov(adamson_filter_cells, \n",
    "                         groupby='cov_drug_dose_name', \n",
    "                         covariate='cell_type', \n",
    "                         control_group='ctrl_1', \n",
    "                         n_genes=20,\n",
    "                         key_added = 'rank_genes_groups_cov')\n",
    "for i in [50, 100, 200]:\n",
    "    rank_genes_groups_by_cov(adamson_filter_cells, \n",
    "                         groupby='cov_drug_dose_name', \n",
    "                         covariate='cell_type', \n",
    "                         control_group='ctrl_1', \n",
    "                         n_genes=i,\n",
    "                         key_added = 'rank_genes_groups_cov_top' + str(i))"
   ]
  },
  {
   "cell_type": "code",
   "execution_count": 148,
   "id": "04715295",
   "metadata": {},
   "outputs": [
    {
     "name": "stdout",
     "output_type": "stream",
     "text": [
      "A549\n",
      "WARNING: Default of the method has been changed to 't-test' from 't-test_overestim_var'\n"
     ]
    },
    {
     "name": "stderr",
     "output_type": "stream",
     "text": [
      "Trying to set attribute `.uns` of view, copying.\n",
      "Trying to set attribute `.uns` of view, copying.\n"
     ]
    },
    {
     "name": "stdout",
     "output_type": "stream",
     "text": [
      "A549\n",
      "WARNING: Default of the method has been changed to 't-test' from 't-test_overestim_var'\n"
     ]
    },
    {
     "name": "stderr",
     "output_type": "stream",
     "text": [
      "Trying to set attribute `.uns` of view, copying.\n"
     ]
    },
    {
     "name": "stdout",
     "output_type": "stream",
     "text": [
      "A549\n",
      "WARNING: Default of the method has been changed to 't-test' from 't-test_overestim_var'\n"
     ]
    },
    {
     "name": "stderr",
     "output_type": "stream",
     "text": [
      "Trying to set attribute `.uns` of view, copying.\n"
     ]
    },
    {
     "name": "stdout",
     "output_type": "stream",
     "text": [
      "A549\n",
      "WARNING: Default of the method has been changed to 't-test' from 't-test_overestim_var'\n"
     ]
    },
    {
     "name": "stderr",
     "output_type": "stream",
     "text": [
      "Trying to set attribute `.uns` of view, copying.\n"
     ]
    }
   ],
   "source": [
    "# calculate DE genes\n",
    "rank_genes_groups_by_cov(norman_filter_cells, \n",
    "                         groupby='cov_drug_dose_name', \n",
    "                         covariate='cell_type', \n",
    "                         control_group='ctrl_1', \n",
    "                         n_genes=20,\n",
    "                         key_added = 'rank_genes_groups_cov')\n",
    "for i in [50, 100, 200]:\n",
    "    rank_genes_groups_by_cov(norman_filter_cells, \n",
    "                         groupby='cov_drug_dose_name', \n",
    "                         covariate='cell_type', \n",
    "                         control_group='ctrl_1', \n",
    "                         n_genes=i,\n",
    "                         key_added = 'rank_genes_groups_cov_top' + str(i))"
   ]
  },
  {
   "cell_type": "code",
   "execution_count": 149,
   "id": "f2c0a84d",
   "metadata": {},
   "outputs": [
    {
     "data": {
      "text/plain": [
       "AnnData object with n_obs × n_vars = 67545 × 5093\n",
       "    obs: 'guide_identity', 'UMI_count', 'gem_group', 'good_coverage', 'number_of_cells', 'perturbed', 'guide_merged', 'dose_val', 'condition', 'cell_type', 'control', 'drug_dose_name', 'cov_drug_dose_name'\n",
       "    var: 'highly_variable', 'means', 'dispersions', 'dispersions_norm', 'gene_name'\n",
       "    uns: 'hvg', 'rank_genes_groups_cov', 'rank_genes_groups_cov_top50', 'rank_genes_groups_cov_top100', 'rank_genes_groups_cov_top200'\n",
       "    layers: 'counts'"
      ]
     },
     "execution_count": 149,
     "metadata": {},
     "output_type": "execute_result"
    }
   ],
   "source": [
    "adamson_filter_cells"
   ]
  },
  {
   "cell_type": "code",
   "execution_count": 151,
   "id": "9a6f3521",
   "metadata": {},
   "outputs": [],
   "source": [
    "norman_filter_cells.var = norman_filter_cells.var[['highly_variable', 'means', 'dispersions', 'dispersions_norm', 'gene_name']]"
   ]
  },
  {
   "cell_type": "code",
   "execution_count": 153,
   "id": "5137d441",
   "metadata": {},
   "outputs": [],
   "source": [
    "norman_filter_cells.obs = norman_filter_cells.obs[['guide_identity', \n",
    "                         'UMI_count', \n",
    "                         'good_coverage', \n",
    "                         'number_of_cells', \n",
    "                         'guide_merged', \n",
    "                         'dose_val', \n",
    "                         'condition', \n",
    "                         'cell_type', \n",
    "                         'control', \n",
    "                         'drug_dose_name', \n",
    "                         'cov_drug_dose_name']]"
   ]
  },
  {
   "cell_type": "code",
   "execution_count": 154,
   "id": "211cec75",
   "metadata": {},
   "outputs": [],
   "source": [
    "adamson_filter_cells.obs = adamson_filter_cells.obs[['guide_identity', \n",
    "                         'UMI_count', \n",
    "                         'good_coverage', \n",
    "                         'number_of_cells', \n",
    "                         'guide_merged', \n",
    "                         'dose_val', \n",
    "                         'condition', \n",
    "                         'cell_type', \n",
    "                         'control', \n",
    "                         'drug_dose_name', \n",
    "                         'cov_drug_dose_name']]"
   ]
  },
  {
   "cell_type": "code",
   "execution_count": 157,
   "id": "9a33777f",
   "metadata": {},
   "outputs": [],
   "source": [
    "adamson_filter_cells.obs['dataset'] = 'adamson'\n",
    "norman_filter_cells.obs['dataset'] = 'norman'"
   ]
  },
  {
   "cell_type": "code",
   "execution_count": 158,
   "id": "cd040cd2",
   "metadata": {},
   "outputs": [
    {
     "data": {
      "text/plain": [
       "AnnData object with n_obs × n_vars = 67545 × 5093\n",
       "    obs: 'guide_identity', 'UMI_count', 'good_coverage', 'number_of_cells', 'guide_merged', 'dose_val', 'condition', 'cell_type', 'control', 'drug_dose_name', 'cov_drug_dose_name', 'dataset'\n",
       "    var: 'highly_variable', 'means', 'dispersions', 'dispersions_norm', 'gene_name'\n",
       "    uns: 'hvg', 'rank_genes_groups_cov', 'rank_genes_groups_cov_top50', 'rank_genes_groups_cov_top100', 'rank_genes_groups_cov_top200'\n",
       "    layers: 'counts'"
      ]
     },
     "execution_count": 158,
     "metadata": {},
     "output_type": "execute_result"
    }
   ],
   "source": [
    "adamson_filter_cells"
   ]
  },
  {
   "cell_type": "code",
   "execution_count": 156,
   "id": "a50411eb",
   "metadata": {},
   "outputs": [
    {
     "data": {
      "text/plain": [
       "AnnData object with n_obs × n_vars = 85294 × 5093\n",
       "    obs: 'guide_identity', 'UMI_count', 'good_coverage', 'number_of_cells', 'guide_merged', 'dose_val', 'condition', 'cell_type', 'control', 'drug_dose_name', 'cov_drug_dose_name'\n",
       "    var: 'highly_variable', 'means', 'dispersions', 'dispersions_norm', 'gene_name'\n",
       "    uns: 'hvg', 'rank_genes_groups_cov', 'rank_genes_groups_cov_top50', 'rank_genes_groups_cov_top100', 'rank_genes_groups_cov_top200'\n",
       "    layers: 'counts'"
      ]
     },
     "execution_count": 156,
     "metadata": {},
     "output_type": "execute_result"
    }
   ],
   "source": [
    "norman_filter_cells"
   ]
  },
  {
   "cell_type": "code",
   "execution_count": 159,
   "id": "6d4009de",
   "metadata": {},
   "outputs": [],
   "source": [
    "import anndata as ad"
   ]
  },
  {
   "cell_type": "code",
   "execution_count": 172,
   "id": "3b39fa0b",
   "metadata": {},
   "outputs": [],
   "source": [
    "sorted_gene_list = sorted(adamson_filter_cells.var.gene_name)"
   ]
  },
  {
   "cell_type": "code",
   "execution_count": 175,
   "id": "4542525e",
   "metadata": {},
   "outputs": [],
   "source": [
    "adamson_reorder_idx = [np.where(adamson_filter_cells.var.gene_name.values == i)[0][0] for i in sorted_gene_list]\n",
    "norman_reorder_idx = [np.where(norman_filter_cells.var.gene_name.values == i)[0][0] for i in sorted_gene_list]"
   ]
  },
  {
   "cell_type": "code",
   "execution_count": 177,
   "id": "badf6c29",
   "metadata": {},
   "outputs": [],
   "source": [
    "norman_filter_cells = norman_filter_cells[:, norman_reorder_idx]\n",
    "adamson_filter_cells = adamson_filter_cells[:, adamson_reorder_idx]"
   ]
  },
  {
   "cell_type": "code",
   "execution_count": 181,
   "id": "08e4a8ef",
   "metadata": {},
   "outputs": [
    {
     "name": "stderr",
     "output_type": "stream",
     "text": [
      "/dfs/user/kexinh/miniconda3/envs/eee/lib/python3.8/site-packages/anndata/_core/anndata.py:1220: FutureWarning: The `inplace` parameter in pandas.Categorical.reorder_categories is deprecated and will be removed in a future version. Removing unused categories will always return a new Categorical object.\n",
      "  c.reorder_categories(natsorted(c.categories), inplace=True)\n",
      "/dfs/user/kexinh/miniconda3/envs/eee/lib/python3.8/site-packages/anndata/_core/anndata.py:1228: ImplicitModificationWarning: Initializing view as actual.\n",
      "  warnings.warn(\n",
      "Trying to set attribute `.obs` of view, copying.\n",
      "... storing 'dataset' as categorical\n",
      "/dfs/user/kexinh/miniconda3/envs/eee/lib/python3.8/site-packages/anndata/_core/anndata.py:1220: FutureWarning: The `inplace` parameter in pandas.Categorical.reorder_categories is deprecated and will be removed in a future version. Removing unused categories will always return a new Categorical object.\n",
      "  c.reorder_categories(natsorted(c.categories), inplace=True)\n",
      "/dfs/user/kexinh/miniconda3/envs/eee/lib/python3.8/site-packages/anndata/_core/anndata.py:1228: ImplicitModificationWarning: Initializing view as actual.\n",
      "  warnings.warn(\n",
      "Trying to set attribute `.obs` of view, copying.\n",
      "... storing 'dataset' as categorical\n"
     ]
    }
   ],
   "source": [
    "norman_filter_cells.write_h5ad('/dfs/project/perturb-gnn/datasets/trans_norman_adamson/norman2019.h5ad')\n",
    "adamson_filter_cells.write_h5ad('/dfs/project/perturb-gnn/datasets/trans_norman_adamson/adamson2016.h5ad')"
   ]
  },
  {
   "cell_type": "code",
   "execution_count": 187,
   "id": "67b0a88e",
   "metadata": {},
   "outputs": [
    {
     "name": "stderr",
     "output_type": "stream",
     "text": [
      "/dfs/user/kexinh/miniconda3/envs/eee/lib/python3.8/site-packages/anndata/_core/anndata.py:1220: FutureWarning: The `inplace` parameter in pandas.Categorical.reorder_categories is deprecated and will be removed in a future version. Removing unused categories will always return a new Categorical object.\n",
      "  c.reorder_categories(natsorted(c.categories), inplace=True)\n",
      "... storing 'split' as categorical\n"
     ]
    }
   ],
   "source": [
    "adamson_filter_cells.obs['split'] = 'test'\n",
    "adamson_filter_cells.write_h5ad('/dfs/project/perturb-gnn/datasets/trans_norman_adamson/adamson2016.h5ad')"
   ]
  },
  {
   "cell_type": "code",
   "execution_count": 188,
   "id": "e6afb7a8",
   "metadata": {},
   "outputs": [
    {
     "data": {
      "text/plain": [
       "<85294x5093 sparse matrix of type '<class 'numpy.float32'>'\n",
       "\twith 70473943 stored elements in Compressed Sparse Row format>"
      ]
     },
     "execution_count": 188,
     "metadata": {},
     "output_type": "execute_result"
    }
   ],
   "source": [
    "norman_filter_cells.X"
   ]
  },
  {
   "cell_type": "code",
   "execution_count": 189,
   "id": "1e211085",
   "metadata": {},
   "outputs": [
    {
     "data": {
      "text/plain": [
       "<67545x5093 sparse matrix of type '<class 'numpy.float32'>'\n",
       "\twith 62241930 stored elements in Compressed Sparse Row format>"
      ]
     },
     "execution_count": 189,
     "metadata": {},
     "output_type": "execute_result"
    }
   ],
   "source": [
    "np.mean(adamson_filter_cells.X, axis = 1)"
   ]
  },
  {
   "cell_type": "code",
   "execution_count": null,
   "id": "6ae08705",
   "metadata": {},
   "outputs": [],
   "source": []
  }
 ],
 "metadata": {
  "kernelspec": {
   "display_name": "Python 3 (ipykernel)",
   "language": "python",
   "name": "python3"
  },
  "language_info": {
   "codemirror_mode": {
    "name": "ipython",
    "version": 3
   },
   "file_extension": ".py",
   "mimetype": "text/x-python",
   "name": "python",
   "nbconvert_exporter": "python",
   "pygments_lexer": "ipython3",
   "version": "3.8.11"
  }
 },
 "nbformat": 4,
 "nbformat_minor": 5
}

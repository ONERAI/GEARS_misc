{
 "cells": [
  {
   "cell_type": "code",
   "execution_count": 1,
   "id": "76145d40",
   "metadata": {},
   "outputs": [],
   "source": [
    "import scanpy as sc\n",
    "import numpy as np\n",
    "import pandas as pd\n",
    "import seaborn as sns\n",
    "import matplotlib.pyplot as plt\n",
    "\n",
    "data_path = '/dfs/project/perturb-gnn/datasets/Norman2019_hvg+perts_more_de.h5ad'\n",
    "adata = sc.read_h5ad(data_path)\n",
    "gene_list = [f for f in adata.var.gene_symbols.values]\n",
    "\n",
    "# calculate mean expression for each condition\n",
    "unique_conditions = adata.obs.condition.unique()\n",
    "conditions2index = {}\n",
    "for i in unique_conditions:\n",
    "    conditions2index[i] = np.where(adata.obs.condition == i)[0]\n",
    "    \n",
    "condition2mean_expression = {}\n",
    "for i, j in conditions2index.items():\n",
    "    condition2mean_expression[i] = np.mean(adata.X[j], axis = 0)\n",
    "    \n",
    "pert_list = np.array(list(condition2mean_expression.keys()))\n",
    "mean_expression = np.array(list(condition2mean_expression.values())).reshape(len(adata.obs.condition.unique()), adata.X.toarray().shape[1])\n",
    "\n",
    "ctrl = mean_expression[np.where(pert_list == 'ctrl')[0]]\n",
    "most_variable_genes = np.argsort(np.std(mean_expression, axis = 0))[-200:]\n",
    "gene_list = adata.var['gene_name'].values"
   ]
  },
  {
   "cell_type": "code",
   "execution_count": 2,
   "id": "dbcd44df",
   "metadata": {},
   "outputs": [],
   "source": [
    "from scipy import stats\n",
    "k = 20\n",
    "def get_fc_AB_C(c):    \n",
    "\n",
    "    i = np.where(pert_list == c)[0]\n",
    "    pert = mean_expression[i]\n",
    "    \n",
    "    fold_change = pert/ctrl\n",
    "    fold_change[np.isnan(fold_change)] = 0\n",
    "    fold_change[np.isinf(fold_change)] = 0\n",
    "\n",
    "    fold_change[0][np.where(pert[0] < 0.5)[0]] = 0\n",
    "    \n",
    "    topk_fold_changes = np.argsort(fold_change)[0][-k:]\n",
    "    c1 = pert[:, topk_fold_changes].reshape(1,-1)\n",
    "    c2 = ctrl[:, topk_fold_changes].reshape(1,-1)\n",
    "    topk_fc_genes = gene_list[topk_fold_changes]\n",
    "    \n",
    "    for x in topk_fc_genes:\n",
    "        for c2 in pert_list:\n",
    "            if c!=c2 and c2 != 'ctrl' and len(np.intersect1d(parse_any_pert(c), parse_any_pert(c2)))==0:\n",
    "                parse = parse_any_pert(c2)\n",
    "                if x in parse and len(parse) == 1:\n",
    "                    c2_exp = mean_expression[np.where(pert_list == c2)[0]]\n",
    "                    fc = fold_change[0][np.where(gene_list == parse[0])[0]]\n",
    "                    if fc[0] > 5:\n",
    "                        corr_fc.append((c, c2, fc[0], \n",
    "                                    stats.pearsonr(c2_exp[:, most_variable_genes][0] - ctrl[:, most_variable_genes][0], \n",
    "                                                   pert[:, most_variable_genes][0] - ctrl[:, most_variable_genes][0])[0],\n",
    "                                    ))\n",
    "                    \n",
    "    return corr_fc"
   ]
  },
  {
   "cell_type": "code",
   "execution_count": 3,
   "id": "1771bfe8",
   "metadata": {},
   "outputs": [],
   "source": [
    "from utils import parse_single_pert, parse_any_pert"
   ]
  },
  {
   "cell_type": "code",
   "execution_count": 4,
   "id": "9468d370",
   "metadata": {},
   "outputs": [
    {
     "name": "stderr",
     "output_type": "stream",
     "text": [
      "  0%|                                                                                          | 0/284 [00:00<?, ?it/s]/tmp/ipykernel_52546/3917558323.py:8: RuntimeWarning: divide by zero encountered in true_divide\n",
      "  fold_change = pert/ctrl\n",
      "/tmp/ipykernel_52546/3917558323.py:8: RuntimeWarning: invalid value encountered in true_divide\n",
      "  fold_change = pert/ctrl\n",
      "100%|████████████████████████████████████████████████████████████████████████████████| 284/284 [00:41<00:00,  6.77it/s]\n"
     ]
    }
   ],
   "source": [
    "from tqdm import tqdm\n",
    "corr_fc = []\n",
    "for c in tqdm(pert_list):\n",
    "    if c!='ctrl':\n",
    "        a = get_fc_AB_C(c)"
   ]
  },
  {
   "cell_type": "code",
   "execution_count": 5,
   "id": "1cadbd4f",
   "metadata": {},
   "outputs": [
    {
     "name": "stderr",
     "output_type": "stream",
     "text": [
      "/dfs/user/kexinh/miniconda3/envs/eee/lib/python3.8/site-packages/seaborn/distributions.py:2619: FutureWarning: `distplot` is a deprecated function and will be removed in a future version. Please adapt your code to use either `displot` (a figure-level function with similar flexibility) or `kdeplot` (an axes-level function for kernel density plots).\n",
      "  warnings.warn(msg, FutureWarning)\n",
      "/dfs/user/kexinh/miniconda3/envs/eee/lib/python3.8/site-packages/seaborn/distributions.py:2619: FutureWarning: `distplot` is a deprecated function and will be removed in a future version. Please adapt your code to use either `displot` (a figure-level function with similar flexibility) or `kdeplot` (an axes-level function for kernel density plots).\n",
      "  warnings.warn(msg, FutureWarning)\n"
     ]
    },
    {
     "data": {
      "text/plain": [
       "<matplotlib.legend.Legend at 0x7f5dd57346a0>"
      ]
     },
     "execution_count": 5,
     "metadata": {},
     "output_type": "execute_result"
    },
    {
     "data": {
      "image/png": "[encoded data removed]",
      "text/plain": [
       "<Figure size 720x288 with 1 Axes>"
      ]
     },
     "metadata": {},
     "output_type": "display_data"
    }
   ],
   "source": [
    "import seaborn as sns\n",
    "import pandas as pd\n",
    "sns.set(rc={'figure.figsize':(10, 4)})\n",
    "import matplotlib.pyplot as plt\n",
    "corr = pd.DataFrame(mean_expression[:, most_variable_genes] - ctrl[:, most_variable_genes]).T.corr('pearson').values\n",
    "sns.distplot(corr.reshape(-1,), hist = False, label = 'all pairs')\n",
    "ax = sns.distplot([i[3] for i in corr_fc], hist = False, label = 'partners')\n",
    "#ax.set_xlim(0, 1)\n",
    "plt.legend(loc='lower left', labels=['all pairs', 'partners'])\n"
   ]
  },
  {
   "cell_type": "code",
   "execution_count": 6,
   "id": "35e4270f",
   "metadata": {},
   "outputs": [],
   "source": [
    "df_corr_fc = pd.DataFrame(corr_fc)\n",
    "df_corr_fc = df_corr_fc.rename(columns = {0: 'query_pert', 1: 'act_pert', \n",
    "                             2: 'fold_change', 3: 'pearson'})"
   ]
  },
  {
   "cell_type": "code",
   "execution_count": 9,
   "id": "25a99fb6",
   "metadata": {},
   "outputs": [
    {
     "data": {
      "text/html": [
       "<div>\n",
       "<style scoped>\n",
       "    .dataframe tbody tr th:only-of-type {\n",
       "        vertical-align: middle;\n",
       "    }\n",
       "\n",
       "    .dataframe tbody tr th {\n",
       "        vertical-align: top;\n",
       "    }\n",
       "\n",
       "    .dataframe thead th {\n",
       "        text-align: right;\n",
       "    }\n",
       "</style>\n",
       "<table border=\"1\" class=\"dataframe\">\n",
       "  <thead>\n",
       "    <tr style=\"text-align: right;\">\n",
       "      <th></th>\n",
       "      <th>query_pert</th>\n",
       "      <th>act_pert</th>\n",
       "      <th>fold_change</th>\n",
       "      <th>pearson</th>\n",
       "    </tr>\n",
       "  </thead>\n",
       "  <tbody>\n",
       "    <tr>\n",
       "      <th>0</th>\n",
       "      <td>DUSP9+MAPK1</td>\n",
       "      <td>ctrl+ETS2</td>\n",
       "      <td>7.202773</td>\n",
       "      <td>0.224872</td>\n",
       "    </tr>\n",
       "    <tr>\n",
       "      <th>1</th>\n",
       "      <td>DUSP9+MAPK1</td>\n",
       "      <td>ETS2+ctrl</td>\n",
       "      <td>7.202773</td>\n",
       "      <td>0.211482</td>\n",
       "    </tr>\n",
       "    <tr>\n",
       "      <th>2</th>\n",
       "      <td>IGDCC3+MAPK1</td>\n",
       "      <td>ctrl+ETS2</td>\n",
       "      <td>6.974825</td>\n",
       "      <td>0.531236</td>\n",
       "    </tr>\n",
       "    <tr>\n",
       "      <th>3</th>\n",
       "      <td>IGDCC3+MAPK1</td>\n",
       "      <td>ETS2+ctrl</td>\n",
       "      <td>6.974825</td>\n",
       "      <td>0.515201</td>\n",
       "    </tr>\n",
       "    <tr>\n",
       "      <th>4</th>\n",
       "      <td>JUN+CEBPA</td>\n",
       "      <td>ctrl+CEBPE</td>\n",
       "      <td>46.594349</td>\n",
       "      <td>0.910482</td>\n",
       "    </tr>\n",
       "    <tr>\n",
       "      <th>5</th>\n",
       "      <td>JUN+CEBPA</td>\n",
       "      <td>CEBPE+ctrl</td>\n",
       "      <td>46.594349</td>\n",
       "      <td>0.890260</td>\n",
       "    </tr>\n",
       "    <tr>\n",
       "      <th>6</th>\n",
       "      <td>MAPK1+IKZF3</td>\n",
       "      <td>ctrl+ETS2</td>\n",
       "      <td>6.793534</td>\n",
       "      <td>0.120023</td>\n",
       "    </tr>\n",
       "    <tr>\n",
       "      <th>7</th>\n",
       "      <td>MAPK1+IKZF3</td>\n",
       "      <td>ETS2+ctrl</td>\n",
       "      <td>6.793534</td>\n",
       "      <td>0.101036</td>\n",
       "    </tr>\n",
       "    <tr>\n",
       "      <th>8</th>\n",
       "      <td>CEBPB+CEBPA</td>\n",
       "      <td>ctrl+CEBPE</td>\n",
       "      <td>57.989193</td>\n",
       "      <td>0.904909</td>\n",
       "    </tr>\n",
       "    <tr>\n",
       "      <th>9</th>\n",
       "      <td>CEBPB+CEBPA</td>\n",
       "      <td>CEBPE+ctrl</td>\n",
       "      <td>57.989193</td>\n",
       "      <td>0.886019</td>\n",
       "    </tr>\n",
       "    <tr>\n",
       "      <th>10</th>\n",
       "      <td>CNN1+MAPK1</td>\n",
       "      <td>ctrl+ETS2</td>\n",
       "      <td>6.910108</td>\n",
       "      <td>0.756301</td>\n",
       "    </tr>\n",
       "    <tr>\n",
       "      <th>11</th>\n",
       "      <td>CNN1+MAPK1</td>\n",
       "      <td>ETS2+ctrl</td>\n",
       "      <td>6.910108</td>\n",
       "      <td>0.742593</td>\n",
       "    </tr>\n",
       "    <tr>\n",
       "      <th>12</th>\n",
       "      <td>MAPK1+TGFBR2</td>\n",
       "      <td>ctrl+ETS2</td>\n",
       "      <td>7.440381</td>\n",
       "      <td>0.968662</td>\n",
       "    </tr>\n",
       "    <tr>\n",
       "      <th>13</th>\n",
       "      <td>MAPK1+TGFBR2</td>\n",
       "      <td>ETS2+ctrl</td>\n",
       "      <td>7.440381</td>\n",
       "      <td>0.961755</td>\n",
       "    </tr>\n",
       "    <tr>\n",
       "      <th>14</th>\n",
       "      <td>ctrl+CEBPA</td>\n",
       "      <td>ctrl+CEBPE</td>\n",
       "      <td>53.700356</td>\n",
       "      <td>0.913127</td>\n",
       "    </tr>\n",
       "    <tr>\n",
       "      <th>15</th>\n",
       "      <td>ctrl+CEBPA</td>\n",
       "      <td>CEBPE+ctrl</td>\n",
       "      <td>53.700356</td>\n",
       "      <td>0.893753</td>\n",
       "    </tr>\n",
       "    <tr>\n",
       "      <th>16</th>\n",
       "      <td>FOSB+CEBPB</td>\n",
       "      <td>ctrl+CEBPE</td>\n",
       "      <td>40.490284</td>\n",
       "      <td>0.921957</td>\n",
       "    </tr>\n",
       "    <tr>\n",
       "      <th>17</th>\n",
       "      <td>FOSB+CEBPB</td>\n",
       "      <td>CEBPE+ctrl</td>\n",
       "      <td>40.490284</td>\n",
       "      <td>0.905453</td>\n",
       "    </tr>\n",
       "    <tr>\n",
       "      <th>18</th>\n",
       "      <td>KLF1+CEBPA</td>\n",
       "      <td>ctrl+CEBPE</td>\n",
       "      <td>51.129608</td>\n",
       "      <td>0.916002</td>\n",
       "    </tr>\n",
       "    <tr>\n",
       "      <th>19</th>\n",
       "      <td>KLF1+CEBPA</td>\n",
       "      <td>CEBPE+ctrl</td>\n",
       "      <td>51.129608</td>\n",
       "      <td>0.906525</td>\n",
       "    </tr>\n",
       "    <tr>\n",
       "      <th>20</th>\n",
       "      <td>ctrl+BAK1</td>\n",
       "      <td>LHX1+ctrl</td>\n",
       "      <td>10.089656</td>\n",
       "      <td>0.359677</td>\n",
       "    </tr>\n",
       "    <tr>\n",
       "      <th>21</th>\n",
       "      <td>CEBPA+ctrl</td>\n",
       "      <td>ctrl+CEBPE</td>\n",
       "      <td>64.802803</td>\n",
       "      <td>0.914496</td>\n",
       "    </tr>\n",
       "    <tr>\n",
       "      <th>22</th>\n",
       "      <td>CEBPA+ctrl</td>\n",
       "      <td>CEBPE+ctrl</td>\n",
       "      <td>64.802803</td>\n",
       "      <td>0.896001</td>\n",
       "    </tr>\n",
       "    <tr>\n",
       "      <th>23</th>\n",
       "      <td>ctrl+MAPK1</td>\n",
       "      <td>ctrl+ETS2</td>\n",
       "      <td>7.225889</td>\n",
       "      <td>0.979134</td>\n",
       "    </tr>\n",
       "    <tr>\n",
       "      <th>24</th>\n",
       "      <td>ctrl+MAPK1</td>\n",
       "      <td>ETS2+ctrl</td>\n",
       "      <td>7.225889</td>\n",
       "      <td>0.973590</td>\n",
       "    </tr>\n",
       "    <tr>\n",
       "      <th>25</th>\n",
       "      <td>ZC3HAV1+CEBPA</td>\n",
       "      <td>ctrl+CEBPE</td>\n",
       "      <td>42.153671</td>\n",
       "      <td>0.899761</td>\n",
       "    </tr>\n",
       "    <tr>\n",
       "      <th>26</th>\n",
       "      <td>ZC3HAV1+CEBPA</td>\n",
       "      <td>CEBPE+ctrl</td>\n",
       "      <td>42.153671</td>\n",
       "      <td>0.882835</td>\n",
       "    </tr>\n",
       "  </tbody>\n",
       "</table>\n",
       "</div>"
      ],
      "text/plain": [
       "       query_pert    act_pert  fold_change   pearson\n",
       "0     DUSP9+MAPK1   ctrl+ETS2     7.202773  0.224872\n",
       "1     DUSP9+MAPK1   ETS2+ctrl     7.202773  0.211482\n",
       "2    IGDCC3+MAPK1   ctrl+ETS2     6.974825  0.531236\n",
       "3    IGDCC3+MAPK1   ETS2+ctrl     6.974825  0.515201\n",
       "4       JUN+CEBPA  ctrl+CEBPE    46.594349  0.910482\n",
       "5       JUN+CEBPA  CEBPE+ctrl    46.594349  0.890260\n",
       "6     MAPK1+IKZF3   ctrl+ETS2     6.793534  0.120023\n",
       "7     MAPK1+IKZF3   ETS2+ctrl     6.793534  0.101036\n",
       "8     CEBPB+CEBPA  ctrl+CEBPE    57.989193  0.904909\n",
       "9     CEBPB+CEBPA  CEBPE+ctrl    57.989193  0.886019\n",
       "10     CNN1+MAPK1   ctrl+ETS2     6.910108  0.756301\n",
       "11     CNN1+MAPK1   ETS2+ctrl     6.910108  0.742593\n",
       "12   MAPK1+TGFBR2   ctrl+ETS2     7.440381  0.968662\n",
       "13   MAPK1+TGFBR2   ETS2+ctrl     7.440381  0.961755\n",
       "14     ctrl+CEBPA  ctrl+CEBPE    53.700356  0.913127\n",
       "15     ctrl+CEBPA  CEBPE+ctrl    53.700356  0.893753\n",
       "16     FOSB+CEBPB  ctrl+CEBPE    40.490284  0.921957\n",
       "17     FOSB+CEBPB  CEBPE+ctrl    40.490284  0.905453\n",
       "18     KLF1+CEBPA  ctrl+CEBPE    51.129608  0.916002\n",
       "19     KLF1+CEBPA  CEBPE+ctrl    51.129608  0.906525\n",
       "20      ctrl+BAK1   LHX1+ctrl    10.089656  0.359677\n",
       "21     CEBPA+ctrl  ctrl+CEBPE    64.802803  0.914496\n",
       "22     CEBPA+ctrl  CEBPE+ctrl    64.802803  0.896001\n",
       "23     ctrl+MAPK1   ctrl+ETS2     7.225889  0.979134\n",
       "24     ctrl+MAPK1   ETS2+ctrl     7.225889  0.973590\n",
       "25  ZC3HAV1+CEBPA  ctrl+CEBPE    42.153671  0.899761\n",
       "26  ZC3HAV1+CEBPA  CEBPE+ctrl    42.153671  0.882835"
      ]
     },
     "execution_count": 9,
     "metadata": {},
     "output_type": "execute_result"
    }
   ],
   "source": [
    "df_corr_fc"
   ]
  },
  {
   "cell_type": "code",
   "execution_count": 12,
   "id": "ea1e24da",
   "metadata": {},
   "outputs": [
    {
     "data": {
      "image/png": "[encoded data removed]",
      "text/plain": [
       "<Figure size 720x288 with 2 Axes>"
      ]
     },
     "metadata": {},
     "output_type": "display_data"
    }
   ],
   "source": [
    "c1 = mean_expression[np.where(pert_list == 'MAPK1+TGFBR2')] - ctrl[0]\n",
    "c2 = mean_expression[np.where(pert_list == 'ctrl+ETS2')] - ctrl[0]\n",
    "ax = sns.heatmap(np.vstack((c1.reshape(1,-1), c2.reshape(1,-1))))"
   ]
  },
  {
   "cell_type": "code",
   "execution_count": 25,
   "id": "e6306cd9",
   "metadata": {},
   "outputs": [
    {
     "data": {
      "text/plain": [
       "<AxesSubplot:>"
      ]
     },
     "execution_count": 25,
     "metadata": {},
     "output_type": "execute_result"
    },
    {
     "data": {
      "image/png": "[encoded data removed]",
      "text/plain": [
       "<Figure size 720x288 with 2 Axes>"
      ]
     },
     "metadata": {},
     "output_type": "display_data"
    }
   ],
   "source": [
    "c1_c2_idx = np.union1d(np.where(c1[0] > 0.1)[0], np.where(c2[0] > 0.1)[0])\n",
    "sns.heatmap(np.vstack((c1[0][c1_c2_idx], c2[0][c1_c2_idx])))"
   ]
  },
  {
   "cell_type": "code",
   "execution_count": 34,
   "id": "f5859a48",
   "metadata": {},
   "outputs": [
    {
     "data": {
      "text/plain": [
       "<AxesSubplot:>"
      ]
     },
     "execution_count": 34,
     "metadata": {},
     "output_type": "execute_result"
    },
    {
     "data": {
      "image/png": "[encoded data removed]",
      "text/plain": [
       "<Figure size 720x288 with 2 Axes>"
      ]
     },
     "metadata": {},
     "output_type": "display_data"
    }
   ],
   "source": [
    "sns.heatmap((c1[0][c1_c2_idx] - c2[0][c1_c2_idx]).reshape(1,-1))"
   ]
  },
  {
   "cell_type": "code",
   "execution_count": 38,
   "id": "10aded69",
   "metadata": {},
   "outputs": [
    {
     "data": {
      "text/plain": [
       "array([2470,  495, 3587, ..., 2084,  903, 4851])"
      ]
     },
     "execution_count": 38,
     "metadata": {},
     "output_type": "execute_result"
    }
   ],
   "source": [
    "np.argsort(c1[0] - c2[0])"
   ]
  },
  {
   "cell_type": "code",
   "execution_count": 39,
   "id": "23fd1ce1",
   "metadata": {},
   "outputs": [
    {
     "data": {
      "text/plain": [
       "'MAPK1'"
      ]
     },
     "execution_count": 39,
     "metadata": {},
     "output_type": "execute_result"
    }
   ],
   "source": [
    "gene_list[4851]"
   ]
  },
  {
   "cell_type": "code",
   "execution_count": 40,
   "id": "872c83eb",
   "metadata": {},
   "outputs": [
    {
     "data": {
      "text/plain": [
       "'TGFBR2'"
      ]
     },
     "execution_count": 40,
     "metadata": {},
     "output_type": "execute_result"
    }
   ],
   "source": [
    "gene_list[903]"
   ]
  },
  {
   "cell_type": "code",
   "execution_count": 41,
   "id": "8d0bb8c0",
   "metadata": {},
   "outputs": [
    {
     "data": {
      "text/plain": [
       "'TMSB4X'"
      ]
     },
     "execution_count": 41,
     "metadata": {},
     "output_type": "execute_result"
    }
   ],
   "source": [
    "gene_list[2084]"
   ]
  },
  {
   "cell_type": "code",
   "execution_count": 42,
   "id": "58466acd",
   "metadata": {},
   "outputs": [
    {
     "data": {
      "text/plain": [
       "(array([4994]),)"
      ]
     },
     "execution_count": 42,
     "metadata": {},
     "output_type": "execute_result"
    }
   ],
   "source": [
    "np.where(gene_list == 'ETS2')"
   ]
  },
  {
   "cell_type": "code",
   "execution_count": 43,
   "id": "a234f16f",
   "metadata": {},
   "outputs": [
    {
     "data": {
      "text/plain": [
       "0.4835991"
      ]
     },
     "execution_count": 43,
     "metadata": {},
     "output_type": "execute_result"
    }
   ],
   "source": [
    "c1[0, 4994]"
   ]
  },
  {
   "cell_type": "code",
   "execution_count": 44,
   "id": "7e2a60e3",
   "metadata": {},
   "outputs": [
    {
     "data": {
      "text/plain": [
       "0.4489983"
      ]
     },
     "execution_count": 44,
     "metadata": {},
     "output_type": "execute_result"
    }
   ],
   "source": [
    "c2[0, 4994]"
   ]
  },
  {
   "cell_type": "code",
   "execution_count": 45,
   "id": "e9123ed3",
   "metadata": {},
   "outputs": [
    {
     "data": {
      "text/plain": [
       "0.07508859"
      ]
     },
     "execution_count": 45,
     "metadata": {},
     "output_type": "execute_result"
    }
   ],
   "source": [
    "ctrl[0, 4994]"
   ]
  },
  {
   "cell_type": "code",
   "execution_count": null,
   "id": "34d8bb9f",
   "metadata": {},
   "outputs": [],
   "source": []
  },
  {
   "cell_type": "code",
   "execution_count": null,
   "id": "98b8b388",
   "metadata": {},
   "outputs": [],
   "source": []
  },
  {
   "cell_type": "code",
   "execution_count": 22,
   "id": "aeb723c6",
   "metadata": {},
   "outputs": [
    {
     "name": "stderr",
     "output_type": "stream",
     "text": [
      "/dfs/user/kexinh/miniconda3/envs/eee/lib/python3.8/site-packages/seaborn/distributions.py:2619: FutureWarning: `distplot` is a deprecated function and will be removed in a future version. Please adapt your code to use either `displot` (a figure-level function with similar flexibility) or `histplot` (an axes-level function for histograms).\n",
      "  warnings.warn(msg, FutureWarning)\n"
     ]
    },
    {
     "data": {
      "text/plain": [
       "<AxesSubplot:ylabel='Density'>"
      ]
     },
     "execution_count": 22,
     "metadata": {},
     "output_type": "execute_result"
    },
    {
     "data": {
      "image/png": "[encoded data removed]",
      "text/plain": [
       "<Figure size 720x288 with 1 Axes>"
      ]
     },
     "metadata": {},
     "output_type": "display_data"
    }
   ],
   "source": [
    "sns.distplot(c1[0])"
   ]
  },
  {
   "cell_type": "code",
   "execution_count": null,
   "id": "303af29e",
   "metadata": {},
   "outputs": [],
   "source": []
  },
  {
   "cell_type": "code",
   "execution_count": 50,
   "id": "74d160a1",
   "metadata": {},
   "outputs": [],
   "source": [
    "df = pd.DataFrame(adata.X.toarray())"
   ]
  },
  {
   "cell_type": "code",
   "execution_count": 53,
   "id": "0876aa45",
   "metadata": {},
   "outputs": [],
   "source": [
    "df_corr_all = df.corr('pearson')"
   ]
  },
  {
   "cell_type": "code",
   "execution_count": 56,
   "id": "75277fa8",
   "metadata": {},
   "outputs": [
    {
     "name": "stderr",
     "output_type": "stream",
     "text": [
      "/dfs/user/kexinh/miniconda3/envs/eee/lib/python3.8/site-packages/seaborn/distributions.py:2619: FutureWarning: `distplot` is a deprecated function and will be removed in a future version. Please adapt your code to use either `displot` (a figure-level function with similar flexibility) or `histplot` (an axes-level function for histograms).\n",
      "  warnings.warn(msg, FutureWarning)\n"
     ]
    },
    {
     "data": {
      "text/plain": [
       "<AxesSubplot:ylabel='Density'>"
      ]
     },
     "execution_count": 56,
     "metadata": {},
     "output_type": "execute_result"
    },
    {
     "data": {
      "image/png": "[encoded data removed]",
      "text/plain": [
       "<Figure size 720x288 with 1 Axes>"
      ]
     },
     "metadata": {},
     "output_type": "display_data"
    }
   ],
   "source": [
    "sns.distplot(df_corr_all.values.reshape(-1,))"
   ]
  },
  {
   "cell_type": "code",
   "execution_count": 59,
   "id": "e180e3b4",
   "metadata": {},
   "outputs": [],
   "source": [
    "int_id = np.intersect1d(np.where(df_corr_all > 0.2), np.where(df_corr_all < 1))"
   ]
  },
  {
   "cell_type": "code",
   "execution_count": 62,
   "id": "192c296d",
   "metadata": {},
   "outputs": [
    {
     "data": {
      "text/plain": [
       "16977"
      ]
     },
     "execution_count": 62,
     "metadata": {},
     "output_type": "execute_result"
    }
   ],
   "source": [
    "len(np.where(df_corr_all > 0.2)[0])"
   ]
  },
  {
   "cell_type": "code",
   "execution_count": null,
   "id": "696915cd",
   "metadata": {},
   "outputs": [],
   "source": [
    "### build an activation network....\n",
    "# Given query gene A, find all cells that have high fold-changes... \n",
    "# then, go through other genes, and also identify the ones that have high fold changes... \n",
    "## check if the pair has fold change linear relationship... \n",
    "## => we can also detect direction since if A -> B, then when query is A, we can detect it, but when query is B, we cannot\n",
    "## what should we do for the genes that are not activated???"
   ]
  },
  {
   "cell_type": "code",
   "execution_count": 70,
   "id": "13379de5",
   "metadata": {},
   "outputs": [
    {
     "data": {
      "text/plain": [
       "array([0.0000000e+00, 3.0636375e-03, 7.3340833e-03, ..., 3.7373223e+00,\n",
       "       8.7353901e-04, 0.0000000e+00], dtype=float32)"
      ]
     },
     "execution_count": 70,
     "metadata": {},
     "output_type": "execute_result"
    }
   ],
   "source": [
    "ctrl[0]"
   ]
  },
  {
   "cell_type": "code",
   "execution_count": 9,
   "id": "ce6807f2",
   "metadata": {},
   "outputs": [
    {
     "data": {
      "text/plain": [
       "80"
      ]
     },
     "execution_count": 9,
     "metadata": {},
     "output_type": "execute_result"
    }
   ],
   "source": [
    "import os\n",
    "os.cpu_count()"
   ]
  },
  {
   "cell_type": "code",
   "execution_count": 7,
   "id": "db8b21b1",
   "metadata": {},
   "outputs": [],
   "source": [
    "X = adata.X.toarray()"
   ]
  },
  {
   "cell_type": "code",
   "execution_count": null,
   "id": "62fd98fe",
   "metadata": {},
   "outputs": [],
   "source": []
  },
  {
   "cell_type": "code",
   "execution_count": 8,
   "id": "921318ea",
   "metadata": {},
   "outputs": [],
   "source": [
    "def get_act_inh(idx):\n",
    "\n",
    "    fold_change = X[:, idx] / ctrl[0, idx]\n",
    "    fold_change[np.isnan(fold_change)] = 0\n",
    "    fold_change[np.isinf(fold_change)] = 0\n",
    "\n",
    "    high_fc_cells = np.where(fold_change > 2)[0]\n",
    "\n",
    "    if len(high_fc_cells) > 0:\n",
    "        high_fc_cells_X = X[high_fc_cells, :]\n",
    "        high_fc_cells_fc = high_fc_cells_X/ctrl\n",
    "\n",
    "        high_fc_cells_fc_agg = np.quantile(high_fc_cells_fc, 0.25, axis = 0)\n",
    "        high_fc_cells_fc_agg[np.isnan(high_fc_cells_fc_agg)] = 0\n",
    "        high_fc_cells_fc_agg[np.isinf(high_fc_cells_fc_agg)] = 0\n",
    "        filter_list = np.where(high_fc_cells_fc_agg > 2)[0]\n",
    "\n",
    "        if len(filter_list)>0:\n",
    "            activation_network = (gene_list[idx], gene_list[filter_list].to_numpy(), high_fc_cells_fc_agg[filter_list])        \n",
    "        else:\n",
    "            activation_network = (gene_list[idx], [], [])\n",
    "            \n",
    "        high_fc_cells_fc_agg = np.quantile(high_fc_cells_fc, 0.75, axis = 0)\n",
    "        high_fc_cells_fc_agg[np.isnan(high_fc_cells_fc_agg)] = 0\n",
    "        high_fc_cells_fc_agg[np.isinf(high_fc_cells_fc_agg)] = 0\n",
    "\n",
    "        filter_list = np.intersect1d(np.where(high_fc_cells_fc_agg < 0.5)[0], np.where(high_fc_cells_fc_agg > 0)[0])\n",
    "\n",
    "        if len(filter_list)>0:\n",
    "            inhibition_network = (gene_list[idx], gene_list[filter_list].to_numpy(), high_fc_cells_fc_agg[filter_list])\n",
    "        else:\n",
    "            inhibition_network = (gene_list[idx], [], [])\n",
    "    else:\n",
    "        activation_network = (gene_list[idx], [], [])\n",
    "        inhibition_network = (gene_list[idx], [], [])\n",
    "        \n",
    "    return gene_list[idx], activation_network, inhibition_network"
   ]
  },
  {
   "cell_type": "code",
   "execution_count": 9,
   "id": "e4580a22",
   "metadata": {
    "scrolled": true
   },
   "outputs": [
    {
     "name": "stderr",
     "output_type": "stream",
     "text": [
      "0it [00:00, ?it/s]/tmp/ipykernel_52546/1069105381.py:3: RuntimeWarning: divide by zero encountered in true_divide\n",
      "  fold_change = X[:, idx] / ctrl[0, idx]\n",
      "/tmp/ipykernel_52546/1069105381.py:3: RuntimeWarning: divide by zero encountered in true_divide\n",
      "  fold_change = X[:, idx] / ctrl[0, idx]\n",
      "/tmp/ipykernel_52546/1069105381.py:3: RuntimeWarning: divide by zero encountered in true_divide\n",
      "  fold_change = X[:, idx] / ctrl[0, idx]\n",
      "/tmp/ipykernel_52546/1069105381.py:3: RuntimeWarning: invalid value encountered in true_divide\n",
      "  fold_change = X[:, idx] / ctrl[0, idx]\n",
      "/tmp/ipykernel_52546/1069105381.py:3: RuntimeWarning: divide by zero encountered in true_divide\n",
      "  fold_change = X[:, idx] / ctrl[0, idx]\n",
      "/tmp/ipykernel_52546/1069105381.py:3: RuntimeWarning: invalid value encountered in true_divide\n",
      "  fold_change = X[:, idx] / ctrl[0, idx]\n",
      "/tmp/ipykernel_52546/1069105381.py:3: RuntimeWarning: invalid value encountered in true_divide\n",
      "  fold_change = X[:, idx] / ctrl[0, idx]\n",
      "/tmp/ipykernel_52546/1069105381.py:3: RuntimeWarning: invalid value encountered in true_divide\n",
      "  fold_change = X[:, idx] / ctrl[0, idx]\n",
      "/tmp/ipykernel_52546/1069105381.py:11: RuntimeWarning: divide by zero encountered in true_divide\n",
      "  high_fc_cells_fc = high_fc_cells_X/ctrl\n",
      "/tmp/ipykernel_52546/1069105381.py:11: RuntimeWarning: invalid value encountered in true_divide\n",
      "  high_fc_cells_fc = high_fc_cells_X/ctrl\n",
      "/tmp/ipykernel_52546/1069105381.py:11: RuntimeWarning: divide by zero encountered in true_divide\n",
      "  high_fc_cells_fc = high_fc_cells_X/ctrl\n",
      "/tmp/ipykernel_52546/1069105381.py:11: RuntimeWarning: divide by zero encountered in true_divide\n",
      "  high_fc_cells_fc = high_fc_cells_X/ctrl\n",
      "/tmp/ipykernel_52546/1069105381.py:11: RuntimeWarning: divide by zero encountered in true_divide\n",
      "  high_fc_cells_fc = high_fc_cells_X/ctrl\n",
      "/tmp/ipykernel_52546/1069105381.py:11: RuntimeWarning: invalid value encountered in true_divide\n",
      "  high_fc_cells_fc = high_fc_cells_X/ctrl\n",
      "/tmp/ipykernel_52546/1069105381.py:11: RuntimeWarning: divide by zero encountered in true_divide\n",
      "  high_fc_cells_fc = high_fc_cells_X/ctrl\n",
      "/tmp/ipykernel_52546/1069105381.py:11: RuntimeWarning: invalid value encountered in true_divide\n",
      "  high_fc_cells_fc = high_fc_cells_X/ctrl\n",
      "/tmp/ipykernel_52546/1069105381.py:11: RuntimeWarning: divide by zero encountered in true_divide\n",
      "  high_fc_cells_fc = high_fc_cells_X/ctrl\n",
      "/tmp/ipykernel_52546/1069105381.py:11: RuntimeWarning: invalid value encountered in true_divide\n",
      "  high_fc_cells_fc = high_fc_cells_X/ctrl\n",
      "/tmp/ipykernel_52546/1069105381.py:11: RuntimeWarning: divide by zero encountered in true_divide\n",
      "  high_fc_cells_fc = high_fc_cells_X/ctrl\n",
      "/tmp/ipykernel_52546/1069105381.py:11: RuntimeWarning: invalid value encountered in true_divide\n",
      "  high_fc_cells_fc = high_fc_cells_X/ctrl\n",
      "/tmp/ipykernel_52546/1069105381.py:11: RuntimeWarning: invalid value encountered in true_divide\n",
      "  high_fc_cells_fc = high_fc_cells_X/ctrl\n",
      "/tmp/ipykernel_52546/1069105381.py:11: RuntimeWarning: invalid value encountered in true_divide\n",
      "  high_fc_cells_fc = high_fc_cells_X/ctrl\n",
      "/tmp/ipykernel_52546/1069105381.py:11: RuntimeWarning: divide by zero encountered in true_divide\n",
      "  high_fc_cells_fc = high_fc_cells_X/ctrl\n",
      "/tmp/ipykernel_52546/1069105381.py:11: RuntimeWarning: invalid value encountered in true_divide\n",
      "  high_fc_cells_fc = high_fc_cells_X/ctrl\n",
      "/tmp/ipykernel_52546/1069105381.py:3: RuntimeWarning: divide by zero encountered in true_divide\n",
      "  fold_change = X[:, idx] / ctrl[0, idx]\n",
      "/tmp/ipykernel_52546/1069105381.py:3: RuntimeWarning: invalid value encountered in true_divide\n",
      "  fold_change = X[:, idx] / ctrl[0, idx]\n",
      "27it [00:00, 74.39it/s] /tmp/ipykernel_52546/1069105381.py:3: RuntimeWarning: divide by zero encountered in true_divide\n",
      "  fold_change = X[:, idx] / ctrl[0, idx]\n",
      "/tmp/ipykernel_52546/1069105381.py:3: RuntimeWarning: invalid value encountered in true_divide\n",
      "  fold_change = X[:, idx] / ctrl[0, idx]\n",
      "/tmp/ipykernel_52546/1069105381.py:11: RuntimeWarning: divide by zero encountered in true_divide\n",
      "  high_fc_cells_fc = high_fc_cells_X/ctrl\n",
      "/tmp/ipykernel_52546/1069105381.py:11: RuntimeWarning: invalid value encountered in true_divide\n",
      "  high_fc_cells_fc = high_fc_cells_X/ctrl\n",
      "/tmp/ipykernel_52546/1069105381.py:11: RuntimeWarning: divide by zero encountered in true_divide\n",
      "  high_fc_cells_fc = high_fc_cells_X/ctrl\n",
      "/tmp/ipykernel_52546/1069105381.py:11: RuntimeWarning: invalid value encountered in true_divide\n",
      "  high_fc_cells_fc = high_fc_cells_X/ctrl\n",
      "45it [00:00, 88.39it/s]/tmp/ipykernel_52546/1069105381.py:3: RuntimeWarning: divide by zero encountered in true_divide\n",
      "  fold_change = X[:, idx] / ctrl[0, idx]\n",
      "/tmp/ipykernel_52546/1069105381.py:3: RuntimeWarning: invalid value encountered in true_divide\n",
      "  fold_change = X[:, idx] / ctrl[0, idx]\n",
      "87it [00:04, 13.08it/s]/tmp/ipykernel_52546/1069105381.py:3: RuntimeWarning: divide by zero encountered in true_divide\n",
      "  fold_change = X[:, idx] / ctrl[0, idx]\n",
      "/tmp/ipykernel_52546/1069105381.py:3: RuntimeWarning: invalid value encountered in true_divide\n",
      "  fold_change = X[:, idx] / ctrl[0, idx]\n",
      "91it [00:04, 14.55it/s]/tmp/ipykernel_52546/1069105381.py:3: RuntimeWarning: divide by zero encountered in true_divide\n",
      "  fold_change = X[:, idx] / ctrl[0, idx]\n",
      "/tmp/ipykernel_52546/1069105381.py:3: RuntimeWarning: invalid value encountered in true_divide\n",
      "  fold_change = X[:, idx] / ctrl[0, idx]\n",
      "156it [00:08, 18.42it/s]/dfs/user/kexinh/miniconda3/envs/eee/lib/python3.8/site-packages/numpy/lib/function_base.py:3961: RuntimeWarning: invalid value encountered in subtract\n",
      "  diff_b_a = subtract(b, a)\n",
      "174it [00:08, 30.72it/s]/tmp/ipykernel_52546/1069105381.py:3: RuntimeWarning: divide by zero encountered in true_divide\n",
      "  fold_change = X[:, idx] / ctrl[0, idx]\n",
      "178it [00:08, 28.44it/s]/tmp/ipykernel_52546/1069105381.py:3: RuntimeWarning: invalid value encountered in true_divide\n",
      "  fold_change = X[:, idx] / ctrl[0, idx]\n",
      "921it [00:45, 27.95it/s]/dfs/user/kexinh/miniconda3/envs/eee/lib/python3.8/site-packages/numpy/lib/function_base.py:3961: RuntimeWarning: invalid value encountered in subtract\n",
      "  diff_b_a = subtract(b, a)\n",
      "927it [00:45, 27.22it/s]/dfs/user/kexinh/miniconda3/envs/eee/lib/python3.8/site-packages/numpy/lib/function_base.py:3961: RuntimeWarning: invalid value encountered in subtract\n",
      "  diff_b_a = subtract(b, a)\n",
      "1667it [01:19, 10.33it/s]/dfs/user/kexinh/miniconda3/envs/eee/lib/python3.8/site-packages/numpy/lib/function_base.py:3961: RuntimeWarning: invalid value encountered in subtract\n",
      "  diff_b_a = subtract(b, a)\n",
      "2073it [01:37, 25.26it/s]/dfs/user/kexinh/miniconda3/envs/eee/lib/python3.8/site-packages/numpy/lib/function_base.py:3961: RuntimeWarning: invalid value encountered in subtract\n",
      "  diff_b_a = subtract(b, a)\n",
      "5045it [04:10, 20.12it/s]\n"
     ]
    }
   ],
   "source": [
    "act_all = {}\n",
    "inh_all = {}\n",
    "\n",
    "import multiprocessing\n",
    "p = multiprocessing.Pool(10)\n",
    "for g, act_n, inh_n in tqdm(p.imap_unordered(get_act_inh, list(range(len(gene_list))))):\n",
    "    act_all[g] = act_n\n",
    "    inh_all[g] = inh_n"
   ]
  },
  {
   "cell_type": "code",
   "execution_count": 10,
   "id": "336cd3c6",
   "metadata": {},
   "outputs": [],
   "source": [
    "df_act = pd.DataFrame((np.concatenate([np.array([i[0]] * len(i[1])) for i in act_all.values()]),\n",
    "np.concatenate([np.array(i[1]) for i in act_all.values()]),\n",
    "np.concatenate([np.array(i[2]) for i in act_all.values()]))).T.rename(columns = {0: 'source',\n",
    "                                                                                1: 'target',\n",
    "                                                                                2: 'score'})"
   ]
  },
  {
   "cell_type": "code",
   "execution_count": 11,
   "id": "d7628f10",
   "metadata": {},
   "outputs": [],
   "source": [
    "df_inh = pd.DataFrame((np.concatenate([np.array([i[0]] * len(i[1])) for i in inh_all.values()]),\n",
    "np.concatenate([np.array(i[1]) for i in inh_all.values()]),\n",
    "np.concatenate([np.array(i[2]) for i in inh_all.values()]))).T.rename(columns = {0: 'source',\n",
    "                                                                                1: 'target',\n",
    "                                                                                2: 'score'})"
   ]
  },
  {
   "cell_type": "code",
   "execution_count": 12,
   "id": "648e3e03",
   "metadata": {},
   "outputs": [
    {
     "data": {
      "text/html": [
       "<div>\n",
       "<style scoped>\n",
       "    .dataframe tbody tr th:only-of-type {\n",
       "        vertical-align: middle;\n",
       "    }\n",
       "\n",
       "    .dataframe tbody tr th {\n",
       "        vertical-align: top;\n",
       "    }\n",
       "\n",
       "    .dataframe thead th {\n",
       "        text-align: right;\n",
       "    }\n",
       "</style>\n",
       "<table border=\"1\" class=\"dataframe\">\n",
       "  <thead>\n",
       "    <tr style=\"text-align: right;\">\n",
       "      <th></th>\n",
       "      <th>source</th>\n",
       "      <th>target</th>\n",
       "      <th>score</th>\n",
       "    </tr>\n",
       "  </thead>\n",
       "  <tbody>\n",
       "    <tr>\n",
       "      <th>0</th>\n",
       "      <td>TNFRSF18</td>\n",
       "      <td>MYC</td>\n",
       "      <td>0.40838</td>\n",
       "    </tr>\n",
       "    <tr>\n",
       "      <th>1</th>\n",
       "      <td>CALML6</td>\n",
       "      <td>SLC20A1</td>\n",
       "      <td>0.498418</td>\n",
       "    </tr>\n",
       "    <tr>\n",
       "      <th>2</th>\n",
       "      <td>CALML6</td>\n",
       "      <td>MAP1A</td>\n",
       "      <td>0.476338</td>\n",
       "    </tr>\n",
       "    <tr>\n",
       "      <th>3</th>\n",
       "      <td>RP1-286D6.5</td>\n",
       "      <td>MT1E</td>\n",
       "      <td>0.434414</td>\n",
       "    </tr>\n",
       "    <tr>\n",
       "      <th>4</th>\n",
       "      <td>RP3-395M20.12</td>\n",
       "      <td>CPEB4</td>\n",
       "      <td>0.48216</td>\n",
       "    </tr>\n",
       "    <tr>\n",
       "      <th>...</th>\n",
       "      <td>...</td>\n",
       "      <td>...</td>\n",
       "      <td>...</td>\n",
       "    </tr>\n",
       "    <tr>\n",
       "      <th>5801</th>\n",
       "      <td>AJ011932.1</td>\n",
       "      <td>FURIN</td>\n",
       "      <td>0.235217</td>\n",
       "    </tr>\n",
       "    <tr>\n",
       "      <th>5802</th>\n",
       "      <td>AJ011932.1</td>\n",
       "      <td>TCF4</td>\n",
       "      <td>0.390429</td>\n",
       "    </tr>\n",
       "    <tr>\n",
       "      <th>5803</th>\n",
       "      <td>AJ011932.1</td>\n",
       "      <td>DNAJB1</td>\n",
       "      <td>0.354896</td>\n",
       "    </tr>\n",
       "    <tr>\n",
       "      <th>5804</th>\n",
       "      <td>AJ011932.1</td>\n",
       "      <td>FCGRT</td>\n",
       "      <td>0.298984</td>\n",
       "    </tr>\n",
       "    <tr>\n",
       "      <th>5805</th>\n",
       "      <td>MT-ND6</td>\n",
       "      <td>BEX2</td>\n",
       "      <td>0.483222</td>\n",
       "    </tr>\n",
       "  </tbody>\n",
       "</table>\n",
       "<p>5806 rows × 3 columns</p>\n",
       "</div>"
      ],
      "text/plain": [
       "             source   target     score\n",
       "0          TNFRSF18      MYC   0.40838\n",
       "1            CALML6  SLC20A1  0.498418\n",
       "2            CALML6    MAP1A  0.476338\n",
       "3       RP1-286D6.5     MT1E  0.434414\n",
       "4     RP3-395M20.12    CPEB4   0.48216\n",
       "...             ...      ...       ...\n",
       "5801     AJ011932.1    FURIN  0.235217\n",
       "5802     AJ011932.1     TCF4  0.390429\n",
       "5803     AJ011932.1   DNAJB1  0.354896\n",
       "5804     AJ011932.1    FCGRT  0.298984\n",
       "5805         MT-ND6     BEX2  0.483222\n",
       "\n",
       "[5806 rows x 3 columns]"
      ]
     },
     "execution_count": 12,
     "metadata": {},
     "output_type": "execute_result"
    }
   ],
   "source": [
    "df_inh"
   ]
  },
  {
   "cell_type": "code",
   "execution_count": 13,
   "id": "76a61b79",
   "metadata": {},
   "outputs": [],
   "source": [
    "df_act = df_act[df_act.source != df_act.target].reset_index(drop = True)"
   ]
  },
  {
   "cell_type": "code",
   "execution_count": 52,
   "id": "1a5d93f4",
   "metadata": {},
   "outputs": [
    {
     "data": {
      "text/plain": [
       "386"
      ]
     },
     "execution_count": 52,
     "metadata": {},
     "output_type": "execute_result"
    }
   ],
   "source": [
    "len(df_act.source.unique())"
   ]
  },
  {
   "cell_type": "code",
   "execution_count": 53,
   "id": "d8e1deda",
   "metadata": {},
   "outputs": [
    {
     "data": {
      "text/plain": [
       "864"
      ]
     },
     "execution_count": 53,
     "metadata": {},
     "output_type": "execute_result"
    }
   ],
   "source": [
    "len(df_inh.source.unique())"
   ]
  },
  {
   "cell_type": "code",
   "execution_count": 54,
   "id": "72a96518",
   "metadata": {},
   "outputs": [
    {
     "data": {
      "text/html": [
       "<div>\n",
       "<style scoped>\n",
       "    .dataframe tbody tr th:only-of-type {\n",
       "        vertical-align: middle;\n",
       "    }\n",
       "\n",
       "    .dataframe tbody tr th {\n",
       "        vertical-align: top;\n",
       "    }\n",
       "\n",
       "    .dataframe thead th {\n",
       "        text-align: right;\n",
       "    }\n",
       "</style>\n",
       "<table border=\"1\" class=\"dataframe\">\n",
       "  <thead>\n",
       "    <tr style=\"text-align: right;\">\n",
       "      <th></th>\n",
       "      <th>source</th>\n",
       "      <th>target</th>\n",
       "      <th>score</th>\n",
       "    </tr>\n",
       "  </thead>\n",
       "  <tbody>\n",
       "    <tr>\n",
       "      <th>0</th>\n",
       "      <td>ESPN</td>\n",
       "      <td>ALAS2</td>\n",
       "      <td>2.445195</td>\n",
       "    </tr>\n",
       "    <tr>\n",
       "      <th>1</th>\n",
       "      <td>PIK3CD-AS1</td>\n",
       "      <td>CSF3R</td>\n",
       "      <td>2.384032</td>\n",
       "    </tr>\n",
       "    <tr>\n",
       "      <th>2</th>\n",
       "      <td>PIK3CD-AS1</td>\n",
       "      <td>LST1</td>\n",
       "      <td>5.161261</td>\n",
       "    </tr>\n",
       "    <tr>\n",
       "      <th>3</th>\n",
       "      <td>PIK3CD-AS1</td>\n",
       "      <td>TRIM56</td>\n",
       "      <td>2.449377</td>\n",
       "    </tr>\n",
       "    <tr>\n",
       "      <th>4</th>\n",
       "      <td>PIK3CD-AS1</td>\n",
       "      <td>SAT1</td>\n",
       "      <td>3.557245</td>\n",
       "    </tr>\n",
       "    <tr>\n",
       "      <th>...</th>\n",
       "      <td>...</td>\n",
       "      <td>...</td>\n",
       "      <td>...</td>\n",
       "    </tr>\n",
       "    <tr>\n",
       "      <th>10887</th>\n",
       "      <td>COL18A1-AS1</td>\n",
       "      <td>MYH9</td>\n",
       "      <td>3.265914</td>\n",
       "    </tr>\n",
       "    <tr>\n",
       "      <th>10888</th>\n",
       "      <td>COL18A1-AS1</td>\n",
       "      <td>FAM118A</td>\n",
       "      <td>2.716307</td>\n",
       "    </tr>\n",
       "    <tr>\n",
       "      <th>10889</th>\n",
       "      <td>AJ011932.1</td>\n",
       "      <td>MKNK2</td>\n",
       "      <td>2.005467</td>\n",
       "    </tr>\n",
       "    <tr>\n",
       "      <th>10890</th>\n",
       "      <td>MT-ND5</td>\n",
       "      <td>MTRNR2L8</td>\n",
       "      <td>3.356656</td>\n",
       "    </tr>\n",
       "    <tr>\n",
       "      <th>10891</th>\n",
       "      <td>MT-ND5</td>\n",
       "      <td>MT-ND4L</td>\n",
       "      <td>2.317785</td>\n",
       "    </tr>\n",
       "  </tbody>\n",
       "</table>\n",
       "<p>10892 rows × 3 columns</p>\n",
       "</div>"
      ],
      "text/plain": [
       "            source    target     score\n",
       "0             ESPN     ALAS2  2.445195\n",
       "1       PIK3CD-AS1     CSF3R  2.384032\n",
       "2       PIK3CD-AS1      LST1  5.161261\n",
       "3       PIK3CD-AS1    TRIM56  2.449377\n",
       "4       PIK3CD-AS1      SAT1  3.557245\n",
       "...            ...       ...       ...\n",
       "10887  COL18A1-AS1      MYH9  3.265914\n",
       "10888  COL18A1-AS1   FAM118A  2.716307\n",
       "10889   AJ011932.1     MKNK2  2.005467\n",
       "10890       MT-ND5  MTRNR2L8  3.356656\n",
       "10891       MT-ND5   MT-ND4L  2.317785\n",
       "\n",
       "[10892 rows x 3 columns]"
      ]
     },
     "execution_count": 54,
     "metadata": {},
     "output_type": "execute_result"
    }
   ],
   "source": [
    "df_act"
   ]
  },
  {
   "cell_type": "code",
   "execution_count": 56,
   "id": "9bb05869",
   "metadata": {},
   "outputs": [
    {
     "data": {
      "text/plain": [
       "2060"
      ]
     },
     "execution_count": 56,
     "metadata": {},
     "output_type": "execute_result"
    }
   ],
   "source": [
    "len(np.unique(df_act[['source', 'target']].values.reshape(-1,)))"
   ]
  },
  {
   "cell_type": "code",
   "execution_count": 57,
   "id": "3d4b127c",
   "metadata": {},
   "outputs": [
    {
     "data": {
      "text/plain": [
       "1420"
      ]
     },
     "execution_count": 57,
     "metadata": {},
     "output_type": "execute_result"
    }
   ],
   "source": [
    "len(np.unique(df_inh[['source', 'target']].values.reshape(-1,)))"
   ]
  },
  {
   "cell_type": "code",
   "execution_count": null,
   "id": "fc293b7b",
   "metadata": {},
   "outputs": [],
   "source": [
    "### can we check if the inferred data has high similarity against perturbational data?"
   ]
  },
  {
   "cell_type": "code",
   "execution_count": null,
   "id": "051b596e",
   "metadata": {},
   "outputs": [],
   "source": [
    "### use it as underlying graph?\n",
    "### use it as data augmentation?\n",
    "\n",
    "\n",
    "### how to create synthetic perturbations? \n",
    "## 1.find the source gene, \n",
    "## 2.collect the cells that are activated, \n",
    "## 3.find the upstream genes, \n",
    "## 4.make them zeros,\n",
    "## 5.average the cells"
   ]
  },
  {
   "cell_type": "code",
   "execution_count": 23,
   "id": "c9638df5",
   "metadata": {},
   "outputs": [
    {
     "name": "stdout",
     "output_type": "stream",
     "text": [
      "There are 101013 edges in the PPI.\n",
      "Creating pyg object for each cell in the data...\n",
      "Local copy of pyg dataset is detected. Loading...\n",
      "Loading splits...\n",
      "Local copy of split is detected. Loading...\n",
      "Simulation split test composition:\n",
      "combo_seen0:9\n",
      "combo_seen1:52\n",
      "combo_seen2:18\n",
      "unseen_single:37\n",
      "Creating dataloaders....\n",
      "Dataloaders created...\n"
     ]
    }
   ],
   "source": [
    "from data import PertDataloader, Network\n",
    "\n",
    "model_name = 'GNN_Disentangle_GAT_string_20.0_64_2_l3_Norman2019_gamma2_gene_emb_pert_emb_constant_lambda_emission'\n",
    "args = np.load('./saved_args/'+model_name+'.npy', allow_pickle = True).item()\n",
    "args['test_perts'] = 'N/A'\n",
    "if args['network_name'] == 'string':\n",
    "    args['network_path'] = '/dfs/project/perturb-gnn/graphs/STRING_full_9606.csv'\n",
    "\n",
    "if 'gene_symbols' not in adata.var.columns.values:\n",
    "    adata.var['gene_symbols'] = adata.var['gene_name']\n",
    "gene_list = [f for f in adata.var.gene_symbols.values]\n",
    "# Set up message passing network\n",
    "network = Network(fname=args['network_path'], gene_list=args['gene_list'],\n",
    "                  percentile=args['top_edge_percent'])\n",
    "\n",
    "# Pertrubation dataloader\n",
    "pertdl = PertDataloader(adata, network.G, network.weights, args)"
   ]
  },
  {
   "cell_type": "code",
   "execution_count": 24,
   "id": "cbbda119",
   "metadata": {},
   "outputs": [],
   "source": [
    "train_perts = pertdl.set2conditions['train']"
   ]
  },
  {
   "cell_type": "code",
   "execution_count": 25,
   "id": "f5a98d5b",
   "metadata": {},
   "outputs": [
    {
     "data": {
      "text/plain": [
       "138"
      ]
     },
     "execution_count": 25,
     "metadata": {},
     "output_type": "execute_result"
    }
   ],
   "source": [
    "len(train_perts)"
   ]
  },
  {
   "cell_type": "code",
   "execution_count": 26,
   "id": "099b7722",
   "metadata": {},
   "outputs": [
    {
     "data": {
      "text/plain": [
       "102"
      ]
     },
     "execution_count": 26,
     "metadata": {},
     "output_type": "execute_result"
    }
   ],
   "source": [
    "len([i for i in train_perts if 'ctrl' in i])"
   ]
  },
  {
   "cell_type": "code",
   "execution_count": 27,
   "id": "171912d3",
   "metadata": {},
   "outputs": [],
   "source": [
    "X_tr = X[np.isin(adata.obs.condition, [i for i in train_perts if 'ctrl' in i])]"
   ]
  },
  {
   "cell_type": "code",
   "execution_count": 28,
   "id": "c026d88a",
   "metadata": {},
   "outputs": [],
   "source": [
    "gene_list = adata.var['gene_name'].values"
   ]
  },
  {
   "cell_type": "code",
   "execution_count": 253,
   "id": "d42e01cd",
   "metadata": {},
   "outputs": [
    {
     "data": {
      "text/plain": [
       "0.04442337"
      ]
     },
     "execution_count": 253,
     "metadata": {},
     "output_type": "execute_result"
    }
   ],
   "source": [
    "ctrl[0, idx]"
   ]
  },
  {
   "cell_type": "code",
   "execution_count": 255,
   "id": "658de4ba",
   "metadata": {},
   "outputs": [],
   "source": [
    "def get_act_inh(idx):\n",
    "\n",
    "    fold_change = (X_tr[:, idx]) / (ctrl[0, idx])\n",
    "    fold_change[np.isnan(fold_change)] = 0\n",
    "    fold_change[np.isinf(fold_change)] = 0\n",
    "\n",
    "    #fold_change[0][np.where(X_tr[:, idx] < 0.5)[0]] = 0\n",
    "\n",
    "    high_fc_cells = np.where(fold_change > 2)[0]\n",
    "\n",
    "    if len(high_fc_cells) > 0:\n",
    "        high_fc_cells_X = X_tr[high_fc_cells, :]\n",
    "        high_fc_cells_fc = (high_fc_cells_X)/(ctrl)\n",
    "\n",
    "        high_fc_cells_fc_agg = np.quantile(high_fc_cells_fc, 0.25, axis = 0)\n",
    "        \n",
    "        high_fc_cells_fc_agg[np.isnan(high_fc_cells_fc_agg)] = 0\n",
    "        high_fc_cells_fc_agg[np.isinf(high_fc_cells_fc_agg)] = 0\n",
    "        filter_list = np.where(high_fc_cells_fc_agg > 2)[0]\n",
    "\n",
    "        if len(filter_list)>0:\n",
    "            activation_network = (gene_list[idx], gene_list[filter_list].to_numpy(), high_fc_cells_fc_agg[filter_list])        \n",
    "        else:\n",
    "            activation_network = (gene_list[idx], [], [])\n",
    "            \n",
    "        high_fc_cells_fc_agg = np.quantile(high_fc_cells_fc, 0.75, axis = 0)\n",
    "        high_fc_cells_fc_agg[np.isnan(high_fc_cells_fc_agg)] = 0\n",
    "        high_fc_cells_fc_agg[np.isinf(high_fc_cells_fc_agg)] = 0\n",
    "\n",
    "        filter_list = np.intersect1d(np.where(high_fc_cells_fc_agg < 0.5)[0], np.where(high_fc_cells_fc_agg > 0)[0])\n",
    "\n",
    "        if len(filter_list)>0:\n",
    "            inhibition_network = (gene_list[idx], gene_list[filter_list].to_numpy(), high_fc_cells_fc_agg[filter_list])\n",
    "        else:\n",
    "            inhibition_network = (gene_list[idx], [], [])\n",
    "    else:\n",
    "        activation_network = (gene_list[idx], [], [])\n",
    "        inhibition_network = (gene_list[idx], [], [])\n",
    "        \n",
    "    return gene_list[idx], activation_network, inhibition_network"
   ]
  },
  {
   "cell_type": "code",
   "execution_count": 14,
   "id": "14341969",
   "metadata": {
    "scrolled": true
   },
   "outputs": [
    {
     "name": "stderr",
     "output_type": "stream",
     "text": [
      "0it [00:00, ?it/s]/tmp/ipykernel_52546/1069105381.py:3: RuntimeWarning: divide by zero encountered in true_divide\n",
      "  fold_change = X[:, idx] / ctrl[0, idx]\n",
      "/tmp/ipykernel_52546/1069105381.py:3: RuntimeWarning: invalid value encountered in true_divide\n",
      "  fold_change = X[:, idx] / ctrl[0, idx]\n",
      "/tmp/ipykernel_52546/1069105381.py:3: RuntimeWarning: divide by zero encountered in true_divide\n",
      "  fold_change = X[:, idx] / ctrl[0, idx]\n",
      "/tmp/ipykernel_52546/1069105381.py:3: RuntimeWarning: invalid value encountered in true_divide\n",
      "  fold_change = X[:, idx] / ctrl[0, idx]\n",
      "/tmp/ipykernel_52546/1069105381.py:11: RuntimeWarning: divide by zero encountered in true_divide\n",
      "  high_fc_cells_fc = high_fc_cells_X/ctrl\n",
      "/tmp/ipykernel_52546/1069105381.py:11: RuntimeWarning: invalid value encountered in true_divide\n",
      "  high_fc_cells_fc = high_fc_cells_X/ctrl\n",
      "2it [00:00, 19.52it/s]/tmp/ipykernel_52546/1069105381.py:11: RuntimeWarning: divide by zero encountered in true_divide\n",
      "  high_fc_cells_fc = high_fc_cells_X/ctrl\n",
      "/tmp/ipykernel_52546/1069105381.py:11: RuntimeWarning: invalid value encountered in true_divide\n",
      "  high_fc_cells_fc = high_fc_cells_X/ctrl\n",
      "/tmp/ipykernel_52546/1069105381.py:3: RuntimeWarning: divide by zero encountered in true_divide\n",
      "  fold_change = X[:, idx] / ctrl[0, idx]\n",
      "/tmp/ipykernel_52546/1069105381.py:3: RuntimeWarning: invalid value encountered in true_divide\n",
      "  fold_change = X[:, idx] / ctrl[0, idx]\n",
      "12it [00:00, 33.03it/s]/tmp/ipykernel_52546/1069105381.py:3: RuntimeWarning: divide by zero encountered in true_divide\n",
      "  fold_change = X[:, idx] / ctrl[0, idx]\n",
      "/tmp/ipykernel_52546/1069105381.py:3: RuntimeWarning: invalid value encountered in true_divide\n",
      "  fold_change = X[:, idx] / ctrl[0, idx]\n",
      "/tmp/ipykernel_52546/1069105381.py:11: RuntimeWarning: divide by zero encountered in true_divide\n",
      "  high_fc_cells_fc = high_fc_cells_X/ctrl\n",
      "/tmp/ipykernel_52546/1069105381.py:11: RuntimeWarning: invalid value encountered in true_divide\n",
      "  high_fc_cells_fc = high_fc_cells_X/ctrl\n",
      "/tmp/ipykernel_52546/1069105381.py:11: RuntimeWarning: divide by zero encountered in true_divide\n",
      "  high_fc_cells_fc = high_fc_cells_X/ctrl\n",
      "/tmp/ipykernel_52546/1069105381.py:11: RuntimeWarning: invalid value encountered in true_divide\n",
      "  high_fc_cells_fc = high_fc_cells_X/ctrl\n",
      "163it [00:24,  3.44it/s]/dfs/user/kexinh/miniconda3/envs/eee/lib/python3.8/site-packages/numpy/lib/function_base.py:3961: RuntimeWarning: invalid value encountered in subtract\n",
      "  diff_b_a = subtract(b, a)\n",
      "1483it [02:50,  8.57it/s]/dfs/user/kexinh/miniconda3/envs/eee/lib/python3.8/site-packages/numpy/lib/function_base.py:3961: RuntimeWarning: invalid value encountered in subtract\n",
      "  diff_b_a = subtract(b, a)\n",
      "3314it [06:09, 16.18it/s]/dfs/user/kexinh/miniconda3/envs/eee/lib/python3.8/site-packages/numpy/lib/function_base.py:3961: RuntimeWarning: invalid value encountered in subtract\n",
      "  diff_b_a = subtract(b, a)\n",
      "5045it [09:11,  9.15it/s]\n"
     ]
    }
   ],
   "source": [
    "act_all = {}\n",
    "inh_all = {}\n",
    "\n",
    "import multiprocessing\n",
    "p = multiprocessing.Pool(4)\n",
    "for g, act_n, inh_n in tqdm(p.imap_unordered(get_act_inh, list(range(len(gene_list))))):\n",
    "    act_all[g] = act_n\n",
    "    inh_all[g] = inh_n\n",
    "    \n",
    "    \n",
    "df_act = pd.DataFrame((np.concatenate([np.array([i[0]] * len(i[1])) for i in act_all.values()]),\n",
    "np.concatenate([np.array(i[1]) for i in act_all.values()]),\n",
    "np.concatenate([np.array(i[2]) for i in act_all.values()]))).T.rename(columns = {0: 'source',\n",
    "                                                                                1: 'target',\n",
    "                                                                                2: 'score'})\n",
    "\n",
    "df_inh = pd.DataFrame((np.concatenate([np.array([i[0]] * len(i[1])) for i in inh_all.values()]),\n",
    "np.concatenate([np.array(i[1]) for i in inh_all.values()]),\n",
    "np.concatenate([np.array(i[2]) for i in inh_all.values()]))).T.rename(columns = {0: 'source',\n",
    "                                                                                1: 'target',\n",
    "                                                                                2: 'score'})"
   ]
  },
  {
   "cell_type": "code",
   "execution_count": 15,
   "id": "f8f5c10f",
   "metadata": {},
   "outputs": [],
   "source": [
    "df_act = df_act[df_act.source != df_act.target].reset_index(drop = True)\n",
    "df_inh = df_inh[df_inh.source != df_inh.target].reset_index(drop = True)"
   ]
  },
  {
   "cell_type": "code",
   "execution_count": 16,
   "id": "56243e87",
   "metadata": {},
   "outputs": [
    {
     "data": {
      "text/html": [
       "<div>\n",
       "<style scoped>\n",
       "    .dataframe tbody tr th:only-of-type {\n",
       "        vertical-align: middle;\n",
       "    }\n",
       "\n",
       "    .dataframe tbody tr th {\n",
       "        vertical-align: top;\n",
       "    }\n",
       "\n",
       "    .dataframe thead th {\n",
       "        text-align: right;\n",
       "    }\n",
       "</style>\n",
       "<table border=\"1\" class=\"dataframe\">\n",
       "  <thead>\n",
       "    <tr style=\"text-align: right;\">\n",
       "      <th></th>\n",
       "      <th>source</th>\n",
       "      <th>target</th>\n",
       "      <th>score</th>\n",
       "    </tr>\n",
       "  </thead>\n",
       "  <tbody>\n",
       "    <tr>\n",
       "      <th>0</th>\n",
       "      <td>ESPN</td>\n",
       "      <td>ALAS2</td>\n",
       "      <td>2.445195</td>\n",
       "    </tr>\n",
       "    <tr>\n",
       "      <th>1</th>\n",
       "      <td>PIK3CD-AS1</td>\n",
       "      <td>CSF3R</td>\n",
       "      <td>2.384032</td>\n",
       "    </tr>\n",
       "    <tr>\n",
       "      <th>2</th>\n",
       "      <td>PIK3CD-AS1</td>\n",
       "      <td>LST1</td>\n",
       "      <td>5.161261</td>\n",
       "    </tr>\n",
       "    <tr>\n",
       "      <th>3</th>\n",
       "      <td>PIK3CD-AS1</td>\n",
       "      <td>TRIM56</td>\n",
       "      <td>2.449377</td>\n",
       "    </tr>\n",
       "    <tr>\n",
       "      <th>4</th>\n",
       "      <td>PIK3CD-AS1</td>\n",
       "      <td>SAT1</td>\n",
       "      <td>3.557245</td>\n",
       "    </tr>\n",
       "    <tr>\n",
       "      <th>...</th>\n",
       "      <td>...</td>\n",
       "      <td>...</td>\n",
       "      <td>...</td>\n",
       "    </tr>\n",
       "    <tr>\n",
       "      <th>10887</th>\n",
       "      <td>COL18A1-AS1</td>\n",
       "      <td>MYH9</td>\n",
       "      <td>3.265914</td>\n",
       "    </tr>\n",
       "    <tr>\n",
       "      <th>10888</th>\n",
       "      <td>COL18A1-AS1</td>\n",
       "      <td>FAM118A</td>\n",
       "      <td>2.716307</td>\n",
       "    </tr>\n",
       "    <tr>\n",
       "      <th>10889</th>\n",
       "      <td>AJ011932.1</td>\n",
       "      <td>MKNK2</td>\n",
       "      <td>2.005467</td>\n",
       "    </tr>\n",
       "    <tr>\n",
       "      <th>10890</th>\n",
       "      <td>MT-ND5</td>\n",
       "      <td>MTRNR2L8</td>\n",
       "      <td>3.356656</td>\n",
       "    </tr>\n",
       "    <tr>\n",
       "      <th>10891</th>\n",
       "      <td>MT-ND5</td>\n",
       "      <td>MT-ND4L</td>\n",
       "      <td>2.317785</td>\n",
       "    </tr>\n",
       "  </tbody>\n",
       "</table>\n",
       "<p>10892 rows × 3 columns</p>\n",
       "</div>"
      ],
      "text/plain": [
       "            source    target     score\n",
       "0             ESPN     ALAS2  2.445195\n",
       "1       PIK3CD-AS1     CSF3R  2.384032\n",
       "2       PIK3CD-AS1      LST1  5.161261\n",
       "3       PIK3CD-AS1    TRIM56  2.449377\n",
       "4       PIK3CD-AS1      SAT1  3.557245\n",
       "...            ...       ...       ...\n",
       "10887  COL18A1-AS1      MYH9  3.265914\n",
       "10888  COL18A1-AS1   FAM118A  2.716307\n",
       "10889   AJ011932.1     MKNK2  2.005467\n",
       "10890       MT-ND5  MTRNR2L8  3.356656\n",
       "10891       MT-ND5   MT-ND4L  2.317785\n",
       "\n",
       "[10892 rows x 3 columns]"
      ]
     },
     "execution_count": 16,
     "metadata": {},
     "output_type": "execute_result"
    }
   ],
   "source": [
    "df_act"
   ]
  },
  {
   "cell_type": "code",
   "execution_count": 17,
   "id": "63cf6fdb",
   "metadata": {},
   "outputs": [
    {
     "data": {
      "text/html": [
       "<div>\n",
       "<style scoped>\n",
       "    .dataframe tbody tr th:only-of-type {\n",
       "        vertical-align: middle;\n",
       "    }\n",
       "\n",
       "    .dataframe tbody tr th {\n",
       "        vertical-align: top;\n",
       "    }\n",
       "\n",
       "    .dataframe thead th {\n",
       "        text-align: right;\n",
       "    }\n",
       "</style>\n",
       "<table border=\"1\" class=\"dataframe\">\n",
       "  <thead>\n",
       "    <tr style=\"text-align: right;\">\n",
       "      <th></th>\n",
       "      <th>source</th>\n",
       "      <th>target</th>\n",
       "      <th>score</th>\n",
       "    </tr>\n",
       "  </thead>\n",
       "  <tbody>\n",
       "    <tr>\n",
       "      <th>0</th>\n",
       "      <td>TNFRSF18</td>\n",
       "      <td>MYC</td>\n",
       "      <td>0.40838</td>\n",
       "    </tr>\n",
       "    <tr>\n",
       "      <th>1</th>\n",
       "      <td>CALML6</td>\n",
       "      <td>SLC20A1</td>\n",
       "      <td>0.498418</td>\n",
       "    </tr>\n",
       "    <tr>\n",
       "      <th>2</th>\n",
       "      <td>CALML6</td>\n",
       "      <td>MAP1A</td>\n",
       "      <td>0.476338</td>\n",
       "    </tr>\n",
       "    <tr>\n",
       "      <th>3</th>\n",
       "      <td>RP3-395M20.12</td>\n",
       "      <td>CPEB4</td>\n",
       "      <td>0.48216</td>\n",
       "    </tr>\n",
       "    <tr>\n",
       "      <th>4</th>\n",
       "      <td>RP3-395M20.12</td>\n",
       "      <td>CNTRL</td>\n",
       "      <td>0.449533</td>\n",
       "    </tr>\n",
       "    <tr>\n",
       "      <th>...</th>\n",
       "      <td>...</td>\n",
       "      <td>...</td>\n",
       "      <td>...</td>\n",
       "    </tr>\n",
       "    <tr>\n",
       "      <th>5801</th>\n",
       "      <td>AJ011932.1</td>\n",
       "      <td>FURIN</td>\n",
       "      <td>0.235217</td>\n",
       "    </tr>\n",
       "    <tr>\n",
       "      <th>5802</th>\n",
       "      <td>AJ011932.1</td>\n",
       "      <td>TCF4</td>\n",
       "      <td>0.390429</td>\n",
       "    </tr>\n",
       "    <tr>\n",
       "      <th>5803</th>\n",
       "      <td>AJ011932.1</td>\n",
       "      <td>DNAJB1</td>\n",
       "      <td>0.354896</td>\n",
       "    </tr>\n",
       "    <tr>\n",
       "      <th>5804</th>\n",
       "      <td>AJ011932.1</td>\n",
       "      <td>FCGRT</td>\n",
       "      <td>0.298984</td>\n",
       "    </tr>\n",
       "    <tr>\n",
       "      <th>5805</th>\n",
       "      <td>MT-ND6</td>\n",
       "      <td>BEX2</td>\n",
       "      <td>0.483222</td>\n",
       "    </tr>\n",
       "  </tbody>\n",
       "</table>\n",
       "<p>5806 rows × 3 columns</p>\n",
       "</div>"
      ],
      "text/plain": [
       "             source   target     score\n",
       "0          TNFRSF18      MYC   0.40838\n",
       "1            CALML6  SLC20A1  0.498418\n",
       "2            CALML6    MAP1A  0.476338\n",
       "3     RP3-395M20.12    CPEB4   0.48216\n",
       "4     RP3-395M20.12    CNTRL  0.449533\n",
       "...             ...      ...       ...\n",
       "5801     AJ011932.1    FURIN  0.235217\n",
       "5802     AJ011932.1     TCF4  0.390429\n",
       "5803     AJ011932.1   DNAJB1  0.354896\n",
       "5804     AJ011932.1    FCGRT  0.298984\n",
       "5805         MT-ND6     BEX2  0.483222\n",
       "\n",
       "[5806 rows x 3 columns]"
      ]
     },
     "execution_count": 17,
     "metadata": {},
     "output_type": "execute_result"
    }
   ],
   "source": [
    "df_inh"
   ]
  },
  {
   "cell_type": "code",
   "execution_count": 18,
   "id": "7a513dd2",
   "metadata": {},
   "outputs": [
    {
     "data": {
      "text/plain": [
       "2060"
      ]
     },
     "execution_count": 18,
     "metadata": {},
     "output_type": "execute_result"
    }
   ],
   "source": [
    "len(np.unique(df_act[['source', 'target']].values.reshape(-1,)))"
   ]
  },
  {
   "cell_type": "code",
   "execution_count": 19,
   "id": "e2a2cbe0",
   "metadata": {},
   "outputs": [
    {
     "data": {
      "text/plain": [
       "1420"
      ]
     },
     "execution_count": 19,
     "metadata": {},
     "output_type": "execute_result"
    }
   ],
   "source": [
    "len(np.unique(df_inh[['source', 'target']].values.reshape(-1,)))"
   ]
  },
  {
   "cell_type": "code",
   "execution_count": 20,
   "id": "1c94c0d8",
   "metadata": {},
   "outputs": [
    {
     "data": {
      "text/plain": [
       "386"
      ]
     },
     "execution_count": 20,
     "metadata": {},
     "output_type": "execute_result"
    }
   ],
   "source": [
    "len(np.unique(df_act[['source']].values.reshape(-1,)))"
   ]
  },
  {
   "cell_type": "code",
   "execution_count": 21,
   "id": "a91e6ac3",
   "metadata": {},
   "outputs": [
    {
     "data": {
      "text/plain": [
       "864"
      ]
     },
     "execution_count": 21,
     "metadata": {},
     "output_type": "execute_result"
    }
   ],
   "source": [
    "len(np.unique(df_inh[['source']].values.reshape(-1,)))"
   ]
  },
  {
   "cell_type": "code",
   "execution_count": 29,
   "id": "317a4761",
   "metadata": {},
   "outputs": [],
   "source": [
    "from utils import parse_any_pert\n",
    "test_perts_individual_gene = np.unique(np.concatenate([parse_any_pert(i) for i in pertdl.set2conditions['test'] if i != 'ctrl']))"
   ]
  },
  {
   "cell_type": "code",
   "execution_count": 30,
   "id": "a006e42b",
   "metadata": {},
   "outputs": [
    {
     "data": {
      "text/plain": [
       "array(['CKS1B', 'PRTG', 'TBX3'], dtype=object)"
      ]
     },
     "execution_count": 30,
     "metadata": {},
     "output_type": "execute_result"
    }
   ],
   "source": [
    "np.intersect1d(np.unique(df_act[['source']].values.reshape(-1,)), test_perts_individual_gene)"
   ]
  },
  {
   "cell_type": "code",
   "execution_count": 31,
   "id": "2ae0fa71",
   "metadata": {},
   "outputs": [
    {
     "data": {
      "text/plain": [
       "array(['C3orf72', 'CEBPE', 'TGFBR2'], dtype=object)"
      ]
     },
     "execution_count": 31,
     "metadata": {},
     "output_type": "execute_result"
    }
   ],
   "source": [
    "np.intersect1d(np.unique(df_inh[['source']].values.reshape(-1,)), test_perts_individual_gene)"
   ]
  },
  {
   "cell_type": "code",
   "execution_count": 32,
   "id": "a26582db",
   "metadata": {},
   "outputs": [
    {
     "data": {
      "text/plain": [
       "array(['CKS1B'], dtype=object)"
      ]
     },
     "execution_count": 32,
     "metadata": {},
     "output_type": "execute_result"
    }
   ],
   "source": [
    "unseen_single = pertdl.subgroup['test_subgroup']['unseen_single']\n",
    "test_perts_individual_gene_unseen_single = np.unique(np.concatenate([parse_any_pert(i) for i in unseen_single if i != 'ctrl']))\n",
    "np.intersect1d(np.unique(df_act[['source']].values.reshape(-1,)), test_perts_individual_gene_unseen_single)"
   ]
  },
  {
   "cell_type": "code",
   "execution_count": 33,
   "id": "759dbbe3",
   "metadata": {},
   "outputs": [
    {
     "data": {
      "text/plain": [
       "array(['C3orf72'], dtype=object)"
      ]
     },
     "execution_count": 33,
     "metadata": {},
     "output_type": "execute_result"
    }
   ],
   "source": [
    "np.intersect1d(np.unique(df_inh[['source']].values.reshape(-1,)), test_perts_individual_gene_unseen_single)"
   ]
  },
  {
   "cell_type": "code",
   "execution_count": 34,
   "id": "eb18570a",
   "metadata": {},
   "outputs": [
    {
     "data": {
      "text/plain": [
       "array([2806])"
      ]
     },
     "execution_count": 34,
     "metadata": {},
     "output_type": "execute_result"
    }
   ],
   "source": [
    "np.where(gene_list == 'MAML2')[0]"
   ]
  },
  {
   "cell_type": "code",
   "execution_count": 35,
   "id": "ec464c50",
   "metadata": {},
   "outputs": [
    {
     "data": {
      "text/plain": [
       "array([4])"
      ]
     },
     "execution_count": 35,
     "metadata": {},
     "output_type": "execute_result"
    }
   ],
   "source": [
    "np.where(pert_list == 'MAML2+ctrl')[0]"
   ]
  },
  {
   "cell_type": "code",
   "execution_count": 36,
   "id": "99787242",
   "metadata": {},
   "outputs": [
    {
     "data": {
      "text/plain": [
       "0.18980725"
      ]
     },
     "execution_count": 36,
     "metadata": {},
     "output_type": "execute_result"
    }
   ],
   "source": [
    "mean_expression[4][2806]"
   ]
  },
  {
   "cell_type": "code",
   "execution_count": 37,
   "id": "50cb2f0c",
   "metadata": {},
   "outputs": [
    {
     "data": {
      "text/plain": [
       "0.007094589"
      ]
     },
     "execution_count": 37,
     "metadata": {},
     "output_type": "execute_result"
    }
   ],
   "source": [
    "ctrl[0][2806]"
   ]
  },
  {
   "cell_type": "code",
   "execution_count": 38,
   "id": "2a94b741",
   "metadata": {},
   "outputs": [
    {
     "name": "stderr",
     "output_type": "stream",
     "text": [
      "/tmp/ipykernel_52546/3954060169.py:8: RuntimeWarning: divide by zero encountered in float_scalars\n",
      "  perturbation_fold_changes.append(mean_expression[pert_idx][pert_gene_idx]/ctrl[0][pert_gene_idx])\n"
     ]
    }
   ],
   "source": [
    "perturbation_fold_changes = []\n",
    "\n",
    "for i in pert_list:\n",
    "    if i != 'ctrl':\n",
    "        pert_idx = np.where(pert_list == i)[0][0]\n",
    "        for x in parse_any_pert(i):\n",
    "            pert_gene_idx = np.where(gene_list == x)[0][0]\n",
    "            perturbation_fold_changes.append(mean_expression[pert_idx][pert_gene_idx]/ctrl[0][pert_gene_idx])"
   ]
  },
  {
   "cell_type": "code",
   "execution_count": 39,
   "id": "76087453",
   "metadata": {},
   "outputs": [],
   "source": [
    "perturbation_fold_changes = np.array(perturbation_fold_changes)"
   ]
  },
  {
   "cell_type": "code",
   "execution_count": 40,
   "id": "5aa7b8a6",
   "metadata": {},
   "outputs": [],
   "source": [
    "perturbation_fold_changes[np.isnan(perturbation_fold_changes)] = 0"
   ]
  },
  {
   "cell_type": "code",
   "execution_count": 41,
   "id": "e950f384",
   "metadata": {},
   "outputs": [],
   "source": [
    "perturbation_fold_changes[np.isinf(perturbation_fold_changes)] = 0"
   ]
  },
  {
   "cell_type": "code",
   "execution_count": 42,
   "id": "b5493467",
   "metadata": {},
   "outputs": [
    {
     "name": "stderr",
     "output_type": "stream",
     "text": [
      "/dfs/user/kexinh/miniconda3/envs/eee/lib/python3.8/site-packages/seaborn/distributions.py:2619: FutureWarning: `distplot` is a deprecated function and will be removed in a future version. Please adapt your code to use either `displot` (a figure-level function with similar flexibility) or `histplot` (an axes-level function for histograms).\n",
      "  warnings.warn(msg, FutureWarning)\n"
     ]
    },
    {
     "data": {
      "text/plain": [
       "<AxesSubplot:ylabel='Density'>"
      ]
     },
     "execution_count": 42,
     "metadata": {},
     "output_type": "execute_result"
    },
    {
     "data": {
      "image/png": "[encoded data removed]",
      "text/plain": [
       "<Figure size 720x288 with 1 Axes>"
      ]
     },
     "metadata": {},
     "output_type": "display_data"
    }
   ],
   "source": [
    "sns.distplot(perturbation_fold_changes)"
   ]
  },
  {
   "cell_type": "code",
   "execution_count": 43,
   "id": "cfc38041",
   "metadata": {
    "scrolled": true
   },
   "outputs": [
    {
     "data": {
      "text/plain": [
       "1.5569329977035522"
      ]
     },
     "execution_count": 43,
     "metadata": {},
     "output_type": "execute_result"
    }
   ],
   "source": [
    "np.quantile(perturbation_fold_changes, 0.1)"
   ]
  },
  {
   "cell_type": "code",
   "execution_count": 44,
   "id": "a69ecce8",
   "metadata": {},
   "outputs": [],
   "source": [
    "perturbation_fold_changes = []\n",
    "\n",
    "for i in pert_list:\n",
    "    if i != 'ctrl':\n",
    "        pert_idx = np.where(pert_list == i)[0][0]\n",
    "        for x in parse_any_pert(i):\n",
    "            pert_gene_idx = np.where(gene_list == x)[0][0]\n",
    "            perturbation_fold_changes.append(mean_expression[pert_idx][pert_gene_idx] - ctrl[0][pert_gene_idx])"
   ]
  },
  {
   "cell_type": "code",
   "execution_count": 45,
   "id": "d69eb137",
   "metadata": {},
   "outputs": [
    {
     "data": {
      "text/plain": [
       "[0.953708,\n",
       " 0.7379499,\n",
       " 0.03895606,\n",
       " 1.2906895,\n",
       " 0.3770253,\n",
       " 0.18271266,\n",
       " 1.811097,\n",
       " 0.21719666,\n",
       " 0.39406025,\n",
       " 0.24106601,\n",
       " 0.47200617,\n",
       " 0.6448305,\n",
       " 0.27533934,\n",
       " 1.4679211,\n",
       " 0.059242133,\n",
       " 0.48814058,\n",
       " 0.2069639,\n",
       " 0.35873175,\n",
       " 0.39957705,\n",
       " 0.20620199,\n",
       " 0.29311526,\n",
       " 0.16494328,\n",
       " 0.41661015,\n",
       " 1.0329857,\n",
       " 0.32313922,\n",
       " 0.055720188,\n",
       " 0.23504551,\n",
       " 0.9052858,\n",
       " 0.06519195,\n",
       " 0.3056962,\n",
       " 0.6041485,\n",
       " 1.6237943,\n",
       " 0.49149787,\n",
       " 0.29082352,\n",
       " 0.2941637,\n",
       " 0.4489983,\n",
       " 1.6897632,\n",
       " 0.45308948,\n",
       " 0.2683778,\n",
       " 2.044383,\n",
       " 0.79623264,\n",
       " 0.14528517,\n",
       " 0.17860891,\n",
       " 0.3449142,\n",
       " 0.95112664,\n",
       " 0.4300739,\n",
       " 0.17766497,\n",
       " 0.21120971,\n",
       " 1.290914,\n",
       " 0.67592084,\n",
       " 2.024716,\n",
       " -0.006602308,\n",
       " 0.061410867,\n",
       " 1.1068088,\n",
       " 0.865472,\n",
       " 0.38553154,\n",
       " 0.43510598,\n",
       " 0.5158615,\n",
       " 0.4079446,\n",
       " 0.6279206,\n",
       " 0.38169765,\n",
       " 0.3207661,\n",
       " -0.0046489313,\n",
       " 0.18864378,\n",
       " 2.0674593,\n",
       " 1.3134935,\n",
       " 0.3754553,\n",
       " 0.25369406,\n",
       " 0.5401551,\n",
       " 0.5104642,\n",
       " 1.3256559,\n",
       " 0.34608757,\n",
       " 0.45697746,\n",
       " 1.1249137,\n",
       " -0.02282039,\n",
       " 0.30780295,\n",
       " 0.5073597,\n",
       " 0.21743524,\n",
       " 0.06613,\n",
       " 0.9377647,\n",
       " 0.59782773,\n",
       " 0.4428959,\n",
       " 0.14876123,\n",
       " 0.78475964,\n",
       " 1.4175547,\n",
       " 0.53995264,\n",
       " 1.1928502,\n",
       " 0.96874666,\n",
       " 0.5962179,\n",
       " -0.031146348,\n",
       " 0.3002488,\n",
       " 0.6613966,\n",
       " 0.51809806,\n",
       " 0.09314329,\n",
       " 0.008373335,\n",
       " 0.72250575,\n",
       " 1.0378581,\n",
       " 0.76664317,\n",
       " 0.45150736,\n",
       " 0.15155593,\n",
       " 0.4161547,\n",
       " 0.033267096,\n",
       " 0.091680154,\n",
       " 0.60609114,\n",
       " 0.5120614,\n",
       " 0.30725038,\n",
       " 0.44504488,\n",
       " 0.6408039,\n",
       " 0.4302434,\n",
       " 0.43772766,\n",
       " 0.1679901,\n",
       " 1.0723224,\n",
       " 0.4292379,\n",
       " 0.30899668,\n",
       " 0.057451043,\n",
       " 0.51134634,\n",
       " 0.38590348,\n",
       " 0.70443004,\n",
       " 1.7868423,\n",
       " 0.5434077,\n",
       " 0.58332634,\n",
       " 0.62144226,\n",
       " 2.1262054,\n",
       " 0.5485678,\n",
       " 0.61230975,\n",
       " 0.2084103,\n",
       " 0.3603323,\n",
       " 0.36251277,\n",
       " 1.3586392,\n",
       " 0.712242,\n",
       " 0.42088598,\n",
       " 0.90727854,\n",
       " 1.2043272,\n",
       " 0.4235557,\n",
       " 0.42258173,\n",
       " 0.6084449,\n",
       " 0.28376243,\n",
       " 0.41223985,\n",
       " 1.9724556,\n",
       " 0.31965172,\n",
       " 0.9318911,\n",
       " -0.18859994,\n",
       " 0.43701288,\n",
       " 1.4350418,\n",
       " 0.3345495,\n",
       " 1.7283717,\n",
       " 0.25730923,\n",
       " 0.46355462,\n",
       " 0.28660998,\n",
       " 0.4739061,\n",
       " 0.17681803,\n",
       " 0.19934662,\n",
       " 0.8697006,\n",
       " 2.0201383,\n",
       " 0.12361471,\n",
       " 0.6707394,\n",
       " 0.41704425,\n",
       " 0.1127301,\n",
       " 0.111365974,\n",
       " 0.016100977,\n",
       " 1.5825844,\n",
       " 0.8983578,\n",
       " 0.5380842,\n",
       " 0.03248494,\n",
       " 0.6221659,\n",
       " 0.111238815,\n",
       " 0.39971444,\n",
       " 1.0936917,\n",
       " 0.0077078724,\n",
       " 0.92029774,\n",
       " 0.59151304,\n",
       " 0.5517037,\n",
       " 0.104099356,\n",
       " 1.2686373,\n",
       " 0.062215798,\n",
       " 0.634119,\n",
       " 0.5966027,\n",
       " 0.28222612,\n",
       " 0.49255893,\n",
       " 0.5869087,\n",
       " 0.06796734,\n",
       " 0.20027652,\n",
       " 0.23977797,\n",
       " 1.139486,\n",
       " 0.003806152,\n",
       " 1.83076,\n",
       " 0.4163457,\n",
       " 0.49977836,\n",
       " 0.66785425,\n",
       " 0.38344178,\n",
       " 0.0017720549,\n",
       " 0.35669708,\n",
       " 1.0535295,\n",
       " 0.91090846,\n",
       " 0.5491862,\n",
       " 1.1350768,\n",
       " 0.59129894,\n",
       " 0.09532255,\n",
       " 0.6082199,\n",
       " 0.29693693,\n",
       " 0.09190042,\n",
       " 1.2403779,\n",
       " 0.108110756,\n",
       " 0.01644101,\n",
       " 0.17229775,\n",
       " 1.1515661,\n",
       " 0.15346634,\n",
       " 0.15140384,\n",
       " 0.75210875,\n",
       " 0.21567258,\n",
       " 1.023733,\n",
       " 0.27610812,\n",
       " 0.0009146109,\n",
       " 2.1135578,\n",
       " 0.41563773,\n",
       " 1.1336048,\n",
       " 0.8520786,\n",
       " 0.027546387,\n",
       " 1.4390879,\n",
       " 0.88458246,\n",
       " 0.5565339,\n",
       " 0.45239997,\n",
       " 0.45882273,\n",
       " 0.17306608,\n",
       " 0.25345102,\n",
       " 0.34679842,\n",
       " 0.11313528,\n",
       " 2.3388424,\n",
       " 0.6216485,\n",
       " 0.08235968,\n",
       " 0.13882273,\n",
       " 0.65529203,\n",
       " 1.9284575,\n",
       " 1.5609926,\n",
       " 0.9746378,\n",
       " 0.6356044,\n",
       " 0.9583915,\n",
       " 0.39235723,\n",
       " 0.43328825,\n",
       " 0.27251726,\n",
       " 0.28995323,\n",
       " 1.2351078,\n",
       " 0.24072963,\n",
       " 0.55055547,\n",
       " 0.1992426,\n",
       " 0.34112957,\n",
       " 0.08395565,\n",
       " 0.93061185,\n",
       " 0.3883456,\n",
       " 1.1991415,\n",
       " 0.27380103,\n",
       " 0.5018927,\n",
       " 0.4835124,\n",
       " 0.791356,\n",
       " 0.7053086,\n",
       " 0.535964,\n",
       " 0.6312068,\n",
       " 0.15457441,\n",
       " 0.62696755,\n",
       " 0.03306878,\n",
       " 0.3767395,\n",
       " 1.2190449,\n",
       " 0.5780003,\n",
       " 0.11264543,\n",
       " 0.38501146,\n",
       " 0.17435458,\n",
       " 1.2982488,\n",
       " 1.1512742,\n",
       " 0.32047164,\n",
       " 0.44814616,\n",
       " 0.4184135,\n",
       " 0.27031577,\n",
       " 0.41186008,\n",
       " 0.17735098,\n",
       " 0.66551524,\n",
       " 0.53492904,\n",
       " 0.013536624,\n",
       " 1.2749391,\n",
       " 0.54536164,\n",
       " 0.77075535,\n",
       " 0.41519228,\n",
       " 0.14147383,\n",
       " 0.1236768,\n",
       " 1.3164587,\n",
       " 0.940836,\n",
       " 0.024100274,\n",
       " 0.1772969,\n",
       " 0.37329105,\n",
       " 0.23292331,\n",
       " 1.6674412,\n",
       " 0.1859304,\n",
       " 0.8007054,\n",
       " 1.8120643,\n",
       " 0.78922933,\n",
       " 0.76412034,\n",
       " 0.2671734,\n",
       " 0.108225055,\n",
       " 0.99273586,\n",
       " 0.30097142,\n",
       " 0.25520936,\n",
       " 0.19304782,\n",
       " 0.15614106,\n",
       " 1.6681687,\n",
       " 0.93874454,\n",
       " 0.32674113,\n",
       " 0.21641088,\n",
       " 0.11545804,\n",
       " 0.22189756,\n",
       " 0.19690776,\n",
       " 0.6255462,\n",
       " 0.5213152,\n",
       " 0.46830943,\n",
       " 0.12996836,\n",
       " 0.38894767,\n",
       " 0.26182863,\n",
       " 0.9391963,\n",
       " 0.11397334,\n",
       " 0.45455557,\n",
       " 0.13262154,\n",
       " 0.39193177,\n",
       " 0.5364038,\n",
       " 0.5078575,\n",
       " 1.7468591,\n",
       " 0.9347965,\n",
       " 0.19053282,\n",
       " 1.795643,\n",
       " 0.34014243,\n",
       " 0.32221004,\n",
       " 0.34693754,\n",
       " 0.14573513,\n",
       " 0.35771102,\n",
       " 0.42394832,\n",
       " 1.2639383,\n",
       " 0.35384172,\n",
       " 0.43404028,\n",
       " 0.00887607,\n",
       " 1.3654222,\n",
       " 0.13573313,\n",
       " 0.13353163,\n",
       " 0.27516866,\n",
       " 0.35624155,\n",
       " 0.011959871,\n",
       " 0.026967306,\n",
       " 0.5627609,\n",
       " 0.06468381,\n",
       " 0.019457519,\n",
       " 0.3053274,\n",
       " 0.23762435,\n",
       " 0.52235687,\n",
       " 0.04647778,\n",
       " 0.4157722,\n",
       " 0.30951372,\n",
       " 0.037123635,\n",
       " 0.41686115,\n",
       " 0.5114261,\n",
       " 0.20314428,\n",
       " 0.4726338,\n",
       " 0.6893262,\n",
       " 0.024779053,\n",
       " 0.7039362,\n",
       " 0.63205427,\n",
       " 1.0890467,\n",
       " 1.1140695,\n",
       " 0.44727275,\n",
       " 0.6505951,\n",
       " 0.19022387,\n",
       " 0.29443845,\n",
       " 0.794347,\n",
       " 0.25300843,\n",
       " 0.69374484,\n",
       " 0.018216945,\n",
       " 0.17440514,\n",
       " 0.1206622,\n",
       " 0.5760466,\n",
       " 1.6400514,\n",
       " 0.22513695,\n",
       " 0.21651824,\n",
       " 0.2653426,\n",
       " 0.27345216,\n",
       " 0.36241913,\n",
       " 0.14335714,\n",
       " 0.2080697,\n",
       " 0.38976896,\n",
       " 0.29883623,\n",
       " 0.35786915,\n",
       " 0.87495214,\n",
       " 0.013904586,\n",
       " 0.66445905,\n",
       " 0.87446123,\n",
       " 0.29368573,\n",
       " 0.466914,\n",
       " 0.81077826,\n",
       " 0.7399365,\n",
       " 0.14241777,\n",
       " 0.12287781,\n",
       " 0.12687854,\n",
       " 0.772816,\n",
       " 0.1437874,\n",
       " 0.121392764,\n",
       " -0.001752533,\n",
       " 0.07703779,\n",
       " 0.04910615,\n",
       " 0.15687364,\n",
       " 0.14167467,\n",
       " 0.5781568,\n",
       " 1.1296053,\n",
       " 0.42775056,\n",
       " 0.22198996,\n",
       " 0.62316054,\n",
       " 0.026178837,\n",
       " 0.072910085,\n",
       " 0.8510265,\n",
       " -0.0024018977,\n",
       " 0.6235263]"
      ]
     },
     "execution_count": 45,
     "metadata": {},
     "output_type": "execute_result"
    }
   ],
   "source": [
    "perturbation_fold_changes"
   ]
  },
  {
   "cell_type": "code",
   "execution_count": null,
   "id": "f13e715f",
   "metadata": {},
   "outputs": [],
   "source": []
  },
  {
   "cell_type": "code",
   "execution_count": 46,
   "id": "b0d17716",
   "metadata": {},
   "outputs": [],
   "source": [
    "CKS1B_true = mean_expression[np.where(pert_list == 'CKS1B+ctrl')[0]]"
   ]
  },
  {
   "cell_type": "code",
   "execution_count": 47,
   "id": "3659b4db",
   "metadata": {},
   "outputs": [],
   "source": [
    "gene_cks1b = np.where(gene_list == 'CKS1B')[0]"
   ]
  },
  {
   "cell_type": "code",
   "execution_count": 48,
   "id": "7e3047a6",
   "metadata": {},
   "outputs": [
    {
     "data": {
      "text/plain": [
       "array([331])"
      ]
     },
     "execution_count": 48,
     "metadata": {},
     "output_type": "execute_result"
    }
   ],
   "source": [
    "gene_cks1b"
   ]
  },
  {
   "cell_type": "code",
   "execution_count": 49,
   "id": "2a2a47e6",
   "metadata": {},
   "outputs": [],
   "source": [
    "fc_cks1b = X_tr[:, gene_cks1b]/ctrl[0, gene_cks1b]"
   ]
  },
  {
   "cell_type": "code",
   "execution_count": 55,
   "id": "595dfa6f",
   "metadata": {},
   "outputs": [
    {
     "data": {
      "text/plain": [
       "array([  153,  2052, 18160, 19776, 23586, 24164, 31808, 32137, 32802])"
      ]
     },
     "execution_count": 55,
     "metadata": {},
     "output_type": "execute_result"
    }
   ],
   "source": [
    "implicit_pert_cks1b = np.where(fc_cks1b.reshape(-1,) > 2)[0]\n",
    "implicit_pert_cks1b"
   ]
  },
  {
   "cell_type": "code",
   "execution_count": 51,
   "id": "2d3df0fd",
   "metadata": {},
   "outputs": [],
   "source": [
    "implicit_pert_cks1b = np.mean(X_tr[implicit_pert_cks1b], axis = 0)"
   ]
  },
  {
   "cell_type": "code",
   "execution_count": 54,
   "id": "60b55356",
   "metadata": {},
   "outputs": [
    {
     "data": {
      "text/plain": [
       "array([0.       , 0.       , 0.       , ..., 3.4628158, 0.       ,\n",
       "       0.       ], dtype=float32)"
      ]
     },
     "execution_count": 54,
     "metadata": {},
     "output_type": "execute_result"
    }
   ],
   "source": [
    "implicit_pert_cks1b"
   ]
  },
  {
   "cell_type": "code",
   "execution_count": 52,
   "id": "ac8a0e45",
   "metadata": {},
   "outputs": [
    {
     "data": {
      "text/plain": [
       "(0.3183604580951577, 4.344608466499609e-06)"
      ]
     },
     "execution_count": 52,
     "metadata": {},
     "output_type": "execute_result"
    }
   ],
   "source": [
    "stats.pearsonr(implicit_pert_cks1b[most_variable_genes] - ctrl[0, most_variable_genes], \n",
    "               CKS1B_true[0, most_variable_genes] - ctrl[0, most_variable_genes])"
   ]
  },
  {
   "cell_type": "code",
   "execution_count": 53,
   "id": "4203b702",
   "metadata": {},
   "outputs": [
    {
     "data": {
      "text/plain": [
       "(41209, 5045)"
      ]
     },
     "execution_count": 53,
     "metadata": {},
     "output_type": "execute_result"
    }
   ],
   "source": [
    "X_tr.shape"
   ]
  },
  {
   "cell_type": "code",
   "execution_count": null,
   "id": "67ec2ef0",
   "metadata": {},
   "outputs": [],
   "source": []
  },
  {
   "cell_type": "code",
   "execution_count": 166,
   "id": "d9eb7909",
   "metadata": {},
   "outputs": [
    {
     "data": {
      "text/plain": [
       "array([0.       , 0.       , 0.       , ..., 3.4628158, 0.       ,\n",
       "       0.       ], dtype=float32)"
      ]
     },
     "execution_count": 166,
     "metadata": {},
     "output_type": "execute_result"
    }
   ],
   "source": [
    "implicit_pert_cks1b"
   ]
  },
  {
   "cell_type": "code",
   "execution_count": null,
   "id": "c0207200",
   "metadata": {},
   "outputs": [],
   "source": []
  }
 ],
 "metadata": {
  "kernelspec": {
   "display_name": "Python 3 (ipykernel)",
   "language": "python",
   "name": "python3"
  },
  "language_info": {
   "codemirror_mode": {
    "name": "ipython",
    "version": 3
   },
   "file_extension": ".py",
   "mimetype": "text/x-python",
   "name": "python",
   "nbconvert_exporter": "python",
   "pygments_lexer": "ipython3",
   "version": "3.8.11"
  }
 },
 "nbformat": 4,
 "nbformat_minor": 5
}

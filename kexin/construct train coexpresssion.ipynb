{
 "cells": [
  {
   "cell_type": "code",
   "execution_count": 1,
   "id": "76145d40",
   "metadata": {},
   "outputs": [],
   "source": [
    "import scanpy as sc\n",
    "import numpy as np\n",
    "import pandas as pd\n",
    "import seaborn as sns\n",
    "import matplotlib.pyplot as plt\n",
    "\n",
    "data_path = '/dfs/project/perturb-gnn/datasets/Norman2019/Norman2019_hvg+perts_more_de.h5ad'\n",
    "adata = sc.read_h5ad(data_path)\n",
    "gene_list = [f for f in adata.var.gene_symbols.values]\n",
    "\n",
    "# calculate mean expression for each condition\n",
    "unique_conditions = adata.obs.condition.unique()\n",
    "conditions2index = {}\n",
    "for i in unique_conditions:\n",
    "    conditions2index[i] = np.where(adata.obs.condition == i)[0]\n",
    "    \n",
    "condition2mean_expression = {}\n",
    "for i, j in conditions2index.items():\n",
    "    condition2mean_expression[i] = np.mean(adata.X[j], axis = 0)\n",
    "    \n",
    "pert_list = np.array(list(condition2mean_expression.keys()))\n",
    "mean_expression = np.array(list(condition2mean_expression.values())).reshape(len(adata.obs.condition.unique()), adata.X.toarray().shape[1])\n",
    "\n",
    "ctrl = mean_expression[np.where(pert_list == 'ctrl')[0]]\n",
    "most_variable_genes = np.argsort(np.std(mean_expression, axis = 0))[-200:]\n",
    "gene_list = adata.var['gene_name'].values"
   ]
  },
  {
   "cell_type": "code",
   "execution_count": 2,
   "id": "c9638df5",
   "metadata": {},
   "outputs": [
    {
     "name": "stdout",
     "output_type": "stream",
     "text": [
      "There are 101013 edges in the PPI.\n",
      "Creating pyg object for each cell in the data...\n",
      "Local copy of pyg dataset is detected. Loading...\n",
      "Loading splits...\n",
      "Local copy of split is detected. Loading...\n",
      "Simulation split test composition:\n",
      "combo_seen0:9\n",
      "combo_seen1:52\n",
      "combo_seen2:18\n",
      "unseen_single:37\n",
      "Creating dataloaders....\n",
      "Dataloaders created...\n"
     ]
    }
   ],
   "source": [
    "from data import PertDataloader, Network\n",
    "\n",
    "model_name = 'GNN_Disentangle_GAT_string_20.0_64_2_l3_Norman2019_gamma2_gene_emb_pert_emb_constant_lambda_emission'\n",
    "args = np.load('./saved_args/'+model_name+'.npy', allow_pickle = True).item()\n",
    "args['test_perts'] = 'N/A'\n",
    "if args['network_name'] == 'string':\n",
    "    args['network_path'] = '/dfs/project/perturb-gnn/graphs/STRING_full_9606.csv'\n",
    "\n",
    "if 'gene_symbols' not in adata.var.columns.values:\n",
    "    adata.var['gene_symbols'] = adata.var['gene_name']\n",
    "gene_list = [f for f in adata.var.gene_symbols.values]\n",
    "# Set up message passing network\n",
    "network = Network(fname=args['network_path'], gene_list=args['gene_list'],\n",
    "                  percentile=args['top_edge_percent'])\n",
    "\n",
    "# Pertrubation dataloader\n",
    "pertdl = PertDataloader(adata, network.G, network.weights, args)"
   ]
  },
  {
   "cell_type": "code",
   "execution_count": 3,
   "id": "653645b6",
   "metadata": {},
   "outputs": [],
   "source": [
    "X = adata.X"
   ]
  },
  {
   "cell_type": "code",
   "execution_count": 4,
   "id": "cbbda119",
   "metadata": {},
   "outputs": [],
   "source": [
    "train_perts = pertdl.set2conditions['train']"
   ]
  },
  {
   "cell_type": "code",
   "execution_count": 5,
   "id": "171912d3",
   "metadata": {},
   "outputs": [],
   "source": [
    "X_tr = X[np.isin(adata.obs.condition, [i for i in train_perts if 'ctrl' in i])]"
   ]
  },
  {
   "cell_type": "code",
   "execution_count": 6,
   "id": "c026d88a",
   "metadata": {},
   "outputs": [],
   "source": [
    "gene_list = adata.var['gene_name'].values"
   ]
  },
  {
   "cell_type": "code",
   "execution_count": 7,
   "id": "5781b4dc",
   "metadata": {},
   "outputs": [
    {
     "name": "stderr",
     "output_type": "stream",
     "text": [
      "/tmp/ipykernel_4906/724921210.py:6: RuntimeWarning: invalid value encountered in true_divide\n",
      "  result = np.matmul(xv.transpose(), yv) / np.sqrt(np.outer(xvss, yvss))\n"
     ]
    }
   ],
   "source": [
    "def np_pearson_cor(x, y):\n",
    "    xv = x - x.mean(axis=0)\n",
    "    yv = y - y.mean(axis=0)\n",
    "    xvss = (xv * xv).sum(axis=0)\n",
    "    yvss = (yv * yv).sum(axis=0)\n",
    "    result = np.matmul(xv.transpose(), yv) / np.sqrt(np.outer(xvss, yvss))\n",
    "    # bound the values to -1 to 1 in the event of precision issues\n",
    "    return np.maximum(np.minimum(result, 1.0), -1.0)\n",
    "\n",
    "X_tr = X_tr.toarray()\n",
    "\n",
    "out = np_pearson_cor(X_tr, X_tr)"
   ]
  },
  {
   "cell_type": "code",
   "execution_count": 9,
   "id": "31dd6de3",
   "metadata": {},
   "outputs": [],
   "source": [
    "idx2gene = dict(zip(range(len(gene_list)), gene_list))"
   ]
  },
  {
   "cell_type": "code",
   "execution_count": 10,
   "id": "087978a8",
   "metadata": {},
   "outputs": [],
   "source": [
    "out[np.isnan(out)] = 0"
   ]
  },
  {
   "cell_type": "code",
   "execution_count": 11,
   "id": "7e345ffe",
   "metadata": {},
   "outputs": [],
   "source": [
    "out = np.abs(out)"
   ]
  },
  {
   "cell_type": "code",
   "execution_count": 12,
   "id": "904c113f",
   "metadata": {},
   "outputs": [],
   "source": [
    "out_sort_idx = np.argsort(out)[:, -11:]\n",
    "out_sort_val = np.sort(out)[:, -11:]"
   ]
  },
  {
   "cell_type": "code",
   "execution_count": 13,
   "id": "6dda54a4",
   "metadata": {},
   "outputs": [],
   "source": [
    "df_g = []\n",
    "for i in range(out_sort_idx.shape[0]):\n",
    "    target = idx2gene[i]\n",
    "    for j in range(out_sort_idx.shape[1]):\n",
    "        \n",
    "        df_g.append((idx2gene[out_sort_idx[i, j]], target, out_sort_val[i, j]))"
   ]
  },
  {
   "cell_type": "code",
   "execution_count": 19,
   "id": "c1579b04",
   "metadata": {},
   "outputs": [],
   "source": [
    "df_g = [i for i in df_g if i[2] > 0.4]"
   ]
  },
  {
   "cell_type": "code",
   "execution_count": 20,
   "id": "c0207200",
   "metadata": {},
   "outputs": [],
   "source": [
    "df_co_expression = pd.DataFrame(df_g).rename(columns = {0: 'source', 1: 'target', 2: 'importance'})"
   ]
  },
  {
   "cell_type": "code",
   "execution_count": 22,
   "id": "cc8537a9",
   "metadata": {},
   "outputs": [],
   "source": [
    "df_co_expression.to_csv('co_expression_abs_high.csv', index = False)"
   ]
  },
  {
   "cell_type": "code",
   "execution_count": 21,
   "id": "6c8ce785",
   "metadata": {},
   "outputs": [
    {
     "name": "stderr",
     "output_type": "stream",
     "text": [
      "/dfs/user/kexinh/miniconda3/envs/eee/lib/python3.8/site-packages/seaborn/distributions.py:2619: FutureWarning: `distplot` is a deprecated function and will be removed in a future version. Please adapt your code to use either `displot` (a figure-level function with similar flexibility) or `histplot` (an axes-level function for histograms).\n",
      "  warnings.warn(msg, FutureWarning)\n",
      "/dfs/user/kexinh/miniconda3/envs/eee/lib/python3.8/site-packages/seaborn/distributions.py:2619: FutureWarning: `distplot` is a deprecated function and will be removed in a future version. Please adapt your code to use either `displot` (a figure-level function with similar flexibility) or `histplot` (an axes-level function for histograms).\n",
      "  warnings.warn(msg, FutureWarning)\n"
     ]
    },
    {
     "data": {
      "text/plain": [
       "<AxesSubplot:ylabel='Density'>"
      ]
     },
     "execution_count": 21,
     "metadata": {},
     "output_type": "execute_result"
    },
    {
     "data": {
      "image/png": "[encoded data removed]",
      "text/plain": [
       "<Figure size 432x288 with 1 Axes>"
      ]
     },
     "metadata": {
      "needs_background": "light"
     },
     "output_type": "display_data"
    }
   ],
   "source": [
    "import seaborn as sns\n",
    "sns.distplot(df_co_expression.importance.values)\n",
    "sns.distplot(pd.read_csv('co_expression.csv').importance.values)"
   ]
  },
  {
   "cell_type": "code",
   "execution_count": null,
   "id": "79caa8aa",
   "metadata": {},
   "outputs": [],
   "source": []
  }
 ],
 "metadata": {
  "kernelspec": {
   "display_name": "Python 3 (ipykernel)",
   "language": "python",
   "name": "python3"
  },
  "language_info": {
   "codemirror_mode": {
    "name": "ipython",
    "version": 3
   },
   "file_extension": ".py",
   "mimetype": "text/x-python",
   "name": "python",
   "nbconvert_exporter": "python",
   "pygments_lexer": "ipython3",
   "version": "3.8.11"
  }
 },
 "nbformat": 4,
 "nbformat_minor": 5
}

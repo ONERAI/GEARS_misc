{
 "cells": [
  {
   "cell_type": "code",
   "execution_count": 1,
   "id": "e15e75b5",
   "metadata": {},
   "outputs": [],
   "source": [
    "import scanpy as sc\n",
    "import numpy as np\n",
    "import pandas as pd\n",
    "import seaborn as sns\n",
    "import matplotlib.pyplot as plt\n",
    "import warnings\n",
    "warnings.filterwarnings(\"ignore\")\n",
    "\n",
    "adata = sc.read('/dfs/project/perturb-gnn/datasets/Norman2019_hvg+perts.h5ad')"
   ]
  },
  {
   "cell_type": "code",
   "execution_count": 27,
   "id": "1022b090",
   "metadata": {},
   "outputs": [],
   "source": [
    "pert2pert_full_id = dict(adata.obs[['condition', 'cov_drug_dose_name']].values)"
   ]
  },
  {
   "cell_type": "code",
   "execution_count": 54,
   "id": "2d7eae85",
   "metadata": {},
   "outputs": [],
   "source": [
    "unique_perts = adata.obs.condition.unique()\n",
    "X = adata.X\n",
    "c = adata.obs.condition\n",
    "query_pert = unique_perts[12]\n",
    "expression = X[np.where(c == query_pert)[0]].toarray()"
   ]
  },
  {
   "cell_type": "code",
   "execution_count": 55,
   "id": "8f18e565",
   "metadata": {},
   "outputs": [],
   "source": [
    "adata.uns['rank_genes_groups_cov'][pert2pert_full_id[query_pert]]\n",
    "\n",
    "de_idx = np.where(adata.var_names.isin(\n",
    "                np.array(adata.uns['rank_genes_groups_cov'][pert2pert_full_id[query_pert]])))[0]"
   ]
  },
  {
   "cell_type": "code",
   "execution_count": 56,
   "id": "5b56563d",
   "metadata": {},
   "outputs": [
    {
     "data": {
      "text/plain": [
       "array([0.3637023 , 0.02996498, 0.61281943, 0.72060037, 0.5657906 ,\n",
       "       0.40530732, 1.0259172 , 1.0281726 , 0.40466785, 0.36748803,\n",
       "       1.4743949 , 0.8042997 , 0.5626899 , 0.12749983, 0.09244415,\n",
       "       0.5978718 , 0.2420775 , 0.00527949, 0.        , 0.42057905],\n",
       "      dtype=float32)"
      ]
     },
     "execution_count": 56,
     "metadata": {},
     "output_type": "execute_result"
    }
   ],
   "source": [
    "np.std(expression[:, de_idx], axis = 0)**2"
   ]
  },
  {
   "cell_type": "code",
   "execution_count": 57,
   "id": "670f66c1",
   "metadata": {},
   "outputs": [
    {
     "data": {
      "text/plain": [
       "array([0.5608998 , 0.04417451, 2.226867  , 1.2113272 , 1.7787977 ,\n",
       "       0.9248679 , 1.7555475 , 3.2955768 , 0.80007803, 0.64751977,\n",
       "       4.466268  , 1.225273  , 1.5727811 , 0.17758968, 0.13103218,\n",
       "       1.5126592 , 3.2560515 , 0.00896992, 0.        , 1.2743382 ],\n",
       "      dtype=float32)"
      ]
     },
     "execution_count": 57,
     "metadata": {},
     "output_type": "execute_result"
    }
   ],
   "source": [
    "np.mean(expression[:, de_idx], axis = 0)"
   ]
  },
  {
   "cell_type": "code",
   "execution_count": 58,
   "id": "58469795",
   "metadata": {},
   "outputs": [
    {
     "data": {
      "text/plain": [
       "array([0.       , 0.       , 0.       , 0.       , 0.       , 0.       ,\n",
       "       0.       , 0.       , 0.       , 0.       , 0.       , 0.       ,\n",
       "       0.       , 0.       , 0.       , 0.       , 1.2048866, 0.       ,\n",
       "       0.       , 0.       ], dtype=float32)"
      ]
     },
     "execution_count": 58,
     "metadata": {},
     "output_type": "execute_result"
    }
   ],
   "source": [
    "np.min(expression[:, de_idx], axis = 0)"
   ]
  },
  {
   "cell_type": "code",
   "execution_count": 59,
   "id": "add26f61",
   "metadata": {},
   "outputs": [
    {
     "data": {
      "text/plain": [
       "array([2.5098755, 1.1482052, 4.037729 , 3.5382335, 3.6960921, 2.482056 ,\n",
       "       3.6960921, 5.471069 , 2.364613 , 2.3326802, 6.7137156, 3.494384 ,\n",
       "       3.9264498, 1.6070515, 1.4129144, 3.7742238, 4.397499 , 0.739601 ,\n",
       "       0.       , 2.6451356], dtype=float32)"
      ]
     },
     "execution_count": 59,
     "metadata": {},
     "output_type": "execute_result"
    }
   ],
   "source": [
    "np.max(expression[:, de_idx], axis = 0)"
   ]
  },
  {
   "cell_type": "code",
   "execution_count": null,
   "id": "0196df70",
   "metadata": {},
   "outputs": [],
   "source": []
  },
  {
   "cell_type": "code",
   "execution_count": null,
   "id": "4b04d40c",
   "metadata": {},
   "outputs": [],
   "source": []
  },
  {
   "cell_type": "code",
   "execution_count": null,
   "id": "fcae18cd",
   "metadata": {},
   "outputs": [],
   "source": []
  },
  {
   "cell_type": "code",
   "execution_count": 17,
   "id": "d1c675b7",
   "metadata": {},
   "outputs": [],
   "source": [
    "unique_perturbs = []\n",
    "for i in adata.obs.condition.unique():\n",
    "    if '+' in i:\n",
    "        unique_perturbs.append(i.split('+')[0])\n",
    "        unique_perturbs.append(i.split('+')[1])\n",
    "        \n",
    "unique_perturbs = np.unique(unique_perturbs)"
   ]
  },
  {
   "cell_type": "code",
   "execution_count": 36,
   "id": "40332009",
   "metadata": {},
   "outputs": [],
   "source": [
    "all_tfs = pd.read_csv('TF_names_v_1.01.txt', header = None).values"
   ]
  },
  {
   "cell_type": "code",
   "execution_count": 38,
   "id": "dbf266fa",
   "metadata": {},
   "outputs": [
    {
     "data": {
      "text/plain": [
       "array(['ARID1A', 'ARRDC3', 'ATL1', 'BAK1', 'BCL2L11', 'BCORL1', 'BPGM',\n",
       "       'C19orf26', 'C3orf72', 'CBFA2T3', 'CBL', 'CDKN1A', 'CDKN1B',\n",
       "       'CDKN1C', 'CELF2', 'CITED1', 'CKS1B', 'CLDN6', 'CNN1', 'CNNM4',\n",
       "       'COL1A1', 'COL2A1', 'DUSP9', 'ELMSAN1', 'GLB1L2', 'HK2', 'IER5L',\n",
       "       'IGDCC3', 'KIAA1804', 'KIF18B', 'KIF2C', 'MAML2', 'MAP2K3',\n",
       "       'MAP2K6', 'MAP4K3', 'MAP4K5', 'MAP7D1', 'MAPK1', 'MIDN', 'NCL',\n",
       "       'NIT1', 'PLK4', 'PRTG', 'PTPN1', 'PTPN12', 'PTPN13', 'PTPN9',\n",
       "       'RHOXF2BB', 'RUNX1T1', 'S1PR2', 'SAMD1', 'SET', 'SGK1', 'SLC38A2',\n",
       "       'SLC4A1', 'SLC6A9', 'STIL', 'TGFBR2', 'TMSB4X', 'UBASH3A',\n",
       "       'UBASH3B', 'ZC3HAV1', 'ctrl'], dtype='<U8')"
      ]
     },
     "execution_count": 38,
     "metadata": {},
     "output_type": "execute_result"
    }
   ],
   "source": [
    "np.setdiff1d(unique_perturbs, all_tfs.reshape(-1,))"
   ]
  },
  {
   "cell_type": "code",
   "execution_count": null,
   "id": "e8133769",
   "metadata": {},
   "outputs": [],
   "source": []
  }
 ],
 "metadata": {
  "kernelspec": {
   "display_name": "Python 3 (ipykernel)",
   "language": "python",
   "name": "python3"
  },
  "language_info": {
   "codemirror_mode": {
    "name": "ipython",
    "version": 3
   },
   "file_extension": ".py",
   "mimetype": "text/x-python",
   "name": "python",
   "nbconvert_exporter": "python",
   "pygments_lexer": "ipython3",
   "version": "3.8.11"
  }
 },
 "nbformat": 4,
 "nbformat_minor": 5
}

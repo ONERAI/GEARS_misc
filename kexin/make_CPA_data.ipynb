{
 "cells": [
  {
   "cell_type": "code",
   "execution_count": 33,
   "id": "d5a77077",
   "metadata": {},
   "outputs": [],
   "source": [
    "import scanpy as sc\n",
    "adata = sc.read('/dfs/project/perturb-gnn/datasets/trans_norman_adamson/norman2019.h5ad')"
   ]
  },
  {
   "cell_type": "code",
   "execution_count": 34,
   "id": "2ed59073",
   "metadata": {},
   "outputs": [],
   "source": [
    "import pickle\n",
    "split = pickle.load(open('./splits/Norman2019_Adamson2016_simulation_1_0.1.pkl', 'rb'))"
   ]
  },
  {
   "cell_type": "code",
   "execution_count": 35,
   "id": "bb3b0d6b",
   "metadata": {},
   "outputs": [],
   "source": [
    "pert2set = {}\n",
    "for i,j in split.items():\n",
    "    for x in j:\n",
    "        pert2set[x] = i"
   ]
  },
  {
   "cell_type": "code",
   "execution_count": 36,
   "id": "dc47cd30",
   "metadata": {},
   "outputs": [],
   "source": [
    "subgroup = pickle.load(open('./splits/Norman2019_Adamson2016_simulation_1_0.1_subgroup.pkl', 'rb'))"
   ]
  },
  {
   "cell_type": "code",
   "execution_count": 37,
   "id": "6a8d0519",
   "metadata": {},
   "outputs": [
    {
     "data": {
      "text/plain": [
       "['KLF1+MAP2K6',\n",
       " 'ctrl',\n",
       " 'TGFBR2+ETS2',\n",
       " 'DUSP9+ctrl',\n",
       " 'MAP2K6+SPI1',\n",
       " 'ctrl+ELMSAN1',\n",
       " 'ctrl+FOXA1',\n",
       " 'FOXA3+FOXA1',\n",
       " 'BCORL1+ctrl',\n",
       " 'MEIS1+ctrl',\n",
       " 'GLB1L2+ctrl',\n",
       " 'KLF1+ctrl',\n",
       " 'MAP2K6+IKZF3',\n",
       " 'BAK1+ctrl',\n",
       " 'FEV+ctrl',\n",
       " 'CBL+ctrl',\n",
       " 'ctrl+ETS2',\n",
       " 'ctrl+FEV',\n",
       " 'ctrl+SET',\n",
       " 'LHX1+ctrl',\n",
       " 'KLF1+FOXA1',\n",
       " 'ctrl+KLF1',\n",
       " 'SLC4A1+ctrl',\n",
       " 'RREB1+ctrl',\n",
       " 'ZNF318+ctrl',\n",
       " 'COL2A1+ctrl',\n",
       " 'ctrl+ZBTB25',\n",
       " 'MAP4K5+ctrl',\n",
       " 'UBASH3B+ctrl',\n",
       " 'SLC6A9+ctrl',\n",
       " 'MIDN+ctrl',\n",
       " 'UBASH3B+OSR2',\n",
       " 'DLX2+ctrl',\n",
       " 'UBASH3B+ZBTB25',\n",
       " 'CBFA2T3+ctrl',\n",
       " 'HES7+ctrl',\n",
       " 'ZNF318+FOXL2',\n",
       " 'UBASH3B+PTPN9',\n",
       " 'IGDCC3+ZBTB25',\n",
       " 'AHR+ctrl',\n",
       " 'ctrl+CBFA2T3',\n",
       " 'KLF1+BAK1',\n",
       " 'POU3F2+ctrl',\n",
       " 'LYL1+IER5L',\n",
       " 'ctrl+CNN1',\n",
       " 'IGDCC3+MAPK1',\n",
       " 'CELF2+ctrl',\n",
       " 'JUN+CEBPA',\n",
       " 'MAP2K3+ctrl',\n",
       " 'MAP4K3+ctrl',\n",
       " 'ZBTB25+ctrl',\n",
       " 'MAP2K3+MAP2K6',\n",
       " 'ctrl+MEIS1',\n",
       " 'MAPK1+PRTG',\n",
       " 'ctrl+IER5L',\n",
       " 'TP73+ctrl',\n",
       " 'ctrl+MAP7D1',\n",
       " 'MAP2K3+IKZF3',\n",
       " 'FOSB+ctrl',\n",
       " 'MAPK1+ctrl',\n",
       " 'C19orf26+ctrl',\n",
       " 'IRF1+ctrl',\n",
       " 'TMSB4X+BAK1',\n",
       " 'IKZF3+ctrl',\n",
       " 'POU3F2+FOXL2',\n",
       " 'HOXB9+ctrl',\n",
       " 'DUSP9+PRTG',\n",
       " 'ctrl+UBASH3B',\n",
       " 'LHX1+ELMSAN1',\n",
       " 'ctrl+HOXB9',\n",
       " 'CKS1B+ctrl',\n",
       " 'ETS2+ctrl',\n",
       " 'FOXA3+ctrl',\n",
       " 'KIF18B+KIF2C',\n",
       " 'ctrl+SAMD1',\n",
       " 'COL1A1+ctrl',\n",
       " 'ZBTB1+ctrl',\n",
       " 'FEV+MAP7D1',\n",
       " 'PRTG+ctrl',\n",
       " 'PLK4+ctrl',\n",
       " 'ARRDC3+ctrl',\n",
       " 'ETS2+CNN1',\n",
       " 'FOXL2+MEIS1',\n",
       " 'LYL1+ctrl',\n",
       " 'ctrl+MAP2K6',\n",
       " 'SGK1+ctrl',\n",
       " 'MAPK1+TGFBR2',\n",
       " 'ctrl+DLX2',\n",
       " 'FOXL2+ctrl',\n",
       " 'MAP2K6+ctrl',\n",
       " 'CNN1+ctrl',\n",
       " 'ctrl+CEBPA',\n",
       " 'HNF4A+ctrl',\n",
       " 'MAP7D1+ctrl',\n",
       " 'KMT2A+ctrl',\n",
       " 'CNN1+UBASH3A',\n",
       " 'MAP2K6+ELMSAN1',\n",
       " 'IGDCC3+ctrl',\n",
       " 'ISL2+ctrl',\n",
       " 'KLF1+CEBPA',\n",
       " 'TGFBR2+IGDCC3',\n",
       " 'SAMD1+ZBTB1',\n",
       " 'TMSB4X+ctrl',\n",
       " 'FOXA3+HOXB9',\n",
       " 'KIF2C+ctrl',\n",
       " 'ctrl+ZBTB1',\n",
       " 'ctrl+KIF2C',\n",
       " 'IRF1+SET',\n",
       " 'MAP2K3+ELMSAN1',\n",
       " 'CSRNP1+ctrl',\n",
       " 'ctrl+C19orf26',\n",
       " 'CNNM4+ctrl',\n",
       " 'ctrl+UBASH3A',\n",
       " 'ctrl+COL2A1',\n",
       " 'ctrl+BAK1',\n",
       " 'IER5L+ctrl',\n",
       " 'ctrl+IKZF3',\n",
       " 'CBL+UBASH3B',\n",
       " 'UBASH3B+CNN1',\n",
       " 'ZC3HAV1+ctrl',\n",
       " 'OSR2+ctrl',\n",
       " 'SET+ctrl',\n",
       " 'ctrl+SPI1',\n",
       " 'FOSB+UBASH3B',\n",
       " 'ETS2+MAPK1',\n",
       " 'ctrl+STIL',\n",
       " 'DUSP9+IGDCC3',\n",
       " 'ctrl+PRTG',\n",
       " 'ATL1+ctrl',\n",
       " 'CEBPA+ctrl',\n",
       " 'NIT1+ctrl',\n",
       " 'DUSP9+KLF1',\n",
       " 'TGFBR2+ctrl',\n",
       " 'FEV+ISL2',\n",
       " 'JUN+ctrl',\n",
       " 'POU3F2+CBFA2T3',\n",
       " 'SAMD1+TGFBR2',\n",
       " 'ZBTB10+ctrl',\n",
       " 'FOXA1+ctrl',\n",
       " 'SAMD1+ctrl',\n",
       " 'ELMSAN1+ctrl',\n",
       " 'CBL+TGFBR2',\n",
       " 'ctrl+MAPK1',\n",
       " 'FOXA1+FOXL2',\n",
       " 'ETS2+MAP7D1',\n",
       " 'UBASH3A+ctrl',\n",
       " 'AHR+FEV',\n",
       " 'KLF1+TGFBR2',\n",
       " 'FEV+CBFA2T3',\n",
       " 'ETS2+IKZF3',\n",
       " 'ctrl+ISL2',\n",
       " 'PTPN9+ctrl',\n",
       " 'CITED1+ctrl',\n",
       " 'FOSB+IKZF3',\n",
       " 'TGFBR2+PRTG',\n",
       " 'PRDM1+ctrl',\n",
       " 'HK2+ctrl',\n",
       " 'FOSB+OSR2',\n",
       " 'FOXL2+HOXB9',\n",
       " 'ctrl+IGDCC3',\n",
       " 'ctrl+PTPN9',\n",
       " 'ctrl+OSR2',\n",
       " 'ZBTB10+ELMSAN1',\n",
       " 'ctrl+FOXL2',\n",
       " 'ctrl+TGFBR2',\n",
       " 'PRDM1+CBFA2T3',\n",
       " 'FOXA3+FOXL2',\n",
       " 'ZC3HAV1+CEBPA',\n",
       " 'KIF18B+ctrl',\n",
       " 'SPI1+ctrl',\n",
       " 'EGR1+ctrl',\n",
       " 'ZBTB10+DLX2',\n",
       " 'PLK4+STIL',\n",
       " 'CBL+UBASH3A',\n",
       " 'IGDCC3+PRTG',\n",
       " 'STIL+ctrl',\n",
       " 'CDKN1C+ctrl']"
      ]
     },
     "execution_count": 37,
     "metadata": {},
     "output_type": "execute_result"
    }
   ],
   "source": [
    "split['train']"
   ]
  },
  {
   "cell_type": "code",
   "execution_count": 38,
   "id": "c41b5690",
   "metadata": {},
   "outputs": [
    {
     "data": {
      "text/plain": [
       "AnnData object with n_obs × n_vars = 85294 × 5093\n",
       "    obs: 'guide_identity', 'UMI_count', 'good_coverage', 'number_of_cells', 'guide_merged', 'dose_val', 'condition', 'cell_type', 'control', 'drug_dose_name', 'cov_drug_dose_name', 'dataset'\n",
       "    var: 'highly_variable', 'means', 'dispersions', 'dispersions_norm', 'gene_name'\n",
       "    uns: 'hvg', 'rank_genes_groups_cov', 'rank_genes_groups_cov_top100', 'rank_genes_groups_cov_top200', 'rank_genes_groups_cov_top50'\n",
       "    layers: 'counts'"
      ]
     },
     "execution_count": 38,
     "metadata": {},
     "output_type": "execute_result"
    }
   ],
   "source": [
    "adata"
   ]
  },
  {
   "cell_type": "code",
   "execution_count": 39,
   "id": "fca1e200",
   "metadata": {},
   "outputs": [],
   "source": [
    "adata.obs['split'] = [pert2set[i] for i in adata.obs['condition'].values]"
   ]
  },
  {
   "cell_type": "code",
   "execution_count": null,
   "id": "1a40fe1d",
   "metadata": {},
   "outputs": [],
   "source": []
  },
  {
   "cell_type": "code",
   "execution_count": 40,
   "id": "2b4bd852",
   "metadata": {},
   "outputs": [],
   "source": [
    "pert2subgroup = {}\n",
    "for i,j in subgroup['test_subgroup'].items():\n",
    "    for x in j:\n",
    "        pert2subgroup[x] = i"
   ]
  },
  {
   "cell_type": "code",
   "execution_count": 41,
   "id": "23ee58d9",
   "metadata": {},
   "outputs": [],
   "source": [
    "adata.obs['subgroup'] = adata.obs['condition'].apply(lambda x: pert2subgroup[x] if x in pert2subgroup else 'Train/Val')"
   ]
  },
  {
   "cell_type": "code",
   "execution_count": 42,
   "id": "f4c2ce22",
   "metadata": {},
   "outputs": [
    {
     "data": {
      "text/plain": [
       "Train/Val        72371\n",
       "combo_seen1       6077\n",
       "combo_seen2       3366\n",
       "unseen_single     3214\n",
       "combo_seen0        266\n",
       "Name: subgroup, dtype: int64"
      ]
     },
     "execution_count": 42,
     "metadata": {},
     "output_type": "execute_result"
    }
   ],
   "source": [
    "adata.obs['subgroup'].value_counts()"
   ]
  },
  {
   "cell_type": "code",
   "execution_count": 43,
   "id": "4cd7e735",
   "metadata": {},
   "outputs": [],
   "source": [
    "#adata.write('./Adamson2016_simulation1.h5ad')"
   ]
  },
  {
   "cell_type": "code",
   "execution_count": 44,
   "id": "63ba2180",
   "metadata": {},
   "outputs": [],
   "source": [
    "rename = {'train': 'train',\n",
    "         'test': 'ood',\n",
    "         'val': 'test'}\n",
    "adata.obs['split'] = adata.obs['split'].apply(lambda x: rename[x])"
   ]
  },
  {
   "cell_type": "code",
   "execution_count": 45,
   "id": "bd8aa1e0",
   "metadata": {},
   "outputs": [
    {
     "name": "stderr",
     "output_type": "stream",
     "text": [
      "/dfs/user/kexinh/miniconda3/envs/eee/lib/python3.8/site-packages/anndata/_core/anndata.py:1220: FutureWarning: The `inplace` parameter in pandas.Categorical.reorder_categories is deprecated and will be removed in a future version. Removing unused categories will always return a new Categorical object.\n",
      "  c.reorder_categories(natsorted(c.categories), inplace=True)\n",
      "... storing 'split' as categorical\n",
      "/dfs/user/kexinh/miniconda3/envs/eee/lib/python3.8/site-packages/anndata/_core/anndata.py:1220: FutureWarning: The `inplace` parameter in pandas.Categorical.reorder_categories is deprecated and will be removed in a future version. Removing unused categories will always return a new Categorical object.\n",
      "  c.reorder_categories(natsorted(c.categories), inplace=True)\n",
      "... storing 'subgroup' as categorical\n"
     ]
    }
   ],
   "source": [
    "adata.write('./Norman2019_Adamson2016_simulation1_cpa.h5ad')"
   ]
  },
  {
   "cell_type": "code",
   "execution_count": null,
   "id": "133ad6fd",
   "metadata": {},
   "outputs": [],
   "source": []
  }
 ],
 "metadata": {
  "kernelspec": {
   "display_name": "Python 3 (ipykernel)",
   "language": "python",
   "name": "python3"
  },
  "language_info": {
   "codemirror_mode": {
    "name": "ipython",
    "version": 3
   },
   "file_extension": ".py",
   "mimetype": "text/x-python",
   "name": "python",
   "nbconvert_exporter": "python",
   "pygments_lexer": "ipython3",
   "version": "3.8.11"
  }
 },
 "nbformat": 4,
 "nbformat_minor": 5
}

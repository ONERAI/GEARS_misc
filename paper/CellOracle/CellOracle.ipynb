{
 "cells": [
  {
   "cell_type": "code",
   "execution_count": 1,
   "metadata": {},
   "outputs": [],
   "source": [
    "import os\n",
    "import sys\n",
    "\n",
    "import matplotlib.pyplot as plt\n",
    "import numpy as np\n",
    "import pandas as pd\n",
    "import scanpy as sc\n",
    "import seaborn as sns\n",
    "\n",
    "import celloracle as co"
   ]
  },
  {
   "cell_type": "code",
   "execution_count": 2,
   "metadata": {},
   "outputs": [],
   "source": [
    "adata = sc.read_h5ad('/dfs/project/perturb-gnn/datasets/Norman2019/Norman2019_hvg+perts.h5ad')\n",
    "#ctrl_adata = adata[adata.obs['condition']=='ctrl']\n",
    "#ctrl_adata.var = ctrl_adata.var.set_index('gene_name')"
   ]
  },
  {
   "cell_type": "code",
   "execution_count": 3,
   "metadata": {},
   "outputs": [],
   "source": [
    "TF_names = pd.read_csv('TF_names_v_1.01.txt', delimiter='\\t', header=None)\n",
    "TF_names = TF_names.rename(columns={0:'Gene'})\n",
    "\n",
    "all_conds = [c.split('+') for c in adata.obs['condition'].values ]\n",
    "all_conds = [item for sublist in all_conds for item in sublist]\n",
    "all_conds = set(all_conds)\n",
    "\n",
    "# treat all perturbations as TFs\n",
    "# aug_TF_names = list(TF_names['Gene'].values) + list(all_conds)"
   ]
  },
  {
   "cell_type": "code",
   "execution_count": 4,
   "metadata": {},
   "outputs": [],
   "source": [
    "#sc.pp.subsample(adata, n_obs=500)\n",
    "#sc.pp.pca(adata)\n",
    "adata.var = adata.var.set_index('gene_name')\n",
    "adata.obs['label']='0'"
   ]
  },
  {
   "cell_type": "code",
   "execution_count": null,
   "metadata": {},
   "outputs": [
    {
     "name": "stdout",
     "output_type": "stream",
     "text": [
      "5045 genes were found in the adata. Note that Celloracle is intended to use around 1000-3000 genes, so the behavior with this number of genes may differ from what is expected.\n"
     ]
    }
   ],
   "source": [
    "oracle = co.Oracle()\n",
    "oracle.import_anndata_as_raw_count(adata=adata,\n",
    "                                   cluster_column_name='condition',\n",
    "                                   embedding_name='X_pca')\n",
    "\n",
    "oracle.perform_PCA()\n",
    "\n",
    "n_comps = np.where(np.diff(np.diff(np.cumsum(oracle.pca.explained_variance_ratio_))>0.002))[0][0]\n",
    "n_cell = oracle.adata.shape[0]\n",
    "k = int(0.025*n_cell)\n",
    "\n",
    "oracle.knn_imputation(n_pca_dims=n_comps, k=k, balanced=True, b_sight=k*8,\n",
    "                      b_maxl=k*4, n_jobs=4)\n",
    "\n",
    "base_GRN = co.data.load_human_promoter_base_GRN()\n",
    "\n",
    "# You can load TF info dataframe with the following code.\n",
    "oracle.import_TF_data(TF_info_matrix=base_GRN)"
   ]
  },
  {
   "cell_type": "code",
   "execution_count": 6,
   "metadata": {},
   "outputs": [],
   "source": [
    "oracle.fit_GRN_for_simulation(GRN_unit='whole')"
   ]
  },
  {
   "cell_type": "code",
   "execution_count": 5,
   "metadata": {},
   "outputs": [],
   "source": [
    "# Save cell oracle object\n",
    "#oracle.to_hdf5(\"Norman19.celloracle.oracle\")\n",
    "\n",
    "oracle = co.load_hdf5(\"Norman19.celloracle.oracle\")"
   ]
  },
  {
   "cell_type": "code",
   "execution_count": 6,
   "metadata": {},
   "outputs": [
    {
     "data": {
      "text/plain": [
       "Oracle object\n",
       "\n",
       "Meta data\n",
       "    celloracle version used for instantiation: 0.10.12\n",
       "    n_cells: 91205\n",
       "    n_genes: 5045\n",
       "    cluster_name: condition\n",
       "    dimensional_reduction_name: X_pca\n",
       "    n_target_genes_in_TFdict: 27150 genes\n",
       "    n_regulatory_in_TFdict: 1094 genes\n",
       "    n_regulatory_in_both_TFdict_and_scRNA-seq: 181 genes\n",
       "    n_target_genes_both_TFdict_and_scRNA-seq: 3436 genes\n",
       "    k_for_knn_imputation: 2280\n",
       "Status\n",
       "    Gene expression matrix: Ready\n",
       "    BaseGRN: Ready\n",
       "    PCA calculation: Done\n",
       "    Knn imputation: Done\n",
       "    GRN calculation for simulation: Done"
      ]
     },
     "execution_count": 6,
     "metadata": {},
     "output_type": "execute_result"
    }
   ],
   "source": [
    "oracle"
   ]
  },
  {
   "cell_type": "code",
   "execution_count": 7,
   "metadata": {},
   "outputs": [],
   "source": [
    "def check_pert(x, pertable_genes):\n",
    "    x1, x2 = x.split('+')\n",
    "    if x1 not in pertable_genes and x1 != 'ctrl':\n",
    "        return False\n",
    "    if x2 not in pertable_genes and x2 != 'ctrl':\n",
    "        return False\n",
    "    \n",
    "    else:\n",
    "        return True\n",
    "    \n",
    "def get_pert_value(g):\n",
    "    \n",
    "    if g+'+ctrl' in adata.obs['condition']:\n",
    "        pert_value = adata[adata.obs['condition'] == g+'+ctrl'][:,g].X.mean()\n",
    "            \n",
    "    else:\n",
    "        pert_value = adata[adata.obs['condition'] == 'ctrl+'+g][:,g].X.mean()\n",
    "            \n",
    "    return pert_value\n",
    "\n",
    "def get_pert_effect(pert):\n",
    "    \n",
    "    g1,g2 = pert.split('+')\n",
    "    pert_conditions = {}\n",
    "    \n",
    "    if g1 != 'ctrl':\n",
    "        pert_value_g1 = get_pert_value(g1)\n",
    "        if pert_value_g1 <0:\n",
    "            pert_value_g1 = 1\n",
    "        pert_conditions.update({g1:pert_value_g1})\n",
    "    \n",
    "    if g2 != 'ctrl':\n",
    "        pert_value_g2 = get_pert_value(g2)\n",
    "        if pert_value_g2 <0:\n",
    "            pert_value_g2 = 1\n",
    "        pert_conditions.update({g2:pert_value_g2})\n",
    "    \n",
    "    ctrl_idxs = np.where(oracle.adata.obs['condition']=='ctrl')[0]\n",
    "    oracle.simulate_shift(perturb_condition=pert_conditions,\n",
    "                          ignore_warning=True,\n",
    "                          n_propagation=3)\n",
    "    \n",
    "    perturbed_expression = oracle.adata.layers['simulated_count'][ctrl_idxs,:]\n",
    "    perturbed_expression = perturbed_expression.mean(0)\n",
    "    \n",
    "    #_ = [oracle.adata.layers.pop(k) for k in ['simulation_input', 'simulated_count']]\n",
    "         \n",
    "    return perturbed_expression"
   ]
  },
  {
   "cell_type": "code",
   "execution_count": null,
   "metadata": {},
   "outputs": [
    {
     "name": "stdout",
     "output_type": "stream",
     "text": [
      "MEIS1+ctrl\n",
      "KLF1+FOXA1\n",
      "TBX3+TBX2\n",
      "CEBPE+KLF1\n",
      "ZNF318+FOXL2\n",
      "Failed: ZNF318+FOXL2\n",
      "JUN+CEBPA\n"
     ]
    },
    {
     "name": "stderr",
     "output_type": "stream",
     "text": [
      "/dfs/user/yhr/scenic_env/lib/python3.7/site-packages/scipy/sparse/base.py:581: RuntimeWarning: divide by zero encountered in true_divide\n",
      "  return self.astype(np.float_)._mul_scalar(1./other)\n"
     ]
    },
    {
     "name": "stdout",
     "output_type": "stream",
     "text": [
      "ctrl+MEIS1\n",
      "ETS2+CEBPE\n",
      "POU3F2+FOXL2\n",
      "AHR+KLF1\n",
      "CEBPB+CEBPA\n",
      "FOXL2+MEIS1\n",
      "FOXL2+ctrl\n",
      "FOSB+CEBPE\n",
      "FOSB+CEBPB\n",
      "FOXA3+HOXB9\n",
      "OSR2+ctrl\n",
      "ctrl+SPI1\n",
      "CEBPB+ctrl\n",
      "CEBPB+OSR2\n",
      "FEV+ISL2\n",
      "JUN+ctrl\n",
      "FOXA1+HOXB9\n",
      "ZBTB10+ctrl\n",
      "Failed: ZBTB10+ctrl\n",
      "CEBPE+SPI1\n",
      "FOXA1+FOXL2\n",
      "FOXF1+FOXL2\n",
      "LYL1+CEBPB\n",
      "ctrl+CEBPB\n",
      "PRDM1+ctrl\n",
      "FOSB+OSR2\n",
      "FOXL2+HOXB9\n",
      "ctrl+OSR2\n",
      "JUN+CEBPB\n",
      "ZBTB10+SNAI1\n",
      "Failed: ZBTB10+SNAI1\n",
      "ctrl+FOXL2\n",
      "CEBPE+CEBPB\n",
      "FOXA3+FOXL2\n",
      "SPI1+ctrl\n",
      "EGR1+ctrl\n",
      "ZBTB10+DLX2\n",
      "Failed: ZBTB10+DLX2\n",
      "SNAI1+DLX2\n",
      "ctrl+FOXA1\n",
      "FOXA3+FOXA1\n"
     ]
    },
    {
     "name": "stderr",
     "output_type": "stream",
     "text": [
      "/dfs/user/yhr/scenic_env/lib/python3.7/site-packages/scipy/sparse/base.py:581: RuntimeWarning: divide by zero encountered in true_divide\n",
      "  return self.astype(np.float_)._mul_scalar(1./other)\n"
     ]
    },
    {
     "name": "stdout",
     "output_type": "stream",
     "text": [
      "ctrl+ETS2\n",
      "KLF1+FOXA1\n",
      "HES7+ctrl\n",
      "ZNF318+FOXL2\n",
      "Failed: ZNF318+FOXL2\n",
      "FOXO4+ctrl\n",
      "JUN+CEBPA\n"
     ]
    }
   ],
   "source": [
    "for split_num in range(1,6):\n",
    "    split_file = '/dfs/project/perturb-gnn/datasets/data/norman/splits/norman_simulation_'+str(split_num)+'_0.75.pkl'\n",
    "    split_perts = pd.read_pickle(split_file)\n",
    "    test_perts = split_perts['test']\n",
    "\n",
    "    ctrl_adata = adata[adata.obs['condition']=='ctrl']\n",
    "    ctrl_mean = ctrl_adata.X.toarray().mean(0)\n",
    "\n",
    "    unique_perts = set(np.hstack([x.split('+') for x in adata.obs['condition'].values]))\n",
    "    pertable_genes = [x for x in unique_perts if x in TF_names.iloc[:,0].values]\n",
    "    pertable_test_perts = [p for p in test_perts if check_pert(p, pertable_genes)]\n",
    "\n",
    "    perturbed_expression = {}\n",
    "\n",
    "    for pert in pertable_test_perts:\n",
    "        ## Retry with repeated reloading\n",
    "        oracle._clear_simulation_results()\n",
    "        if pert not in perturbed_expression:\n",
    "            print(pert)\n",
    "            try:\n",
    "                perturbed_expression[pert] = get_pert_effect(pert)\n",
    "            except:\n",
    "                print('Failed: '+pert)\n",
    "    \n",
    "    #np.save('CellOracle_preds_pert_exp_split_'+str(split_num), perturbed_expression)\n",
    "    np.save('CellOracle_preds_pert_exp_split_retry_'+str(split_num), perturbed_expression)"
   ]
  },
  {
   "cell_type": "code",
   "execution_count": null,
   "metadata": {},
   "outputs": [],
   "source": []
  }
 ],
 "metadata": {
  "kernelspec": {
   "display_name": "scenic_env",
   "language": "python",
   "name": "scenic_env"
  },
  "language_info": {
   "codemirror_mode": {
    "name": "ipython",
    "version": 3
   },
   "file_extension": ".py",
   "mimetype": "text/x-python",
   "name": "python",
   "nbconvert_exporter": "python",
   "pygments_lexer": "ipython3",
   "version": "3.7.4"
  }
 },
 "nbformat": 4,
 "nbformat_minor": 2
}

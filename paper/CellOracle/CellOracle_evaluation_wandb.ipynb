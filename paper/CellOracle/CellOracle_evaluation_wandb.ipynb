{
 "cells": [
  {
   "cell_type": "code",
   "execution_count": 1,
   "metadata": {},
   "outputs": [],
   "source": [
    "import numpy as np\n",
    "import pandas as pd\n",
    "import scanpy as sc\n",
    "import pickle \n",
    "import sys\n",
    "\n",
    "sys.path.append('/dfs/user/kexinh/perturb_GNN/pertnet/')\n",
    "#sys.path.append('../../gears_misc/')\n",
    "\n",
    "from model import linear_model\n",
    "from utils import parse_any_pert\n",
    "from tqdm import tqdm\n",
    "from data import PertDataloader\n",
    "from pertdata import PertData\n",
    "import torch\n",
    "from inference_new import evaluate, compute_metrics, deeper_analysis, GI_subgroup, non_dropout_analysis\n",
    "\n",
    "import warnings\n",
    "warnings.filterwarnings(\"ignore\")\n",
    "import argparse\n",
    "\n",
    "seed = 5\n",
    "split_num = seed\n",
    "dataset_name = 'norman'\n",
    "graph_type = 'grnboost'"
   ]
  },
  {
   "cell_type": "code",
   "execution_count": 2,
   "metadata": {},
   "outputs": [],
   "source": [
    "data_path = '/dfs/project/perturb-gnn/datasets/data/'\n",
    "split_num = seed\n",
    "graph_type = graph_type\n",
    "filter_ = 'top50'\n",
    "method = 'linear'\n",
    "dataset = dataset_name\n",
    "#data_path = '/dfs/project/perturb-gnn/datasets/Norman2019/Norman2019_hvg+perts_more_de.h5ad'\n",
    "data_path = '/dfs/project/perturb-gnn/datasets/data/norman/perturb_processed.h5ad'\n",
    "de_adata = sc.read_h5ad('/dfs/project/perturb-gnn/datasets/Norman2019/Norman2019_hvg+perts_more_de.h5ad')\n",
    "\n",
    "adata = sc.read(data_path)\n",
    "if 'gene_symbols' not in adata.var.columns.values:\n",
    "    adata.var['gene_symbols'] = adata.var['gene_name']\n",
    "    \n",
    "if dataset == 'Norman2019':    \n",
    "    split_path = '/dfs/user/kexinh/perturb_GNN/pertnet/splits/Norman2019_simulation_' + str(split_num) + '_0.1.pkl'\n",
    "else:\n",
    "    split_path = '/dfs/project/perturb-gnn/datasets/data/' + dataset + '/splits/' + dataset + '_simulation_' + str(split_num) + '_0.75.pkl'\n",
    "    \n",
    "split = pickle.load(open(split_path, 'rb'))\n",
    "\n",
    "condition2set = {}\n",
    "    \n",
    "for i,j in split.items():\n",
    "    for k in j:\n",
    "        condition2set[k] = i\n",
    "        \n",
    "#adata.obs['split_status'] = [condition2set[i] for i in adata.obs.condition.values]\n",
    "#adata_train = adata[adata.obs['split_status'] == 'train']"
   ]
  },
  {
   "cell_type": "code",
   "execution_count": 3,
   "metadata": {},
   "outputs": [
    {
     "name": "stdout",
     "output_type": "stream",
     "text": [
      "Edges: 14170\n"
     ]
    }
   ],
   "source": [
    "graph_path = '/dfs/project/perturb-gnn/graphs/linear/' + graph_type + '/norman_' + str(split_num) + '_' + str(filter_) + '.csv'\n",
    "weights_path = '/dfs/project/perturb-gnn/graphs/linear/' + graph_type + '/norman_' + str(split_num) + '_' + str(filter_) + '_' + method + '_learntweights.csv'\n",
    "\n",
    "gene_list = adata.var.gene_name.values\n",
    "\n",
    "model = linear_model(graph_path=graph_path, \n",
    "             weights_path=weights_path, \n",
    "             gene_list = gene_list,\n",
    "             binary=False, \n",
    "             pos_edges=False, \n",
    "             hops=1,\n",
    "             species='human')"
   ]
  },
  {
   "cell_type": "code",
   "execution_count": 4,
   "metadata": {},
   "outputs": [
    {
     "name": "stderr",
     "output_type": "stream",
     "text": [
      "Found local copy...\n",
      "These perturbations are not in the GO graph and is thus not able to make prediction for...\n",
      "['RHOXF2BB+ctrl' 'LYL1+IER5L' 'ctrl+IER5L' 'KIAA1804+ctrl' 'IER5L+ctrl'\n",
      " 'RHOXF2BB+ZBTB25' 'RHOXF2BB+SET']\n",
      "Local copy of pyg dataset is detected. Loading...\n",
      "Done!\n",
      "Local copy of split is detected. Loading...\n",
      "Simulation split test composition:\n",
      "combo_seen0:3\n",
      "combo_seen1:56\n",
      "combo_seen2:18\n",
      "unseen_single:40\n",
      "Done!\n",
      "Creating dataloaders....\n",
      "Done!\n"
     ]
    }
   ],
   "source": [
    "gene_path = None\n",
    "    \n",
    "pert_data = PertData('/dfs/project/perturb-gnn/datasets/data', gene_path = gene_path) # specific saved folder\n",
    "pert_data.load(data_path = '/dfs/project/perturb-gnn/datasets/data/' + dataset) \n",
    "\n",
    "pert_data.prepare_split(split = 'simulation', seed = split_num)\n",
    "\n",
    "\n",
    "### TODO --------\n",
    "## Modify split here\n",
    "\n",
    "pert_data.get_dataloader(batch_size = 128, test_batch_size = 128)\n",
    "\n",
    "pred_delta = {pert: model.simulate_pert(parse_any_pert(pert)) for pert in split['test']}\n",
    "adata_ctrl = adata[adata.obs.condition == 'ctrl']"
   ]
  },
  {
   "cell_type": "code",
   "execution_count": 5,
   "metadata": {
    "scrolled": true
   },
   "outputs": [
    {
     "name": "stderr",
     "output_type": "stream",
     "text": [
      "100%|█████████████████████████████████████████| 259/259 [01:32<00:00,  2.79it/s]\n"
     ]
    }
   ],
   "source": [
    "pert_cat = []\n",
    "pred = []\n",
    "truth = []\n",
    "pred_de = []\n",
    "truth_de = []\n",
    "results = {}\n",
    "\n",
    "for batch in tqdm(pert_data.dataloader['test_loader']):\n",
    "    \n",
    "    pert_cat.extend(batch.pert)\n",
    "    p = np.array([pred_delta[i]+adata_ctrl.X[np.random.randint(0, adata_ctrl.shape[0])].toarray().reshape(-1,) for i in batch.pert])\n",
    "    t = batch.y\n",
    "\n",
    "    pred.extend(p)\n",
    "    truth.extend(t.cpu())\n",
    "\n",
    "    # Differentially expressed genes\n",
    "    for itr, de_idx in enumerate(batch.de_idx):\n",
    "        pred_de.append(p[itr, de_idx])\n",
    "        truth_de.append(t[itr, de_idx])\n",
    "        \n",
    "# all genes\n",
    "results['pert_cat'] = np.array(pert_cat)\n",
    "\n",
    "pred = np.stack(pred)\n",
    "truth = torch.stack(truth)\n",
    "results['pred']= pred\n",
    "results['truth']= truth.detach().cpu().numpy()\n",
    "\n",
    "pred_de = np.stack(pred_de)\n",
    "truth_de = torch.stack(truth_de)\n",
    "results['pred_de']= pred_de\n",
    "results['truth_de']= truth_de.detach().cpu().numpy()\n"
   ]
  },
  {
   "cell_type": "markdown",
   "metadata": {},
   "source": [
    "## CellOracle Evaluation"
   ]
  },
  {
   "cell_type": "code",
   "execution_count": 6,
   "metadata": {},
   "outputs": [],
   "source": [
    "perturbed_expression = np.load('CellOracle_preds_pert_exp_split_'+str(split_num)+'.npy', allow_pickle=True).item()\n",
    "#perturbed_expression = np.load('CellOracle_preds_pert_exp_split_retry_'+str(split_num)+'.npy', allow_pickle=True).item()"
   ]
  },
  {
   "cell_type": "code",
   "execution_count": 7,
   "metadata": {},
   "outputs": [],
   "source": [
    "adata_df = adata.to_df()\n",
    "adata_df['condition'] = adata.obs['condition'].values\n",
    "mean_adata_df = adata_df.groupby('condition').mean()\n",
    "condition_name_dict = adata.obs.set_index('condition').loc[:,'condition_name'].to_dict()\n",
    "de_adata.obs['condition_name'] = de_adata.obs['condition'].map(condition_name_dict)"
   ]
  },
  {
   "cell_type": "code",
   "execution_count": 8,
   "metadata": {},
   "outputs": [],
   "source": [
    "def get_de_idx(c, num_de_genes = 20):\n",
    "    de_idx = np.where(adata.var_names.isin(\n",
    "        np.array(de_genes[condition_name_dict[c]][:num_de_genes])))[0]\n",
    "    return de_idx"
   ]
  },
  {
   "cell_type": "code",
   "execution_count": 9,
   "metadata": {},
   "outputs": [],
   "source": [
    "test_res = {}\n",
    "\n",
    "perturbed_expression_df = pd.DataFrame(perturbed_expression).T\n",
    "de_genes = adata.uns['rank_genes_groups_cov_all']\n",
    "\n",
    "test_res['pert_cat'] = perturbed_expression_df.index.values\n",
    "test_res['pred'] = perturbed_expression_df.values\n",
    "test_res['truth'] = mean_adata_df.loc[test_res['pert_cat']].values"
   ]
  },
  {
   "cell_type": "code",
   "execution_count": 10,
   "metadata": {},
   "outputs": [],
   "source": [
    "## Computing DE genes\n",
    "pred_de_list = []\n",
    "truth_de_list = []\n",
    "\n",
    "for itr, c in enumerate(test_res['pert_cat']):\n",
    "    de_idx = get_de_idx(c)\n",
    "    pred_de_list.append(test_res['pred'][itr][de_idx])\n",
    "    truth_de_list.append(test_res['truth'][itr][de_idx])\n",
    "    \n",
    "test_res['pred_de'] = np.array(pred_de_list)\n",
    "test_res['truth_de'] = np.array(truth_de_list)"
   ]
  },
  {
   "cell_type": "code",
   "execution_count": 11,
   "metadata": {},
   "outputs": [],
   "source": [
    "for k in test_res:\n",
    "    test_res[k] = np.repeat(test_res[k], 50, 0)"
   ]
  },
  {
   "cell_type": "code",
   "execution_count": 12,
   "metadata": {},
   "outputs": [
    {
     "name": "stderr",
     "output_type": "stream",
     "text": [
      "Failed to detect the name of this notebook, you can set it manually with the WANDB_NOTEBOOK_NAME environment variable to enable code saving.\n",
      "\u001b[34m\u001b[1mwandb\u001b[0m: Currently logged in as: \u001b[33myroohani\u001b[0m. Use \u001b[1m`wandb login --relogin`\u001b[0m to force relogin\n"
     ]
    },
    {
     "data": {
      "text/html": [
       "wandb version 0.15.0 is available!  To upgrade, please run:\n",
       " $ pip install wandb --upgrade"
      ],
      "text/plain": [
       "<IPython.core.display.HTML object>"
      ]
     },
     "metadata": {},
     "output_type": "display_data"
    },
    {
     "data": {
      "text/html": [
       "Tracking run with wandb version 0.13.9"
      ],
      "text/plain": [
       "<IPython.core.display.HTML object>"
      ]
     },
     "metadata": {},
     "output_type": "display_data"
    },
    {
     "data": {
      "text/html": [
       "Run data is saved locally in <code>/dfs/user/yhr/gears2/linear/wandb/run-20230428_101730-6s9ujyog</code>"
      ],
      "text/plain": [
       "<IPython.core.display.HTML object>"
      ]
     },
     "metadata": {},
     "output_type": "display_data"
    },
    {
     "data": {
      "text/html": [
       "Syncing run <strong><a href=\"https://wandb.ai/yroohani/co_baseline/runs/6s9ujyog\" target=\"_blank\">norman_CO_retry_5</a></strong> to <a href=\"https://wandb.ai/yroohani/co_baseline\" target=\"_blank\">Weights & Biases</a> (<a href=\"https://wandb.me/run\" target=\"_blank\">docs</a>)<br/>"
      ],
      "text/plain": [
       "<IPython.core.display.HTML object>"
      ]
     },
     "metadata": {},
     "output_type": "display_data"
    },
    {
     "data": {
      "text/html": [
       " View project at <a href=\"https://wandb.ai/yroohani/co_baseline\" target=\"_blank\">https://wandb.ai/yroohani/co_baseline</a>"
      ],
      "text/plain": [
       "<IPython.core.display.HTML object>"
      ]
     },
     "metadata": {},
     "output_type": "display_data"
    },
    {
     "data": {
      "text/html": [
       " View run at <a href=\"https://wandb.ai/yroohani/co_baseline/runs/6s9ujyog\" target=\"_blank\">https://wandb.ai/yroohani/co_baseline/runs/6s9ujyog</a>"
      ],
      "text/plain": [
       "<IPython.core.display.HTML object>"
      ]
     },
     "metadata": {},
     "output_type": "display_data"
    }
   ],
   "source": [
    "import wandb \n",
    "wandb.init(project='co_baseline', entity='yroohani', name= '_CO_'.join([dataset_name, str(split_num)]))\n",
    "\n",
    "args = {}\n",
    "args['wandb'] = True\n",
    "\n",
    "out = deeper_analysis(de_adata, test_res)\n",
    "out_non_dropout = non_dropout_analysis(de_adata, test_res)\n",
    "\n",
    "metrics = ['pearson_delta']\n",
    "metrics_non_dropout = ['frac_opposite_direction_top20_non_dropout', 'frac_sigma_below_1_non_dropout', 'mse_top20_de_non_dropout']\n",
    "    \n",
    "if args['wandb']:\n",
    "    for m in metrics:\n",
    "        wandb.log({'test_' + m: np.mean([j[m] for i,j in out.items() if m in j])})\n",
    "\n",
    "    for m in metrics_non_dropout:\n",
    "        wandb.log({'test_' + m: np.mean([j[m] for i,j in out_non_dropout.items() if m in j])})    "
   ]
  },
  {
   "cell_type": "markdown",
   "metadata": {},
   "source": [
    "## GRN-Baseline Evaluation"
   ]
  },
  {
   "cell_type": "code",
   "execution_count": 13,
   "metadata": {},
   "outputs": [
    {
     "data": {
      "text/html": [
       "Finishing last run (ID:6s9ujyog) before initializing another..."
      ],
      "text/plain": [
       "<IPython.core.display.HTML object>"
      ]
     },
     "metadata": {},
     "output_type": "display_data"
    },
    {
     "data": {
      "text/html": [
       "Waiting for W&B process to finish... <strong style=\"color:green\">(success).</strong>"
      ],
      "text/plain": [
       "<IPython.core.display.HTML object>"
      ]
     },
     "metadata": {},
     "output_type": "display_data"
    },
    {
     "data": {
      "application/vnd.jupyter.widget-view+json": {
       "model_id": "f79fe35b5ac546f28852875020658c00",
       "version_major": 2,
       "version_minor": 0
      },
      "text/plain": [
       "VBox(children=(Label(value='0.015 MB of 0.015 MB uploaded (0.000 MB deduped)\\r'), FloatProgress(value=1.0, max…"
      ]
     },
     "metadata": {},
     "output_type": "display_data"
    },
    {
     "data": {
      "text/html": [
       "<style>\n",
       "    table.wandb td:nth-child(1) { padding: 0 10px; text-align: left ; width: auto;} td:nth-child(2) {text-align: left ; width: 100%}\n",
       "    .wandb-row { display: flex; flex-direction: row; flex-wrap: wrap; justify-content: flex-start; width: 100% }\n",
       "    .wandb-col { display: flex; flex-direction: column; flex-basis: 100%; flex: 1; padding: 10px; }\n",
       "    </style>\n",
       "<div class=\"wandb-row\"><div class=\"wandb-col\"><h3>Run history:</h3><br/><table class=\"wandb\"><tr><td>test_frac_opposite_direction_top20_non_dropout</td><td>▁</td></tr><tr><td>test_frac_sigma_below_1_non_dropout</td><td>▁</td></tr><tr><td>test_mse_top20_de_non_dropout</td><td>▁</td></tr><tr><td>test_pearson_delta</td><td>▁</td></tr></table><br/></div><div class=\"wandb-col\"><h3>Run summary:</h3><br/><table class=\"wandb\"><tr><td>test_frac_opposite_direction_top20_non_dropout</td><td>0.44189</td></tr><tr><td>test_frac_sigma_below_1_non_dropout</td><td>0.0027</td></tr><tr><td>test_mse_top20_de_non_dropout</td><td>1.7526</td></tr><tr><td>test_pearson_delta</td><td>0.13631</td></tr></table><br/></div></div>"
      ],
      "text/plain": [
       "<IPython.core.display.HTML object>"
      ]
     },
     "metadata": {},
     "output_type": "display_data"
    },
    {
     "data": {
      "text/html": [
       " View run <strong style=\"color:#cdcd00\">norman_CO_retry_5</strong> at: <a href=\"https://wandb.ai/yroohani/co_baseline/runs/6s9ujyog\" target=\"_blank\">https://wandb.ai/yroohani/co_baseline/runs/6s9ujyog</a><br/>Synced 4 W&B file(s), 0 media file(s), 0 artifact file(s) and 0 other file(s)"
      ],
      "text/plain": [
       "<IPython.core.display.HTML object>"
      ]
     },
     "metadata": {},
     "output_type": "display_data"
    },
    {
     "data": {
      "text/html": [
       "Find logs at: <code>./wandb/run-20230428_101730-6s9ujyog/logs</code>"
      ],
      "text/plain": [
       "<IPython.core.display.HTML object>"
      ]
     },
     "metadata": {},
     "output_type": "display_data"
    },
    {
     "data": {
      "text/html": [
       "Successfully finished last run (ID:6s9ujyog). Initializing new run:<br/>"
      ],
      "text/plain": [
       "<IPython.core.display.HTML object>"
      ]
     },
     "metadata": {},
     "output_type": "display_data"
    },
    {
     "data": {
      "text/html": [
       "wandb version 0.15.0 is available!  To upgrade, please run:\n",
       " $ pip install wandb --upgrade"
      ],
      "text/plain": [
       "<IPython.core.display.HTML object>"
      ]
     },
     "metadata": {},
     "output_type": "display_data"
    },
    {
     "data": {
      "text/html": [
       "Tracking run with wandb version 0.13.9"
      ],
      "text/plain": [
       "<IPython.core.display.HTML object>"
      ]
     },
     "metadata": {},
     "output_type": "display_data"
    },
    {
     "data": {
      "text/html": [
       "Run data is saved locally in <code>/dfs/user/yhr/gears2/linear/wandb/run-20230428_101745-vbft2szt</code>"
      ],
      "text/plain": [
       "<IPython.core.display.HTML object>"
      ]
     },
     "metadata": {},
     "output_type": "display_data"
    },
    {
     "data": {
      "text/html": [
       "Syncing run <strong><a href=\"https://wandb.ai/yroohani/co_baseline/runs/vbft2szt\" target=\"_blank\">norman_GRN_Base_retry_5</a></strong> to <a href=\"https://wandb.ai/yroohani/co_baseline\" target=\"_blank\">Weights & Biases</a> (<a href=\"https://wandb.me/run\" target=\"_blank\">docs</a>)<br/>"
      ],
      "text/plain": [
       "<IPython.core.display.HTML object>"
      ]
     },
     "metadata": {},
     "output_type": "display_data"
    },
    {
     "data": {
      "text/html": [
       " View project at <a href=\"https://wandb.ai/yroohani/co_baseline\" target=\"_blank\">https://wandb.ai/yroohani/co_baseline</a>"
      ],
      "text/plain": [
       "<IPython.core.display.HTML object>"
      ]
     },
     "metadata": {},
     "output_type": "display_data"
    },
    {
     "data": {
      "text/html": [
       " View run at <a href=\"https://wandb.ai/yroohani/co_baseline/runs/vbft2szt\" target=\"_blank\">https://wandb.ai/yroohani/co_baseline/runs/vbft2szt</a>"
      ],
      "text/plain": [
       "<IPython.core.display.HTML object>"
      ]
     },
     "metadata": {},
     "output_type": "display_data"
    }
   ],
   "source": [
    "test_metrics, test_pert_res = compute_metrics(results)\n",
    "test_res = results\n",
    "\n",
    "# Subset to those perturbations that can be predicted in CellOracle\n",
    "test_res_small = {}\n",
    "perts_to_keep = np.where([x in perturbed_expression.keys() for x in test_res['pert_cat']])\n",
    "for k in test_res.keys():\n",
    "    test_res_small[k] = test_res[k][perts_to_keep]\n",
    "\n",
    "wandb.init(project='co_baseline', entity='yroohani', name= '_GRN_Base_'.join([dataset_name, str(split_num)]))\n",
    "args = {}\n",
    "args['wandb'] = True\n",
    "\n",
    "out = deeper_analysis(adata, test_res_small)\n",
    "out_non_dropout = non_dropout_analysis(adata, test_res_small)\n",
    "\n",
    "metrics = ['pearson_delta']\n",
    "metrics_non_dropout = ['frac_opposite_direction_top20_non_dropout', 'frac_sigma_below_1_non_dropout', 'mse_top20_de_non_dropout']\n",
    "    \n",
    "if args['wandb']:\n",
    "    for m in metrics:\n",
    "        wandb.log({'test_' + m: np.mean([j[m] for i,j in out.items() if m in j])})\n",
    "\n",
    "    for m in metrics_non_dropout:\n",
    "        wandb.log({'test_' + m: np.mean([j[m] for i,j in out_non_dropout.items() if m in j])})        \n"
   ]
  },
  {
   "cell_type": "markdown",
   "metadata": {},
   "source": [
    "## GEARS Evaluation"
   ]
  },
  {
   "cell_type": "code",
   "execution_count": 14,
   "metadata": {},
   "outputs": [],
   "source": [
    "import sys\n",
    "sys.path.append('../../')\n",
    "\n",
    "from gears_temp.gears import PertData, GEARS\n",
    "import numpy as np\n",
    "import pandas as pd\n",
    "import scanpy as sc"
   ]
  },
  {
   "cell_type": "code",
   "execution_count": 15,
   "metadata": {},
   "outputs": [],
   "source": [
    "## GEARS prediction\n",
    "data_path = '/dfs/project/perturb-gnn/datasets/data/'\n",
    "data_name = 'norman'\n",
    "model_name = 'gears'\n",
    "\n",
    "gears_model = GEARS(pert_data, device = 'cuda:5', \n",
    "                        weight_bias_track = False, \n",
    "                        proj_name = 'gears', \n",
    "                        exp_name = model_name)\n",
    "gears_model.load_pretrained('../Evaluation/model_ckpt/norman_gears_run' + str(seed) + '/')"
   ]
  },
  {
   "cell_type": "code",
   "execution_count": 16,
   "metadata": {},
   "outputs": [
    {
     "name": "stdout",
     "output_type": "stream",
     "text": [
      "['KLF1']\n",
      "['KLF1', 'FOXA1']\n",
      "['KLF1']\n",
      "['RREB1']\n",
      "['CEBPE', 'KLF1']\n",
      "['DLX2']\n",
      "['JUN', 'CEBPA']\n",
      "['TP73']\n",
      "['IKZF3']\n",
      "['POU3F2', 'FOXL2']\n",
      "['HOXB9']\n",
      "['HOXB9']\n",
      "['AHR', 'KLF1']\n",
      "['CEBPB', 'CEBPA']\n",
      "['DLX2']\n",
      "['CEBPA']\n",
      "['FOSB', 'CEBPB']\n",
      "['KLF1', 'CEBPA']\n",
      "['FOXA3', 'HOXB9']\n",
      "['CEBPE', 'CEBPA']\n",
      "['IKZF3']\n",
      "['FOXF1', 'HOXB9']\n",
      "['CEBPB']\n",
      "['CEBPB', 'OSR2']\n",
      "['CEBPA']\n",
      "['FOXA1', 'HOXB9']\n",
      "['CEBPE', 'SPI1']\n",
      "['ETS2', 'IKZF3']\n",
      "['LYL1', 'CEBPB']\n",
      "['CEBPB']\n",
      "['FOSB', 'IKZF3']\n",
      "['FOSB', 'OSR2']\n",
      "['FOXL2', 'HOXB9']\n",
      "['JUN', 'CEBPB']\n",
      "['CEBPE', 'CEBPB']\n",
      "['FOXA1', 'FOXF1']\n",
      "['SNAI1', 'DLX2']\n"
     ]
    }
   ],
   "source": [
    "key_map = {}\n",
    "pert_cat = []\n",
    "pred = []\n",
    "truth = []\n",
    "pred_de = []\n",
    "truth_de = []\n",
    "results = {}\n",
    "\n",
    "for k in perturbed_expression.keys():\n",
    "    pert = [p for p in k.split('+') if p != 'ctrl']\n",
    "    \n",
    "    print(pert)\n",
    "    key_map['_'.join(pert)] = k    \n",
    "    gears_model.predict([pert])"
   ]
  },
  {
   "cell_type": "code",
   "execution_count": 17,
   "metadata": {},
   "outputs": [],
   "source": [
    "gears_test_res = {}\n",
    "\n",
    "gears_pred = pd.DataFrame(gears_model.saved_pred).T\n",
    "gears_pred.index = gears_pred.index.map(key_map)\n",
    "\n",
    "de_genes = adata.uns['rank_genes_groups_cov_all']\n",
    "gears_test_res['pert_cat'] = gears_pred.index.values\n",
    "gears_test_res['pred'] = gears_pred.values\n",
    "gears_test_res['truth'] = mean_adata_df.loc[gears_test_res['pert_cat']].values"
   ]
  },
  {
   "cell_type": "code",
   "execution_count": 18,
   "metadata": {},
   "outputs": [],
   "source": [
    "## Computing DE genes\n",
    "pred_de_list = []\n",
    "truth_de_list = []\n",
    "\n",
    "for itr, c in enumerate(gears_test_res['pert_cat']):\n",
    "    de_idx = get_de_idx(c)\n",
    "    pred_de_list.append(gears_test_res['pred'][itr][de_idx])\n",
    "    truth_de_list.append(gears_test_res['truth'][itr][de_idx])\n",
    "    \n",
    "gears_test_res['pred_de'] = np.array(pred_de_list)\n",
    "gears_test_res['truth_de'] = np.array(truth_de_list)"
   ]
  },
  {
   "cell_type": "code",
   "execution_count": 19,
   "metadata": {},
   "outputs": [],
   "source": [
    "for k in gears_test_res:\n",
    "    gears_test_res[k] = np.repeat(gears_test_res[k], 50, 0)"
   ]
  },
  {
   "cell_type": "code",
   "execution_count": 20,
   "metadata": {},
   "outputs": [
    {
     "data": {
      "text/html": [
       "Finishing last run (ID:vbft2szt) before initializing another..."
      ],
      "text/plain": [
       "<IPython.core.display.HTML object>"
      ]
     },
     "metadata": {},
     "output_type": "display_data"
    },
    {
     "data": {
      "text/html": [
       "Waiting for W&B process to finish... <strong style=\"color:green\">(success).</strong>"
      ],
      "text/plain": [
       "<IPython.core.display.HTML object>"
      ]
     },
     "metadata": {},
     "output_type": "display_data"
    },
    {
     "data": {
      "application/vnd.jupyter.widget-view+json": {
       "model_id": "470c16e41196443f9d4501e2324fa071",
       "version_major": 2,
       "version_minor": 0
      },
      "text/plain": [
       "VBox(children=(Label(value='0.015 MB of 0.015 MB uploaded (0.000 MB deduped)\\r'), FloatProgress(value=1.0, max…"
      ]
     },
     "metadata": {},
     "output_type": "display_data"
    },
    {
     "data": {
      "text/html": [
       "<style>\n",
       "    table.wandb td:nth-child(1) { padding: 0 10px; text-align: left ; width: auto;} td:nth-child(2) {text-align: left ; width: 100%}\n",
       "    .wandb-row { display: flex; flex-direction: row; flex-wrap: wrap; justify-content: flex-start; width: 100% }\n",
       "    .wandb-col { display: flex; flex-direction: column; flex-basis: 100%; flex: 1; padding: 10px; }\n",
       "    </style>\n",
       "<div class=\"wandb-row\"><div class=\"wandb-col\"><h3>Run history:</h3><br/><table class=\"wandb\"><tr><td>test_frac_opposite_direction_top20_non_dropout</td><td>▁</td></tr><tr><td>test_frac_sigma_below_1_non_dropout</td><td>▁</td></tr><tr><td>test_mse_top20_de_non_dropout</td><td>▁</td></tr><tr><td>test_pearson_delta</td><td>▁</td></tr></table><br/></div><div class=\"wandb-col\"><h3>Run summary:</h3><br/><table class=\"wandb\"><tr><td>test_frac_opposite_direction_top20_non_dropout</td><td>0.39459</td></tr><tr><td>test_frac_sigma_below_1_non_dropout</td><td>0.50405</td></tr><tr><td>test_mse_top20_de_non_dropout</td><td>0.78903</td></tr><tr><td>test_pearson_delta</td><td>0.21152</td></tr></table><br/></div></div>"
      ],
      "text/plain": [
       "<IPython.core.display.HTML object>"
      ]
     },
     "metadata": {},
     "output_type": "display_data"
    },
    {
     "data": {
      "text/html": [
       " View run <strong style=\"color:#cdcd00\">norman_GRN_Base_retry_5</strong> at: <a href=\"https://wandb.ai/yroohani/co_baseline/runs/vbft2szt\" target=\"_blank\">https://wandb.ai/yroohani/co_baseline/runs/vbft2szt</a><br/>Synced 5 W&B file(s), 0 media file(s), 0 artifact file(s) and 0 other file(s)"
      ],
      "text/plain": [
       "<IPython.core.display.HTML object>"
      ]
     },
     "metadata": {},
     "output_type": "display_data"
    },
    {
     "data": {
      "text/html": [
       "Find logs at: <code>./wandb/run-20230428_101745-vbft2szt/logs</code>"
      ],
      "text/plain": [
       "<IPython.core.display.HTML object>"
      ]
     },
     "metadata": {},
     "output_type": "display_data"
    },
    {
     "data": {
      "text/html": [
       "Successfully finished last run (ID:vbft2szt). Initializing new run:<br/>"
      ],
      "text/plain": [
       "<IPython.core.display.HTML object>"
      ]
     },
     "metadata": {},
     "output_type": "display_data"
    },
    {
     "data": {
      "text/html": [
       "wandb version 0.15.0 is available!  To upgrade, please run:\n",
       " $ pip install wandb --upgrade"
      ],
      "text/plain": [
       "<IPython.core.display.HTML object>"
      ]
     },
     "metadata": {},
     "output_type": "display_data"
    },
    {
     "data": {
      "text/html": [
       "Tracking run with wandb version 0.13.9"
      ],
      "text/plain": [
       "<IPython.core.display.HTML object>"
      ]
     },
     "metadata": {},
     "output_type": "display_data"
    },
    {
     "data": {
      "text/html": [
       "Run data is saved locally in <code>/dfs/user/yhr/gears2/linear/wandb/run-20230428_101834-akynz9hw</code>"
      ],
      "text/plain": [
       "<IPython.core.display.HTML object>"
      ]
     },
     "metadata": {},
     "output_type": "display_data"
    },
    {
     "data": {
      "text/html": [
       "Syncing run <strong><a href=\"https://wandb.ai/yroohani/co_baseline/runs/akynz9hw\" target=\"_blank\">norman_GEARS_retry_5</a></strong> to <a href=\"https://wandb.ai/yroohani/co_baseline\" target=\"_blank\">Weights & Biases</a> (<a href=\"https://wandb.me/run\" target=\"_blank\">docs</a>)<br/>"
      ],
      "text/plain": [
       "<IPython.core.display.HTML object>"
      ]
     },
     "metadata": {},
     "output_type": "display_data"
    },
    {
     "data": {
      "text/html": [
       " View project at <a href=\"https://wandb.ai/yroohani/co_baseline\" target=\"_blank\">https://wandb.ai/yroohani/co_baseline</a>"
      ],
      "text/plain": [
       "<IPython.core.display.HTML object>"
      ]
     },
     "metadata": {},
     "output_type": "display_data"
    },
    {
     "data": {
      "text/html": [
       " View run at <a href=\"https://wandb.ai/yroohani/co_baseline/runs/akynz9hw\" target=\"_blank\">https://wandb.ai/yroohani/co_baseline/runs/akynz9hw</a>"
      ],
      "text/plain": [
       "<IPython.core.display.HTML object>"
      ]
     },
     "metadata": {},
     "output_type": "display_data"
    }
   ],
   "source": [
    "import wandb \n",
    "wandb.init(project='co_baseline', entity='yroohani', name= '_GEARS_'.join([dataset_name, str(split_num)]))\n",
    "\n",
    "args = {}\n",
    "args['wandb'] = True\n",
    "\n",
    "out = deeper_analysis(de_adata, gears_test_res)\n",
    "out_non_dropout = non_dropout_analysis(de_adata, gears_test_res)\n",
    "\n",
    "metrics = ['pearson_delta']\n",
    "metrics_non_dropout = ['frac_opposite_direction_top20_non_dropout', 'frac_sigma_below_1_non_dropout', 'mse_top20_de_non_dropout']\n",
    "    \n",
    "if args['wandb']:\n",
    "    for m in metrics:\n",
    "        wandb.log({'test_' + m: np.mean([j[m] for i,j in out.items() if m in j])})\n",
    "\n",
    "    for m in metrics_non_dropout:\n",
    "        wandb.log({'test_' + m: np.mean([j[m] for i,j in out_non_dropout.items() if m in j])})    "
   ]
  },
  {
   "cell_type": "markdown",
   "metadata": {},
   "source": [
    "## No pert baseline"
   ]
  },
  {
   "cell_type": "code",
   "execution_count": 21,
   "metadata": {},
   "outputs": [
    {
     "name": "stdout",
     "output_type": "stream",
     "text": [
      "['KLF1']\n",
      "['KLF1', 'FOXA1']\n",
      "['KLF1']\n",
      "['RREB1']\n",
      "['CEBPE', 'KLF1']\n",
      "['DLX2']\n",
      "['JUN', 'CEBPA']\n",
      "['TP73']\n",
      "['IKZF3']\n",
      "['POU3F2', 'FOXL2']\n",
      "['HOXB9']\n",
      "['HOXB9']\n",
      "['AHR', 'KLF1']\n",
      "['CEBPB', 'CEBPA']\n",
      "['DLX2']\n",
      "['CEBPA']\n",
      "['FOSB', 'CEBPB']\n",
      "['KLF1', 'CEBPA']\n",
      "['FOXA3', 'HOXB9']\n",
      "['CEBPE', 'CEBPA']\n",
      "['IKZF3']\n",
      "['FOXF1', 'HOXB9']\n",
      "['CEBPB']\n",
      "['CEBPB', 'OSR2']\n",
      "['CEBPA']\n",
      "['FOXA1', 'HOXB9']\n",
      "['CEBPE', 'SPI1']\n",
      "['ETS2', 'IKZF3']\n",
      "['LYL1', 'CEBPB']\n",
      "['CEBPB']\n",
      "['FOSB', 'IKZF3']\n",
      "['FOSB', 'OSR2']\n",
      "['FOXL2', 'HOXB9']\n",
      "['JUN', 'CEBPB']\n",
      "['CEBPE', 'CEBPB']\n",
      "['FOXA1', 'FOXF1']\n",
      "['SNAI1', 'DLX2']\n"
     ]
    }
   ],
   "source": [
    "import sys\n",
    "sys.path.append('../../')\n",
    "\n",
    "from gears_temp.gears import PertData, GEARS\n",
    "import numpy as np\n",
    "import pandas as pd\n",
    "import scanpy as sc\n",
    "\n",
    "## No perturb prediction\n",
    "data_path = '/dfs/project/perturb-gnn/datasets/data/'\n",
    "data_name = 'norman'\n",
    "model_name = 'gears'\n",
    "\n",
    "gears_model = GEARS(pert_data, device = 'cuda:5', \n",
    "                        weight_bias_track = False, \n",
    "                        proj_name = 'gears', \n",
    "                        exp_name = model_name)\n",
    "gears_model.load_pretrained('../Evaluation/model_ckpt/norman_gears_run' + str(seed) + '/')\n",
    "\n",
    "gears_model.no_perturb=True\n",
    "gears_model.model.no_perturb = True\n",
    "\n",
    "key_map = {}\n",
    "pert_cat = []\n",
    "pred = []\n",
    "truth = []\n",
    "pred_de = []\n",
    "truth_de = []\n",
    "results = {}\n",
    "\n",
    "for k in perturbed_expression.keys():\n",
    "    pert = [p for p in k.split('+') if p != 'ctrl']\n",
    "    \n",
    "    print(pert)\n",
    "    key_map['_'.join(pert)] = k    \n",
    "    gears_model.predict([pert])\n",
    "\n",
    "    \n",
    "gears_test_res = {}\n",
    "\n",
    "gears_pred = pd.DataFrame(gears_model.saved_pred).T\n",
    "gears_pred.index = gears_pred.index.map(key_map)\n",
    "\n",
    "de_genes = adata.uns['rank_genes_groups_cov_all']\n",
    "gears_test_res['pert_cat'] = gears_pred.index.values\n",
    "gears_test_res['pred'] = gears_pred.values\n",
    "gears_test_res['truth'] = mean_adata_df.loc[gears_test_res['pert_cat']].values\n",
    "## Computing DE genes\n",
    "pred_de_list = []\n",
    "truth_de_list = []\n",
    "\n",
    "for itr, c in enumerate(gears_test_res['pert_cat']):\n",
    "    de_idx = get_de_idx(c)\n",
    "    pred_de_list.append(gears_test_res['pred'][itr][de_idx])\n",
    "    truth_de_list.append(gears_test_res['truth'][itr][de_idx])\n",
    "    \n",
    "gears_test_res['pred_de'] = np.array(pred_de_list)\n",
    "gears_test_res['truth_de'] = np.array(truth_de_list)\n",
    "for k in gears_test_res:\n",
    "    gears_test_res[k] = np.repeat(gears_test_res[k], 50, 0)\n"
   ]
  },
  {
   "cell_type": "code",
   "execution_count": 22,
   "metadata": {},
   "outputs": [
    {
     "data": {
      "text/html": [
       "Finishing last run (ID:akynz9hw) before initializing another..."
      ],
      "text/plain": [
       "<IPython.core.display.HTML object>"
      ]
     },
     "metadata": {},
     "output_type": "display_data"
    },
    {
     "data": {
      "text/html": [
       "Waiting for W&B process to finish... <strong style=\"color:green\">(success).</strong>"
      ],
      "text/plain": [
       "<IPython.core.display.HTML object>"
      ]
     },
     "metadata": {},
     "output_type": "display_data"
    },
    {
     "data": {
      "application/vnd.jupyter.widget-view+json": {
       "model_id": "fa057ac3a4644aa490916f4b73303d4a",
       "version_major": 2,
       "version_minor": 0
      },
      "text/plain": [
       "VBox(children=(Label(value='0.015 MB of 0.015 MB uploaded (0.000 MB deduped)\\r'), FloatProgress(value=1.0, max…"
      ]
     },
     "metadata": {},
     "output_type": "display_data"
    },
    {
     "data": {
      "text/html": [
       "<style>\n",
       "    table.wandb td:nth-child(1) { padding: 0 10px; text-align: left ; width: auto;} td:nth-child(2) {text-align: left ; width: 100%}\n",
       "    .wandb-row { display: flex; flex-direction: row; flex-wrap: wrap; justify-content: flex-start; width: 100% }\n",
       "    .wandb-col { display: flex; flex-direction: column; flex-basis: 100%; flex: 1; padding: 10px; }\n",
       "    </style>\n",
       "<div class=\"wandb-row\"><div class=\"wandb-col\"><h3>Run history:</h3><br/><table class=\"wandb\"><tr><td>test_frac_opposite_direction_top20_non_dropout</td><td>▁</td></tr><tr><td>test_frac_sigma_below_1_non_dropout</td><td>▁</td></tr><tr><td>test_mse_top20_de_non_dropout</td><td>▁</td></tr><tr><td>test_pearson_delta</td><td>▁</td></tr></table><br/></div><div class=\"wandb-col\"><h3>Run summary:</h3><br/><table class=\"wandb\"><tr><td>test_frac_opposite_direction_top20_non_dropout</td><td>0.08548</td></tr><tr><td>test_frac_sigma_below_1_non_dropout</td><td>0.0</td></tr><tr><td>test_mse_top20_de_non_dropout</td><td>0.34941</td></tr><tr><td>test_pearson_delta</td><td>0.65896</td></tr></table><br/></div></div>"
      ],
      "text/plain": [
       "<IPython.core.display.HTML object>"
      ]
     },
     "metadata": {},
     "output_type": "display_data"
    },
    {
     "data": {
      "text/html": [
       " View run <strong style=\"color:#cdcd00\">norman_GEARS_retry_5</strong> at: <a href=\"https://wandb.ai/yroohani/co_baseline/runs/akynz9hw\" target=\"_blank\">https://wandb.ai/yroohani/co_baseline/runs/akynz9hw</a><br/>Synced 5 W&B file(s), 0 media file(s), 0 artifact file(s) and 0 other file(s)"
      ],
      "text/plain": [
       "<IPython.core.display.HTML object>"
      ]
     },
     "metadata": {},
     "output_type": "display_data"
    },
    {
     "data": {
      "text/html": [
       "Find logs at: <code>./wandb/run-20230428_101834-akynz9hw/logs</code>"
      ],
      "text/plain": [
       "<IPython.core.display.HTML object>"
      ]
     },
     "metadata": {},
     "output_type": "display_data"
    },
    {
     "data": {
      "text/html": [
       "Successfully finished last run (ID:akynz9hw). Initializing new run:<br/>"
      ],
      "text/plain": [
       "<IPython.core.display.HTML object>"
      ]
     },
     "metadata": {},
     "output_type": "display_data"
    },
    {
     "data": {
      "application/vnd.jupyter.widget-view+json": {
       "model_id": "bbacb663a1254abcb0608e6d8829ec26",
       "version_major": 2,
       "version_minor": 0
      },
      "text/plain": [
       "VBox(children=(Label(value='Waiting for wandb.init()...\\r'), FloatProgress(value=0.016669181796411674, max=1.0…"
      ]
     },
     "metadata": {},
     "output_type": "display_data"
    },
    {
     "data": {
      "text/html": [
       "wandb version 0.15.0 is available!  To upgrade, please run:\n",
       " $ pip install wandb --upgrade"
      ],
      "text/plain": [
       "<IPython.core.display.HTML object>"
      ]
     },
     "metadata": {},
     "output_type": "display_data"
    },
    {
     "data": {
      "text/html": [
       "Tracking run with wandb version 0.13.9"
      ],
      "text/plain": [
       "<IPython.core.display.HTML object>"
      ]
     },
     "metadata": {},
     "output_type": "display_data"
    },
    {
     "data": {
      "text/html": [
       "Run data is saved locally in <code>/dfs/user/yhr/gears2/linear/wandb/run-20230428_101909-h79zxpjf</code>"
      ],
      "text/plain": [
       "<IPython.core.display.HTML object>"
      ]
     },
     "metadata": {},
     "output_type": "display_data"
    },
    {
     "data": {
      "text/html": [
       "Syncing run <strong><a href=\"https://wandb.ai/yroohani/co_baseline/runs/h79zxpjf\" target=\"_blank\">norman_No_perturb_retry_5</a></strong> to <a href=\"https://wandb.ai/yroohani/co_baseline\" target=\"_blank\">Weights & Biases</a> (<a href=\"https://wandb.me/run\" target=\"_blank\">docs</a>)<br/>"
      ],
      "text/plain": [
       "<IPython.core.display.HTML object>"
      ]
     },
     "metadata": {},
     "output_type": "display_data"
    },
    {
     "data": {
      "text/html": [
       " View project at <a href=\"https://wandb.ai/yroohani/co_baseline\" target=\"_blank\">https://wandb.ai/yroohani/co_baseline</a>"
      ],
      "text/plain": [
       "<IPython.core.display.HTML object>"
      ]
     },
     "metadata": {},
     "output_type": "display_data"
    },
    {
     "data": {
      "text/html": [
       " View run at <a href=\"https://wandb.ai/yroohani/co_baseline/runs/h79zxpjf\" target=\"_blank\">https://wandb.ai/yroohani/co_baseline/runs/h79zxpjf</a>"
      ],
      "text/plain": [
       "<IPython.core.display.HTML object>"
      ]
     },
     "metadata": {},
     "output_type": "display_data"
    }
   ],
   "source": [
    "import wandb \n",
    "wandb.init(project='co_baseline', entity='yroohani', name= '_No_perturb_'.join([dataset_name, str(split_num)]))\n",
    "\n",
    "args = {}\n",
    "args['wandb'] = True\n",
    "\n",
    "out = deeper_analysis(de_adata, gears_test_res)\n",
    "out_non_dropout = non_dropout_analysis(de_adata, gears_test_res)\n",
    "\n",
    "metrics = ['pearson_delta']\n",
    "metrics_non_dropout = ['frac_opposite_direction_top20_non_dropout', 'frac_sigma_below_1_non_dropout', 'mse_top20_de_non_dropout']\n",
    "    \n",
    "if args['wandb']:\n",
    "    for m in metrics:\n",
    "        wandb.log({'test_' + m: np.mean([j[m] for i,j in out.items() if m in j])})\n",
    "\n",
    "    for m in metrics_non_dropout:\n",
    "        wandb.log({'test_' + m: np.mean([j[m] for i,j in out_non_dropout.items() if m in j])})    "
   ]
  },
  {
   "cell_type": "markdown",
   "metadata": {},
   "source": [
    "## Plot results"
   ]
  },
  {
   "cell_type": "code",
   "execution_count": 31,
   "metadata": {},
   "outputs": [],
   "source": [
    "import pandas as pd \n",
    "import wandb\n",
    "import seaborn as sns\n",
    "import matplotlib.pyplot as plt\n",
    "api = wandb.Api()\n",
    "\n",
    "# Project is specified by <entity/project-name>\n",
    "runs = api.runs(\"yroohani/co_baseline\")\n",
    "\n",
    "summary_list, config_list, name_list = [], [], []\n",
    "for run in runs: \n",
    "    # .summary contains the output keys/values for metrics like accuracy.\n",
    "    #  We call ._json_dict to omit large files \n",
    "    summary_list.append(run.summary._json_dict)\n",
    "\n",
    "    # .config contains the hyperparameters.\n",
    "    #  We remove special values that start with _.\n",
    "    config_list.append(\n",
    "        {k: v for k,v in run.config.items()\n",
    "          if not k.startswith('_')})\n",
    "\n",
    "    # .name is the human-readable name of the run.\n",
    "    name_list.append(run.name)\n",
    "\n",
    "runs_df = pd.DataFrame({\n",
    "    \"summary\": summary_list,\n",
    "    \"config\": config_list,\n",
    "    \"name\": name_list\n",
    "    })"
   ]
  },
  {
   "cell_type": "code",
   "execution_count": 32,
   "metadata": {},
   "outputs": [],
   "source": [
    "run = 6\n",
    "gears_runs = ['norman_GEARS_' + str(i) for i in range(1, run)]\n",
    "grn_baseline_runs = ['norman_GRN_Base_' + str(i) for i in range(1, run)]\n",
    "cell_oracle_runs = ['norman_CO_retry_' + str(i) for i in range(1, run)]\n",
    "no_perturb_runs = ['norman_No_perturb_' + str(i) for i in range(1, run)]"
   ]
  },
  {
   "cell_type": "code",
   "execution_count": 33,
   "metadata": {},
   "outputs": [],
   "source": [
    "res_df = runs_df[runs_df.name.isin(gears_runs + grn_baseline_runs + cell_oracle_runs + no_perturb_runs)]\n",
    "\n",
    "def normalize_name(x):\n",
    "    if x in gears_runs:\n",
    "        return 'GEARS'\n",
    "    elif x in grn_baseline_runs:\n",
    "        return 'GRN-Baseline'\n",
    "    elif x in cell_oracle_runs:\n",
    "        return 'CellOracle'\n",
    "    else:\n",
    "        return 'No-Perturb'"
   ]
  },
  {
   "cell_type": "code",
   "execution_count": 34,
   "metadata": {},
   "outputs": [],
   "source": [
    "color_pal = {\n",
    "'GRN-Baseline': (0.9058823529411765, 0.5411764705882353, 0.7647058823529411),\n",
    "'CellOracle': (0.4, 0.7607843137254902, 0.6470588235294118),\n",
    "'GEARS': (0.9882352941176471, 0.5529411764705883, 0.3843137254901961),\n",
    "'No-Perturb': (0.7019607843137254, 0.7019607843137254, 0.7019607843137254)}"
   ]
  },
  {
   "cell_type": "code",
   "execution_count": 41,
   "metadata": {},
   "outputs": [],
   "source": [
    "metrics = ['test_mse_top20_de_non_dropout'\n",
    "          #'test_pearson_delta'\n",
    "          ]\n",
    "metrics_name_map = {'test_mse_top20_de_non_dropout': 'MSE',\n",
    "                   'test_pearson_delta': 'Pearson'}\n",
    "method = []\n",
    "category = []\n",
    "result = []\n",
    "\n",
    "for m in metrics:\n",
    "    method += [normalize_name(i) for i in res_df.name.values]\n",
    "    category += [metrics_name_map[m]] * len(res_df)\n",
    "    result += res_df.summary.apply(lambda x: x[m]).values.tolist()\n",
    "    \n",
    "    \n",
    "out = {}\n",
    "out['method'] = pd.Series(method)\n",
    "out['category'] = pd.Series(category)\n",
    "out['Top 20 DE MSE'] = pd.Series(result)\n",
    "\n",
    "pal_order = [color_pal[i] for i in pd.DataFrame(out).method.unique()]\n",
    "\n",
    "out = pd.DataFrame(out)\n",
    "\n",
    "normalize = dict(out[out.method == 'No-Perturb'].groupby('category')['Top 20 DE MSE'].agg(np.mean))\n",
    "\n",
    "norm = []\n",
    "for i in out[['category', 'Top 20 DE MSE']].values:\n",
    "    norm.append(i[1]/normalize[i[0]])\n",
    "    \n",
    "out['Normalized MSE of Top 20 DE Genes'] = norm"
   ]
  },
  {
   "cell_type": "code",
   "execution_count": 42,
   "metadata": {},
   "outputs": [
    {
     "data": {
      "image/png": "[encoded data removed]",
      "text/plain": [
       "<Figure size 144x432 with 1 Axes>"
      ]
     },
     "metadata": {},
     "output_type": "display_data"
    },
    {
     "name": "stderr",
     "output_type": "stream",
     "text": [
      "wandb: ERROR Dropped streaming file chunk (see wandb/debug-internal.log)\n",
      "wandb: ERROR Dropped streaming file chunk (see wandb/debug-internal.log)\n",
      "wandb: ERROR Dropped streaming file chunk (see wandb/debug-internal.log)\n",
      "wandb: ERROR Dropped streaming file chunk (see wandb/debug-internal.log)\n",
      "wandb: ERROR Dropped streaming file chunk (see wandb/debug-internal.log)\n",
      "wandb: ERROR Dropped streaming file chunk (see wandb/debug-internal.log)\n",
      "wandb: ERROR Dropped streaming file chunk (see wandb/debug-internal.log)\n",
      "wandb: ERROR Dropped streaming file chunk (see wandb/debug-internal.log)\n",
      "wandb: ERROR Dropped streaming file chunk (see wandb/debug-internal.log)\n",
      "wandb: ERROR Dropped streaming file chunk (see wandb/debug-internal.log)\n",
      "wandb: ERROR Dropped streaming file chunk (see wandb/debug-internal.log)\n",
      "wandb: ERROR Dropped streaming file chunk (see wandb/debug-internal.log)\n",
      "wandb: ERROR Dropped streaming file chunk (see wandb/debug-internal.log)\n",
      "wandb: ERROR Dropped streaming file chunk (see wandb/debug-internal.log)\n",
      "wandb: ERROR Dropped streaming file chunk (see wandb/debug-internal.log)\n",
      "wandb: ERROR Dropped streaming file chunk (see wandb/debug-internal.log)\n",
      "wandb: ERROR Dropped streaming file chunk (see wandb/debug-internal.log)\n",
      "wandb: ERROR Dropped streaming file chunk (see wandb/debug-internal.log)\n",
      "wandb: ERROR Dropped streaming file chunk (see wandb/debug-internal.log)\n",
      "wandb: ERROR Dropped streaming file chunk (see wandb/debug-internal.log)\n",
      "wandb: ERROR Dropped streaming file chunk (see wandb/debug-internal.log)\n"
     ]
    }
   ],
   "source": [
    "sns.set(rc={'figure.figsize':(2,6)})\n",
    "sns.set_theme(style=\"ticks\", rc={\"axes.facecolor\": (0, 0, 0, 0)}, font = \"Helvetica\", font_scale=1.8)\n",
    "\n",
    "g = sns.pointplot('category', 'Normalized MSE of Top 20 DE Genes', \n",
    "    data=pd.DataFrame(out), \n",
    "    order = ['MSE'], \n",
    "    hue = 'method',\n",
    "    palette= [color_pal['GRN-Baseline'], color_pal['CellOracle'], color_pal['GEARS']],         \n",
    "    dodge=True, \n",
    "    join=False,\n",
    "    hue_order = ['GRN-Baseline', 'CellOracle', 'GEARS'])\n",
    "sns.despine()\n",
    "g.legend_.remove()\n",
    "g.set(xlabel=None, )\n",
    "g.axhline(1, linestyle=\"dashed\")\n",
    "\n",
    "#plt.legend(bbox_to_anchor=(1, 0.9), facecolor='white')\n",
    "\n",
    "plt.ylabel(\"Normalized MSE of \\n Top 20 DE Genes\",labelpad=10)\n",
    "plt.tick_params(axis='x', which='major', pad=10)\n",
    "plt.tick_params(axis='y', which='major', pad=5)"
   ]
  },
  {
   "cell_type": "code",
   "execution_count": 37,
   "metadata": {},
   "outputs": [],
   "source": [
    "metrics = ['test_pearson_delta'\n",
    "          ]\n",
    "metrics_name_map = {'test_mse_top20_de_non_dropout': 'MSE',\n",
    "                   'test_pearson_delta': 'Pearson'}\n",
    "method = []\n",
    "category = []\n",
    "result = []\n",
    "\n",
    "for m in metrics:\n",
    "    method += [normalize_name(i) for i in res_df.name.values]\n",
    "    category += [metrics_name_map[m]] * len(res_df)\n",
    "    result += res_df.summary.apply(lambda x: x[m]).values.tolist()\n",
    "    \n",
    "    \n",
    "out = {}\n",
    "out['method'] = pd.Series(method)\n",
    "out['category'] = pd.Series(category)\n",
    "out['Pearson Delta'] = pd.Series(result)\n",
    "\n",
    "pal_order = [color_pal[i] for i in pd.DataFrame(out).method.unique()]\n",
    "\n",
    "out = pd.DataFrame(out)\n",
    "\n",
    "vals = []\n",
    "for i in out[['category', 'Pearson Delta']].values:\n",
    "    vals.append(i[1]/1)\n",
    "    \n",
    "out['Pearson Delta'] = vals"
   ]
  },
  {
   "cell_type": "code",
   "execution_count": 40,
   "metadata": {},
   "outputs": [
    {
     "data": {
      "image/png": "[encoded data removed]",
      "text/plain": [
       "<Figure size 144x432 with 1 Axes>"
      ]
     },
     "metadata": {},
     "output_type": "display_data"
    }
   ],
   "source": [
    "sns.set(rc={'figure.figsize':(2,6)})\n",
    "sns.set_theme(style=\"ticks\", rc={\"axes.facecolor\": (0, 0, 0, 0)}, font = \"Helvetica\", font_scale=1.8)\n",
    "\n",
    "g = sns.pointplot('category', 'Pearson Delta', \n",
    "    data=pd.DataFrame(out), \n",
    "    hue = 'method',\n",
    "    palette= [color_pal['GRN-Baseline'], color_pal['CellOracle'], color_pal['GEARS']],         \n",
    "    dodge=True, \n",
    "    join=False,\n",
    "    hue_order = ['GRN-Baseline', 'CellOracle', 'GEARS'])\n",
    "sns.despine()\n",
    "#g.legend_.remove()\n",
    "g.set(xlabel=None, )\n",
    "g.axhline(0, linestyle=\"dashed\")\n",
    "\n",
    "plt.legend(bbox_to_anchor=(1, 0.9), facecolor='white')\n",
    "plt.ylabel(\"Pearson Correlation\\n (Delta Expression)\",labelpad=10)\n",
    "plt.ylim([-0.05,1])\n",
    "plt.tick_params(axis='x', which='major', pad=10)\n",
    "plt.tick_params(axis='y', which='major', pad=5)"
   ]
  },
  {
   "cell_type": "code",
   "execution_count": null,
   "metadata": {},
   "outputs": [],
   "source": []
  }
 ],
 "metadata": {
  "kernelspec": {
   "display_name": "deepamp",
   "language": "python",
   "name": "deepamp"
  },
  "language_info": {
   "codemirror_mode": {
    "name": "ipython",
    "version": 3
   },
   "file_extension": ".py",
   "mimetype": "text/x-python",
   "name": "python",
   "nbconvert_exporter": "python",
   "pygments_lexer": "ipython3",
   "version": "3.8.10"
  }
 },
 "nbformat": 4,
 "nbformat_minor": 4
}

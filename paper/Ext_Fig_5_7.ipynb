{
 "cells": [
  {
   "cell_type": "markdown",
   "metadata": {},
   "source": [
    "### Figure 3\n",
    "\n",
    "Genetic Interaction validation box plots"
   ]
  },
  {
   "cell_type": "code",
   "execution_count": 164,
   "metadata": {},
   "outputs": [
    {
     "name": "stdout",
     "output_type": "stream",
     "text": [
      "The autoreload extension is already loaded. To reload it, use:\n",
      "  %reload_ext autoreload\n"
     ]
    }
   ],
   "source": [
    "import glob\n",
    "import numpy as np\n",
    "import torch\n",
    "import scanpy as sc\n",
    "import pandas as pd \n",
    "import copy\n",
    "import sys\n",
    "import scipy\n",
    "sys.path.append('../')\n",
    "import os\n",
    "from data import PertDataloader\n",
    "from inference import evaluate, compute_metrics\n",
    "from inference import GIs\n",
    "import matplotlib.patches as mpatches\n",
    "\n",
    "# Linear model fitting functions\n",
    "import statsmodels.api as sm\n",
    "from sklearn.linear_model import LinearRegression, TheilSenRegressor\n",
    "from dcor import distance_correlation, partial_distance_correlation\n",
    "from sklearn.metrics import r2_score\n",
    "\n",
    "import matplotlib.pyplot as plt\n",
    "%matplotlib inline\n",
    "\n",
    "%load_ext autoreload\n",
    "%autoreload 2\n",
    "\n",
    "from fig_utils import *"
   ]
  },
  {
   "cell_type": "code",
   "execution_count": 311,
   "metadata": {},
   "outputs": [],
   "source": [
    "font = {'family' : 'normal',\n",
    "        'size'   : 18}\n",
    "\n",
    "import matplotlib\n",
    "matplotlib.rc('font', **font)"
   ]
  },
  {
   "cell_type": "code",
   "execution_count": 3,
   "metadata": {},
   "outputs": [],
   "source": [
    "def get_all_vals(res):\n",
    "    return np.hstack([v for v in res.values()])\n",
    "\n",
    "def get_extremes(res):\n",
    "    all_vals = remove_nan(get_all_vals(res))\n",
    "    return [np.min(all_vals), np.max(all_vals)]\n",
    "\n",
    "def get_mean(res):\n",
    "    all_vals = remove_nan(get_all_vals(res))\n",
    "    return np.mean(all_vals)"
   ]
  },
  {
   "cell_type": "code",
   "execution_count": 4,
   "metadata": {},
   "outputs": [],
   "source": [
    "ticklabel_map = {'synergy': 'Synergy',\n",
    "                 'suppressor':'Suppression',\n",
    "                 'neomorphic':'Neomorphism',\n",
    "                 'redundant':'Redundancy',\n",
    "                 'epistasis':'Epistasis',\n",
    "                'additive':'Additivity'}"
   ]
  },
  {
   "cell_type": "markdown",
   "metadata": {},
   "source": [
    "### Fixing CPA file naming"
   ]
  },
  {
   "cell_type": "code",
   "execution_count": 208,
   "metadata": {},
   "outputs": [],
   "source": [
    "dict_names = glob.glob('/dfs/user/yhr/CPA_orig/compert/GI_subtypes_out/*.npy')"
   ]
  },
  {
   "cell_type": "code",
   "execution_count": 206,
   "metadata": {},
   "outputs": [],
   "source": [
    "## Renaming CPA output files\n",
    "import os \n",
    "\n",
    "dict_names = glob.glob('/dfs/user/yhr/CPA_orig/compert/GI_subtypes_out/rep4/*.npy')\n",
    "for GI in GI_names:\n",
    "    for d in dict_names:\n",
    "        pert_name = d.split('/')[-1].split('.npy')[0]\n",
    "        if pert_name in GIs[GI.upper()]:\n",
    "            old_name = d\n",
    "            new_name = '/'.join(dict_names[0].split('/')[:-1]) + '/' + GI + '_' + d.split('/')[-1]\n",
    "            print(old_name, new_name)\n",
    "            #os.rename(old_name, new_name)"
   ]
  },
  {
   "cell_type": "code",
   "execution_count": 207,
   "metadata": {},
   "outputs": [],
   "source": [
    "# Adding truth values to CPA runs\n",
    "\n",
    "cpa_names = glob.glob('/dfs/user/yhr/CPA_orig/compert/GI_subtypes_out/rep4/*.npy')\n",
    "# List the new output files that have to be edited\n",
    "new_outputs = []\n",
    "\n",
    "for d in cpa_names:\n",
    "    #if d.split('_')[-1].split('.npy')[0] in new_outputs:\n",
    "    if '+' in d:\n",
    "    #if 'other' in d:\n",
    "        X = np.load(d, allow_pickle=True)\n",
    "        try:\n",
    "            X = X.item()\n",
    "            for k in X.keys():\n",
    "                X[k] = X[k][1]\n",
    "        except:\n",
    "            X = {X[0]:X[1]}\n",
    "\n",
    "        for k in X.keys():\n",
    "            try:\n",
    "                X[k]['truth'] = get_truth(k)\n",
    "            except:\n",
    "                pass\n",
    "        np.save(d, X)"
   ]
  },
  {
   "cell_type": "markdown",
   "metadata": {},
   "source": [
    "## Method comparison"
   ]
  },
  {
   "cell_type": "code",
   "execution_count": 224,
   "metadata": {},
   "outputs": [],
   "source": [
    "# SET ------------\n",
    "metric = 'mag'\n",
    "GI_sel = 'additive'\n",
    "# ------------\n",
    "\n",
    "# Filenames\n",
    "#crossgene_names = glob.glob('/dfs/user/yhr/perturb_GNN/pertnet/GI_subtypes_out_v2/*crossgene*.npy')\n",
    "crossgene_names = glob.glob('/dfs/user/yhr/snap/perturb_GNN/pertnet-cli/GI_subtypes_out_v2/*crossgene*.npy')\n",
    "\n",
    "coexp_names = glob.glob('/dfs/user/yhr/perturb_GNN/pertnet/GI_subtypes_out_v2/*coexp*.npy')\n",
    "baseline_names = glob.glob('/dfs/user/yhr/perturb_GNN/pertnet/GI_subtypes_out_v2/no_crossgene_baseline/*.npy')\n",
    "cpa_names = glob.glob('/dfs/user/yhr/CPA_orig/compert/GI_subtypes_out/*.npy')\n",
    "naive_seen2_names = glob.glob('/dfs/user/yhr/perturb_GNN/pertnet/GI_subtypes_out_v2/*naive*seen2*.npy')\n",
    "\n",
    "# Seen 2\n",
    "res_p_seen2_base, _ = get_t_p_seen2(metric, baseline_names)\n",
    "res_p_seen2_cg, res_t_seen2 = get_t_p_seen2(metric, crossgene_names)\n",
    "res_p_seen2_cpa, _ = get_t_p_seen2(metric, cpa_names)\n",
    "res_p_seen2_naive, _ = get_t_p_seen2_naive(metric, naive_seen2_names[0])"
   ]
  },
  {
   "cell_type": "code",
   "execution_count": 45,
   "metadata": {},
   "outputs": [],
   "source": [
    "# Seen 2 computations\n",
    "def get_box_scatter_inputs(res_p_seen2, res_t_seen2, GI_sel):\n",
    "    res_p_seen2_small = {}\n",
    "    res_p_seen2_small[GI_sel] = res_p_seen2[GI_sel]\n",
    "\n",
    "    res_t_seen2_small = {}\n",
    "    res_t_seen2_small[GI_sel] = res_t_seen2[GI_sel]\n",
    "\n",
    "    xs, preds, trues, labels = set_up_box_scatter(GI_sel, res_p_seen2_small, res_t_seen2_small, metric)\n",
    "    return xs, preds, trues, labels \n",
    "\n",
    "xs = []\n",
    "preds = []\n",
    "trues = []\n",
    "labels = []\n",
    "extremes = []\n",
    "means = []\n",
    "extremes.append(get_extremes(res_t_seen2))\n",
    "means.append(get_mean(res_t_seen2))\n",
    "\n",
    "for res_p, res_t in zip([res_p_seen2_cg,   res_p_seen2_cpa, res_p_seen2_naive],\n",
    "                        [res_t_seen2, res_t_seen2,  res_t_seen2]):\n",
    "    x, pred, true, label = get_box_scatter_inputs(res_p, res_t, GI_sel=GI_sel)\n",
    "    xs.append(x[0])\n",
    "    preds.append(pred)\n",
    "    trues.append(true)\n",
    "    labels.append(label)\n",
    "    extremes.append(get_extremes(res_p))\n",
    "    means.append(get_mean(res_p))"
   ]
  },
  {
   "cell_type": "code",
   "execution_count": 46,
   "metadata": {},
   "outputs": [],
   "source": [
    "trues = [ [remove_nan(t[0])] for t in trues]\n",
    "preds = [ [remove_nan(p[0])] for p in preds]\n",
    "n = len(preds[0][0])"
   ]
  },
  {
   "cell_type": "code",
   "execution_count": 48,
   "metadata": {},
   "outputs": [
    {
     "data": {
      "text/plain": [
       "(0.0, 5.0)"
      ]
     },
     "execution_count": 48,
     "metadata": {},
     "output_type": "execute_result"
    },
    {
     "data": {
      "image/png": "[encoded data removed]",
      "text/plain": [
       "<Figure size 288x360 with 1 Axes>"
      ]
     },
     "metadata": {
      "needs_background": "light"
     },
     "output_type": "display_data"
    }
   ],
   "source": [
    "ticklabels=['Truth', 'GEARS', 'CPA', 'Naive']\n",
    "\n",
    "make_comp_box_scatter(xs, preds, trues, n_preds=0, labels=labels, GI=GI_sel, \n",
    "                      title=ticklabel_map[GI_sel].title() + ' (n=' + str(n) +')', \n",
    "                 ylabel=latex_names[metric], scatter=True,\n",
    "                xticks=False, GIs=metric_GI_map[metric], seen=1, \n",
    "                 pred_color=colors[metric][0], shade_color=colors[metric][0], \n",
    "                 ticklabels=ticklabels, skip_last_scatter=True, extremes=extremes, means=means,\n",
    "                legend=False)\n",
    "\n",
    "plt.ylim([0,5])"
   ]
  },
  {
   "cell_type": "markdown",
   "metadata": {},
   "source": [
    "### Scatter only plots"
   ]
  },
  {
   "cell_type": "code",
   "execution_count": 116,
   "metadata": {},
   "outputs": [],
   "source": [
    "# SET ------------\n",
    "metric = 'dcor'\n",
    "GI_sel = 'synergy'\n",
    "# ------------\n",
    "\n",
    "# Filenames\n",
    "#crossgene_names = glob.glob('/dfs/user/yhr/perturb_GNN/pertnet/GI_subtypes_out_v2/*crossgene*.npy')\n",
    "crossgene_names = glob.glob('/dfs/user/yhr/snap/perturb_GNN/pertnet-cli/GI_subtypes_out_v2/*crossgene*.npy')\n",
    "\n",
    "coexp_names = glob.glob('/dfs/user/yhr/perturb_GNN/pertnet/GI_subtypes_out_v2/*coexp*.npy')\n",
    "baseline_names = glob.glob('/dfs/user/yhr/perturb_GNN/pertnet/GI_subtypes_out_v2/no_crossgene_baseline/*.npy')\n",
    "cpa_names = glob.glob('/dfs/user/yhr/CPA_orig/compert/GI_subtypes_out/*.npy')\n",
    "naive_seen2_names = glob.glob('/dfs/user/yhr/perturb_GNN/pertnet/GI_subtypes_out_v2/*naive*seen2*.npy')\n",
    "\n",
    "# Seen 2\n",
    "res_p_seen2_base, _ = get_t_p_seen2(metric, baseline_names)\n",
    "res_p_seen2_cg, res_t_seen2_cg = get_t_p_seen2(metric, crossgene_names)\n",
    "res_p_seen2_cpa, res_t_seen2_cpa = get_t_p_seen2(metric, cpa_names)\n",
    "res_p_seen2_naive, _ = get_t_p_seen2_naive(metric, naive_seen2_names[0])\n",
    "res_t_seen2 = res_t_seen2_cg\n",
    "\n",
    "# Synergy\n",
    "res_p_seen2_cg['synergy'] = res_p_seen2_cg['potentiation'] + res_p_seen2_cg['synergy_similar_pheno'] + res_p_seen2_cg['synergy_dissimilar_pheno']\n",
    "res_p_seen2_cpa['synergy'] = res_p_seen2_cpa['potentiation'] + res_p_seen2_cpa['synergy_similar_pheno'] + res_p_seen2_cpa['synergy_dissimilar_pheno']\n",
    "res_p_seen2_naive['synergy'] = res_p_seen2_naive['potentiation'] + res_p_seen2_naive['synergy_similar_pheno'] + res_p_seen2_naive['synergy_dissimilar_pheno']\n",
    "res_t_seen2['synergy'] = res_t_seen2['potentiation'] + res_t_seen2['synergy_similar_pheno'] + res_t_seen2['synergy_dissimilar_pheno']\n",
    "\n"
   ]
  },
  {
   "cell_type": "code",
   "execution_count": 117,
   "metadata": {
    "scrolled": true
   },
   "outputs": [],
   "source": [
    "def plot_scatter(res_p, res_t, GI_sel, metric, \n",
    "                 pred_color, ylab, title):\n",
    "    \n",
    "    plt.figure(figsize=[5,5])\n",
    "    preds = get_all_vals(res_p)\n",
    "    truths = get_all_vals(res_t)\n",
    "    \n",
    "    df = pd.DataFrame([truths, preds]).T\n",
    "    df = df.dropna()\n",
    "    slope, intercept, r_value, p_value, std_err = scipy.stats.linregress(df[0].values, df[1].values)\n",
    "    \n",
    "    plt.scatter(truths, preds, color=pred_color, alpha=0.6)\n",
    "\n",
    "    preds = np.array(remove_nan(preds))\n",
    "    truths = np.array(remove_nan(truths))\n",
    "    \n",
    "\n",
    "    \n",
    "    all_max = np.max([preds.max(), truths.max()])\n",
    "    all_min = np.min([preds.min(), truths.min()])\n",
    "\n",
    "    \"\"\"\n",
    "    plt.xlim([np.min(truths)-np.max(truths)/20, np.max(truths)+np.max(truths)/20])\n",
    "    plt.ylim([np.min(preds)-np.max(preds)/20, np.max(preds)+np.max(preds)/20])\n",
    "    \"\"\"\n",
    "    \n",
    "    plt.xlim([all_min-all_max/20, all_max+all_max/20])\n",
    "    plt.ylim([all_min-all_max/20, all_max+all_max/20])\n",
    "    \n",
    "    plt.axline((0, 0), (1, 1), linewidth=2, linestyle='--', color='k')\n",
    "    \n",
    "    plt.annotate(r'$R^2=${0:.2f}'.format(r_value**2), \n",
    "                 (all_min, all_max-all_max/10))\n",
    "    plt.xlabel('Truth')\n",
    "    \n",
    "    plt.ylabel(ylab)\n",
    "    if (title):\n",
    "        plt.title(title)\n",
    "    \n",
    "    #plt.plot([thresh[GI_sel], thresh[GI_sel]], \n",
    "    #         [thresh[GI_sel], np.max(preds)+0.25], color=colors[metric][0])\n",
    "    #plt.plot([thresh[GI_sel], np.max(truths)+0.25], \n",
    "    #         [thresh[GI_sel], thresh[GI_sel]], color=colors[metric][0])"
   ]
  },
  {
   "cell_type": "code",
   "execution_count": 118,
   "metadata": {},
   "outputs": [],
   "source": [
    "del(res_t_seen2_cg['synergy'])\n",
    "del(res_p_seen2_cg['synergy'])\n",
    "del(res_t_seen2_cpa['synergy'])\n",
    "del(res_p_seen2_cpa['synergy'])"
   ]
  },
  {
   "cell_type": "code",
   "execution_count": 119,
   "metadata": {},
   "outputs": [
    {
     "data": {
      "image/png": "[encoded data removed]",
      "text/plain": [
       "<Figure size 360x360 with 1 Axes>"
      ]
     },
     "metadata": {
      "needs_background": "light"
     },
     "output_type": "display_data"
    }
   ],
   "source": [
    "plot_scatter(res_p_seen2_cg, res_t_seen2_cg, \n",
    "             GI_sel, metric, pred_color =colors[metric][0],\n",
    "             ylab='', title=latex_names[metric])"
   ]
  },
  {
   "cell_type": "code",
   "execution_count": 120,
   "metadata": {},
   "outputs": [
    {
     "data": {
      "image/png": "[encoded data removed]",
      "text/plain": [
       "<Figure size 360x360 with 1 Axes>"
      ]
     },
     "metadata": {
      "needs_background": "light"
     },
     "output_type": "display_data"
    }
   ],
   "source": [
    "plot_scatter(res_p_seen2_cpa, res_t_seen2_cpa, \n",
    "             GI_sel, metric, pred_color =colors[metric][0],\n",
    "             ylab='', title=None)"
   ]
  },
  {
   "cell_type": "markdown",
   "metadata": {},
   "source": [
    "### Seen 1"
   ]
  },
  {
   "cell_type": "code",
   "execution_count": 225,
   "metadata": {},
   "outputs": [],
   "source": [
    "genes_of_interest = ['AHR', 'ARID1A', 'ARRDC3', 'ATL1', 'BCORL1', 'BPGM', 'C19orf26',\n",
    "'CBFA2T3', 'CBL', 'CDKN1A', 'CDKN1B', 'CDKN1C', 'CEBPA', 'CEBPB',\n",
    "'CEBPE', 'CELF2', 'CITED1', 'CKS1B', 'CLDN6', 'CNN1', 'CNNM4',\n",
    "'COL1A1', 'COL2A1', 'CSRNP1', 'DLX2', 'DUSP9', 'EGR1', 'ELMSAN1',\n",
    "'ETS2', 'FEV', 'FOSB', 'FOXA1', 'FOXA3', 'FOXF1', 'FOXL2',\n",
    "'C3orf72', 'FOXO4', 'GLB1L2', 'HES7', 'HK2', 'HNF4A', 'HOXA13',\n",
    "'HOXB9', 'HOXC13', 'IER5L', 'IGDCC3', 'IKZF3', 'IRF1', 'JUN',\n",
    "'KIF18B', 'KLF1', 'LHX1', 'LYL1', 'MAML2', 'MAP2K3', 'MAP2K6',\n",
    "'MAPK1', 'MEIS1', 'MIDN', 'NIT1', 'OSR2', 'POU3F2', 'PRDM1',\n",
    "'PRTG', 'PTPN1', 'PTPN12', 'PTPN13', 'PTPN9', 'RHOXF2BB',\n",
    "'KIAA1804', 'RREB1', 'S1PR2', 'SAMD1', 'SET', 'SGK1', 'SLC38A2',\n",
    "'SLC4A1', 'SLC6A9', 'SNAI1', 'SPI1', 'TBX2', 'TBX3', 'TMSB4X',\n",
    "'TP73', 'TSC22D1', 'UBASH3A', 'UBASH3B', 'ZBTB1', 'ZBTB10',\n",
    "'ZBTB25', 'ZC3HAV1', 'ZNF318']"
   ]
  },
  {
   "cell_type": "code",
   "execution_count": 440,
   "metadata": {},
   "outputs": [],
   "source": [
    "# SET ------------\n",
    "metric = 'eq_contr'\n",
    "GI_sel = 'synergy'\n",
    "# ------------\n",
    "\n",
    "# Filenames\n",
    "#crossgene_names = glob.glob('/dfs/user/yhr/perturb_GNN/pertnet/GI_subtypes_out_v2/*crossgene*.npy')\n",
    "crossgene_names = glob.glob('/dfs/user/yhr/snap/perturb_GNN/pertnet-cli/GI_subtypes_out_v3/*crossgene*.npy')\n",
    "\n",
    "coexp_names = glob.glob('/dfs/user/yhr/perturb_GNN/pertnet/GI_subtypes_out_v2/*coexp*.npy')\n",
    "baseline_names = glob.glob('/dfs/user/yhr/perturb_GNN/pertnet/GI_subtypes_out_v2/no_crossgene_baseline/*.npy')\n",
    "cpa_names = glob.glob('/dfs/user/yhr/CPA_orig/compert/GI_subtypes_out/*.npy')\n",
    "naive_seen2_names = glob.glob('/dfs/user/yhr/perturb_GNN/pertnet/GI_subtypes_out_v2/*naive*seen2*.npy')\n",
    "\n",
    "# Seen 1\n",
    "res_p_seen1_base, _ = get_t_p_seen1(metric, baseline_names)\n",
    "res_p_seen1_cg, res_t_seen1_cg = get_t_p_seen1(metric, crossgene_names, uncert_filter=True)\n",
    "res_p_seen1_cpa, res_t_seen1_cpa = get_t_p_seen1(metric, cpa_names)\n",
    "res_t_seen1 = res_t_seen1_cg\n",
    "\n",
    "## Assuming seen1 naive is same as seen 2\n",
    "res_p_seen1_naive, _ = get_t_p_seen2_naive(metric, naive_seen2_names[0])\n",
    "\n",
    "\n",
    "#res_p_seen1_cg['synergy'] = res_p_seen1_cg['potentiation'] + res_p_seen1_cg['synergy_similar_pheno'] + res_p_seen1_cg['synergy_dissimilar_pheno']\n",
    "#res_p_seen1_cpa['synergy'] = res_p_seen1_cpa['potentiation'] + res_p_seen1_cpa['synergy_similar_pheno'] + res_p_seen1_cpa['synergy_dissimilar_pheno']\n",
    "#res_p_seen1_naive['synergy'] = res_p_seen1_naive['potentiation'] + res_p_seen1_naive['synergy_similar_pheno'] + res_p_seen1_naive['synergy_dissimilar_pheno']\n",
    "#res_t_seen1['synergy'] = res_t_seen1['potentiation'] + res_t_seen1['synergy_similar_pheno'] + res_t_seen1['synergy_dissimilar_pheno']\n",
    "\n"
   ]
  },
  {
   "cell_type": "code",
   "execution_count": 441,
   "metadata": {},
   "outputs": [],
   "source": [
    "del(res_p_seen1_cg['synergy'])\n",
    "del(res_t_seen1_cg['synergy'])"
   ]
  },
  {
   "cell_type": "code",
   "execution_count": 442,
   "metadata": {},
   "outputs": [
    {
     "data": {
      "text/plain": [
       "13"
      ]
     },
     "execution_count": 442,
     "metadata": {},
     "output_type": "execute_result"
    }
   ],
   "source": [
    "np.sum(get_all_vals(res_t_seen1_cg)<0.30)\n",
    "#np.sum(vs>1.15)/len(vs)"
   ]
  },
  {
   "cell_type": "code",
   "execution_count": 418,
   "metadata": {},
   "outputs": [
    {
     "data": {
      "text/plain": [
       "117"
      ]
     },
     "execution_count": 418,
     "metadata": {},
     "output_type": "execute_result"
    }
   ],
   "source": [
    "len(get_all_vals(res_t_seen1_cg))"
   ]
  },
  {
   "cell_type": "code",
   "execution_count": 419,
   "metadata": {},
   "outputs": [
    {
     "data": {
      "text/plain": [
       "'\\nfor k in res_p_seen1_cpa:\\n    res_p_seen1_cpa[k] = np.nan_to_num(res_p_seen1_cpa[k])\\n'"
      ]
     },
     "execution_count": 419,
     "metadata": {},
     "output_type": "execute_result"
    }
   ],
   "source": [
    "# Nan replacing for epistasis only\n",
    "\"\"\"\n",
    "for k in res_p_seen1_cpa:\n",
    "    res_p_seen1_cpa[k] = np.nan_to_num(res_p_seen1_cpa[k])\n",
    "\"\"\""
   ]
  },
  {
   "cell_type": "code",
   "execution_count": 420,
   "metadata": {},
   "outputs": [],
   "source": [
    "# Seen 1 computations\n",
    "def get_box_scatter_inputs(res_p_seen1, res_t_seen1, GI_sel):\n",
    "    res_p_seen1_small = {}\n",
    "    res_p_seen1_small[GI_sel] = res_p_seen1[GI_sel]\n",
    "\n",
    "    res_t_seen1_small = {}\n",
    "    res_t_seen1_small[GI_sel] = res_t_seen1[GI_sel]\n",
    "\n",
    "    xs, preds, trues, labels = set_up_box_scatter(GI_sel, res_p_seen1_small, res_t_seen1_small, metric)\n",
    "    return xs, preds, trues, labels \n",
    "\n",
    "xs = []\n",
    "preds = []\n",
    "trues = []\n",
    "labels = []\n",
    "extremes = []\n",
    "means = []\n",
    "extremes.append(get_extremes(res_t_seen1))\n",
    "means.append(get_mean(res_t_seen1))\n",
    "\n",
    "for res_p, res_t in zip([res_p_seen1_cg],\n",
    "                        [res_t_seen1]):\n",
    "    x, pred, true, label = get_box_scatter_inputs(res_p, res_t, GI_sel=GI_sel)\n",
    "    xs.append(x[0])\n",
    "    preds.append(pred)\n",
    "    trues.append(true)\n",
    "    labels.append(label)\n",
    "    extremes.append(get_extremes(res_p))\n",
    "    means.append(get_mean(res_p))\n"
   ]
  },
  {
   "cell_type": "code",
   "execution_count": 421,
   "metadata": {},
   "outputs": [],
   "source": [
    "trues = [ [remove_nan(t[0])] for t in trues]\n",
    "preds = [ [remove_nan(p[0])] for p in preds]\n",
    "n = len(preds[0][0])"
   ]
  },
  {
   "cell_type": "code",
   "execution_count": 422,
   "metadata": {},
   "outputs": [
    {
     "data": {
      "image/png": "[encoded data removed]",
      "text/plain": [
       "<Figure size 144x360 with 1 Axes>"
      ]
     },
     "metadata": {
      "needs_background": "light"
     },
     "output_type": "display_data"
    }
   ],
   "source": [
    "ticklabels=['Truth', 'GEARS']\n",
    "\n",
    "make_comp_box_scatter(xs, preds, trues, n_preds=0, labels=labels, \n",
    "                      title=ticklabel_map[GI_sel].title() + ' (n=' + str(n) +')', \n",
    "                 ylabel=latex_names[metric], scatter=True,\n",
    "                xticks=False, GIs=metric_GI_map[metric], seen=1, \n",
    "                 pred_color=colors[metric][0], shade_color=colors[metric][0], GI=GI_sel,\n",
    "                 ticklabels=ticklabels, skip_last_scatter=True, extremes=extremes, means=means,\n",
    "                legend=False)"
   ]
  },
  {
   "cell_type": "code",
   "execution_count": 423,
   "metadata": {},
   "outputs": [
    {
     "data": {
      "image/png": "[encoded data removed]",
      "text/plain": [
       "<Figure size 360x360 with 1 Axes>"
      ]
     },
     "metadata": {
      "needs_background": "light"
     },
     "output_type": "display_data"
    }
   ],
   "source": [
    "plot_scatter(res_p_seen1_cg, res_t_seen1, \n",
    "             GI_sel, metric, pred_color =colors[metric][0],\n",
    "             ylab='GEARS', title=latex_names[metric])"
   ]
  },
  {
   "cell_type": "code",
   "execution_count": null,
   "metadata": {},
   "outputs": [],
   "source": []
  }
 ],
 "metadata": {
  "kernelspec": {
   "display_name": "deepsnap",
   "language": "python",
   "name": "deepsnap"
  },
  "language_info": {
   "codemirror_mode": {
    "name": "ipython",
    "version": 3
   },
   "file_extension": ".py",
   "mimetype": "text/x-python",
   "name": "python",
   "nbconvert_exporter": "python",
   "pygments_lexer": "ipython3",
   "version": "3.7.4"
  }
 },
 "nbformat": 4,
 "nbformat_minor": 2
}

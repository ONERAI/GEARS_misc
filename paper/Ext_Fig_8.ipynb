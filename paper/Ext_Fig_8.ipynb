{
 "cells": [
  {
   "cell_type": "markdown",
   "metadata": {},
   "source": [
    "## Figure 3c\n",
    "\n",
    "Precision @ 10 plots"
   ]
  },
  {
   "cell_type": "code",
   "execution_count": 1,
   "metadata": {},
   "outputs": [],
   "source": [
    "import glob\n",
    "import numpy as np\n",
    "import torch\n",
    "import scanpy as sc\n",
    "import pandas as pd \n",
    "import copy\n",
    "import sys\n",
    "import os\n",
    "sys.path.append('../')\n",
    "\n",
    "from data import PertDataloader\n",
    "from inference import evaluate, compute_metrics\n",
    "from inference import GIs\n",
    "import matplotlib.patches as mpatches\n",
    "\n",
    "# Linear model fitting functions\n",
    "import statsmodels.api as sm\n",
    "from sklearn.linear_model import LinearRegression, TheilSenRegressor\n",
    "from dcor import distance_correlation, partial_distance_correlation\n",
    "from sklearn.metrics import r2_score\n",
    "from fig_utils import *\n",
    "\n",
    "import matplotlib.pyplot as plt\n",
    "%matplotlib inline\n",
    "\n",
    "%load_ext autoreload\n",
    "%autoreload 2\n",
    "\n",
    "device = 'cuda:3'\n",
    "home_dir = '/dfs/user/yhr/perturb_GNN/pertnet/'\n",
    "sys.path.append(home_dir)\n",
    "\n",
    "GI_names = [k.lower() for k in GIs.keys()]"
   ]
  },
  {
   "cell_type": "code",
   "execution_count": 2,
   "metadata": {},
   "outputs": [],
   "source": [
    "font = {'family' : 'normal',\n",
    "        'size'   : 18}\n",
    "\n",
    "import matplotlib\n",
    "matplotlib.rc('font', **font)"
   ]
  },
  {
   "cell_type": "code",
   "execution_count": 3,
   "metadata": {},
   "outputs": [],
   "source": [
    "# Filenames\n",
    "crossgene_names = glob.glob('/dfs/user/yhr/snap/perturb_GNN/pertnet-cli/GI_subtypes_out_v2/*crossgene*.npy')\n",
    "cpa_names = glob.glob('/dfs/user/yhr/CPA_orig/compert/GI_subtypes_out/*.npy')\n",
    "naive_names = glob.glob('/dfs/user/yhr/perturb_GNN/pertnet/GI_subtypes_out_v2/naive_seen2.npy')"
   ]
  },
  {
   "cell_type": "code",
   "execution_count": 4,
   "metadata": {
    "scrolled": true
   },
   "outputs": [],
   "source": [
    "k = 10\n",
    "num_samples=1000\n",
    "dict_ = {}\n",
    "dict_['cpa'] = {}\n",
    "dict_['pertnet'] = {}\n",
    "dict_['naive'] = {}\n",
    "dfs = {}\n",
    "\n",
    "for metric in [('eq_contr', 'epistasis'), ('corr_fit', 'neomorphic'), \n",
    "               ('dcor', 'redundant'),('mag','suppressor'),\n",
    "               ('mag','synergy')]:     \n",
    "\n",
    "\n",
    "    p,t,p_names,t_names = get_t_p_seen1(metric[0], crossgene_names, return_names=True, uncert_filter=True)\n",
    "    dict_['pertnet'][metric[1]], _ = get_prec_atk(p, t, p_names, t_names, GI_type=metric[1], k=k)\n",
    "\n",
    "    dict_['naive'][metric[1]] = []\n",
    "    for it in range(num_samples):\n",
    "        score, _ = get_prec_atk(p, t, p_names, t_names, GI_type=metric[1], k=k, random=True)\n",
    "        dict_['naive'][metric[1]].append(score)\n",
    "    \n",
    "precision_at_10 = dict_"
   ]
  },
  {
   "cell_type": "markdown",
   "metadata": {},
   "source": [
    "### Defining thresholds with Other category"
   ]
  },
  {
   "cell_type": "code",
   "execution_count": 51,
   "metadata": {},
   "outputs": [
    {
     "data": {
      "text/plain": [
       "array([1.14685077, 1.22283352, 1.22374483, 1.29699299, 1.36901979,\n",
       "       1.39121458, 1.40643537, 1.41980339, 1.42233745, 1.42566483,\n",
       "       1.44837729, 1.4794279 , 1.4813906 , 1.48142552, 1.48238693,\n",
       "       1.48591728, 1.4908992 , 1.5040171 , 1.51098667, 1.54303704,\n",
       "       1.57853654, 1.66771325, 1.67309386, 1.74901558, 1.78204039,\n",
       "       1.86192267, 1.86304945, 1.89033026, 2.09163154, 2.16035494])"
      ]
     },
     "execution_count": 51,
     "metadata": {},
     "output_type": "execute_result"
    }
   ],
   "source": [
    "np.sort(get_t_p_seen2('mag', crossgene_names, return_names=True)[1]['synergy'])"
   ]
  },
  {
   "cell_type": "code",
   "execution_count": 61,
   "metadata": {},
   "outputs": [
    {
     "data": {
      "text/plain": [
       "0.4906832298136646"
      ]
     },
     "execution_count": 61,
     "metadata": {},
     "output_type": "execute_result"
    }
   ],
   "source": [
    "vs = np.hstack([v for v in get_t_p_seen2('mag', crossgene_names, return_names=True)[1].values()])\n",
    "np.sum(vs>1.15)/len(vs)"
   ]
  },
  {
   "cell_type": "code",
   "execution_count": 10,
   "metadata": {},
   "outputs": [
    {
     "data": {
      "text/plain": [
       "0.37888198757763975"
      ]
     },
     "execution_count": 10,
     "metadata": {},
     "output_type": "execute_result"
    }
   ],
   "source": [
    "vs = np.hstack([v for v in get_t_p_seen2('mag', crossgene_names, return_names=True)[1].values()])\n",
    "np.sum(vs<1.0)/len(vs)"
   ]
  },
  {
   "cell_type": "code",
   "execution_count": 11,
   "metadata": {},
   "outputs": [
    {
     "data": {
      "text/plain": [
       "0.16149068322981366"
      ]
     },
     "execution_count": 11,
     "metadata": {},
     "output_type": "execute_result"
    }
   ],
   "source": [
    "vs = np.hstack([v for v in get_t_p_seen2('dcor', crossgene_names, return_names=True)[1].values()])\n",
    "np.sum(vs>0.85)/len(vs)"
   ]
  },
  {
   "cell_type": "code",
   "execution_count": 58,
   "metadata": {},
   "outputs": [
    {
     "data": {
      "text/plain": [
       "0.4906832298136646"
      ]
     },
     "execution_count": 58,
     "metadata": {},
     "output_type": "execute_result"
    }
   ],
   "source": [
    "vs = np.hstack([v for v in get_t_p_seen2('corr_fit', crossgene_names, return_names=True)[1].values()])\n",
    "np.sum(vs<0.88)/len(vs)"
   ]
  },
  {
   "cell_type": "code",
   "execution_count": 13,
   "metadata": {},
   "outputs": [
    {
     "data": {
      "text/plain": [
       "0.2111801242236025"
      ]
     },
     "execution_count": 13,
     "metadata": {},
     "output_type": "execute_result"
    }
   ],
   "source": [
    "vs = np.hstack([v for v in get_t_p_seen2('dominance', crossgene_names, return_names=True)[1].values()])\n",
    "np.sum(vs>0.35)/len(vs)"
   ]
  },
  {
   "cell_type": "code",
   "execution_count": 26,
   "metadata": {},
   "outputs": [
    {
     "data": {
      "text/plain": [
       "0.11180124223602485"
      ]
     },
     "execution_count": 26,
     "metadata": {},
     "output_type": "execute_result"
    }
   ],
   "source": [
    "vs = np.hstack([v for v in get_t_p_seen2('eq_contr', crossgene_names, return_names=True)[1].values()])\n",
    "np.sum(vs<0.30)/len(vs)"
   ]
  },
  {
   "cell_type": "markdown",
   "metadata": {},
   "source": [
    "### Defining thresholds without Other category"
   ]
  },
  {
   "cell_type": "code",
   "execution_count": 33,
   "metadata": {},
   "outputs": [
    {
     "data": {
      "text/plain": [
       "0.4906832298136646"
      ]
     },
     "execution_count": 33,
     "metadata": {},
     "output_type": "execute_result"
    }
   ],
   "source": [
    "vs = np.hstack([v for v in get_t_p_seen2('mag', crossgene_names, return_names=True)[1].values()])\n",
    "np.sum(vs>1.15)/len(vs)"
   ]
  },
  {
   "cell_type": "code",
   "execution_count": 58,
   "metadata": {},
   "outputs": [
    {
     "data": {
      "text/plain": [
       "0.3135593220338983"
      ]
     },
     "execution_count": 58,
     "metadata": {},
     "output_type": "execute_result"
    }
   ],
   "source": [
    "vs = np.hstack([v for v in get_t_p_seen2('mag', crossgene_names, return_names=True)[1].values()])\n",
    "np.sum(vs<1.0)/len(vs)"
   ]
  },
  {
   "cell_type": "code",
   "execution_count": 59,
   "metadata": {},
   "outputs": [
    {
     "data": {
      "text/plain": [
       "0.15254237288135594"
      ]
     },
     "execution_count": 59,
     "metadata": {},
     "output_type": "execute_result"
    }
   ],
   "source": [
    "vs = np.hstack([v for v in get_t_p_seen2('dcor', crossgene_names, return_names=True)[1].values()])\n",
    "np.sum(vs>0.85)/len(vs)"
   ]
  },
  {
   "cell_type": "code",
   "execution_count": 82,
   "metadata": {},
   "outputs": [
    {
     "data": {
      "text/plain": [
       "0.3305084745762712"
      ]
     },
     "execution_count": 82,
     "metadata": {},
     "output_type": "execute_result"
    }
   ],
   "source": [
    "vs = np.hstack([v for v in get_t_p_seen2('corr_fit', crossgene_names, return_names=True)[1].values()])\n",
    "np.sum(vs<0.85)/len(vs)"
   ]
  },
  {
   "cell_type": "code",
   "execution_count": 75,
   "metadata": {},
   "outputs": [
    {
     "data": {
      "text/plain": [
       "0.2033898305084746"
      ]
     },
     "execution_count": 75,
     "metadata": {},
     "output_type": "execute_result"
    }
   ],
   "source": [
    "vs = np.hstack([v for v in get_t_p_seen2('dominance', crossgene_names, return_names=True)[1].values()])\n",
    "np.sum(vs>0.35)/len(vs)"
   ]
  },
  {
   "cell_type": "code",
   "execution_count": 67,
   "metadata": {},
   "outputs": [
    {
     "data": {
      "text/plain": [
       "0.11864406779661017"
      ]
     },
     "execution_count": 67,
     "metadata": {},
     "output_type": "execute_result"
    }
   ],
   "source": [
    "vs = np.hstack([v for v in get_t_p_seen2('eq_contr', crossgene_names, return_names=True)[1].values()])\n",
    "np.sum(vs<0.3)/len(vs)"
   ]
  },
  {
   "cell_type": "markdown",
   "metadata": {},
   "source": [
    "### Make box plot with control "
   ]
  },
  {
   "cell_type": "code",
   "execution_count": 17,
   "metadata": {},
   "outputs": [],
   "source": [
    "ticklabel_map = {'synergy': 'Synergy',\n",
    "                 'suppressor':'Suppression',\n",
    "                 'neomorphic':'Neomorphism',\n",
    "                 'redundant':'Redundancy',\n",
    "                 'epistasis':'Epistasis',\n",
    "                 'epistatic':'Epistasis',\n",
    "                 'additive':'Additivity'}"
   ]
  },
  {
   "cell_type": "code",
   "execution_count": 6,
   "metadata": {},
   "outputs": [],
   "source": [
    "import numpy as np\n",
    "import scipy.stats\n",
    "\n",
    "\n",
    "def CI(data, confidence=0.95):\n",
    "    a = 1.0 * np.array(data)\n",
    "    n = len(a)\n",
    "    m, se = np.mean(a), scipy.stats.sem(a)\n",
    "    h = se * scipy.stats.t.ppf((1 + confidence) / 2., n-1)\n",
    "    return h"
   ]
  },
  {
   "cell_type": "code",
   "execution_count": 7,
   "metadata": {},
   "outputs": [
    {
     "data": {
      "text/plain": [
       "(0.0, 1.1)"
      ]
     },
     "execution_count": 7,
     "metadata": {},
     "output_type": "execute_result"
    },
    {
     "name": "stderr",
     "output_type": "stream",
     "text": [
      "findfont: Font family ['normal'] not found. Falling back to DejaVu Sans.\n",
      "findfont: Font family ['normal'] not found. Falling back to DejaVu Sans.\n"
     ]
    },
    {
     "data": {
      "image/png": "[encoded data removed]",
      "text/plain": [
       "<Figure size 1008x360 with 1 Axes>"
      ]
     },
     "metadata": {
      "needs_background": "light"
     },
     "output_type": "display_data"
    }
   ],
   "source": [
    "## Compare to random\n",
    "\n",
    "import matplotlib\n",
    "font = {'family' : 'normal',\n",
    "        'size'   : 18}\n",
    "\n",
    "matplotlib.rc('font', **font)\n",
    "\n",
    "legend=True\n",
    "keys = list(precision_at_10['naive'].keys())\n",
    "keys = np.sort(list(keys))[::-1]\n",
    "naive_values = [precision_at_10['naive'][k] for k in keys]\n",
    "\n",
    "medianprops = dict(color='black')\n",
    "fig = plt.figure(figsize=[14,5])\n",
    "\n",
    "keys_ = [ticklabel_map[x] for x in keys]\n",
    "\n",
    "for it, k in enumerate(keys):\n",
    "    plt.scatter(it+1-0.1, np.mean(naive_values[it]), marker='.', \n",
    "                s=220, color='goldenrod')\n",
    "    box = plt.errorbar(it+1-0.1, np.mean(naive_values[it]), capsize=5, \n",
    "                       elinewidth=2,markeredgewidth=2,\n",
    "                       yerr=np.std(naive_values[it]), color='goldenrod')\n",
    "    plt.scatter(it+1, precision_at_10['pertnet'][k], marker='*', \n",
    "                s=220, color='firebrick')\n",
    "    \n",
    "    # Annotation\n",
    "    line_bot = np.mean(naive_values[it])\n",
    "    line_top = precision_at_10['pertnet'][k]\n",
    "    text_pos = (line_bot + line_top)/2\n",
    "    improve = (line_top-line_bot)/line_bot * 100\n",
    "    plt.plot([it+1,it+1],[line_bot,line_top], color='firebrick', \n",
    "                          linestyle='--', alpha=0.7)\n",
    "    plt.annotate('+{0:.0f}%'.format(improve),(it+1.05, text_pos))\n",
    "    plt.plot([it+0.95,it+1.05],[line_bot,line_bot], color='firebrick')\n",
    "    #plt.scatter(it+1, precision_at_10['cpa'][k], marker='*', \n",
    "    #            s=130, color='blue')\n",
    "    \n",
    "plt.ylim([-0.1,1])\n",
    "plt.ylabel('Precision @ 10')\n",
    "\n",
    "yellow_dot = plt.Line2D((0,1),(0,0), color='goldenrod', marker='.', \n",
    "                       markersize=20, linestyle='', label='Random')\n",
    "red_star = plt.Line2D((0,1),(0,0), color='firebrick', marker='*', \n",
    "                       markersize=20, linestyle='', label='GEARS')\n",
    "#blue_star = plt.Line2D((0,1),(0,0), color='blue', marker='*',markersize=20,\n",
    "#                       linestyle='', label='CPA')\n",
    "\n",
    "if legend:\n",
    "    plt.legend(handles=[yellow_dot, red_star], \n",
    "               bbox_to_anchor=(1.0, 1.0), ncol=2)\n",
    "\n",
    "plt.title('Model precision in identifying genetic interactions')\n",
    "_ = plt.xticks(np.arange(1,it+2), keys_)\n",
    "\n",
    "plt.xlim([0.5,it+1.75])\n",
    "plt.xlabel('Genetic Interaction Type')\n",
    "plt.ylim([0,1.1])"
   ]
  },
  {
   "cell_type": "markdown",
   "metadata": {},
   "source": [
    "## Top 10 accuracy"
   ]
  },
  {
   "cell_type": "code",
   "execution_count": 8,
   "metadata": {},
   "outputs": [],
   "source": [
    "k = 10\n",
    "num_samples=1000\n",
    "dict_ = {}\n",
    "dict_['cpa'] = {}\n",
    "dict_['pertnet'] = {}\n",
    "dict_['naive'] = {}\n",
    "dfs = {}\n",
    "\n",
    "for metric in [('eq_contr', 'epistasis', 'min'), ('corr_fit', 'neomorphic', 'min'), \n",
    "               ('dcor', 'redundant', 'max'),('mag','suppressor', 'min'),\n",
    "               ('mag','synergy', 'max')]:       \n",
    "\n",
    "    p,t,p_names,t_names = get_t_p_seen1(metric[0], crossgene_names, return_names=True, uncert_filter=True)\n",
    "    dict_['pertnet'][metric[1]] = get_topk_acc(p, t, p_names, t_names,  min_max=metric[2], k=k)\n",
    "\n",
    "    dict_['naive'][metric[1]] = []\n",
    "    for it in range(num_samples):\n",
    "        score = get_topk_acc(p, t, p_names, t_names,  min_max=metric[2], k=k, random=True)\n",
    "        dict_['naive'][metric[1]].append(score)\n",
    "    \n",
    "top_10_acc = dict_"
   ]
  },
  {
   "cell_type": "code",
   "execution_count": 9,
   "metadata": {},
   "outputs": [
    {
     "data": {
      "text/plain": [
       "(0.0, 1.0)"
      ]
     },
     "execution_count": 9,
     "metadata": {},
     "output_type": "execute_result"
    },
    {
     "data": {
      "image/png": "[encoded data removed]",
      "text/plain": [
       "<Figure size 1008x360 with 1 Axes>"
      ]
     },
     "metadata": {
      "needs_background": "light"
     },
     "output_type": "display_data"
    }
   ],
   "source": [
    "import matplotlib\n",
    "font = {'family' : 'normal',\n",
    "        'size'   : 18}\n",
    "\n",
    "matplotlib.rc('font', **font)\n",
    "\n",
    "legend=True\n",
    "keys = list(top_10_acc['naive'].keys())\n",
    "keys = np.sort(list(keys))[::-1]\n",
    "naive_values = [top_10_acc['naive'][k] for k in keys]\n",
    "\n",
    "medianprops = dict(color='black')\n",
    "fig = plt.figure(figsize=[14,5])\n",
    "\n",
    "keys_ = [ticklabel_map[x] for x in keys]\n",
    "\n",
    "for it, k in enumerate(keys):\n",
    "    plt.scatter(it+1-0.1, np.mean(naive_values[it]), marker='.', \n",
    "                s=220, color='goldenrod')\n",
    "    box = plt.errorbar(it+1-0.1, np.mean(naive_values[it]), capsize=5, \n",
    "                       elinewidth=2,markeredgewidth=2,\n",
    "                       yerr=np.std(naive_values[it]), color='goldenrod')\n",
    "    plt.scatter(it+1+0.1, top_10_acc['pertnet'][k], marker='*', \n",
    "                s=220, color='firebrick')\n",
    "    \n",
    "    # Annotation\n",
    "    line_bot = np.mean(top_10_acc['naive'][k])\n",
    "    line_top = top_10_acc['pertnet'][k]\n",
    "    text_pos = (line_bot + line_top)/2\n",
    "    improve = (line_top-line_bot)/line_bot * 100\n",
    "    plt.plot([it+1+0.1,it+1+0.1],[line_bot,line_top], color='firebrick', \n",
    "                          linestyle='--', alpha=0.7)\n",
    "    plt.annotate('+{0:.0f}%'.format(improve),(it+1.15, text_pos))\n",
    "    plt.plot([it+1.05,it+1.15],[line_bot,line_bot], color='firebrick')\n",
    "    \n",
    "plt.ylim([-0.1,1])\n",
    "plt.ylabel('Top-10 Accuracy')\n",
    "\n",
    "yellow_dot = plt.Line2D((0,1),(0,0), color='goldenrod', marker='.', \n",
    "                       markersize=20, linestyle='', label='Random')\n",
    "red_star = plt.Line2D((0,1),(0,0), color='firebrick', marker='*', \n",
    "                       markersize=20, linestyle='', label='GEARS')\n",
    "\n",
    "if legend:\n",
    "    plt.legend(handles=[yellow_dot, red_star], \n",
    "               bbox_to_anchor=(1.0, 1.0), ncol=2)\n",
    "\n",
    "plt.title('Model accuracy in identifying top 10 interactions of each sub-type')\n",
    "_ = plt.xticks(np.arange(1,it+2), keys_)\n",
    "#plt.xlabel('Genetic Interaction Type')\n",
    "\n",
    "_ = plt.xticks(np.arange(1,it+2), keys_)\n",
    "\n",
    "\n",
    "plt.xlim([0.5,it+1.75])\n",
    "plt.ylim([0,1.0])"
   ]
  },
  {
   "cell_type": "code",
   "execution_count": 10,
   "metadata": {},
   "outputs": [],
   "source": [
    "cg_seen1_df = pd.DataFrame(get_all_pr_scores(crossgene_names, seen=1))\n",
    "cg_seen1_df['model'] = 'PertNet'\n",
    "\n",
    "#cg_seen1_df = cg_seen1_df.drop(columns=['additive'])"
   ]
  },
  {
   "cell_type": "code",
   "execution_count": 19,
   "metadata": {},
   "outputs": [
    {
     "data": {
      "text/plain": [
       "(0.0, 1.0)"
      ]
     },
     "execution_count": 19,
     "metadata": {},
     "output_type": "execute_result"
    },
    {
     "data": {
      "image/png": "[encoded data removed]",
      "text/plain": [
       "<Figure size 1008x360 with 1 Axes>"
      ]
     },
     "metadata": {
      "needs_background": "light"
     },
     "output_type": "display_data"
    }
   ],
   "source": [
    "import matplotlib\n",
    "font = {'family' : 'normal',\n",
    "        'size'   : 18}\n",
    "\n",
    "matplotlib.rc('font', **font)\n",
    "\n",
    "legend=True\n",
    "fig = plt.figure(figsize=[14,5])\n",
    "\n",
    "metric = 'precision'\n",
    "\n",
    "keys_ = np.sort(cg_seen1_df.columns[:-1])[::-1]\n",
    "\n",
    "for it, k in enumerate(keys_):\n",
    "    plt.bar(it+1+0.1, cg_seen1_df.loc[metric, k], width=0.35, edgecolor='black',\n",
    "                 linewidth='3', color='firebrick')\n",
    "    \n",
    "plt.ylim([-0.1,1])\n",
    "plt.ylabel(metric.title())\n",
    "\n",
    "red_star = plt.Line2D((0,1),(0,0), color='firebrick', marker='*', \n",
    "                       markersize=20, linestyle='', label='PertNet')\n",
    "\n",
    "if legend:\n",
    "    plt.legend(['GEARS'], bbox_to_anchor=(1.0, 1.0))\n",
    "\n",
    "plt.title('Model performance in identifying all genetic interactions of each sub-type')\n",
    "#plt.xlabel('Genetic Interaction Type')\n",
    "\n",
    "_ = plt.xticks(np.arange(1,it+2), ['' for s in keys_])\n",
    "\n",
    "\n",
    "plt.xlim([0.5,it+1.75])\n",
    "plt.ylim([0,1.0])"
   ]
  },
  {
   "cell_type": "code",
   "execution_count": 18,
   "metadata": {},
   "outputs": [
    {
     "data": {
      "text/plain": [
       "(0.0, 1.1)"
      ]
     },
     "execution_count": 18,
     "metadata": {},
     "output_type": "execute_result"
    },
    {
     "data": {
      "image/png": "[encoded data removed]",
      "text/plain": [
       "<Figure size 1008x360 with 1 Axes>"
      ]
     },
     "metadata": {
      "needs_background": "light"
     },
     "output_type": "display_data"
    }
   ],
   "source": [
    "import matplotlib\n",
    "font = {'family' : 'normal',\n",
    "        'size'   : 18}\n",
    "\n",
    "matplotlib.rc('font', **font)\n",
    "\n",
    "legend=True\n",
    "fig = plt.figure(figsize=[14,5])\n",
    "\n",
    "metric = 'recall'\n",
    "keys_ = np.sort(cg_seen1_df.columns[:-1])[::-1]\n",
    "\n",
    "for it, k in enumerate(keys_):\n",
    "    plt.bar(it+1+0.1, cg_seen1_df.loc[metric, k], width=0.35, edgecolor='black',\n",
    "                 linewidth='3', color='firebrick')\n",
    "    \n",
    "plt.ylim([-0.1,1])\n",
    "plt.ylabel(metric.title())\n",
    "\n",
    "red_star = plt.Line2D((0,1),(0,0), color='firebrick', marker='*', \n",
    "                       markersize=20, linestyle='', label='PertNet')\n",
    "\n",
    "#if legend:\n",
    "#    plt.legend(['PertNet'], bbox_to_anchor=(1.0, 1.0))\n",
    "\n",
    "#plt.title('Model performance in identifying all genetic interactions of each sub-type')\n",
    "plt.xlabel('Genetic Interaction Type')\n",
    "\n",
    "_ = plt.xticks(np.arange(1.1,it+2.1), [ticklabel_map[s].title() for s in keys_])\n",
    "\n",
    "\n",
    "plt.xlim([0.5,it+1.75])\n",
    "plt.ylim([0,1.1])"
   ]
  },
  {
   "cell_type": "markdown",
   "metadata": {},
   "source": [
    "### Setting an uncertainty threshold"
   ]
  },
  {
   "cell_type": "code",
   "execution_count": 45,
   "metadata": {},
   "outputs": [],
   "source": [
    "files = glob.glob('../GI_gene_mse/dfs/*_crossgene_unc_logvar')\n",
    "all_z_scores = []\n",
    "\n",
    "for f in files:\n",
    "    logvar_df = pd.read_csv(f)\n",
    "    logvar_df = logvar_df.set_index('condition')\n",
    "    all_z_scores.extend(get_z_scores_logvar(logvar_df)['z-score'].values)\n",
    "    #thresh  = logvar_df.loc['thresh_mean_train'][0] + 0.386*logvar_df.loc['thresh_std_train'][0] "
   ]
  },
  {
   "cell_type": "code",
   "execution_count": 48,
   "metadata": {},
   "outputs": [
    {
     "data": {
      "image/png": "[encoded data removed]",
      "text/plain": [
       "<Figure size 432x288 with 1 Axes>"
      ]
     },
     "metadata": {
      "needs_background": "light"
     },
     "output_type": "display_data"
    }
   ],
   "source": [
    "_=plt.hist(all_z_scores, bins=100)"
   ]
  },
  {
   "cell_type": "code",
   "execution_count": 39,
   "metadata": {},
   "outputs": [],
   "source": [
    "def get_z_scores_logvar(logvar_df):\n",
    "    mean = logvar_df.loc['thresh_mean_train'][0]\n",
    "    std = logvar_df.loc['thresh_std_train'][0]\n",
    "    pert_inds = [ind for ind in logvar_df.index \n",
    "                 if ind not in ['thresh_mean_train', 'thresh_std_train']]\n",
    "\n",
    "    z_score_df = logvar_df.loc[pert_inds,:].apply(lambda x: (x-mean)/std)\n",
    "    z_score_df = z_score_df.rename(columns={'0':'z-score'})\n",
    "    return z_score_df"
   ]
  },
  {
   "cell_type": "code",
   "execution_count": null,
   "metadata": {},
   "outputs": [],
   "source": [
    "logvar_df_file = '../GI_gene_mse/dfs/' + gene + '_crossgene_unc_logvar'\n",
    "logvar_df = pd.read_csv(logvar_df_file)\n",
    "logvar_df = logvar_df.set_index('condition')\n",
    "thresh  = logvar_df.loc['thresh_mean_train'][0] + 0.386*logvar_df.loc['thresh_std_train'][0] \n",
    "return logvar_df[logvar_df['0']<thresh].index.values"
   ]
  },
  {
   "cell_type": "code",
   "execution_count": null,
   "metadata": {},
   "outputs": [],
   "source": []
  }
 ],
 "metadata": {
  "kernelspec": {
   "display_name": "deepsnap",
   "language": "python",
   "name": "deepsnap"
  },
  "language_info": {
   "codemirror_mode": {
    "name": "ipython",
    "version": 3
   },
   "file_extension": ".py",
   "mimetype": "text/x-python",
   "name": "python",
   "nbconvert_exporter": "python",
   "pygments_lexer": "ipython3",
   "version": "3.7.4"
  }
 },
 "nbformat": 4,
 "nbformat_minor": 2
}

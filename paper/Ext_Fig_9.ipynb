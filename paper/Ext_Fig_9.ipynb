{
 "cells": [
  {
   "cell_type": "code",
   "execution_count": 1,
   "metadata": {},
   "outputs": [],
   "source": [
    "import pandas as pd\n",
    "import numpy as np\n",
    "import pickle\n",
    "import sys\n",
    "sys.path.append('/dfs/user/yhr/Perturbseq_GI/')\n",
    "from maxide import Maxide\n",
    "\n",
    "from sklearn.preprocessing import PolynomialFeatures\n",
    "from sklearn.linear_model import LinearRegression\n",
    "from sklearn.pipeline import make_pipeline\n",
    "\n",
    "import matplotlib.pyplot as plt\n",
    "import seaborn as sns\n",
    "\n",
    "%matplotlib inline"
   ]
  },
  {
   "cell_type": "code",
   "execution_count": 9,
   "metadata": {},
   "outputs": [],
   "source": [
    "class GI_expt():\n",
    "    # TODO get rid of hold out genes\n",
    "    def __init__(self, raw=False, pick_genes = None):\n",
    "        # sample: matrix sampling percentage\n",
    "        # seed: sampling seed,\n",
    "        # sampled_data: sampled indices from upper traingle matrix\n",
    "        # test: matrix values to be predicted\n",
    "        # train: observed matrix values used for training, \n",
    "        # delta: deviation from expectation as inferred using \n",
    "        #        a regression model trained on sampled_data (corresponds to sampled_data)\n",
    "        # delta_tot: delta values computed for all matrix values\n",
    "        # y_tot: Full true matrix (raw fitness values)\n",
    "        # raws: Sampled raw fitness values (corresponds to sampled_data)\n",
    "        # transformer: regression model used to determine expected fitness values\n",
    "        \n",
    "\n",
    "        with open('/dfs/user/yhr/gears2/Evaluation/GI_data.pkl', 'rb') as f:\n",
    "            self.data = pickle.load(f)\n",
    "        self.raw = raw\n",
    "        self.pick_genes = pick_genes\n",
    "\n",
    "    def pre_process(self, sample, seed):\n",
    "        itr_data = {}\n",
    "        itr_data['sample'] = sample\n",
    "        itr_data['seed'] = seed\n",
    "\n",
    "        # Randomly sample from the fitness matrix\n",
    "        if self.pick_genes is None:\n",
    "            itr_data['sampled_data'] = \\\n",
    "               upper_triangle(self.data['good_phen'], k=0).sample(\n",
    "               frac=float(sample) / 100., replace=False, random_state=seed).index\n",
    "        else:\n",
    "            itr_data['sampled_data'] = \\\n",
    "                upper_triangle(self.data['good_phen'].iloc[self.pick_genes,\n",
    "                                                    self.pick_genes]).index\n",
    "\n",
    "        # Set up masked delta matrix for performing matrix completion\n",
    "        itr_data['delta'], itr_data['test'], \\\n",
    "        itr_data['train'], itr_data['delta_tot'], \\\n",
    "        itr_data['X_tot'], itr_data['y_tot'], itr_data['transformer'], \\\n",
    "        itr_data['raws'] = \\\n",
    "            get_masked_delta_matrix(self.data['good_phen'],\n",
    "                                    itr_data['sampled_data'],\n",
    "                                    self.data['fitness_mapper_gene'],\n",
    "                                    self.data['good_genes'])\n",
    "\n",
    "        return itr_data\n",
    "    \n",
    "    def maxide_predict(self, itr_data, maxide_delta=5e-4,\n",
    "                       maxide_max_iter=5000, side=True, raw=False):\n",
    "        if side:\n",
    "            print('Maxide with side features')\n",
    "            feats = self.data['side']\n",
    "        else:\n",
    "            print('Maxide with no side features')\n",
    "            feats = np.identity(self.data['side'].shape[1])\n",
    "            \n",
    "        if raw:\n",
    "            train_data = itr_data['raws']\n",
    "        else:\n",
    "            train_data = itr_data['delta']\n",
    "\n",
    "        delta_pred, Z = Maxide(itr_data['delta'].values,\n",
    "                                   np.flatnonzero(\n",
    "                                   train_data.values.flatten()),\n",
    "                                   feats,\n",
    "                                   feats,\n",
    "                                   delta=maxide_delta,\n",
    "                                   max_iter=maxide_max_iter)\n",
    "\n",
    "        delta_pred = pd.DataFrame(delta_pred,\n",
    "                                  index=self.data['good_phen'].index,\n",
    "                                  columns=self.data['good_phen'].columns)\n",
    "        return delta_pred\n",
    "\n",
    "\n",
    "def get_masked_delta_matrix(data, sampling, phen_mapper, good_genes):\n",
    "    masked_data, mask = get_masked_data(data, sampling)\n",
    "\n",
    "    upper_masked_data = upper_triangle(masked_data)\n",
    "    predicted = upper_masked_data[upper_masked_data == 0].index\n",
    "    given = upper_masked_data[upper_masked_data != 0].index\n",
    "\n",
    "    delta_tot, X, X_tot, y, y_tot, transformer, raws = get_deltas(data, masked_data, phen_mapper, good_genes)\n",
    "    delta, _ = get_masked_data(delta_tot, sampling)\n",
    "    raws, _ = get_masked_data(raws, sampling)\n",
    "\n",
    "    return delta, predicted, given, delta_tot, X_tot, y_tot, transformer, raws\n",
    "\n",
    "def get_deltas(source_data, sampled_data, phen_mapper, good_genes):\n",
    "    # this is the routine that fits a quadratic model to observed fitness measurements and returns\n",
    "    # the deviations from the expectation given by that model (the \"deltas\")\n",
    "    y = sampled_data.stack()\n",
    "    y = y[y != 0]\n",
    "\n",
    "    X = np.concatenate([y.index.get_level_values(0).map(lambda x: phen_mapper[x]).values[:, np.newaxis],\n",
    "                        y.index.get_level_values(1).map(lambda x: phen_mapper[x]).values[:, np.newaxis]], axis=1)\n",
    "\n",
    "    y_tot = source_data.loc[good_genes, good_genes].stack()\n",
    "    X_tot = np.concatenate([y_tot.index.get_level_values(0).map(lambda x: phen_mapper[x]).values[:, np.newaxis],\n",
    "                            y_tot.index.get_level_values(1).map(lambda x: phen_mapper[x]).values[:, np.newaxis]],\n",
    "                           axis=1)\n",
    "\n",
    "    transformer = PolynomialFeatures()\n",
    "    model = make_pipeline(PolynomialFeatures(), LinearRegression())\n",
    "    model.fit(X, y)\n",
    "\n",
    "    delta = pd.Series(y_tot - model.predict(X_tot), index=y_tot.index)\n",
    "    raws = pd.Series(y_tot, index=y_tot.index).unstack()\n",
    "    delta = delta.unstack()\n",
    "\n",
    "    return delta, X, X_tot, y, y_tot, model, raws\n",
    "\n",
    "\n",
    "def get_deltas_unmasked(source_data, phen_mapper, good_genes):\n",
    "    y_tot = source_data.loc[good_genes, good_genes].stack()\n",
    "    X_tot = np.concatenate([y_tot.index.get_level_values(0).map(lambda x: phen_mapper[x]).values[:, np.newaxis],\n",
    "                            y_tot.index.get_level_values(1).map(lambda x: phen_mapper[x]).values[:, np.newaxis]],\n",
    "                           axis=1)\n",
    "\n",
    "    transformer = PolynomialFeatures()\n",
    "    model = make_pipeline(PolynomialFeatures(), LinearRegression())\n",
    "    model.fit(X_tot, y_tot)\n",
    "\n",
    "    delta = pd.Series(y_tot - model.predict(X_tot), index=y_tot.index)\n",
    "    delta = delta.unstack()\n",
    "    \n",
    "    return delta\n",
    "\n",
    "\n",
    "def upper_triangle(M, k=1):\n",
    "    \"\"\" Copyright (C) 2019  Thomas Norman\n",
    "    Return the upper triangular part of a matrix in stacked format (i.e. as a vector)\n",
    "    \"\"\"\n",
    "    keep = np.triu(np.ones(M.shape), k=k).astype('bool').reshape(M.size)\n",
    "    return M.stack(dropna=False).loc[keep]\n",
    "\n",
    "def get_masked_data(df, ind, mean_normalize=False):\n",
    "    masked_data = df.copy().values\n",
    "    mask = pd.DataFrame(0, index=df.index, columns=df.columns)\n",
    "\n",
    "    for gene1, gene2 in ind:\n",
    "        mask.loc[gene1, gene2] = 1\n",
    "\n",
    "        # assume DataFrame is symmetric\n",
    "    mask = mask + mask.T\n",
    "    mask = (mask != 0).values\n",
    "    masked_data[~mask] = 0\n",
    "    masked_data_df = pd.DataFrame(masked_data, index=df.index, columns=df.columns)\n",
    "\n",
    "    # whether to center the observed entries such that the overall mean is 0\n",
    "    if mean_normalize:\n",
    "        masked_data_df = masked_data_df.stack()\n",
    "        offset = masked_data_df[masked_data_df != 0]\n",
    "        offset = offset.mean()\n",
    "        masked_data_df[masked_data_df != 0] = masked_data_df[masked_data_df != 0] - offset\n",
    "        print(offset)\n",
    "        masked_data_df = masked_data_df.unstack()\n",
    "\n",
    "    return masked_data_df, mask"
   ]
  },
  {
   "cell_type": "code",
   "execution_count": 10,
   "metadata": {},
   "outputs": [],
   "source": [
    "def get_outlier_idx(arr, sd_thresh=2):\n",
    "    sd = np.std(arr)\n",
    "    upper = np.mean(arr)+sd_thresh*sd\n",
    "    lower = np.mean(arr)-sd_thresh*sd\n",
    "    return [it for it, t in enumerate(arr) if (t<lower) or (t>upper)]\n",
    "\n",
    "def get_recall(true, pred):\n",
    "    recall = len(set(get_outlier_idx(true)).intersection(set(get_outlier_idx(pred))))/\\\n",
    "    len(get_outlier_idx(true))\n",
    "    return recall"
   ]
  },
  {
   "cell_type": "markdown",
   "metadata": {},
   "source": [
    "### Set up 2 additional datasets"
   ]
  },
  {
   "cell_type": "code",
   "execution_count": 11,
   "metadata": {},
   "outputs": [],
   "source": [
    "def create_GI_data_file(GI_df):\n",
    "\n",
    "    gene_list = set(GI_df['Gene1'].values).intersection(set(GI_df['Gene2'].values))\n",
    "    good_phen = pd.DataFrame(index=gene_list, columns=gene_list)\n",
    "    fitness_mapper_gene = {}\n",
    "\n",
    "    for row in GI_df.iterrows():\n",
    "        good_phen.at[row[1]['Gene1'], row[1]['Gene2']] = row[1]['phen_score']\n",
    "        good_phen.at[row[1]['Gene2'], row[1]['Gene1']] = row[1]['phen_score']\n",
    "        fitness_mapper_gene[row[1]['Gene1']+'_'+row[1]['Gene2']] = row[1]['phen_score']\n",
    "\n",
    "    new_GI_data['good_phen'] = good_phen\n",
    "    new_GI_data['good_emap'] = None\n",
    "    new_GI_data['Z-phen'] = None\n",
    "    new_GI_data['Z_emap'] = None\n",
    "    new_GI_data['side'] = None\n",
    "    new_GI_data['fitness_mapper_gene'] = None\n",
    "    new_GI_data['good_perturbations'] = None\n",
    "    new_GI_data['fitness_mapper_gene'] = fitness_mapper_gene\n",
    "    new_GI_data['good_genes'] = gene_list\n",
    "    \n",
    "    return new_GI_data"
   ]
  },
  {
   "cell_type": "code",
   "execution_count": 12,
   "metadata": {},
   "outputs": [],
   "source": [
    "with open('/dfs/project/perturb-gnn/datasets/Norman2019/GI_data.pkl', 'rb') as f:\n",
    "    read_file = pickle.load(f)"
   ]
  },
  {
   "cell_type": "code",
   "execution_count": 13,
   "metadata": {},
   "outputs": [],
   "source": [
    "import scanpy as sc\n",
    "norman_adata = sc.read_h5ad('/dfs/project/perturb-gnn/datasets/Norman2019/Norman2019_hi_umi+hvg.h5ad')"
   ]
  },
  {
   "cell_type": "code",
   "execution_count": 14,
   "metadata": {},
   "outputs": [],
   "source": [
    "def get_reverse(pert):\n",
    "    return pert.split('+')[-1]+'+'+pert.split('+')[0]\n",
    "\n",
    "def check_seen(pert):\n",
    "    pert_list = list(norman_adata.obs['condition'].unique())\n",
    "    if pert in pert_list:\n",
    "        return True\n",
    "    elif get_reverse(pert) in pert_list:\n",
    "        return True\n",
    "    return False\n",
    "\n",
    "def get_reverse_perts(perts):\n",
    "    return [t.split('+')[-1]+'+'+t.split('+')[0] for t in perts]\n",
    "\n",
    "def remove_reverse(perts):\n",
    "    return list(set(perts).difference(set(get_reverse_perts(perts))))\n",
    "\n",
    "def remove_duplicates_list(list_):\n",
    "    import itertools\n",
    "    list_.sort()\n",
    "    return list(k for k,_ in itertools.groupby(list_))"
   ]
  },
  {
   "cell_type": "markdown",
   "metadata": {},
   "source": [
    "### Read in cell fitness data"
   ]
  },
  {
   "cell_type": "code",
   "execution_count": 15,
   "metadata": {},
   "outputs": [],
   "source": [
    "# Run prediction\n",
    "GI = GI_expt(pick_genes=None)\n",
    "\n",
    "itr_data = GI.pre_process(sample=25, seed=1)"
   ]
  },
  {
   "cell_type": "code",
   "execution_count": 16,
   "metadata": {},
   "outputs": [],
   "source": [
    "# True delta \n",
    "true_deltas = get_deltas_unmasked(GI.data['good_phen'], GI.data['fitness_mapper_gene'], GI.data['good_genes'])\n",
    "\n",
    "map_dict = {c:c for c in true_deltas.columns}\n",
    "map_dict['CBARP']='C19orf26'\n",
    "map_dict['C19orf26']='C19orf26'\n",
    "map_dict['FOXL2NB']='C3orf72'\n",
    "map_dict['RP5-862P8.2']='KIAA1804'\n",
    "map_dict['RHOXF2B']='RHOXF2BB'\n",
    "map_dict['C3orf72'] = 'C3orf72'\n",
    "map_dict['RHOXF2BB'] = 'RHOXF2BB'"
   ]
  },
  {
   "cell_type": "markdown",
   "metadata": {},
   "source": [
    "### Read in GEARS predicted GIs"
   ]
  },
  {
   "cell_type": "code",
   "execution_count": 17,
   "metadata": {},
   "outputs": [
    {
     "name": "stderr",
     "output_type": "stream",
     "text": [
      "/dfs/user/yhr/deepamp/lib/python3.8/site-packages/sklearn/base.py:318: UserWarning: Trying to unpickle estimator TheilSenRegressor from version 0.24.2 when using version 1.2.2. This might lead to breaking code or invalid results. Use at your own risk. For more info please refer to:\n",
      "https://scikit-learn.org/stable/model_persistence.html#security-maintainability-limitations\n",
      "  warnings.warn(\n"
     ]
    }
   ],
   "source": [
    "#all_GIs = np.load('/dfs/user/yhr/snap/perturb_GNN/pertnet_umi_no_test_jfix_allGI.npy', allow_pickle=True).item()\n",
    "\n",
    "all_GIs = np.load('/dfs/user/yhr/gears2/Evaluation/gears_misc_umi_no_test_allGI.npy', allow_pickle=True).item()\n",
    "#all_GIs = np.load('/dfs/user/yhr/gears2/Evaluation/gears_misc_positional_umi_no_test_allGI.npy', allow_pickle=True).item()\n",
    "\n",
    "\n",
    "heatmaps = {}\n",
    "for metric in ['mag', 'dcor', 'corr_fit', 'dominance', 'eq_contr']:\n",
    "    heatmaps[metric] = pd.DataFrame(columns=GI.data['good_genes'], \n",
    "                                    index=GI.data['good_genes'])\n",
    "    for g1 in GI.data['good_genes']:\n",
    "        for g2 in GI.data['good_genes']:\n",
    "            if g1 != g2:\n",
    "                try:\n",
    "                    if g1 in map_dict:\n",
    "                        g1 = map_dict[g1]\n",
    "                    elif g2 in map_dict:\n",
    "                        g2 = map_dict[g2]\n",
    "                    try:\n",
    "                        pert = str([g1, g2])\n",
    "                        z = all_GIs[pert][metric]\n",
    "                    except:\n",
    "                        pert = str([g2, g1])\n",
    "                        z = all_GIs[pert][metric]\n",
    "                    heatmaps[metric].at[g1,g2] = z\n",
    "                    heatmaps[metric].at[g2,g1] = z\n",
    "                except:\n",
    "                    continue\n",
    "\n",
    "heatmaps['mag'] = heatmaps['mag'].fillna(1)\n",
    "heatmaps['dcor'] = heatmaps['dcor'].fillna(0)\n",
    "heatmaps['dominance'] = heatmaps['dominance'].fillna(0)\n",
    "heatmaps['corr_fit'] = heatmaps['corr_fit'].fillna(2)\n",
    "heatmaps['eq_contr'] = heatmaps['eq_contr'].fillna(2)"
   ]
  },
  {
   "cell_type": "code",
   "execution_count": 18,
   "metadata": {},
   "outputs": [],
   "source": [
    "true_deltas.columns = true_deltas.columns.map(map_dict)\n",
    "true_deltas.index = true_deltas.index.map(map_dict)\n",
    "\n",
    "heatmaps['mag'].columns = heatmaps['mag'].columns.map(map_dict)\n",
    "heatmaps['mag'].index = heatmaps['mag'].index.map(map_dict)\n",
    "\n",
    "heatmaps['corr_fit'].columns = heatmaps['corr_fit'].columns.map(map_dict)\n",
    "heatmaps['corr_fit'].index = heatmaps['corr_fit'].index.map(map_dict)"
   ]
  },
  {
   "cell_type": "code",
   "execution_count": 19,
   "metadata": {},
   "outputs": [],
   "source": [
    "genes_of_interest = heatmaps['mag'].columns\n",
    "\n",
    "all_possible_combos = []\n",
    "for g1 in genes_of_interest:\n",
    "    for g2 in genes_of_interest:\n",
    "        if g1==g2:\n",
    "            continue\n",
    "        all_possible_combos.append(sorted([g1,g2]))\n",
    "        \n",
    "all_possible_combos = remove_duplicates_list(all_possible_combos)\n",
    "all_combos_idx = pd.MultiIndex.from_tuples(all_possible_combos, names=['Gene1', 'Gene2'])"
   ]
  },
  {
   "cell_type": "code",
   "execution_count": 20,
   "metadata": {},
   "outputs": [],
   "source": [
    "shared_index_test = [x for x in all_combos_idx if not check_seen('+'.join(x))]\n",
    "shared_index_train = [x for x in all_combos_idx if check_seen('+'.join(x))]"
   ]
  },
  {
   "cell_type": "markdown",
   "metadata": {},
   "source": [
    "### Use correct set of genes and align cell fitness predictions and GEARS predictions"
   ]
  },
  {
   "cell_type": "code",
   "execution_count": 21,
   "metadata": {},
   "outputs": [],
   "source": [
    "import sys\n",
    "sys.path.append('../../gears_misc/')\n",
    "\n",
    "from gears import PertData, GEARS"
   ]
  },
  {
   "cell_type": "code",
   "execution_count": 16,
   "metadata": {},
   "outputs": [
    {
     "name": "stderr",
     "output_type": "stream",
     "text": [
      "Found local copy...\n",
      "These perturbations are not in the GO graph and is thus not able to make prediction for...\n",
      "['RHOXF2BB+ctrl' 'LYL1+IER5L' 'ctrl+IER5L' 'KIAA1804+ctrl' 'IER5L+ctrl'\n",
      " 'RHOXF2BB+ZBTB25' 'RHOXF2BB+SET']\n",
      "Local copy of pyg dataset is detected. Loading...\n",
      "Done!\n",
      "Local copy of split is detected. Loading...\n",
      "Done!\n",
      "Creating dataloaders....\n",
      "Done!\n"
     ]
    }
   ],
   "source": [
    "pert_data = PertData('/dfs/project/perturb-gnn/datasets/data')\n",
    "pert_data.load(data_path = '/dfs/project/perturb-gnn/datasets/data/norman_umi/')\n",
    "pert_data.prepare_split(split = 'no_test', seed = 1)\n",
    "pert_data.get_dataloader(batch_size = 32, test_batch_size = 128)\n",
    "\n",
    "gears_model = GEARS(pert_data, device = 'cpu', \n",
    "                    weight_bias_track = False, \n",
    "                    proj_name = 'experiment_GI', \n",
    "                    exp_name = 'experiment_GI')\n",
    "gears_model.model_initialize()"
   ]
  },
  {
   "cell_type": "code",
   "execution_count": 17,
   "metadata": {},
   "outputs": [],
   "source": [
    "exp_df = gears_model.adata.to_df()\n",
    "exp_df['condition'] = gears_model.adata.obs['condition']\n",
    "mean_exp_df = exp_df.groupby('condition').mean()"
   ]
  },
  {
   "cell_type": "code",
   "execution_count": 18,
   "metadata": {},
   "outputs": [],
   "source": [
    "for pert_id, expression in mean_exp_df.iterrows():\n",
    "    if 'ctrl' in pert_id:\n",
    "        pert_name = pert_id.strip('+ctrl')\n",
    "    else:\n",
    "        pert_name = '_'.join(pert_id.split('+'))\n",
    "    gears_model.saved_pred[pert_name] = expression.values"
   ]
  },
  {
   "cell_type": "code",
   "execution_count": 25,
   "metadata": {},
   "outputs": [
    {
     "name": "stdout",
     "output_type": "stream",
     "text": [
      "0 AHR_FEV\n",
      "1 AHR_KLF1\n",
      "2 BCL2L11_BAK1\n",
      "3 BCL2L11_TGFBR2\n",
      "4 BPGM_SAMD1\n",
      "5 BPGM_ZBTB1\n",
      "6 C3orf72_FOXL2\n",
      "7 CBL_CNN1\n",
      "8 CBL_PTPN9\n",
      "9 CBL_PTPN12\n",
      "10 CBL_TGFBR2\n",
      "11 CBL_UBASH3A\n",
      "12 CBL_UBASH3B\n",
      "13 CDKN1B_CDKN1A\n",
      "14 CDKN1C_CDKN1A\n",
      "15 CDKN1C_CDKN1B\n",
      "16 CEBPB_CEBPA\n",
      "17 CEBPB_MAPK1\n",
      "18 CEBPB_OSR2\n",
      "19 CEBPB_PTPN12\n",
      "20 CEBPE_CEBPA\n",
      "21 CEBPE_CEBPB\n",
      "22 CEBPE_CNN1\n",
      "23 CEBPE_KLF1\n",
      "24 CEBPE_PTPN12\n",
      "25 CEBPE_RUNX1T1\n",
      "26 CEBPE_SPI1\n",
      "27 CNN1_MAPK1\n",
      "28 CNN1_UBASH3A\n",
      "29 DUSP9_ETS2\n",
      "30 DUSP9_IGDCC3\n",
      "31 DUSP9_KLF1\n",
      "32 DUSP9_MAPK1\n",
      "33 DUSP9_PRTG\n",
      "34 DUSP9_SNAI1\n",
      "35 ETS2_CEBPE\n",
      "36 ETS2_CNN1\n",
      "37 ETS2_IGDCC3\n",
      "38 ETS2_IKZF3\n",
      "39 ETS2_MAP7D1\n",
      "40 ETS2_MAPK1\n",
      "41 ETS2_PRTG\n",
      "42 FEV_CBFA2T3\n",
      "43 FEV_ISL2\n",
      "44 FEV_MAP7D1\n",
      "45 FOSB_CEBPB\n",
      "46 FOSB_CEBPE\n",
      "47 FOSB_IKZF3\n",
      "48 FOSB_OSR2\n",
      "49 FOSB_PTPN12\n",
      "50 FOSB_UBASH3B\n",
      "51 FOXA1_FOXF1\n",
      "52 FOXA1_FOXL2\n",
      "53 FOXA1_HOXB9\n",
      "54 FOXA3_FOXA1\n",
      "55 FOXA3_FOXF1\n",
      "56 FOXA3_FOXL2\n",
      "57 FOXA3_HOXB9\n",
      "58 FOXF1_FOXL2\n",
      "59 FOXF1_HOXB9\n",
      "60 FOXL2_HOXB9\n",
      "61 FOXL2_MEIS1\n",
      "62 IGDCC3_MAPK1\n",
      "63 IGDCC3_PRTG\n",
      "64 IGDCC3_ZBTB25\n",
      "65 IRF1_SET\n",
      "66 JUN_CEBPA\n",
      "67 JUN_CEBPB\n",
      "68 KIF18B_KIF2C\n",
      "69 KLF1_BAK1\n",
      "70 KLF1_CEBPA\n",
      "71 KLF1_CLDN6\n",
      "72 KLF1_COL2A1\n",
      "73 KLF1_FOXA1\n",
      "74 KLF1_MAP2K6\n",
      "75 KLF1_TGFBR2\n",
      "76 LHX1_ELMSAN1\n",
      "77 LYL1_CEBPB\n",
      "78 MAP2K3_ELMSAN1\n",
      "79 MAP2K3_IKZF3\n",
      "80 MAP2K3_MAP2K6\n",
      "81 MAP2K3_SLC38A2\n",
      "82 MAP2K6_ELMSAN1\n",
      "83 MAP2K6_IKZF3\n",
      "84 MAP2K6_SPI1\n",
      "85 MAPK1_IKZF3\n",
      "86 MAPK1_PRTG\n",
      "87 MAPK1_TGFBR2\n",
      "88 PLK4_STIL\n",
      "89 POU3F2_CBFA2T3\n",
      "90 POU3F2_FOXL2\n",
      "91 PRDM1_CBFA2T3\n",
      "92 PTPN12_OSR2\n",
      "93 PTPN12_PTPN9\n",
      "94 PTPN12_SNAI1\n",
      "95 PTPN12_UBASH3A\n",
      "96 PTPN12_ZBTB25\n",
      "97 SAMD1_PTPN12\n",
      "98 SAMD1_TGFBR2\n",
      "99 SAMD1_UBASH3B\n",
      "100 SAMD1_ZBTB1\n",
      "101 SET_CEBPE\n",
      "102 SET_KLF1\n",
      "103 SGK1_S1PR2\n",
      "104 SGK1_TBX2\n",
      "105 SGK1_TBX3\n",
      "106 SNAI1_DLX2\n",
      "107 SNAI1_UBASH3B\n",
      "108 TBX3_TBX2\n",
      "109 TGFBR2_C19orf26\n",
      "110 TGFBR2_ETS2\n",
      "111 TGFBR2_IGDCC3\n",
      "112 TGFBR2_PRTG\n",
      "113 TMSB4X_BAK1\n",
      "114 UBASH3B_CNN1\n",
      "115 UBASH3B_OSR2\n",
      "116 UBASH3B_PTPN9\n",
      "117 UBASH3B_PTPN12\n",
      "118 UBASH3B_UBASH3A\n",
      "119 UBASH3B_ZBTB25\n",
      "120 ZBTB10_DLX2\n",
      "121 ZBTB10_ELMSAN1\n",
      "122 ZBTB10_PTPN12\n",
      "123 ZBTB10_SNAI1\n",
      "124 ZC3HAV1_CEBPA\n",
      "125 ZC3HAV1_CEBPE\n",
      "126 ZC3HAV1_HOXC13\n",
      "127 ZNF318_FOXL2\n"
     ]
    }
   ],
   "source": [
    "combo_names = [n for n in list(gears_model.saved_pred.keys()) if '_' in n]\n",
    "\n",
    "true_mags = {}\n",
    "true_corr_fit = {}\n",
    "for itr, combo in enumerate(combo_names):\n",
    "    print(itr, combo)\n",
    "    res = gears_model.GI_predict(combo.split('_'))\n",
    "    true_mags[combo]=res['mag']\n",
    "    true_corr_fit[combo]=res['corr_fit']"
   ]
  },
  {
   "cell_type": "code",
   "execution_count": 26,
   "metadata": {},
   "outputs": [],
   "source": [
    "#np.save('true_mags', true_mags)\n",
    "#np.save('true_corr_fit', true_corr_fit)"
   ]
  },
  {
   "cell_type": "code",
   "execution_count": 56,
   "metadata": {},
   "outputs": [],
   "source": [
    "true_mags = np.load('/dfs/user/yhr/gears2/Evaluation/true_mags.npy', allow_pickle=True).item()\n",
    "true_corr_fit = np.load('/dfs/user/yhr/gears2/Evaluation/true_corr_fit.npy', allow_pickle=True).item()"
   ]
  },
  {
   "cell_type": "code",
   "execution_count": 58,
   "metadata": {
    "scrolled": true
   },
   "outputs": [
    {
     "name": "stdout",
     "output_type": "stream",
     "text": [
      "IER5L LYL1\n",
      "RHOXF2BB SET\n",
      "RHOXF2BB ZBTB25\n"
     ]
    }
   ],
   "source": [
    "shared_mags_train = []\n",
    "shared_corr_fits_train = []\n",
    "shared_index_train_true = []\n",
    "for g1, g2 in shared_index_train:\n",
    "    try:\n",
    "        shared_mags_train.append(true_mags[map_dict[g1]+'_'+map_dict[g2]])\n",
    "        shared_corr_fits_train.append(true_corr_fit[map_dict[g1]+'_'+map_dict[g2]])\n",
    "        shared_index_train_true.append((g1,g2))\n",
    "    except:\n",
    "        try:\n",
    "            shared_mags_train.append(true_mags[map_dict[g2]+'_'+map_dict[g1]])\n",
    "            shared_corr_fits_train.append(true_corr_fit[map_dict[g2]+'_'+map_dict[g1]])\n",
    "            shared_index_train_true.append((g2,g1))\n",
    "        except:\n",
    "            print(g1,g2)\n",
    "            continue\n",
    "            \n",
    "shared_index_train_true = pd.MultiIndex.from_tuples(shared_index_train_true, names=['Gene1', 'Gene2'])"
   ]
  },
  {
   "cell_type": "markdown",
   "metadata": {},
   "source": [
    "### Identify strong interactions using delta (cell fitness) values"
   ]
  },
  {
   "cell_type": "code",
   "execution_count": 22,
   "metadata": {},
   "outputs": [],
   "source": [
    "GI.data['good_emap'].columns = GI.data['good_emap'].columns.map(map_dict)\n",
    "GI.data['good_emap'].index = GI.data['good_emap'].index.map(map_dict)"
   ]
  },
  {
   "cell_type": "code",
   "execution_count": 23,
   "metadata": {},
   "outputs": [],
   "source": [
    "import matplotlib.pyplot as plt\n",
    "import matplotlib"
   ]
  },
  {
   "cell_type": "code",
   "execution_count": 24,
   "metadata": {},
   "outputs": [],
   "source": [
    "font = {'family' : 'normal',\n",
    "        'size'   : 18}\n",
    "\n",
    "matplotlib.rc('font', **font)"
   ]
  },
  {
   "cell_type": "code",
   "execution_count": 26,
   "metadata": {},
   "outputs": [
    {
     "data": {
      "image/png": "[encoded data removed]",
      "text/plain": [
       "<Figure size 432x288 with 1 Axes>"
      ]
     },
     "metadata": {
      "needs_background": "light"
     },
     "output_type": "display_data"
    }
   ],
   "source": [
    "sns.histplot(true_deltas.stack().values)\n",
    "plt.ylabel('Number of combinations')\n",
    "plt.xlabel('Cell fitness-derived interaction (GI) score')\n",
    "\n",
    "plt.savefig('fitness_dist.svg')"
   ]
  },
  {
   "cell_type": "code",
   "execution_count": 61,
   "metadata": {},
   "outputs": [],
   "source": [
    "shared_mags = heatmaps['mag'].stack()[shared_index_test]\n",
    "shared_fitness = true_deltas.stack()[shared_index_test]\n",
    "shared_raw_fitness = GI.data['good_emap'].stack()[shared_index_test]\n",
    "\n",
    "#shared_mags_train = heatmaps['mag'].stack()[shared_index_train]\n",
    "shared_fitness_train = true_deltas.stack()[shared_index_train_true]\n",
    "shared_raw_fitness_train = GI.data['good_emap'].stack()[shared_index_train_true]\n",
    "\n",
    "lower_bound = -2*np.std(true_deltas.stack())\n",
    "upper_bound = +2*np.std(true_deltas.stack())\n",
    "\n",
    "additive_lbound = -1*np.std(true_deltas.stack())\n",
    "additive_ubound = +1*np.std(true_deltas.stack())\n",
    "\n",
    "non_additive_recall = shared_fitness[np.logical_or(shared_fitness<lower_bound, \n",
    "                                            shared_fitness>upper_bound)].index"
   ]
  },
  {
   "cell_type": "code",
   "execution_count": 62,
   "metadata": {},
   "outputs": [],
   "source": [
    "shared_mags_df = pd.DataFrame(shared_mags)\n",
    "shared_mags_df = shared_mags_df.rename(columns = {0:'GEARS'})\n",
    "shared_mags_df['pert'] = ['_'.join(x) for x in shared_mags_df.index]\n",
    "\n",
    "shared_fitness_df = pd.DataFrame(shared_fitness)\n",
    "shared_fitness_df = shared_fitness_df.rename(columns = {0:'Delta'})\n",
    "shared_fitness_df['pert'] = ['_'.join(x) for x in shared_fitness_df.index]\n",
    "\n",
    "shared_df = shared_mags_df.merge(shared_fitness_df, on='pert')\n",
    "shared_df = shared_df.set_index('pert')"
   ]
  },
  {
   "cell_type": "code",
   "execution_count": 63,
   "metadata": {},
   "outputs": [],
   "source": [
    "shared_mags_df_train = pd.DataFrame(shared_mags_train)\n",
    "shared_mags_df_train = shared_mags_df_train.rename(columns = {0:'GEARS'})\n",
    "shared_mags_df_train.index = shared_index_train_true\n",
    "shared_mags_df_train['pert'] = ['_'.join(x) for x in shared_mags_df_train.index]\n",
    "\n",
    "shared_fitness_df_train = pd.DataFrame(shared_fitness_train)\n",
    "shared_fitness_df_train = shared_fitness_df_train.rename(columns = {0:'Delta'})\n",
    "shared_fitness_df_train.index = shared_index_train_true\n",
    "shared_fitness_df_train['pert'] = ['_'.join(x) for x in shared_fitness_df_train.index]\n",
    "\n",
    "shared_df_train = shared_mags_df_train.merge(shared_fitness_df_train, on='pert')\n",
    "shared_df_train = shared_df_train.set_index('pert')"
   ]
  },
  {
   "cell_type": "code",
   "execution_count": 64,
   "metadata": {},
   "outputs": [],
   "source": [
    "# corrected\n",
    "shared_df['GEARS_corrected'] = shared_df['GEARS']-np.mean(shared_df['GEARS'])\n",
    "shared_df_train['GEARS_corrected'] = shared_df_train['GEARS']-np.mean(shared_df_train['GEARS'])\n",
    "\n",
    "#znorm\n",
    "shared_df['GEARS_znorm'] = (shared_df['GEARS']-np.mean(shared_df['GEARS']))/np.std(shared_df['GEARS'])\n",
    "shared_df_train['GEARS_znorm'] = (shared_df_train['GEARS']-np.mean(shared_df_train['GEARS']))/np.std(shared_df_train['GEARS'])\n",
    "\n",
    "#znorm\n",
    "shared_df['GEARS_znorm_1'] = (shared_df['GEARS']-1)/np.std(shared_df['GEARS'])\n",
    "shared_df_train['GEARS_znorm_1'] = (shared_df_train['GEARS']-1)/np.std(shared_df_train['GEARS'])\n",
    "\n",
    "\n",
    "# max_min_norm\n",
    "shared_df['GEARS_mm_norm'] = (shared_df['GEARS'])/np.max(shared_df['GEARS'])\n",
    "shared_df_train['GEARS_mm_norm'] = (shared_df_train['GEARS'])/np.max(shared_df_train['GEARS'])\n",
    "\n"
   ]
  },
  {
   "cell_type": "code",
   "execution_count": 90,
   "metadata": {},
   "outputs": [],
   "source": [
    "import matplotlib\n",
    "font = {'family' : 'normal',\n",
    "        'size'   : 27}\n",
    "\n",
    "matplotlib.rc('font', **font)"
   ]
  },
  {
   "cell_type": "code",
   "execution_count": 91,
   "metadata": {},
   "outputs": [
    {
     "name": "stderr",
     "output_type": "stream",
     "text": [
      "findfont: Font family ['normal'] not found. Falling back to DejaVu Sans.\n",
      "findfont: Font family ['normal'] not found. Falling back to DejaVu Sans.\n"
     ]
    },
    {
     "data": {
      "image/png": "[encoded data removed]",
      "text/plain": [
       "<Figure size 1224x648 with 1 Axes>"
      ]
     },
     "metadata": {
      "needs_background": "light"
     },
     "output_type": "display_data"
    }
   ],
   "source": [
    "import matplotlib.patches as mpatches\n",
    "\n",
    "additive_idx = np.logical_and(shared_df['Delta']<additive_ubound, shared_df['Delta']>additive_lbound)\n",
    "additive_idx_train = np.logical_and(shared_df_train['Delta']<additive_ubound, shared_df_train['Delta']>additive_lbound)\n",
    "\n",
    "\n",
    "plt.figure(figsize=[17,9])\n",
    "_ = plt.boxplot([shared_df[shared_df['Delta']<lower_bound]['GEARS_znorm'],\n",
    "                 shared_df[additive_idx]['GEARS_znorm'],\n",
    "                 shared_df[shared_df['Delta']>upper_bound]['GEARS_znorm']], \n",
    "             patch_artist=True, \n",
    "             boxprops=dict(facecolor='royalblue', color='black', alpha=0.7, edgecolor='black'), \n",
    "                medianprops=dict(color='black'),\n",
    "                showfliers=False)\n",
    "\n",
    "_ = plt.boxplot([shared_df_train[shared_df_train['Delta']<lower_bound]['GEARS_znorm'],\n",
    "              shared_df_train[additive_idx_train]['GEARS_znorm'],\n",
    "              shared_df_train[shared_df_train['Delta']>upper_bound]['GEARS_znorm']], patch_artist=True, \n",
    "             boxprops=dict(facecolor='firebrick', color='black', alpha=0.7), \n",
    "             medianprops=dict(color='black'),\n",
    "             positions=[1.35, 2.35, 3.35], showfliers=False)\n",
    "\n",
    "plt.axhline(y=0.00, color='r', linestyle='--')\n",
    "\n",
    "red_patch = mpatches.Patch(color='firebrick', label='Perturb-Seq Experiment')\n",
    "blue_patch = mpatches.Patch(color='royalblue', label='GEARS Predicted')\n",
    "\n",
    "plt.legend(handles=[red_patch, blue_patch], bbox_to_anchor=[1.0,-0.27])\n",
    "\n",
    "_ = plt.xticks([1.2,2.2,3.2])\n",
    "ax = plt.gca()\n",
    "_ = ax.set_xticklabels(['Synergistic\\n (GEARS: n=123)\\n(Perturb-Seq: n=22)', \n",
    "                    'Approx. Additive\\n (GEARS: n=3141)\\n(Perturb-Seq: n=29)',\n",
    "                    'Suppressive\\n (GEARS: n=69)\\n(Perturb-Seq: n=11)', ])\n",
    "\n",
    "plt.title('Comparion of Perturb-Seq derived GI score to \\n cell fitness derived genetic interactions')\n",
    "\n",
    "plt.ylim([-2.5,3.5])\n",
    "plt.ylabel('Suppression/Synergy GI Score\\n(Z-Normalized)')\n",
    "\n",
    "for spine in ax.spines.values():\n",
    "    spine.set_linewidth(2.0)\n",
    "\n",
    "plt.savefig('GI_map_valid.svg')"
   ]
  },
  {
   "cell_type": "code",
   "execution_count": 458,
   "metadata": {},
   "outputs": [
    {
     "data": {
      "image/png": "[encoded data removed]",
      "text/plain": [
       "<Figure size 936x648 with 1 Axes>"
      ]
     },
     "metadata": {
      "needs_background": "light"
     },
     "output_type": "display_data"
    }
   ],
   "source": [
    "import matplotlib.patches as mpatches\n",
    "\n",
    "additive_idx = np.logical_and(shared_df['Delta']<additive_ubound, shared_df['Delta']>additive_lbound)\n",
    "additive_idx_train = np.logical_and(shared_df_train['Delta']<additive_ubound, shared_df_train['Delta']>additive_lbound)\n",
    "\n",
    "\n",
    "plt.figure(figsize=[13,9])\n",
    "_ = plt.boxplot([shared_df[shared_df['Delta']<lower_bound]['GEARS_znorm'],\n",
    "                 shared_df[additive_idx]['GEARS_znorm'],\n",
    "                 shared_df[shared_df['Delta']>upper_bound]['GEARS_znorm']], \n",
    "             patch_artist=True, \n",
    "             boxprops=dict(facecolor='royalblue', color='black', alpha=0.7, edgecolor='black'), \n",
    "                medianprops=dict(color='black'),\n",
    "                showfliers=False)\n",
    "\n",
    "_ = plt.boxplot([shared_df_train[shared_df_train['Delta']<lower_bound]['GEARS_znorm'],\n",
    "              shared_df_train[additive_idx_train]['GEARS_znorm'],\n",
    "              shared_df_train[shared_df_train['Delta']>upper_bound]['GEARS_znorm']], patch_artist=True, \n",
    "             boxprops=dict(facecolor='firebrick', color='black', alpha=0.7), \n",
    "             medianprops=dict(color='black'),\n",
    "             positions=[1.35, 2.35, 3.35], showfliers=False)\n",
    "\n",
    "plt.axhline(y=0.00, color='r', linestyle='--')\n",
    "\n",
    "red_patch = mpatches.Patch(color='firebrick', label='Perturb-Seq Experiment')\n",
    "blue_patch = mpatches.Patch(color='royalblue', label='GEARS Predicted')\n",
    "\n",
    "plt.legend(handles=[red_patch, blue_patch], bbox_to_anchor=[1.0,-0.27])\n",
    "\n",
    "_ = plt.xticks([1.2,2.2,3.2])\n",
    "ax = plt.gca()\n",
    "_ = ax.set_xticklabels(['Synergistic\\n (n=145)\\n(Pred.:123, Exp.:22)', \n",
    "                    'Approx. Additive\\n (n=3170)\\n(Pred.:3141, Exp.:29)',\n",
    "                    'Suppressive\\n (n=80)\\n(Pred.:69, Exp.:11)', ])\n",
    "\n",
    "plt.title('Comparion of Perturb-Seq derived GI score to \\n cell fitness derived genetic interactions')\n",
    "\n",
    "plt.ylim([-4,5])\n",
    "plt.ylabel('Suppression/Synergy GI Score\\n(Z-Normalized)')\n",
    "\n",
    "plt.savefig('GI_map_valid.pdf')"
   ]
  },
  {
   "cell_type": "markdown",
   "metadata": {},
   "source": [
    "### Significance testing"
   ]
  },
  {
   "cell_type": "code",
   "execution_count": 436,
   "metadata": {},
   "outputs": [],
   "source": [
    "from scipy.stats import ttest_ind"
   ]
  },
  {
   "cell_type": "code",
   "execution_count": 441,
   "metadata": {},
   "outputs": [
    {
     "data": {
      "text/plain": [
       "Ttest_indResult(statistic=-3.014218789789321, pvalue=0.0012982906084156142)"
      ]
     },
     "execution_count": 441,
     "metadata": {},
     "output_type": "execute_result"
    }
   ],
   "source": [
    "ttest_ind(shared_df[shared_df['Delta']>upper_bound]['GEARS'], \n",
    "          shared_df[additive_idx]['GEARS'], alternative='less')"
   ]
  },
  {
   "cell_type": "code",
   "execution_count": 442,
   "metadata": {},
   "outputs": [
    {
     "data": {
      "text/plain": [
       "Ttest_indResult(statistic=-5.426436643479988, pvalue=1.7407880781066987e-06)"
      ]
     },
     "execution_count": 442,
     "metadata": {},
     "output_type": "execute_result"
    }
   ],
   "source": [
    "ttest_ind(shared_df_train[shared_df_train['Delta']>upper_bound]['GEARS'], \n",
    "          shared_df_train[additive_idx_train]['GEARS'], alternative='less')"
   ]
  },
  {
   "cell_type": "code",
   "execution_count": 443,
   "metadata": {},
   "outputs": [
    {
     "data": {
      "text/plain": [
       "Ttest_indResult(statistic=3.9254593097028674, pvalue=4.4176312024182606e-05)"
      ]
     },
     "execution_count": 443,
     "metadata": {},
     "output_type": "execute_result"
    }
   ],
   "source": [
    "ttest_ind(shared_df[shared_df['Delta']<lower_bound]['GEARS'], \n",
    "          shared_df[additive_idx]['GEARS'], alternative='greater')"
   ]
  },
  {
   "cell_type": "code",
   "execution_count": 445,
   "metadata": {},
   "outputs": [
    {
     "data": {
      "text/plain": [
       "Ttest_indResult(statistic=4.17862972478509, pvalue=6.017577480926996e-05)"
      ]
     },
     "execution_count": 445,
     "metadata": {},
     "output_type": "execute_result"
    }
   ],
   "source": [
    "ttest_ind(shared_df_train[shared_df_train['Delta']<lower_bound]['GEARS'], \n",
    "          shared_df_train[additive_idx_train]['GEARS'], alternative='greater')"
   ]
  },
  {
   "cell_type": "markdown",
   "metadata": {},
   "source": [
    "### Accuracy"
   ]
  },
  {
   "cell_type": "code",
   "execution_count": 424,
   "metadata": {},
   "outputs": [
    {
     "data": {
      "text/plain": [
       "0.5942028985507246"
      ]
     },
     "execution_count": 424,
     "metadata": {},
     "output_type": "execute_result"
    }
   ],
   "source": [
    "sum(shared_df[shared_df['Delta']>upper_bound]['GEARS_znorm']<0)/len(shared_df[shared_df['Delta']>upper_bound])"
   ]
  },
  {
   "cell_type": "code",
   "execution_count": 425,
   "metadata": {},
   "outputs": [
    {
     "data": {
      "text/plain": [
       "1.0"
      ]
     },
     "execution_count": 425,
     "metadata": {},
     "output_type": "execute_result"
    }
   ],
   "source": [
    "sum(shared_df_train[shared_df_train['Delta']>upper_bound]['GEARS_znorm']<0)/len(shared_df_train[shared_df_train['Delta']>upper_bound])"
   ]
  },
  {
   "cell_type": "code",
   "execution_count": 420,
   "metadata": {},
   "outputs": [
    {
     "data": {
      "text/plain": [
       "0.6818181818181818"
      ]
     },
     "execution_count": 420,
     "metadata": {},
     "output_type": "execute_result"
    }
   ],
   "source": [
    "sum(shared_df_train[shared_df_train['Delta']<lower_bound]['GEARS_znorm']>0)/len(shared_df_train[shared_df_train['Delta']<lower_bound])\n"
   ]
  },
  {
   "cell_type": "markdown",
   "metadata": {},
   "source": [
    "### Fig 5d selecting perturbations"
   ]
  },
  {
   "cell_type": "code",
   "execution_count": 405,
   "metadata": {},
   "outputs": [
    {
     "data": {
      "text/plain": [
       "0.09882337778445384"
      ]
     },
     "execution_count": 405,
     "metadata": {},
     "output_type": "execute_result"
    }
   ],
   "source": [
    "np.percentile(true_deltas.stack().values, 97)"
   ]
  },
  {
   "cell_type": "code",
   "execution_count": 401,
   "metadata": {},
   "outputs": [
    {
     "name": "stdout",
     "output_type": "stream",
     "text": [
      "0.8547796694799731\n",
      "0.529502927092253\n"
     ]
    }
   ],
   "source": [
    "g1='LYL1'\n",
    "g2='CEBPE'\n",
    "\n",
    "print(heatmaps['corr_fit'].loc[g1, g2])\n",
    "print(heatmaps['mag'].loc[g1, g2])"
   ]
  },
  {
   "cell_type": "code",
   "execution_count": 387,
   "metadata": {},
   "outputs": [
    {
     "name": "stdout",
     "output_type": "stream",
     "text": [
      "0.690086895287108\n",
      "0.5160769168201739\n"
     ]
    }
   ],
   "source": [
    "g1='LYL1'\n",
    "g2='OSR2'\n",
    "\n",
    "print(heatmaps['corr_fit'].loc[g1, g2])\n",
    "print(heatmaps['mag'].loc[g1, g2])"
   ]
  },
  {
   "cell_type": "code",
   "execution_count": 392,
   "metadata": {},
   "outputs": [
    {
     "data": {
      "text/plain": [
       "0.09944228104835559"
      ]
     },
     "execution_count": 392,
     "metadata": {},
     "output_type": "execute_result"
    }
   ],
   "source": [
    "true_deltas.loc['LYL1', 'OSR2']"
   ]
  },
  {
   "cell_type": "code",
   "execution_count": 394,
   "metadata": {},
   "outputs": [
    {
     "data": {
      "text/plain": [
       "0.10415258263788907"
      ]
     },
     "execution_count": 394,
     "metadata": {},
     "output_type": "execute_result"
    }
   ],
   "source": [
    "true_deltas.loc['LYL1', 'CEBPE']"
   ]
  }
 ],
 "metadata": {
  "kernelspec": {
   "display_name": "deepamp",
   "language": "python",
   "name": "deepamp"
  },
  "language_info": {
   "codemirror_mode": {
    "name": "ipython",
    "version": 3
   },
   "file_extension": ".py",
   "mimetype": "text/x-python",
   "name": "python",
   "nbconvert_exporter": "python",
   "pygments_lexer": "ipython3",
   "version": "3.8.10"
  }
 },
 "nbformat": 4,
 "nbformat_minor": 2
}

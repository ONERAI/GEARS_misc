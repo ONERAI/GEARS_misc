{
 "cells": [
  {
   "cell_type": "markdown",
   "metadata": {},
   "source": [
    "## GEARS only performance comparison to multiple null models (Norman)"
   ]
  },
  {
   "cell_type": "code",
   "execution_count": 44,
   "metadata": {},
   "outputs": [],
   "source": [
    "import pandas as pd\n",
    "import seaborn as sns\n",
    "import matplotlib.pyplot as plt\n",
    "import wandb\n",
    "import numpy as np\n",
    "import seaborn as sns\n",
    "import matplotlib.pyplot as plt\n",
    "\n",
    "from matplotlib import font_manager\n",
    "\n",
    "font_dirs = [\"./\"]\n",
    "font_files = font_manager.findSystemFonts(fontpaths=font_dirs)\n",
    "\n",
    "for font_file in font_files:\n",
    "    font_manager.fontManager.addfont(font_file)\n",
    "    \n",
    "sns.set( font = \"Helvetica\" )\n",
    "api = wandb.Api()\n",
    "\n",
    "\n",
    "# Project is specified by <entity/project-name> please replace it with your project name here:\n",
    "# runs = api.runs(\"kexinhuang/pert_gnn_simulation_\" + data_name)\n",
    "runs = api.runs(\"yroohani/norman_naive\")\n",
    "\n",
    "summary_list, config_list, name_list = [], [], []\n",
    "for run in runs: \n",
    "    # .summary contains the output keys/values for metrics like accuracy.\n",
    "    #  We call ._json_dict to omit large files \n",
    "    summary_list.append(run.summary._json_dict)\n",
    "\n",
    "    # .config contains the hyperparameters.\n",
    "    #  We remove special values that start with _.\n",
    "    config_list.append(\n",
    "        {k: v for k,v in run.config.items()\n",
    "          if not k.startswith('_')})\n",
    "\n",
    "    # .name is the human-readable name of the run.\n",
    "    name_list.append(run.name)\n",
    "\n",
    "runs_df = pd.DataFrame({\n",
    "    \"summary\": summary_list,\n",
    "    \"config\": config_list,\n",
    "    \"name\": name_list\n",
    "    })"
   ]
  },
  {
   "cell_type": "code",
   "execution_count": 45,
   "metadata": {},
   "outputs": [],
   "source": [
    "### Make sure the run names match exactly with the wandb names!!\n",
    "\n",
    "run = 6\n",
    "pertnet_runs = ['GEARS_seed' + str(i) for i in range(1, run)]\n",
    "no_perturb_runs = ['no_perturb' + str(i) for i in range(1, run)]\n",
    "median_baseline_runs = ['median_' + str(i) for i in range(1, run)]\n",
    "mean_baseline_runs = ['Mean_seed' + str(i) for i in range(1, run)]"
   ]
  },
  {
   "cell_type": "code",
   "execution_count": 46,
   "metadata": {},
   "outputs": [],
   "source": [
    "res_df = runs_df[runs_df.name.isin(pertnet_runs + no_perturb_runs + median_baseline_runs + mean_baseline_runs)]"
   ]
  },
  {
   "cell_type": "code",
   "execution_count": 47,
   "metadata": {},
   "outputs": [
    {
     "data": {
      "text/html": [
       "<div>\n",
       "<style scoped>\n",
       "    .dataframe tbody tr th:only-of-type {\n",
       "        vertical-align: middle;\n",
       "    }\n",
       "\n",
       "    .dataframe tbody tr th {\n",
       "        vertical-align: top;\n",
       "    }\n",
       "\n",
       "    .dataframe thead th {\n",
       "        text-align: right;\n",
       "    }\n",
       "</style>\n",
       "<table border=\"1\" class=\"dataframe\">\n",
       "  <thead>\n",
       "    <tr style=\"text-align: right;\">\n",
       "      <th></th>\n",
       "      <th>summary</th>\n",
       "      <th>config</th>\n",
       "      <th>name</th>\n",
       "    </tr>\n",
       "  </thead>\n",
       "  <tbody>\n",
       "    <tr>\n",
       "      <th>0</th>\n",
       "      <td>{'test_pearson_delta': 0.005421477162776344, '...</td>\n",
       "      <td>{'G_go': None, 'device': 'cuda:1', 'num_genes'...</td>\n",
       "      <td>no_perturb5</td>\n",
       "    </tr>\n",
       "    <tr>\n",
       "      <th>1</th>\n",
       "      <td>{'test_combo_seen0_mse_top20_de_non_dropout': ...</td>\n",
       "      <td>{'G_go': None, 'device': 'cuda:1', 'num_genes'...</td>\n",
       "      <td>no_perturb4</td>\n",
       "    </tr>\n",
       "    <tr>\n",
       "      <th>2</th>\n",
       "      <td>{'test_unseen_single_pearson_de': 0.8929357387...</td>\n",
       "      <td>{'G_go': None, 'device': 'cuda:1', 'num_genes'...</td>\n",
       "      <td>no_perturb3</td>\n",
       "    </tr>\n",
       "    <tr>\n",
       "      <th>3</th>\n",
       "      <td>{'test_combo_seen2_pearson_de': 0.847851829519...</td>\n",
       "      <td>{'G_go': None, 'device': 'cuda:1', 'num_genes'...</td>\n",
       "      <td>no_perturb2</td>\n",
       "    </tr>\n",
       "    <tr>\n",
       "      <th>4</th>\n",
       "      <td>{'test_combo_seen1_pearson_de': 0.732084401992...</td>\n",
       "      <td>{'G_go': None, 'device': 'cuda:1', 'num_genes'...</td>\n",
       "      <td>no_perturb1</td>\n",
       "    </tr>\n",
       "    <tr>\n",
       "      <th>5</th>\n",
       "      <td>{'_step': 37, 'test_de_mse': 0.467154651880264...</td>\n",
       "      <td>{'G_go': None, 'device': 'cuda:1', 'num_genes'...</td>\n",
       "      <td>median_4</td>\n",
       "    </tr>\n",
       "    <tr>\n",
       "      <th>6</th>\n",
       "      <td>{'test_combo_seen1_mse_de': 0.4433715045452118...</td>\n",
       "      <td>{'G_go': None, 'device': 'cuda:1', 'num_genes'...</td>\n",
       "      <td>median_3</td>\n",
       "    </tr>\n",
       "    <tr>\n",
       "      <th>7</th>\n",
       "      <td>{'test_de_mse': 0.44327476620674133, 'test_com...</td>\n",
       "      <td>{'G_go': None, 'device': 'cuda:1', 'num_genes'...</td>\n",
       "      <td>median_2</td>\n",
       "    </tr>\n",
       "    <tr>\n",
       "      <th>8</th>\n",
       "      <td>{'test_unseen_single_pearson_delta': 0.5411148...</td>\n",
       "      <td>{'G_go': None, 'device': 'cuda:1', 'num_genes'...</td>\n",
       "      <td>median_1</td>\n",
       "    </tr>\n",
       "    <tr>\n",
       "      <th>9</th>\n",
       "      <td>{'test_mse': 0.0060422830283641815, 'test_comb...</td>\n",
       "      <td>{'G_go': None, 'device': 'cuda:3', 'num_genes'...</td>\n",
       "      <td>GEARS_seed5</td>\n",
       "    </tr>\n",
       "    <tr>\n",
       "      <th>10</th>\n",
       "      <td>{'test_combo_seen0_frac_opposite_direction_top...</td>\n",
       "      <td>{'G_go': None, 'device': 'cuda:1', 'num_genes'...</td>\n",
       "      <td>GEARS_seed1</td>\n",
       "    </tr>\n",
       "    <tr>\n",
       "      <th>11</th>\n",
       "      <td>{'test_combo_seen1_pearson': 0.980719414197546...</td>\n",
       "      <td>{'G_go': None, 'device': 'cuda:4', 'num_genes'...</td>\n",
       "      <td>GEARS_seed4</td>\n",
       "    </tr>\n",
       "    <tr>\n",
       "      <th>12</th>\n",
       "      <td>{'test_unseen_single_frac_sigma_below_1_non_dr...</td>\n",
       "      <td>{'G_go': None, 'device': 'cuda:3', 'num_genes'...</td>\n",
       "      <td>GEARS_seed3</td>\n",
       "    </tr>\n",
       "    <tr>\n",
       "      <th>13</th>\n",
       "      <td>{'_step': 23977, 'test_de_mse': 0.242323294281...</td>\n",
       "      <td>{'G_go': None, 'device': 'cuda:2', 'num_genes'...</td>\n",
       "      <td>GEARS_seed2</td>\n",
       "    </tr>\n",
       "    <tr>\n",
       "      <th>14</th>\n",
       "      <td>{'test_frac_sigma_below_1_non_dropout': 0.6675...</td>\n",
       "      <td>{'G_go': None, 'device': 'cuda:5', 'num_genes'...</td>\n",
       "      <td>Mean_seed5</td>\n",
       "    </tr>\n",
       "    <tr>\n",
       "      <th>15</th>\n",
       "      <td>{'test_de_mse': 0.2814944386482239, 'test_comb...</td>\n",
       "      <td>{'G_go': None, 'device': 'cuda:5', 'num_genes'...</td>\n",
       "      <td>Mean_seed4</td>\n",
       "    </tr>\n",
       "    <tr>\n",
       "      <th>16</th>\n",
       "      <td>{'_step': 37, 'test_combo_seen0_pearson': 0.98...</td>\n",
       "      <td>{'G_go': None, 'device': 'cuda:5', 'num_genes'...</td>\n",
       "      <td>Mean_seed3</td>\n",
       "    </tr>\n",
       "    <tr>\n",
       "      <th>17</th>\n",
       "      <td>{'test_de_pearson': 0.8356423859915068, 'test_...</td>\n",
       "      <td>{'G_go': None, 'device': 'cuda:5', 'num_genes'...</td>\n",
       "      <td>Mean_seed2</td>\n",
       "    </tr>\n",
       "    <tr>\n",
       "      <th>18</th>\n",
       "      <td>{'test_unseen_single_frac_sigma_below_1_non_dr...</td>\n",
       "      <td>{'G_go': None, 'device': 'cuda:5', 'num_genes'...</td>\n",
       "      <td>Mean_seed1</td>\n",
       "    </tr>\n",
       "  </tbody>\n",
       "</table>\n",
       "</div>"
      ],
      "text/plain": [
       "                                              summary  \\\n",
       "0   {'test_pearson_delta': 0.005421477162776344, '...   \n",
       "1   {'test_combo_seen0_mse_top20_de_non_dropout': ...   \n",
       "2   {'test_unseen_single_pearson_de': 0.8929357387...   \n",
       "3   {'test_combo_seen2_pearson_de': 0.847851829519...   \n",
       "4   {'test_combo_seen1_pearson_de': 0.732084401992...   \n",
       "5   {'_step': 37, 'test_de_mse': 0.467154651880264...   \n",
       "6   {'test_combo_seen1_mse_de': 0.4433715045452118...   \n",
       "7   {'test_de_mse': 0.44327476620674133, 'test_com...   \n",
       "8   {'test_unseen_single_pearson_delta': 0.5411148...   \n",
       "9   {'test_mse': 0.0060422830283641815, 'test_comb...   \n",
       "10  {'test_combo_seen0_frac_opposite_direction_top...   \n",
       "11  {'test_combo_seen1_pearson': 0.980719414197546...   \n",
       "12  {'test_unseen_single_frac_sigma_below_1_non_dr...   \n",
       "13  {'_step': 23977, 'test_de_mse': 0.242323294281...   \n",
       "14  {'test_frac_sigma_below_1_non_dropout': 0.6675...   \n",
       "15  {'test_de_mse': 0.2814944386482239, 'test_comb...   \n",
       "16  {'_step': 37, 'test_combo_seen0_pearson': 0.98...   \n",
       "17  {'test_de_pearson': 0.8356423859915068, 'test_...   \n",
       "18  {'test_unseen_single_frac_sigma_below_1_non_dr...   \n",
       "\n",
       "                                               config         name  \n",
       "0   {'G_go': None, 'device': 'cuda:1', 'num_genes'...  no_perturb5  \n",
       "1   {'G_go': None, 'device': 'cuda:1', 'num_genes'...  no_perturb4  \n",
       "2   {'G_go': None, 'device': 'cuda:1', 'num_genes'...  no_perturb3  \n",
       "3   {'G_go': None, 'device': 'cuda:1', 'num_genes'...  no_perturb2  \n",
       "4   {'G_go': None, 'device': 'cuda:1', 'num_genes'...  no_perturb1  \n",
       "5   {'G_go': None, 'device': 'cuda:1', 'num_genes'...     median_4  \n",
       "6   {'G_go': None, 'device': 'cuda:1', 'num_genes'...     median_3  \n",
       "7   {'G_go': None, 'device': 'cuda:1', 'num_genes'...     median_2  \n",
       "8   {'G_go': None, 'device': 'cuda:1', 'num_genes'...     median_1  \n",
       "9   {'G_go': None, 'device': 'cuda:3', 'num_genes'...  GEARS_seed5  \n",
       "10  {'G_go': None, 'device': 'cuda:1', 'num_genes'...  GEARS_seed1  \n",
       "11  {'G_go': None, 'device': 'cuda:4', 'num_genes'...  GEARS_seed4  \n",
       "12  {'G_go': None, 'device': 'cuda:3', 'num_genes'...  GEARS_seed3  \n",
       "13  {'G_go': None, 'device': 'cuda:2', 'num_genes'...  GEARS_seed2  \n",
       "14  {'G_go': None, 'device': 'cuda:5', 'num_genes'...   Mean_seed5  \n",
       "15  {'G_go': None, 'device': 'cuda:5', 'num_genes'...   Mean_seed4  \n",
       "16  {'G_go': None, 'device': 'cuda:5', 'num_genes'...   Mean_seed3  \n",
       "17  {'G_go': None, 'device': 'cuda:5', 'num_genes'...   Mean_seed2  \n",
       "18  {'G_go': None, 'device': 'cuda:5', 'num_genes'...   Mean_seed1  "
      ]
     },
     "execution_count": 47,
     "metadata": {},
     "output_type": "execute_result"
    }
   ],
   "source": [
    "res_df"
   ]
  },
  {
   "cell_type": "code",
   "execution_count": 48,
   "metadata": {},
   "outputs": [],
   "source": [
    "def normalize_name(x):\n",
    "    if x in pertnet_runs:\n",
    "        return 'GEARS'\n",
    "    elif x in median_baseline_runs:\n",
    "        return 'Median-Baseline'\n",
    "    elif x in mean_baseline_runs:\n",
    "        return 'Mean-Baseline'\n",
    "    else:\n",
    "        return 'No-Perturb'"
   ]
  },
  {
   "cell_type": "code",
   "execution_count": 49,
   "metadata": {},
   "outputs": [],
   "source": [
    "metrics = ['test_combo_seen2_mse_top20_de_non_dropout',\n",
    "          'test_combo_seen1_mse_top20_de_non_dropout',\n",
    "          'test_unseen_single_mse_top20_de_non_dropout',\n",
    "          'test_combo_seen0_mse_top20_de_non_dropout'\n",
    "          ]\n",
    "metrics_name_map = {'test_combo_seen2_mse_top20_de_non_dropout': '2/2 Seen',\n",
    "                   'test_combo_seen1_mse_top20_de_non_dropout': '1/2 Seen',\n",
    "                   'test_combo_seen0_mse_top20_de_non_dropout': '0/2 Seen',\n",
    "                   'test_unseen_single_mse_top20_de_non_dropout': '0/1 Seen'}\n",
    "method = []\n",
    "category = []\n",
    "result = []\n",
    "for m in metrics:\n",
    "    method += [normalize_name(i) for i in res_df.name.values]\n",
    "    category += [metrics_name_map[m]] * len(res_df)\n",
    "    result += res_df.summary.apply(lambda x: x[m]).values.tolist()\n",
    "    \n",
    "    \n",
    "out = {}\n",
    "out['method'] = pd.Series(method)\n",
    "out['category'] = pd.Series(category)\n",
    "out['Top 20 DE MSE'] = pd.Series(result)\n",
    "out = pd.DataFrame(out)"
   ]
  },
  {
   "cell_type": "code",
   "execution_count": 50,
   "metadata": {},
   "outputs": [],
   "source": [
    "normalize = dict(out[out.method == 'No-Perturb'].groupby('category')['Top 20 DE MSE'].agg(np.mean))"
   ]
  },
  {
   "cell_type": "code",
   "execution_count": 51,
   "metadata": {},
   "outputs": [],
   "source": [
    "norm = []\n",
    "for i in out[['category', 'Top 20 DE MSE']].values:\n",
    "    norm.append(i[1]/normalize[i[0]])"
   ]
  },
  {
   "cell_type": "code",
   "execution_count": 52,
   "metadata": {},
   "outputs": [],
   "source": [
    "out['Normalized MSE of Top 20 DE Genes'] = norm"
   ]
  },
  {
   "cell_type": "code",
   "execution_count": 53,
   "metadata": {},
   "outputs": [
    {
     "data": {
      "text/plain": [
       "array(['No-Perturb', 'Median-Baseline', 'GEARS', 'Mean-Baseline'],\n",
       "      dtype=object)"
      ]
     },
     "execution_count": 53,
     "metadata": {},
     "output_type": "execute_result"
    }
   ],
   "source": [
    "out['method'].unique()"
   ]
  },
  {
   "cell_type": "code",
   "execution_count": 54,
   "metadata": {},
   "outputs": [],
   "source": [
    "color_pal = {\n",
    "'GEARS': (0.9882352941176471, 0.5529411764705883, 0.3843137254901961),\n",
    "'No-Perturb': (0.7019607843137254, 0.7019607843137254, 0.7019607843137254),\n",
    "'Median-Baseline': (0.4, 0.7607843137254902, 0.6470588235294118),\n",
    "'Mean-Baseline': (0.9058823529411765, 0.5411764705882353, 0.7647058823529411)}"
   ]
  },
  {
   "cell_type": "code",
   "execution_count": 55,
   "metadata": {},
   "outputs": [],
   "source": [
    "pal_order = [color_pal[i] for i in pd.DataFrame(out).method.unique()]"
   ]
  },
  {
   "cell_type": "code",
   "execution_count": 56,
   "metadata": {},
   "outputs": [],
   "source": [
    "import numpy as np\n",
    "normalize = np.mean(out[out.method == 'No-Perturb']['Top 20 DE MSE'])\n",
    "out['Normalized MSE of Top 20 DE Genes'] = out['Top 20 DE MSE'].values/normalize"
   ]
  },
  {
   "cell_type": "code",
   "execution_count": 58,
   "metadata": {},
   "outputs": [
    {
     "name": "stdout",
     "output_type": "stream",
     "text": [
      "0.4057996983870387\n",
      "0.5887451959098682\n"
     ]
    }
   ],
   "source": [
    "means = out.groupby('method').mean().loc[:, 'Normalized MSE of Top 20 DE Genes']\n",
    "print((means['Mean-Baseline'] - means['GEARS'])/means['Mean-Baseline'])\n",
    "print((means['Median-Baseline'] - means['GEARS'])/means['Mean-Baseline'])"
   ]
  },
  {
   "cell_type": "code",
   "execution_count": 57,
   "metadata": {},
   "outputs": [
    {
     "name": "stderr",
     "output_type": "stream",
     "text": [
      "/dfs/user/yhr/deepamp/lib/python3.8/site-packages/seaborn/_decorators.py:36: FutureWarning: Pass the following variables as keyword args: x, y. From version 0.12, the only valid positional argument will be `data`, and passing other arguments without an explicit keyword will result in an error or misinterpretation.\n",
      "  warnings.warn(\n"
     ]
    },
    {
     "data": {
      "image/png": "[encoded data removed]",
      "text/plain": [
       "<Figure size 864x432 with 1 Axes>"
      ]
     },
     "metadata": {},
     "output_type": "display_data"
    }
   ],
   "source": [
    "sns.set(rc={'figure.figsize':(12,6)})\n",
    "sns.set_theme(style=\"ticks\", rc={\"axes.facecolor\": (0, 0, 0, 0)}, font = \"Helvetica\", font_scale=1.8)\n",
    "\n",
    "g = sns.pointplot('category', 'Normalized MSE of Top 20 DE Genes', \n",
    "    data=pd.DataFrame(out), \n",
    "    order = ['2/2 Seen', '1/2 Seen', '0/2 Seen'], \n",
    "    hue = 'method',\n",
    "    palette= [color_pal['Median-Baseline'], color_pal['GEARS'], color_pal['Mean-Baseline']],         \n",
    "    dodge=True, \n",
    "    join=False,\n",
    "    hue_order = ['Median-Baseline', 'GEARS', 'Mean-Baseline'])\n",
    "\n",
    "\n",
    "plt.legend(facecolor='white')\n",
    "\n",
    "sns.despine()\n",
    "#g.legend_.remove()\n",
    "g.set(xlabel=None, )\n",
    "g.axhline(1, linestyle=\"dashed\")\n",
    "\n",
    "plt.ylabel(\"Normalized MSE of \\n Top 20 DE Genes\",labelpad=10)\n",
    "plt.tick_params(axis='x', which='major', pad=10)\n",
    "plt.tick_params(axis='y', which='major', pad=5)\n"
   ]
  },
  {
   "cell_type": "code",
   "execution_count": null,
   "metadata": {},
   "outputs": [],
   "source": []
  }
 ],
 "metadata": {
  "kernelspec": {
   "display_name": "deepamp",
   "language": "python",
   "name": "deepamp"
  },
  "language_info": {
   "codemirror_mode": {
    "name": "ipython",
    "version": 3
   },
   "file_extension": ".py",
   "mimetype": "text/x-python",
   "name": "python",
   "nbconvert_exporter": "python",
   "pygments_lexer": "ipython3",
   "version": "3.8.10"
  }
 },
 "nbformat": 4,
 "nbformat_minor": 5
}

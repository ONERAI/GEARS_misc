{
 "cells": [
  {
   "cell_type": "code",
   "execution_count": 1,
   "metadata": {},
   "outputs": [],
   "source": [
    "import pandas as pd\n",
    "import seaborn as sns\n",
    "import matplotlib.pyplot as plt"
   ]
  },
  {
   "cell_type": "code",
   "execution_count": 2,
   "metadata": {},
   "outputs": [],
   "source": [
    "import seaborn as sns\n",
    "from matplotlib import font_manager\n",
    "import numpy as np\n",
    "\n",
    "font_dirs = [\"./\"]\n",
    "font_files = font_manager.findSystemFonts(fontpaths=font_dirs)\n",
    "\n",
    "for font_file in font_files:\n",
    "    font_manager.fontManager.addfont(font_file)\n",
    "    \n",
    "sns.set( font = \"Helvetica\" )\n",
    "\n",
    "sns.set(rc={'figure.figsize':(6,6)})\n",
    "sns.set_theme(style=\"ticks\", rc={\"axes.facecolor\": (0, 0, 0, 0)}, font = \"Helvetica\", font_scale=1.5)\n"
   ]
  },
  {
   "cell_type": "code",
   "execution_count": 5,
   "metadata": {},
   "outputs": [],
   "source": [
    "import pandas as pd \n",
    "import wandb\n",
    "api = wandb.Api()\n",
    "\n",
    "data_name = 'norman2019'\n",
    "\n",
    "# Project is specified by <entity/project-name>\n",
    "#runs = api.runs(\"kexinhuang/pert_gnn_simulation_\" + data_name)\n",
    "runs = api.runs(\"yroohani/norman_naive\")\n",
    "\n",
    "summary_list, config_list, name_list = [], [], []\n",
    "for run in runs: \n",
    "    # .summary contains the output keys/values for metrics like accuracy.\n",
    "    #  We call ._json_dict to omit large files \n",
    "    summary_list.append(run.summary._json_dict)\n",
    "\n",
    "    # .config contains the hyperparameters.\n",
    "    #  We remove special values that start with _.\n",
    "    config_list.append(\n",
    "        {k: v for k,v in run.config.items()\n",
    "          if not k.startswith('_')})\n",
    "\n",
    "    # .name is the human-readable name of the run.\n",
    "    name_list.append(run.name)\n",
    "\n",
    "runs_df = pd.DataFrame({\n",
    "    \"summary\": summary_list,\n",
    "    \"config\": config_list,\n",
    "    \"name\": name_list\n",
    "    })"
   ]
  },
  {
   "cell_type": "code",
   "execution_count": 6,
   "metadata": {},
   "outputs": [],
   "source": [
    "run = 5\n",
    "mean_runs = ['Mean_seed' + str(i) for i in range(1, run) ]\n",
    "pertnet_runs = ['GEARS_seed' + str(i) for i in range(1, run)]\n",
    "no_perturb_runs = ['No_Perturb_' + str(i) for i in range(1, run)]\n",
    "#dnn_runs = ['Linear_grnboost_top50_linear_' + str(i) for i in range(1, run)]"
   ]
  },
  {
   "cell_type": "code",
   "execution_count": 7,
   "metadata": {},
   "outputs": [],
   "source": [
    "res_df = runs_df[runs_df.name.isin(mean_runs + pertnet_runs + no_perturb_runs)]"
   ]
  },
  {
   "cell_type": "code",
   "execution_count": 8,
   "metadata": {},
   "outputs": [
    {
     "data": {
      "text/html": [
       "<div>\n",
       "<style scoped>\n",
       "    .dataframe tbody tr th:only-of-type {\n",
       "        vertical-align: middle;\n",
       "    }\n",
       "\n",
       "    .dataframe tbody tr th {\n",
       "        vertical-align: top;\n",
       "    }\n",
       "\n",
       "    .dataframe thead th {\n",
       "        text-align: right;\n",
       "    }\n",
       "</style>\n",
       "<table border=\"1\" class=\"dataframe\">\n",
       "  <thead>\n",
       "    <tr style=\"text-align: right;\">\n",
       "      <th></th>\n",
       "      <th>summary</th>\n",
       "      <th>config</th>\n",
       "      <th>name</th>\n",
       "    </tr>\n",
       "  </thead>\n",
       "  <tbody>\n",
       "    <tr>\n",
       "      <th>1</th>\n",
       "      <td>{'test_unseen_single_pearson': 0.9904496014322...</td>\n",
       "      <td>{'G_go': None, 'device': 'cuda:1', 'num_genes'...</td>\n",
       "      <td>GEARS_seed1</td>\n",
       "    </tr>\n",
       "    <tr>\n",
       "      <th>2</th>\n",
       "      <td>{'test_combo_seen1_pearson': 0.980719414197546...</td>\n",
       "      <td>{'G_go': None, 'device': 'cuda:4', 'num_genes'...</td>\n",
       "      <td>GEARS_seed4</td>\n",
       "    </tr>\n",
       "    <tr>\n",
       "      <th>3</th>\n",
       "      <td>{'test_combo_seen2_mse_top20_de_non_dropout': ...</td>\n",
       "      <td>{'G_go': None, 'device': 'cuda:3', 'num_genes'...</td>\n",
       "      <td>GEARS_seed3</td>\n",
       "    </tr>\n",
       "    <tr>\n",
       "      <th>4</th>\n",
       "      <td>{'test_combo_seen1_frac_sigma_below_1_non_drop...</td>\n",
       "      <td>{'G_go': None, 'device': 'cuda:2', 'num_genes'...</td>\n",
       "      <td>GEARS_seed2</td>\n",
       "    </tr>\n",
       "    <tr>\n",
       "      <th>6</th>\n",
       "      <td>{'test_combo_seen0_pearson': 0.990661535625697...</td>\n",
       "      <td>{'G_go': None, 'device': 'cuda:5', 'num_genes'...</td>\n",
       "      <td>Mean_seed4</td>\n",
       "    </tr>\n",
       "    <tr>\n",
       "      <th>7</th>\n",
       "      <td>{'test_de_mse': 0.34047195315361023, 'test_de_...</td>\n",
       "      <td>{'G_go': None, 'device': 'cuda:5', 'num_genes'...</td>\n",
       "      <td>Mean_seed3</td>\n",
       "    </tr>\n",
       "    <tr>\n",
       "      <th>8</th>\n",
       "      <td>{'test_combo_seen0_pearson_de': 0.871937392402...</td>\n",
       "      <td>{'G_go': None, 'device': 'cuda:5', 'num_genes'...</td>\n",
       "      <td>Mean_seed2</td>\n",
       "    </tr>\n",
       "    <tr>\n",
       "      <th>9</th>\n",
       "      <td>{'test_mse_top20_de_non_dropout': 0.4154528677...</td>\n",
       "      <td>{'G_go': None, 'device': 'cuda:5', 'num_genes'...</td>\n",
       "      <td>Mean_seed1</td>\n",
       "    </tr>\n",
       "  </tbody>\n",
       "</table>\n",
       "</div>"
      ],
      "text/plain": [
       "                                             summary  \\\n",
       "1  {'test_unseen_single_pearson': 0.9904496014322...   \n",
       "2  {'test_combo_seen1_pearson': 0.980719414197546...   \n",
       "3  {'test_combo_seen2_mse_top20_de_non_dropout': ...   \n",
       "4  {'test_combo_seen1_frac_sigma_below_1_non_drop...   \n",
       "6  {'test_combo_seen0_pearson': 0.990661535625697...   \n",
       "7  {'test_de_mse': 0.34047195315361023, 'test_de_...   \n",
       "8  {'test_combo_seen0_pearson_de': 0.871937392402...   \n",
       "9  {'test_mse_top20_de_non_dropout': 0.4154528677...   \n",
       "\n",
       "                                              config         name  \n",
       "1  {'G_go': None, 'device': 'cuda:1', 'num_genes'...  GEARS_seed1  \n",
       "2  {'G_go': None, 'device': 'cuda:4', 'num_genes'...  GEARS_seed4  \n",
       "3  {'G_go': None, 'device': 'cuda:3', 'num_genes'...  GEARS_seed3  \n",
       "4  {'G_go': None, 'device': 'cuda:2', 'num_genes'...  GEARS_seed2  \n",
       "6  {'G_go': None, 'device': 'cuda:5', 'num_genes'...   Mean_seed4  \n",
       "7  {'G_go': None, 'device': 'cuda:5', 'num_genes'...   Mean_seed3  \n",
       "8  {'G_go': None, 'device': 'cuda:5', 'num_genes'...   Mean_seed2  \n",
       "9  {'G_go': None, 'device': 'cuda:5', 'num_genes'...   Mean_seed1  "
      ]
     },
     "execution_count": 8,
     "metadata": {},
     "output_type": "execute_result"
    }
   ],
   "source": [
    "res_df"
   ]
  },
  {
   "cell_type": "code",
   "execution_count": 9,
   "metadata": {},
   "outputs": [],
   "source": [
    "def normalize_name(x):\n",
    "    if x in mean_runs:\n",
    "        return 'Mean'\n",
    "    elif x in pertnet_runs:\n",
    "        return 'GEARS'\n",
    "    elif x in dnn_runs:\n",
    "        return 'GRN'\n",
    "    else:\n",
    "        return 'No-Perturb'"
   ]
  },
  {
   "cell_type": "code",
   "execution_count": 10,
   "metadata": {},
   "outputs": [],
   "source": [
    "color_pal = {\n",
    "'Mean': (0.9058823529411765, 0.5411764705882353, 0.7647058823529411),\n",
    "'CPA': (0.4, 0.7607843137254902, 0.6470588235294118),\n",
    "'GEARS': (0.9882352941176471, 0.5529411764705883, 0.3843137254901961),\n",
    "'No-Perturb': (0.7019607843137254, 0.7019607843137254, 0.7019607843137254)}"
   ]
  },
  {
   "cell_type": "code",
   "execution_count": 11,
   "metadata": {},
   "outputs": [],
   "source": [
    "metrics = ['test_combo_seen2_mse_top20_de_non_dropout',\n",
    "          'test_combo_seen1_mse_top20_de_non_dropout',\n",
    "          'test_unseen_single_mse_top20_de_non_dropout',\n",
    "          'test_combo_seen0_mse_top20_de_non_dropout'\n",
    "          ]\n",
    "metrics_name_map = {'test_combo_seen2_mse_top20_de_non_dropout': '2/2 Seen',\n",
    "                   'test_combo_seen1_mse_top20_de_non_dropout': '1/2 Seen',\n",
    "                   'test_combo_seen0_mse_top20_de_non_dropout': '0/2 Seen',\n",
    "                   'test_unseen_single_mse_top20_de_non_dropout': '0/1 Seen'}\n",
    "method = []\n",
    "category = []\n",
    "result = []\n",
    "for m in metrics:\n",
    "    method += [normalize_name(i) for i in res_df.name.values]\n",
    "    category += [metrics_name_map[m]] * len(res_df)\n",
    "    result += res_df.summary.apply(lambda x: x[m]).values.tolist()"
   ]
  },
  {
   "cell_type": "code",
   "execution_count": 12,
   "metadata": {},
   "outputs": [],
   "source": [
    "out = {}\n",
    "out['method'] = pd.Series(method)\n",
    "out['category'] = pd.Series(category)\n",
    "out['Top 20 DE MSE'] = pd.Series(result)"
   ]
  },
  {
   "cell_type": "code",
   "execution_count": 14,
   "metadata": {},
   "outputs": [],
   "source": [
    "pal_order = [color_pal[i] for i in pd.DataFrame(out).method.unique()]"
   ]
  },
  {
   "cell_type": "code",
   "execution_count": 15,
   "metadata": {},
   "outputs": [],
   "source": [
    "out_old = pd.read_csv('out_old_df.csv', index_col=0)\n",
    "no_perturb_df = out_old[out_old['method']=='No-Perturb']"
   ]
  },
  {
   "cell_type": "code",
   "execution_count": 16,
   "metadata": {},
   "outputs": [],
   "source": [
    "out = pd.DataFrame(out)\n",
    "out = pd.concat([out, no_perturb_df])\n",
    "out = out.reset_index(drop=True)"
   ]
  },
  {
   "cell_type": "code",
   "execution_count": 17,
   "metadata": {},
   "outputs": [],
   "source": [
    "normalize = dict(out[out.method == 'No-Perturb'].groupby('category')['Top 20 DE MSE'].agg(np.mean))"
   ]
  },
  {
   "cell_type": "code",
   "execution_count": 18,
   "metadata": {},
   "outputs": [],
   "source": [
    "norm = []\n",
    "for i in out[['category', 'Top 20 DE MSE']].values:\n",
    "    norm.append(i[1]/normalize[i[0]])"
   ]
  },
  {
   "cell_type": "code",
   "execution_count": 19,
   "metadata": {},
   "outputs": [],
   "source": [
    "out['Normalized MSE of Top 20 DE Genes'] = norm"
   ]
  },
  {
   "cell_type": "code",
   "execution_count": 20,
   "metadata": {},
   "outputs": [
    {
     "data": {
      "text/plain": [
       "array(['GEARS', 'Mean', 'No-Perturb'], dtype=object)"
      ]
     },
     "execution_count": 20,
     "metadata": {},
     "output_type": "execute_result"
    }
   ],
   "source": [
    "out['method'].unique()"
   ]
  },
  {
   "cell_type": "code",
   "execution_count": 27,
   "metadata": {},
   "outputs": [
    {
     "name": "stderr",
     "output_type": "stream",
     "text": [
      "/dfs/user/yhr/deepsnap/lib/python3.7/site-packages/seaborn/_decorators.py:43: FutureWarning: Pass the following variables as keyword args: x, y. From version 0.12, the only valid positional argument will be `data`, and passing other arguments without an explicit keyword will result in an error or misinterpretation.\n",
      "  FutureWarning\n"
     ]
    },
    {
     "data": {
      "image/png": "[encoded data removed]",
      "text/plain": [
       "<Figure size 864x432 with 1 Axes>"
      ]
     },
     "metadata": {},
     "output_type": "display_data"
    }
   ],
   "source": [
    "sns.set(rc={'figure.figsize':(12,6)})\n",
    "sns.set_theme(style=\"ticks\", rc={\"axes.facecolor\": (0, 0, 0, 0)}, font = \"Helvetica\", font_scale=1.8)\n",
    "\n",
    "g = sns.pointplot('category', 'Normalized MSE of Top 20 DE Genes', \n",
    "    data=pd.DataFrame(out), \n",
    "    order = ['2/2 Seen', '1/2 Seen', '0/2 Seen'], \n",
    "    hue = 'method',\n",
    "    palette= [color_pal['Mean'], color_pal['GEARS']],         \n",
    "    dodge=True, \n",
    "    join=False,\n",
    "    hue_order = ['Mean', 'GEARS'])\n",
    "sns.despine()\n",
    "g.legend_.remove()\n",
    "g.set(xlabel=None, )\n",
    "g.axhline(1, linestyle=\"dashed\")\n",
    "\n",
    "plt.ylabel(\"Normalized MSE of \\n Top 20 DE Genes\",labelpad=10)\n",
    "plt.tick_params(axis='x', which='major', pad=10)\n",
    "plt.tick_params(axis='y', which='major', pad=5)\n",
    "\n",
    "#plt.legend(['Mean Prediction Model' ,'GEARS'],facecolor='white')\n"
   ]
  },
  {
   "cell_type": "code",
   "execution_count": 16,
   "metadata": {},
   "outputs": [
    {
     "name": "stdout",
     "output_type": "stream",
     "text": [
      "0/1 Seen: 0.3090289018311356\n",
      "0/2 Seen: 0.5380999767337084\n",
      "1/2 Seen: 0.47247344396052415\n",
      "2/2 Seen: 0.32400899637038555\n"
     ]
    }
   ],
   "source": [
    "d = pd.DataFrame(pd.DataFrame(out).groupby(['method', 'category'])['Normalized MSE of Top 20 DE Genes'].agg(np.mean))\n",
    "d = d.reset_index()\n",
    "for i in d.category.unique():\n",
    "    x = d[d.category == i]['Normalized MSE of Top 20 DE Genes'].values\n",
    "    print(i + ': ' + str(np.abs(x[0] - x[1])/x[0]))"
   ]
  },
  {
   "cell_type": "code",
   "execution_count": null,
   "metadata": {},
   "outputs": [],
   "source": []
  }
 ],
 "metadata": {
  "kernelspec": {
   "display_name": "deepsnap",
   "language": "python",
   "name": "deepsnap"
  },
  "language_info": {
   "codemirror_mode": {
    "name": "ipython",
    "version": 3
   },
   "file_extension": ".py",
   "mimetype": "text/x-python",
   "name": "python",
   "nbconvert_exporter": "python",
   "pygments_lexer": "ipython3",
   "version": "3.7.4"
  }
 },
 "nbformat": 4,
 "nbformat_minor": 5
}

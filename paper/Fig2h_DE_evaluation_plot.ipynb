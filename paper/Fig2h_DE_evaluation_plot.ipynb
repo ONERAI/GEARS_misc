{
 "cells": [
  {
   "cell_type": "code",
   "execution_count": 1,
   "metadata": {},
   "outputs": [],
   "source": [
    "import pandas as pd\n",
    "import numpy as np\n",
    "import pickle\n",
    "import seaborn as sns\n",
    "\n",
    "import matplotlib.pyplot as plt\n",
    "%matplotlib inline"
   ]
  },
  {
   "cell_type": "code",
   "execution_count": 2,
   "metadata": {},
   "outputs": [],
   "source": [
    "results = {}\n",
    "data_name = 'Norman'"
   ]
  },
  {
   "cell_type": "markdown",
   "metadata": {},
   "source": [
    "### GEARS"
   ]
  },
  {
   "cell_type": "code",
   "execution_count": 3,
   "metadata": {},
   "outputs": [],
   "source": [
    "p_vals = np.load('p_values_norman_filter_0.01_gears.npy',allow_pickle=True).item()\n",
    "jaccards = np.load('jaccards_norman_filter_0.01_gears.npy',allow_pickle=True).item()"
   ]
  },
  {
   "cell_type": "code",
   "execution_count": 4,
   "metadata": {},
   "outputs": [
    {
     "name": "stdout",
     "output_type": "stream",
     "text": [
      "combo_seen2\n",
      "[0.202823495272181, 0.1822980839832596, 0.23754649106163644, 0.1643717276770979, 0.2084855778608513]\n",
      "combo_seen1\n",
      "[0.19716324638105612, 0.1820827122126891, 0.16632544568459223, 0.16329498274402438, 0.174281921860531]\n",
      "combo_seen0\n",
      "[0.20152161692340584, 0.1739900962568914, 0.14666980299866383, 0.16228680487918828, 0.2418153442479989]\n"
     ]
    }
   ],
   "source": [
    "def get_jaccards(split_key):\n",
    "    jaccards_list = []\n",
    "\n",
    "    for k in jaccards.keys():\n",
    "        jaccards_list.append(np.mean(jaccards[k][split_key]))\n",
    "        \n",
    "    return jaccards_list\n",
    "\n",
    "results['GEARS'] = {}\n",
    "\n",
    "results['GEARS']['2/2 Seen'] = get_jaccards('combo_seen2')\n",
    "print('combo_seen2')\n",
    "print(results['GEARS']['2/2 Seen'])\n",
    "\n",
    "results['GEARS']['1/2 Seen'] = get_jaccards('combo_seen1')\n",
    "print('combo_seen1')\n",
    "print(results['GEARS']['1/2 Seen'])\n",
    "\n",
    "results['GEARS']['0/2 Seen'] = get_jaccards('combo_seen0')\n",
    "print('combo_seen0')\n",
    "print(results['GEARS']['0/2 Seen'])"
   ]
  },
  {
   "cell_type": "markdown",
   "metadata": {},
   "source": [
    "### CPA"
   ]
  },
  {
   "cell_type": "code",
   "execution_count": 5,
   "metadata": {},
   "outputs": [],
   "source": [
    "p_vals = np.load('p_values_norman_filter_0.01_cpa.npy',allow_pickle=True).item()\n",
    "jaccards = np.load('jaccards_norman_filter_0.01_cpa.npy',allow_pickle=True).item()"
   ]
  },
  {
   "cell_type": "code",
   "execution_count": 6,
   "metadata": {},
   "outputs": [
    {
     "name": "stdout",
     "output_type": "stream",
     "text": [
      "combo_seen2\n",
      "[0.15236867119452074, 0.11835455058101209, 0.15936436587228406, 0.14600950428364412, 0.16502711882703724]\n",
      "combo_seen1\n",
      "[0.12156693954458603, 0.12178552647001825, 0.10649631522189569, 0.11488618208962419, 0.10454182557726698]\n",
      "combo_seen0\n",
      "[0.10459344415498495, 0.0946376825655875, 0.06233859397417504, 0.10048973022372328, 0.09447621073707461]\n"
     ]
    }
   ],
   "source": [
    "def get_jaccards(split_key):\n",
    "    jaccards_list = []\n",
    "\n",
    "    for k in jaccards.keys():\n",
    "        jaccards_list.append(np.mean(jaccards[k][split_key]))\n",
    "        \n",
    "    return jaccards_list\n",
    "\n",
    "results['CPA'] = {}\n",
    "\n",
    "results['CPA']['2/2 Seen'] = get_jaccards('combo_seen2')\n",
    "print('combo_seen2')\n",
    "print(results['CPA']['2/2 Seen'])\n",
    "\n",
    "results['CPA']['1/2 Seen'] = get_jaccards('combo_seen1')\n",
    "print('combo_seen1')\n",
    "print(results['CPA']['1/2 Seen'])\n",
    "\n",
    "results['CPA']['0/2 Seen'] = get_jaccards('combo_seen0')\n",
    "print('combo_seen0')\n",
    "print(results['CPA']['0/2 Seen'])"
   ]
  },
  {
   "cell_type": "markdown",
   "metadata": {},
   "source": [
    "### Linear"
   ]
  },
  {
   "cell_type": "code",
   "execution_count": 7,
   "metadata": {},
   "outputs": [],
   "source": [
    "p_vals = np.load('p_values_norman_filter_0.01_linear.npy',allow_pickle=True).item()\n",
    "jaccards = np.load('jaccards_norman_filter_0.01_linear.npy',allow_pickle=True).item()"
   ]
  },
  {
   "cell_type": "code",
   "execution_count": 8,
   "metadata": {},
   "outputs": [
    {
     "name": "stdout",
     "output_type": "stream",
     "text": [
      "combo_seen2\n",
      "[0.05489620630066459, 0.044444975500499216, 0.0443207451081641, 0.03579582038573881, 0.042236182401833994]\n",
      "combo_seen1\n",
      "[0.04157088196381354, 0.0448043594874929, 0.045511031154306505, 0.04854446874148899, 0.035610778360796694]\n",
      "combo_seen0\n",
      "[0.030324689234821185, 0.0453362534267244, 0.012809450997524393, 0.06453442279580623, 0.028990173261021063]\n"
     ]
    }
   ],
   "source": [
    "def get_jaccards(split_key):\n",
    "    jaccards_list = []\n",
    "\n",
    "    for k in jaccards.keys():\n",
    "        jaccards_list.append(np.mean(jaccards[k][split_key]))\n",
    "        \n",
    "    return jaccards_list\n",
    "\n",
    "results['GRN'] = {}\n",
    "\n",
    "results['GRN']['2/2 Seen'] = get_jaccards('combo_seen2')\n",
    "print('combo_seen2')\n",
    "print(results['GRN']['2/2 Seen'])\n",
    "\n",
    "results['GRN']['1/2 Seen'] = get_jaccards('combo_seen1')\n",
    "print('combo_seen1')\n",
    "print(results['GRN']['1/2 Seen'])\n",
    "\n",
    "results['GRN']['0/2 Seen'] = get_jaccards('combo_seen0')\n",
    "print('combo_seen0')\n",
    "print(results['GRN']['0/2 Seen'])"
   ]
  },
  {
   "cell_type": "code",
   "execution_count": 9,
   "metadata": {},
   "outputs": [
    {
     "name": "stdout",
     "output_type": "stream",
     "text": [
      "102.89404379652302\n",
      "55.13513392740263\n",
      "34.32638704869228\n"
     ]
    }
   ],
   "source": [
    "## % Improvement\n",
    "\n",
    "print((np.mean(results['GEARS']['0/2 Seen']) - np.mean(results['CPA']['0/2 Seen']))/(np.mean(results['CPA']['0/2 Seen']))*100)\n",
    "\n",
    "print((np.mean(results['GEARS']['1/2 Seen']) - np.mean(results['CPA']['1/2 Seen']))/(np.mean(results['CPA']['1/2 Seen']))*100)\n",
    "\n",
    "print((np.mean(results['GEARS']['2/2 Seen']) - np.mean(results['CPA']['2/2 Seen']))/(np.mean(results['CPA']['2/2 Seen']))*100)\n"
   ]
  },
  {
   "cell_type": "code",
   "execution_count": 10,
   "metadata": {},
   "outputs": [],
   "source": [
    "df1 = pd.DataFrame(results['GEARS'])\n",
    "df1 = df1.melt()\n",
    "df1['Model'] = 'GEARS'\n",
    "\n",
    "df2 = pd.DataFrame(results['CPA'])\n",
    "df2 = df2.melt()\n",
    "df2['Model'] = 'CPA'\n",
    "\n",
    "df3 = pd.DataFrame(results['GRN'])\n",
    "df3 = df3.melt()\n",
    "df3['Model'] = 'GRN'"
   ]
  },
  {
   "cell_type": "code",
   "execution_count": 11,
   "metadata": {},
   "outputs": [],
   "source": [
    "plot_df = pd.concat([df1, df2, df3], ignore_index=True)\n",
    "plot_df = plot_df.rename(columns={'value':'Jaccard similarity', 'variable':'category'})"
   ]
  },
  {
   "cell_type": "code",
   "execution_count": 12,
   "metadata": {},
   "outputs": [],
   "source": [
    "color_pal = {\n",
    "'GRN': (0.9058823529411765, 0.5411764705882353, 0.7647058823529411),\n",
    "'CPA': (0.4, 0.7607843137254902, 0.6470588235294118),\n",
    "'GEARS': (0.9882352941176471, 0.5529411764705883, 0.3843137254901961),\n",
    "'No-Perturb': (0.7019607843137254, 0.7019607843137254, 0.7019607843137254)}\n",
    "pal_order = [color_pal[i] for i in pd.DataFrame(plot_df).Model.unique()]"
   ]
  },
  {
   "cell_type": "code",
   "execution_count": 16,
   "metadata": {},
   "outputs": [
    {
     "name": "stderr",
     "output_type": "stream",
     "text": [
      "/dfs/user/yhr/deepamp/lib/python3.8/site-packages/seaborn/_decorators.py:36: FutureWarning: Pass the following variables as keyword args: x, y. From version 0.12, the only valid positional argument will be `data`, and passing other arguments without an explicit keyword will result in an error or misinterpretation.\n",
      "  warnings.warn(\n"
     ]
    },
    {
     "data": {
      "image/png": "[encoded data removed]",
      "text/plain": [
       "<Figure size 864x432 with 1 Axes>"
      ]
     },
     "metadata": {},
     "output_type": "display_data"
    }
   ],
   "source": [
    "sns.set(rc={'figure.figsize':(12,6)})\n",
    "sns.set_theme(style=\"ticks\", rc={\"axes.facecolor\": (0, 0, 0, 0)}, font = \"Helvetica\", font_scale=1.8)\n",
    "\n",
    "g = sns.pointplot('category', 'Jaccard similarity', \n",
    "    data=plot_df, \n",
    "    order = ['2/2 Seen', '1/2 Seen', '0/2 Seen'], \n",
    "    hue = 'Model',\n",
    "    palette= [color_pal['GRN'], color_pal['CPA'], color_pal['GEARS']],         \n",
    "    dodge=True, \n",
    "    join=False,\n",
    "    hue_order = ['GRN', 'CPA', 'GEARS'],\n",
    "    s=10,\n",
    "    errwidth=0.8)\n",
    "sns.despine()\n",
    "g.legend_.remove()\n",
    "g.set(xlabel=None, )\n",
    "g.axhline(0, linewidth=0.6, linestyle=\"dashed\")\n",
    "\n",
    "for i in range(3):\n",
    "    g.collections[i].set_sizes([13])\n",
    "\n",
    "plt.ylabel(\"Jaccard similarity with true \\n differentially expressed genes\",labelpad=10)\n",
    "plt.tick_params(axis='x', which='major', pad=10)\n",
    "plt.tick_params(axis='y', which='major', pad=5)\n",
    "#g.spines['left'].set_linewidth(0.8)\n",
    "#g.spines['bottom'].set_linewidth(0.8)\n",
    "\n",
    "\n",
    "\n",
    "# Save the figure\n",
    "plt.savefig('fig2h.svg', bbox_inches='tight')\n",
    "\n",
    "#plt.savefig('subgroup_' + data_name + '_jaccard.pdf', bbox_inches='tight')"
   ]
  },
  {
   "cell_type": "code",
   "execution_count": null,
   "metadata": {},
   "outputs": [],
   "source": []
  }
 ],
 "metadata": {
  "kernelspec": {
   "display_name": "deepamp",
   "language": "python",
   "name": "deepamp"
  },
  "language_info": {
   "codemirror_mode": {
    "name": "ipython",
    "version": 3
   },
   "file_extension": ".py",
   "mimetype": "text/x-python",
   "name": "python",
   "nbconvert_exporter": "python",
   "pygments_lexer": "ipython3",
   "version": "3.8.10"
  }
 },
 "nbformat": 4,
 "nbformat_minor": 2
}

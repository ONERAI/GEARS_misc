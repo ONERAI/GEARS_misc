{
 "cells": [
  {
   "cell_type": "code",
   "execution_count": 1,
   "metadata": {},
   "outputs": [],
   "source": [
    "import argparse\n",
    "import sys\n",
    "sys.path.append('../../gears_misc/')\n",
    "\n",
    "from gears import PertData, GEARS\n",
    "\n",
    "dataset = 'norman_umi_go'\n",
    "data_path = '/dfs/project/perturb-gnn/datasets/data/'\n",
    "#test_pert_genes = 'CEBPB'\n",
    "model = 'gears'\n",
    "device = 2\n",
    "seed = 1\n",
    "\n",
    "import seaborn as sns\n",
    "import numpy as np\n",
    "import matplotlib.pyplot as plt\n",
    "import numpy as np\n",
    "\n",
    "import matplotlib.patches as mpatches\n",
    "import matplotlib.pyplot as plt\n",
    "import glob\n",
    "\n",
    "import matplotlib.pyplot as plt\n",
    "from scipy.stats import pearsonr\n",
    "\n",
    "from gears.utils import get_GI_genes_idx, get_GI_params, get_mean_control"
   ]
  },
  {
   "cell_type": "code",
   "execution_count": 2,
   "metadata": {},
   "outputs": [],
   "source": [
    "%load_ext autoreload\n",
    "%autoreload 2"
   ]
  },
  {
   "cell_type": "code",
   "execution_count": 3,
   "metadata": {},
   "outputs": [],
   "source": [
    "def GI_true(combo, adata, mean_df, GI_genes_file='./genes_with_hi_mean.npy', mean_control=None):\n",
    "    pred = {}\n",
    "    g1 = combo[0]\n",
    "    g2 = combo[1]\n",
    "    comboname = '_'.join(combo)\n",
    "    \n",
    "    try:\n",
    "        pred[g1] = mean_df.loc[g1+'+ctrl']\n",
    "    except:\n",
    "        pred[g1] = mean_df.loc['ctrl+'+g1]\n",
    "        \n",
    "    try:\n",
    "        pred[g2] = mean_df.loc[g2+'+ctrl']\n",
    "    except:\n",
    "        pred[g2] = mean_df.loc['ctrl+'+g2]\n",
    "    \n",
    "    try:\n",
    "        pred[comboname] = mean_df.loc['+'.join(combo)]\n",
    "    except:\n",
    "        pred[comboname] = mean_df.loc['+'.join(combo[::-1])]\n",
    "    \n",
    "    if mean_control is None:\n",
    "        mean_control = get_mean_control(adata).values  \n",
    "    pred = {p:pred[p]-mean_control for p in pred} \n",
    "    \n",
    "    if GI_genes_file is not None:\n",
    "    # If focussing on a specific subset of genes for calculating metrics\n",
    "        GI_genes_idx = get_GI_genes_idx(adata, GI_genes_file)       \n",
    "    else:\n",
    "        GI_genes_idx = np.arange(len(adata.var.gene_name.values))\n",
    "\n",
    "    pred = {p:pred[p][GI_genes_idx] for p in pred}\n",
    "    \n",
    "    return get_GI_params(pred, combo)"
   ]
  },
  {
   "cell_type": "code",
   "execution_count": 4,
   "metadata": {},
   "outputs": [],
   "source": [
    "def load_data(seed, test_pert):\n",
    "    pert_data = PertData(data_path[:-1], gene_path='/dfs/user/yhr/gears2/Evaluation/data/essential_norman.pkl') # specific saved folder\n",
    "    pert_data.load(data_path= data_path+dataset) # load the processed data, the path is saved folder + dataset_name\n",
    "    pert_data.prepare_split(split = 'combo_seen2', seed = seed, test_perts = test_pert)\n",
    "    pert_data.get_dataloader(batch_size = 32, test_batch_size = 32)\n",
    "    \n",
    "    adata_df = pert_data.adata.to_df()\n",
    "    adata_df['condition'] = pert_data.adata.obs['condition']\n",
    "    mean_df = adata_df.groupby('condition').mean()\n",
    "    ctrl_mean = mean_df.loc['ctrl']\n",
    "    \n",
    "    return pert_data, ctrl_mean, mean_df\n",
    "\n",
    "def load_model(pert_data, test_pert):\n",
    "    gears_model = GEARS(pert_data, device = 'cuda:8', \n",
    "                weight_bias_track = False, \n",
    "                proj_name = 'norman_go', \n",
    "                exp_name = 'gears')\n",
    "    gears_model.load_pretrained('./model_ckpt/GI/norman_umi_go_' + test_pert)\n",
    "    \n",
    "    return gears_model\n",
    "    "
   ]
  },
  {
   "cell_type": "code",
   "execution_count": 5,
   "metadata": {},
   "outputs": [],
   "source": [
    "all_GI_values = {}"
   ]
  },
  {
   "cell_type": "markdown",
   "metadata": {},
   "source": [
    "### Iterate over all trained leave-one-out GI models"
   ]
  },
  {
   "cell_type": "code",
   "execution_count": 6,
   "metadata": {},
   "outputs": [],
   "source": [
    "import pandas as pd\n",
    "gene2go = pd.read_pickle('/dfs/project/perturb-gnn/datasets/data/gene2go_all_ext.pkl')"
   ]
  },
  {
   "cell_type": "code",
   "execution_count": 7,
   "metadata": {},
   "outputs": [],
   "source": [
    "#perts_missed = ['RHOXF2BB+ZBTB25', 'LYL1+IER5L', 'RHOXF2BB+SET']"
   ]
  },
  {
   "cell_type": "code",
   "execution_count": 8,
   "metadata": {},
   "outputs": [],
   "source": [
    "import scanpy as sc\n",
    "adata = sc.read_h5ad('/dfs/project/perturb-gnn/datasets/data/norman/perturb_processed.h5ad')"
   ]
  },
  {
   "cell_type": "code",
   "execution_count": 9,
   "metadata": {},
   "outputs": [
    {
     "data": {
      "text/plain": [
       "131"
      ]
     },
     "execution_count": 9,
     "metadata": {},
     "output_type": "execute_result"
    }
   ],
   "source": [
    "len(glob.glob('/dfs/user/yhr/gears2/Evaluation/model_ckpt/GI/norman_umi_go_*'))"
   ]
  },
  {
   "cell_type": "code",
   "execution_count": 10,
   "metadata": {
    "scrolled": true
   },
   "outputs": [
    {
     "name": "stdout",
     "output_type": "stream",
     "text": [
      "0\n"
     ]
    },
    {
     "name": "stderr",
     "output_type": "stream",
     "text": [
      "Found local copy...\n",
      "Local copy of pyg dataset is detected. Loading...\n",
      "Done!\n",
      "Local copy of split is detected. Loading...\n",
      "Done!\n",
      "Creating dataloaders....\n",
      "Done!\n"
     ]
    },
    {
     "name": "stdout",
     "output_type": "stream",
     "text": [
      "1\n",
      "2\n",
      "3\n",
      "4\n",
      "5\n",
      "6\n",
      "7\n",
      "8\n",
      "9\n",
      "10\n",
      "11\n",
      "12\n",
      "13\n",
      "14\n",
      "15\n",
      "16\n",
      "17\n",
      "18\n",
      "19\n",
      "20\n",
      "21\n",
      "22\n",
      "23\n",
      "24\n",
      "25\n",
      "26\n",
      "27\n",
      "28\n",
      "29\n",
      "30\n",
      "31\n",
      "32\n",
      "33\n",
      "34\n",
      "35\n",
      "36\n",
      "37\n",
      "38\n",
      "39\n",
      "40\n",
      "41\n",
      "42\n",
      "43\n",
      "44\n",
      "45\n",
      "46\n",
      "47\n",
      "48\n",
      "49\n",
      "50\n",
      "51\n",
      "52\n",
      "53\n",
      "54\n",
      "55\n",
      "56\n",
      "57\n",
      "58\n",
      "59\n",
      "60\n",
      "61\n",
      "62\n",
      "63\n",
      "64\n",
      "65\n",
      "66\n",
      "67\n",
      "68\n",
      "69\n",
      "70\n",
      "71\n",
      "72\n",
      "73\n",
      "74\n",
      "75\n",
      "76\n",
      "77\n",
      "78\n",
      "79\n",
      "80\n",
      "81\n",
      "82\n",
      "83\n",
      "84\n",
      "85\n",
      "86\n",
      "87\n",
      "88\n",
      "89\n",
      "90\n",
      "91\n",
      "92\n",
      "93\n",
      "94\n",
      "95\n",
      "96\n",
      "97\n",
      "98\n",
      "99\n",
      "100\n",
      "101\n",
      "102\n",
      "103\n",
      "104\n",
      "105\n",
      "106\n",
      "107\n",
      "108\n",
      "109\n",
      "110\n",
      "111\n",
      "112\n",
      "113\n",
      "114\n",
      "115\n",
      "116\n",
      "117\n",
      "118\n",
      "119\n",
      "120\n",
      "121\n",
      "122\n",
      "123\n",
      "124\n",
      "125\n",
      "126\n",
      "127\n",
      "128\n",
      "129\n",
      "130\n"
     ]
    }
   ],
   "source": [
    "for idx, GI_loo_trained_model in enumerate(glob.glob('/dfs/user/yhr/gears2/Evaluation/model_ckpt/GI/norman_umi_go_*')):\n",
    "    test_pert = GI_loo_trained_model.split('_')[-1]\n",
    "    \n",
    "    print(idx)\n",
    "    if idx==0:\n",
    "        pert_data, ctrl_mean, mean_df = load_data(seed, test_pert)\n",
    "    gears_model = load_model(pert_data, test_pert)\n",
    "    \n",
    "    all_GI_values[test_pert] = {}\n",
    "    combo = test_pert.split('+')\n",
    "    all_GI_values[test_pert]['pred'] = gears_model.GI_predict(combo)\n",
    "    all_GI_values[test_pert]['true'] = GI_true(combo, gears_model.adata, mean_df=mean_df, \n",
    "                                               mean_control=ctrl_mean)\n",
    "    \n",
    "    del(gears_model)"
   ]
  },
  {
   "cell_type": "code",
   "execution_count": 11,
   "metadata": {},
   "outputs": [],
   "source": [
    "np.save('./model_ckpt/GI/all_GI_values_seed3', all_GI_values)"
   ]
  },
  {
   "cell_type": "markdown",
   "metadata": {},
   "source": [
    "### Visualization"
   ]
  },
  {
   "cell_type": "code",
   "execution_count": 37,
   "metadata": {},
   "outputs": [],
   "source": [
    "all_GI_values = np.load('./model_ckpt/GI/all_GI_values_seed2.npy', allow_pickle=True).item()"
   ]
  },
  {
   "cell_type": "code",
   "execution_count": 38,
   "metadata": {},
   "outputs": [],
   "source": [
    "metric_dict = {}\n",
    "\n",
    "for metric in ['mag', 'corr_fit', 'dcor', 'eq_contr']:\n",
    "    metric_dict[metric] = []\n",
    "    for item in all_GI_values.values():\n",
    "        metric_dict[metric].append([item['true'][metric], item['pred'][metric]])"
   ]
  },
  {
   "cell_type": "code",
   "execution_count": 39,
   "metadata": {},
   "outputs": [
    {
     "data": {
      "text/plain": [
       "131"
      ]
     },
     "execution_count": 39,
     "metadata": {},
     "output_type": "execute_result"
    }
   ],
   "source": [
    "len(metric_dict['mag'])"
   ]
  },
  {
   "cell_type": "code",
   "execution_count": 40,
   "metadata": {},
   "outputs": [
    {
     "data": {
      "text/plain": [
       "(0.0, 2.25)"
      ]
     },
     "execution_count": 40,
     "metadata": {},
     "output_type": "execute_result"
    },
    {
     "data": {
      "image/png": "[encoded data removed]",
      "text/plain": [
       "<Figure size 432x288 with 1 Axes>"
      ]
     },
     "metadata": {
      "needs_background": "light"
     },
     "output_type": "display_data"
    }
   ],
   "source": [
    "plt.scatter(np.array(metric_dict['mag'])[:,0], np.array(metric_dict['mag'])[:,1])\n",
    "plt.plot([0,2.25],[0,2.25], color='k')\n",
    "plt.xlabel('True')\n",
    "plt.ylabel('Pred')\n",
    "\n",
    "plt.ylim([0,2.25])\n",
    "plt.xlim([0,2.25])"
   ]
  },
  {
   "cell_type": "code",
   "execution_count": 41,
   "metadata": {},
   "outputs": [
    {
     "data": {
      "text/plain": [
       "0.383242147530967"
      ]
     },
     "execution_count": 41,
     "metadata": {},
     "output_type": "execute_result"
    }
   ],
   "source": [
    "pearsonr(np.array(metric_dict['mag'])[:,0], np.array(metric_dict['mag'])[:,1])[0]**2"
   ]
  },
  {
   "cell_type": "code",
   "execution_count": 42,
   "metadata": {},
   "outputs": [
    {
     "data": {
      "text/plain": [
       "(0.0, 1.0)"
      ]
     },
     "execution_count": 42,
     "metadata": {},
     "output_type": "execute_result"
    },
    {
     "data": {
      "image/png": "[encoded data removed]",
      "text/plain": [
       "<Figure size 432x288 with 1 Axes>"
      ]
     },
     "metadata": {
      "needs_background": "light"
     },
     "output_type": "display_data"
    }
   ],
   "source": [
    "plt.scatter(np.array(metric_dict['corr_fit'])[:,0], np.array(metric_dict['corr_fit'])[:,1])\n",
    "plt.plot([0,1.0],[0,1.0], color='k')\n",
    "plt.xlabel('True')\n",
    "plt.ylabel('Pred')\n",
    "\n",
    "plt.ylim([0,1.0])\n",
    "plt.xlim([0,1.0])"
   ]
  },
  {
   "cell_type": "code",
   "execution_count": 43,
   "metadata": {},
   "outputs": [
    {
     "data": {
      "text/plain": [
       "0.3629488966421176"
      ]
     },
     "execution_count": 43,
     "metadata": {},
     "output_type": "execute_result"
    }
   ],
   "source": [
    "pearsonr(np.array(metric_dict['corr_fit'])[:,0], np.array(metric_dict['corr_fit'])[:,1])[0]**2"
   ]
  },
  {
   "cell_type": "code",
   "execution_count": 44,
   "metadata": {},
   "outputs": [
    {
     "data": {
      "text/plain": [
       "0.5296816564727487"
      ]
     },
     "execution_count": 44,
     "metadata": {},
     "output_type": "execute_result"
    }
   ],
   "source": [
    "pearsonr(np.array(metric_dict['eq_contr'])[:,0], np.array(metric_dict['eq_contr'])[:,1])[0]**2"
   ]
  },
  {
   "cell_type": "code",
   "execution_count": 45,
   "metadata": {},
   "outputs": [
    {
     "data": {
      "text/plain": [
       "(0.0, 1.0)"
      ]
     },
     "execution_count": 45,
     "metadata": {},
     "output_type": "execute_result"
    },
    {
     "data": {
      "image/png": "[encoded data removed]",
      "text/plain": [
       "<Figure size 432x288 with 1 Axes>"
      ]
     },
     "metadata": {
      "needs_background": "light"
     },
     "output_type": "display_data"
    }
   ],
   "source": [
    "plt.scatter(np.array(metric_dict['eq_contr'])[:,0], np.array(metric_dict['eq_contr'])[:,1])\n",
    "plt.plot([0,1.0],[0,1.0], color='k')\n",
    "plt.xlabel('True')\n",
    "plt.ylabel('Pred')\n",
    "\n",
    "plt.ylim([0,1.0])\n",
    "plt.xlim([0,1.0])"
   ]
  },
  {
   "cell_type": "code",
   "execution_count": 46,
   "metadata": {},
   "outputs": [
    {
     "data": {
      "text/plain": [
       "(0.0, 1.0)"
      ]
     },
     "execution_count": 46,
     "metadata": {},
     "output_type": "execute_result"
    },
    {
     "data": {
      "image/png": "[encoded data removed]",
      "text/plain": [
       "<Figure size 432x288 with 1 Axes>"
      ]
     },
     "metadata": {
      "needs_background": "light"
     },
     "output_type": "display_data"
    }
   ],
   "source": [
    "plt.scatter(np.array(metric_dict['dcor'])[:,0], np.array(metric_dict['dcor'])[:,1])\n",
    "plt.plot([0,1.0],[0,1.0], color='k')\n",
    "plt.xlabel('True')\n",
    "plt.ylabel('Pred')\n",
    "\n",
    "plt.ylim([0,1.0])\n",
    "plt.xlim([0,1.0])"
   ]
  },
  {
   "cell_type": "code",
   "execution_count": 47,
   "metadata": {},
   "outputs": [
    {
     "data": {
      "text/plain": [
       "0.4085177296096987"
      ]
     },
     "execution_count": 47,
     "metadata": {},
     "output_type": "execute_result"
    }
   ],
   "source": [
    "pearsonr(np.array(metric_dict['dcor'])[:,0], np.array(metric_dict['dcor'])[:,1])[0]**2"
   ]
  },
  {
   "cell_type": "code",
   "execution_count": null,
   "metadata": {},
   "outputs": [],
   "source": []
  }
 ],
 "metadata": {
  "kernelspec": {
   "display_name": "deepsnap",
   "language": "python",
   "name": "deepsnap"
  },
  "language_info": {
   "codemirror_mode": {
    "name": "ipython",
    "version": 3
   },
   "file_extension": ".py",
   "mimetype": "text/x-python",
   "name": "python",
   "nbconvert_exporter": "python",
   "pygments_lexer": "ipython3",
   "version": "3.7.4"
  }
 },
 "nbformat": 4,
 "nbformat_minor": 2
}

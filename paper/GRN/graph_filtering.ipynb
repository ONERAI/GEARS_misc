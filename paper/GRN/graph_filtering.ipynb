{
 "cells": [
  {
   "cell_type": "markdown",
   "metadata": {},
   "source": [
    "### Target filtering procedure"
   ]
  },
  {
   "cell_type": "code",
   "execution_count": 1,
   "metadata": {},
   "outputs": [],
   "source": [
    "import pandas as pd\n",
    "import glob\n",
    "\n",
    "import scanpy as sc\n",
    "import numpy as np"
   ]
  },
  {
   "cell_type": "code",
   "execution_count": 2,
   "metadata": {},
   "outputs": [],
   "source": [
    "# Top 50 targets for each TF (targets with highest weight)\n",
    "def get_topk(df, tf, k):\n",
    "    return df[df['TF'] == tf].sort_values('importance', ascending=False)[:k]\n",
    "\n",
    "def filter_topk(grnboost_out, k=50):\n",
    "    \n",
    "    tfs = grnboost_out['TF'].unique()\n",
    "    tf_dfs = []\n",
    "    for tf in tfs:\n",
    "        tf_dfs.append(get_topk(grnboost_out, tf, k=k))\n",
    "        \n",
    "    return pd.concat(tf_dfs)\n",
    "\n",
    "# Targets with importance > the 95th percentile\n",
    "def get_pc(grnboost_out, pc=95):\n",
    "    return grnboost_out.sort_values('importance', ascending=False)[:int(len(grnboost_out)*(1-0.01*pc))]\n",
    "\n",
    "# Get filtered adjacency lists\n",
    "def get_filtered_adj_list(grnboost_out):\n",
    "    filters = {}\n",
    "    filters['top50'] = filter_topk(grnboost_out, k=50)\n",
    "    filters['95pc'] = get_pc(grnboost_out, pc=95)\n",
    "\n",
    "    return filters"
   ]
  },
  {
   "cell_type": "code",
   "execution_count": null,
   "metadata": {},
   "outputs": [],
   "source": [
    "# Generate filtered adjacency files for GRNboost graph\n",
    "\n",
    "#names = ['norman']\n",
    "#names = ['tian2019_neuron_hvg', 'tian2019_ipsc_hvg', 'jost2020_hvg', 'replogle2020_hvg']\n",
    "names = ['adamson']\n",
    "\n",
    "for name in names:\n",
    "    for split in range(5,6):\n",
    "        # Read GRNboost output\n",
    "        grnboost_out = pd.read_csv('./adjacencies_'+name+'_'+str(split)+'_grnboost.csv', index_col =0)\n",
    "        filtered = get_filtered_adj_list(grnboost_out)\n",
    "\n",
    "        # Save filtered graphs\n",
    "        filtered['top50'].to_csv('/dfs/project/perturb-gnn/graphs/linear/grnboost/'+name+'_'+str(split)+'_top50.csv', \n",
    "                                 index=False, header=False)\n",
    "        filtered['95pc'].to_csv('/dfs/project/perturb-gnn/graphs/linear/grnboost/'+name+'_'+str(split)+'_95pc.csv',\n",
    "                                 index=False, header=False)"
   ]
  }
 ],
 "metadata": {
  "kernelspec": {
   "display_name": "deepsnap",
   "language": "python",
   "name": "deepsnap"
  },
  "language_info": {
   "codemirror_mode": {
    "name": "ipython",
    "version": 3
   },
   "file_extension": ".py",
   "mimetype": "text/x-python",
   "name": "python",
   "nbconvert_exporter": "python",
   "pygments_lexer": "ipython3",
   "version": "3.7.4"
  }
 },
 "nbformat": 4,
 "nbformat_minor": 2
}

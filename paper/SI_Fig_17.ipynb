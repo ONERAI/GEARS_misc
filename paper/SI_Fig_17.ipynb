{
 "cells": [
  {
   "cell_type": "code",
   "execution_count": 1,
   "metadata": {},
   "outputs": [],
   "source": [
    "import pandas as pd\n",
    "import numpy as np\n",
    "import pickle\n",
    "\n",
    "from sklearn.preprocessing import PolynomialFeatures\n",
    "from sklearn.linear_model import LinearRegression\n",
    "from sklearn.pipeline import make_pipeline\n",
    "\n",
    "\n",
    "import argparse\n",
    "import sys\n",
    "sys.path.append('../../gears_misc/')\n",
    "\n",
    "from gears import PertData, GEARS\n",
    "\n",
    "dataset = 'norman_go'\n",
    "data_path = '/dfs/project/perturb-gnn/datasets/data/'\n",
    "model = 'gears'\n",
    "device = 8\n",
    "seed = 1\n",
    "\n",
    "\n",
    "def load_data(seed):\n",
    "    pert_data = PertData(data_path[:-1], gene_path='/dfs/user/yhr/gears2/Evaluation/data/essential_norman.pkl') # specific saved folder\n",
    "    pert_data.load(data_path= data_path+dataset) # load the processed data, the path is saved folder + dataset_name\n",
    "    pert_data.prepare_split(split = 'simulation', seed = seed)\n",
    "    pert_data.get_dataloader(batch_size = 32, test_batch_size = 32)\n",
    "    \n",
    "    adata_df = pert_data.adata.to_df()\n",
    "    adata_df['condition'] = pert_data.adata.obs['condition']\n",
    "    mean_df = adata_df.groupby('condition').mean()\n",
    "    ctrl_mean = mean_df.loc['ctrl']\n",
    "    \n",
    "    return pert_data, ctrl_mean, mean_df\n",
    "\n",
    "def load_model(pert_data):\n",
    "    gears_model = GEARS(pert_data, device = 'cuda:8', \n",
    "                weight_bias_track = False, \n",
    "                proj_name = 'norman_go', \n",
    "                exp_name = 'gears',\n",
    "                gi_predict = True)\n",
    "    gears_model.model_initialize(hidden_size = 64,\n",
    "                             go_path='/dfs/user/yhr/gears2/Evaluation/data/go_essential_norman.csv')\n",
    "    \n",
    "    return gears_model\n",
    "    "
   ]
  },
  {
   "cell_type": "code",
   "execution_count": 3,
   "metadata": {},
   "outputs": [
    {
     "name": "stderr",
     "output_type": "stream",
     "text": [
      "Found local copy...\n",
      "Local copy of pyg dataset is detected. Loading...\n",
      "Done!\n",
      "Local copy of split is detected. Loading...\n",
      "Simulation split test composition:\n",
      "combo_seen0:3\n",
      "combo_seen1:36\n",
      "combo_seen2:14\n",
      "unseen_single:23\n",
      "Done!\n",
      "Creating dataloaders....\n",
      "Done!\n"
     ]
    }
   ],
   "source": [
    "pert_data, ctrl_mean, mean_df = load_data(seed)\n",
    "gears_model = load_model(pert_data)"
   ]
  },
  {
   "cell_type": "code",
   "execution_count": 6,
   "metadata": {
    "scrolled": true
   },
   "outputs": [
    {
     "name": "stderr",
     "output_type": "stream",
     "text": [
      "Start Training...\n",
      "Done!\n",
      "Start Testing...\n",
      "Best performing model: Test Top 20 DE MSE: 0.3800\n",
      "Start doing subgroup analysis for simulation split...\n",
      "test_combo_seen0_mse: 0.006323622\n",
      "test_combo_seen0_pearson: 0.9806559784041194\n",
      "test_combo_seen0_mse_de: 0.2618344\n",
      "test_combo_seen0_pearson_de: 0.6190830506216072\n",
      "test_combo_seen1_mse: 0.008314142\n",
      "test_combo_seen1_pearson: 0.9749880303910091\n",
      "test_combo_seen1_mse_de: 0.42130262\n",
      "test_combo_seen1_pearson_de: 0.7880116617003616\n",
      "test_combo_seen2_mse: 0.0064131385\n",
      "test_combo_seen2_pearson: 0.9804280319921107\n",
      "test_combo_seen2_mse_de: 0.5355386\n",
      "test_combo_seen2_pearson_de: 0.8863124168685886\n",
      "test_unseen_single_mse: 0.0035222282\n",
      "test_unseen_single_pearson: 0.9892609538304451\n",
      "test_unseen_single_mse_de: 0.23614056\n",
      "test_unseen_single_pearson_de: 0.8547882827274502\n",
      "test_combo_seen0_pearson_delta: 0.018298733264759146\n",
      "test_combo_seen0_frac_opposite_direction_top20_non_dropout: 0.45\n",
      "test_combo_seen0_frac_sigma_below_1_non_dropout: 0.7333333333333334\n",
      "test_combo_seen0_mse_top20_de_non_dropout: 0.33805645\n",
      "test_combo_seen1_pearson_delta: 0.021815508325994444\n",
      "test_combo_seen1_frac_opposite_direction_top20_non_dropout: 0.47777777777777786\n",
      "test_combo_seen1_frac_sigma_below_1_non_dropout: 0.4986111111111111\n",
      "test_combo_seen1_mse_top20_de_non_dropout: 0.5881252\n",
      "test_combo_seen2_pearson_delta: -0.004999409233694294\n",
      "test_combo_seen2_frac_opposite_direction_top20_non_dropout: 0.5357142857142857\n",
      "test_combo_seen2_frac_sigma_below_1_non_dropout: 0.5642857142857143\n",
      "test_combo_seen2_mse_top20_de_non_dropout: 0.6371146\n",
      "test_unseen_single_pearson_delta: 0.014742234336163285\n",
      "test_unseen_single_frac_opposite_direction_top20_non_dropout: 0.48260869565217396\n",
      "test_unseen_single_frac_sigma_below_1_non_dropout: 0.8152173913043478\n",
      "test_unseen_single_mse_top20_de_non_dropout: 0.26790214\n",
      "Done!\n"
     ]
    }
   ],
   "source": [
    "gears_model.train(epochs = 0, lr = 1e-3)"
   ]
  },
  {
   "cell_type": "code",
   "execution_count": 9,
   "metadata": {},
   "outputs": [],
   "source": [
    "### turn the model on \n",
    "model = gears_model.model\n",
    "model.cell_fitness_pred = True\n"
   ]
  },
  {
   "cell_type": "code",
   "execution_count": 10,
   "metadata": {},
   "outputs": [],
   "source": [
    "adata = gears_model.adata\n",
    "ctrl_adata = adata[adata.obs['condition'] == 'ctrl']"
   ]
  },
  {
   "cell_type": "code",
   "execution_count": 12,
   "metadata": {},
   "outputs": [],
   "source": [
    "all_pert_list_options = gears_model.pert_list"
   ]
  },
  {
   "cell_type": "code",
   "execution_count": 13,
   "metadata": {},
   "outputs": [],
   "source": [
    "with open('/dfs/project/perturb-gnn/datasets/Norman2019/GI_data.pkl', 'rb') as f:\n",
    "    fitness_data = pickle.load(f)\n",
    "    \n",
    "unique_pert_genes = fitness_data['good_phen'].index.values\n",
    "\n",
    "from itertools import combinations\n",
    "pert_list = [i[0] + '+' + i[1] for i in list(combinations(fitness_data['good_phen'].index.values, 2))]"
   ]
  },
  {
   "cell_type": "code",
   "execution_count": 16,
   "metadata": {},
   "outputs": [],
   "source": [
    "class GI_expt():\n",
    "    # TODO get rid of hold out genes\n",
    "    def __init__(self, raw=False, pick_genes = None):\n",
    "        # sample: matrix sampling percentage\n",
    "        # seed: sampling seed,\n",
    "        # sampled_data: sampled indices from upper traingle matrix\n",
    "        # test: matrix values to be predicted\n",
    "        # train: observed matrix values used for training, \n",
    "        # delta: deviation from expectation as inferred using \n",
    "        #        a regression model trained on sampled_data (corresponds to sampled_data)\n",
    "        # delta_tot: delta values computed for all matrix values\n",
    "        # y_tot: Full true matrix (raw fitness values)\n",
    "        # raws: Sampled raw fitness values (corresponds to sampled_data)\n",
    "        # transformer: regression model used to determine expected fitness values\n",
    "        \n",
    "\n",
    "        with open('GI_data.pkl', 'rb') as f:\n",
    "            self.data = pickle.load(f)\n",
    "        self.raw = raw\n",
    "        self.pick_genes = pick_genes\n",
    "\n",
    "    def pre_process(self, sample, seed):\n",
    "        itr_data = {}\n",
    "        itr_data['sample'] = sample\n",
    "        itr_data['seed'] = seed\n",
    "\n",
    "        # Randomly sample from the fitness matrix\n",
    "        if self.pick_genes is None:\n",
    "            itr_data['sampled_data'] = \\\n",
    "               upper_triangle(self.data['good_phen'], k=0).sample(\n",
    "               frac=float(sample) / 100., replace=False, random_state=seed).index\n",
    "        else:\n",
    "            itr_data['sampled_data'] = \\\n",
    "                upper_triangle(self.data['good_phen'].iloc[self.pick_genes,\n",
    "                                                    self.pick_genes]).index\n",
    "\n",
    "        # Set up masked delta matrix for performing matrix completion\n",
    "        itr_data['delta'], itr_data['test'], \\\n",
    "        itr_data['train'], itr_data['delta_tot'], \\\n",
    "        itr_data['X_tot'], itr_data['y_tot'], itr_data['transformer'], \\\n",
    "        itr_data['raws'] = \\\n",
    "            get_masked_delta_matrix(self.data['good_phen'],\n",
    "                                    itr_data['sampled_data'],\n",
    "                                    self.data['fitness_mapper_gene'],\n",
    "                                    self.data['good_genes'])\n",
    "\n",
    "        return itr_data\n",
    "\n",
    "\n",
    "def get_masked_delta_matrix(data, sampling, phen_mapper, good_genes):\n",
    "    masked_data, mask = get_masked_data(data, sampling)\n",
    "\n",
    "    upper_masked_data = upper_triangle(masked_data)\n",
    "    predicted = upper_masked_data[upper_masked_data == 0].index\n",
    "    given = upper_masked_data[upper_masked_data != 0].index\n",
    "\n",
    "    delta_tot, X, X_tot, y, y_tot, transformer, raws = get_deltas(data, masked_data, phen_mapper, good_genes)\n",
    "    delta, _ = get_masked_data(delta_tot, sampling)\n",
    "    raws, _ = get_masked_data(raws, sampling)\n",
    "\n",
    "    return delta, predicted, given, delta_tot, X_tot, y_tot, transformer, raws\n",
    "\n",
    "def get_deltas(source_data, sampled_data, phen_mapper, good_genes):\n",
    "    # this is the routine that fits a quadratic model to observed fitness measurements and returns\n",
    "    # the deviations from the expectation given by that model (the \"deltas\")\n",
    "    y = sampled_data.stack()\n",
    "    y = y[y != 0]\n",
    "\n",
    "    X = np.concatenate([y.index.get_level_values(0).map(lambda x: phen_mapper[x]).values[:, np.newaxis],\n",
    "                        y.index.get_level_values(1).map(lambda x: phen_mapper[x]).values[:, np.newaxis]], axis=1)\n",
    "\n",
    "    y_tot = source_data.loc[good_genes, good_genes].stack()\n",
    "    X_tot = np.concatenate([y_tot.index.get_level_values(0).map(lambda x: phen_mapper[x]).values[:, np.newaxis],\n",
    "                            y_tot.index.get_level_values(1).map(lambda x: phen_mapper[x]).values[:, np.newaxis]],\n",
    "                           axis=1)\n",
    "\n",
    "    transformer = PolynomialFeatures()\n",
    "    model = make_pipeline(PolynomialFeatures(), LinearRegression())\n",
    "    model.fit(X, y)\n",
    "\n",
    "    delta = pd.Series(y_tot - model.predict(X_tot), index=y_tot.index)\n",
    "    raws = pd.Series(y_tot, index=y_tot.index).unstack()\n",
    "    delta = delta.unstack()\n",
    "\n",
    "    return delta, X, X_tot, y, y_tot, model, raws\n",
    "\n",
    "def upper_triangle(M, k=1):\n",
    "    \"\"\" Copyright (C) 2019  Thomas Norman\n",
    "    Return the upper triangular part of a matrix in stacked format (i.e. as a vector)\n",
    "    \"\"\"\n",
    "    keep = np.triu(np.ones(M.shape), k=k).astype('bool').reshape(M.size)\n",
    "    return M.stack(dropna=False).loc[keep]\n",
    "\n",
    "def get_masked_data(df, ind, mean_normalize=False):\n",
    "    masked_data = df.copy().values\n",
    "    mask = pd.DataFrame(0, index=df.index, columns=df.columns)\n",
    "\n",
    "    for gene1, gene2 in ind:\n",
    "        mask.loc[gene1, gene2] = 1\n",
    "\n",
    "        # assume DataFrame is symmetric\n",
    "    mask = mask + mask.T\n",
    "    mask = (mask != 0).values\n",
    "    masked_data[~mask] = 0\n",
    "    masked_data_df = pd.DataFrame(masked_data, index=df.index, columns=df.columns)\n",
    "\n",
    "    # whether to center the observed entries such that the overall mean is 0\n",
    "    if mean_normalize:\n",
    "        masked_data_df = masked_data_df.stack()\n",
    "        offset = masked_data_df[masked_data_df != 0]\n",
    "        offset = offset.mean()\n",
    "        masked_data_df[masked_data_df != 0] = masked_data_df[masked_data_df != 0] - offset\n",
    "        print(offset)\n",
    "        masked_data_df = masked_data_df.unstack()\n",
    "\n",
    "    return masked_data_df, mask"
   ]
  },
  {
   "cell_type": "code",
   "execution_count": null,
   "metadata": {},
   "outputs": [
    {
     "name": "stderr",
     "output_type": "stream",
     "text": [
      "100%|███████████████████████████████████████████████████████████| 4278/4278 [00:43<00:00, 97.97it/s]\n"
     ]
    },
    {
     "name": "stdout",
     "output_type": "stream",
     "text": [
      "Start Training...\n"
     ]
    },
    {
     "name": "stderr",
     "output_type": "stream",
     "text": [
      "  4%|██▋                                                         | 202/4553 [00:14<04:58, 14.59it/s]"
     ]
    },
    {
     "name": "stdout",
     "output_type": "stream",
     "text": [
      "Epoch 1 Step 201 Train Loss: 0.6081\n"
     ]
    },
    {
     "name": "stderr",
     "output_type": "stream",
     "text": [
      "  9%|█████▎                                                      | 402/4553 [00:28<04:44, 14.60it/s]"
     ]
    },
    {
     "name": "stdout",
     "output_type": "stream",
     "text": [
      "Epoch 1 Step 401 Train Loss: 0.3582\n"
     ]
    },
    {
     "name": "stderr",
     "output_type": "stream",
     "text": [
      " 13%|███████▉                                                    | 602/4553 [00:41<04:23, 14.99it/s]"
     ]
    },
    {
     "name": "stdout",
     "output_type": "stream",
     "text": [
      "Epoch 1 Step 601 Train Loss: 0.2124\n"
     ]
    },
    {
     "name": "stderr",
     "output_type": "stream",
     "text": [
      " 18%|██████████▌                                                 | 804/4553 [00:55<04:15, 14.67it/s]"
     ]
    },
    {
     "name": "stdout",
     "output_type": "stream",
     "text": [
      "Epoch 1 Step 801 Train Loss: 0.1102\n"
     ]
    },
    {
     "name": "stderr",
     "output_type": "stream",
     "text": [
      " 22%|█████████████                                              | 1004/4553 [01:09<03:38, 16.25it/s]"
     ]
    },
    {
     "name": "stdout",
     "output_type": "stream",
     "text": [
      "Epoch 1 Step 1001 Train Loss: 0.0540\n"
     ]
    },
    {
     "name": "stderr",
     "output_type": "stream",
     "text": [
      " 26%|███████████████▌                                           | 1202/4553 [01:23<03:45, 14.86it/s]"
     ]
    },
    {
     "name": "stdout",
     "output_type": "stream",
     "text": [
      "Epoch 1 Step 1201 Train Loss: 0.0233\n"
     ]
    },
    {
     "name": "stderr",
     "output_type": "stream",
     "text": [
      " 31%|██████████████████▏                                        | 1402/4553 [01:37<03:40, 14.31it/s]"
     ]
    },
    {
     "name": "stdout",
     "output_type": "stream",
     "text": [
      "Epoch 1 Step 1401 Train Loss: 0.0089\n"
     ]
    },
    {
     "name": "stderr",
     "output_type": "stream",
     "text": [
      " 35%|████████████████████▊                                      | 1602/4553 [01:50<03:21, 14.62it/s]"
     ]
    },
    {
     "name": "stdout",
     "output_type": "stream",
     "text": [
      "Epoch 1 Step 1601 Train Loss: 0.0053\n"
     ]
    },
    {
     "name": "stderr",
     "output_type": "stream",
     "text": [
      " 40%|███████████████████████▎                                   | 1802/4553 [02:04<03:12, 14.29it/s]"
     ]
    },
    {
     "name": "stdout",
     "output_type": "stream",
     "text": [
      "Epoch 1 Step 1801 Train Loss: 0.0016\n"
     ]
    },
    {
     "name": "stderr",
     "output_type": "stream",
     "text": [
      " 44%|█████████████████████████▉                                 | 2004/4553 [02:18<03:04, 13.81it/s]"
     ]
    },
    {
     "name": "stdout",
     "output_type": "stream",
     "text": [
      "Epoch 1 Step 2001 Train Loss: 0.0022\n"
     ]
    },
    {
     "name": "stderr",
     "output_type": "stream",
     "text": [
      " 48%|████████████████████████████▌                              | 2202/4553 [02:32<02:53, 13.54it/s]"
     ]
    },
    {
     "name": "stdout",
     "output_type": "stream",
     "text": [
      "Epoch 1 Step 2201 Train Loss: 0.0016\n"
     ]
    },
    {
     "name": "stderr",
     "output_type": "stream",
     "text": [
      " 53%|███████████████████████████████▏                           | 2402/4553 [02:48<03:54,  9.19it/s]"
     ]
    },
    {
     "name": "stdout",
     "output_type": "stream",
     "text": [
      "Epoch 1 Step 2401 Train Loss: 0.0026\n"
     ]
    },
    {
     "name": "stderr",
     "output_type": "stream",
     "text": [
      " 57%|█████████████████████████████████▋                         | 2602/4553 [03:02<02:12, 14.74it/s]"
     ]
    },
    {
     "name": "stdout",
     "output_type": "stream",
     "text": [
      "Epoch 1 Step 2601 Train Loss: 0.0020\n"
     ]
    },
    {
     "name": "stderr",
     "output_type": "stream",
     "text": [
      " 62%|████████████████████████████████████▎                      | 2802/4553 [03:16<02:03, 14.13it/s]"
     ]
    },
    {
     "name": "stdout",
     "output_type": "stream",
     "text": [
      "Epoch 1 Step 2801 Train Loss: 0.0014\n"
     ]
    },
    {
     "name": "stderr",
     "output_type": "stream",
     "text": [
      " 66%|██████████████████████████████████████▉                    | 3004/4553 [03:30<01:44, 14.84it/s]"
     ]
    },
    {
     "name": "stdout",
     "output_type": "stream",
     "text": [
      "Epoch 1 Step 3001 Train Loss: 0.0012\n"
     ]
    },
    {
     "name": "stderr",
     "output_type": "stream",
     "text": [
      " 70%|█████████████████████████████████████████▍                 | 3202/4553 [03:44<01:33, 14.45it/s]"
     ]
    },
    {
     "name": "stdout",
     "output_type": "stream",
     "text": [
      "Epoch 1 Step 3201 Train Loss: 0.0019\n"
     ]
    },
    {
     "name": "stderr",
     "output_type": "stream",
     "text": [
      " 75%|████████████████████████████████████████████               | 3402/4553 [03:57<01:19, 14.51it/s]"
     ]
    },
    {
     "name": "stdout",
     "output_type": "stream",
     "text": [
      "Epoch 1 Step 3401 Train Loss: 0.0018\n"
     ]
    },
    {
     "name": "stderr",
     "output_type": "stream",
     "text": [
      " 79%|██████████████████████████████████████████████▋            | 3602/4553 [04:11<01:06, 14.28it/s]"
     ]
    },
    {
     "name": "stdout",
     "output_type": "stream",
     "text": [
      "Epoch 1 Step 3601 Train Loss: 0.0047\n"
     ]
    },
    {
     "name": "stderr",
     "output_type": "stream",
     "text": [
      " 84%|█████████████████████████████████████████████████▎         | 3802/4553 [04:25<00:53, 14.15it/s]"
     ]
    },
    {
     "name": "stdout",
     "output_type": "stream",
     "text": [
      "Epoch 1 Step 3801 Train Loss: 0.0009\n"
     ]
    },
    {
     "name": "stderr",
     "output_type": "stream",
     "text": [
      " 88%|███████████████████████████████████████████████████▊       | 4002/4553 [04:39<00:39, 14.13it/s]"
     ]
    },
    {
     "name": "stdout",
     "output_type": "stream",
     "text": [
      "Epoch 1 Step 4001 Train Loss: 0.0015\n"
     ]
    },
    {
     "name": "stderr",
     "output_type": "stream",
     "text": [
      " 92%|██████████████████████████████████████████████████████▍    | 4204/4553 [04:53<00:23, 14.99it/s]"
     ]
    },
    {
     "name": "stdout",
     "output_type": "stream",
     "text": [
      "Epoch 1 Step 4201 Train Loss: 0.0017\n"
     ]
    },
    {
     "name": "stderr",
     "output_type": "stream",
     "text": [
      " 97%|█████████████████████████████████████████████████████████  | 4402/4553 [05:07<00:10, 14.51it/s]"
     ]
    },
    {
     "name": "stdout",
     "output_type": "stream",
     "text": [
      "Epoch 1 Step 4401 Train Loss: 0.0007\n"
     ]
    },
    {
     "name": "stderr",
     "output_type": "stream",
     "text": [
      "100%|███████████████████████████████████████████████████████████| 4553/4553 [05:18<00:00, 14.30it/s]\n",
      "100%|█████████████████████████████████████████████████████████████| 488/488 [00:10<00:00, 48.08it/s]\n",
      "100%|███████████████████████████████████████████████████████████| 7197/7197 [02:41<00:00, 44.64it/s]\n"
     ]
    },
    {
     "name": "stdout",
     "output_type": "stream",
     "text": [
      "0.007592158371939919\n"
     ]
    },
    {
     "name": "stderr",
     "output_type": "stream",
     "text": [
      "100%|███████████████████████████████████████████████████████████| 4278/4278 [00:44<00:00, 96.11it/s]\n"
     ]
    },
    {
     "name": "stdout",
     "output_type": "stream",
     "text": [
      "Start Training...\n"
     ]
    },
    {
     "name": "stderr",
     "output_type": "stream",
     "text": [
      "  4%|██▋                                                         | 201/4553 [00:14<06:57, 10.43it/s]"
     ]
    },
    {
     "name": "stdout",
     "output_type": "stream",
     "text": [
      "Epoch 1 Step 201 Train Loss: 0.0215\n"
     ]
    },
    {
     "name": "stderr",
     "output_type": "stream",
     "text": [
      "  9%|█████▎                                                      | 402/4553 [00:30<04:46, 14.47it/s]"
     ]
    },
    {
     "name": "stdout",
     "output_type": "stream",
     "text": [
      "Epoch 1 Step 401 Train Loss: 0.0074\n"
     ]
    },
    {
     "name": "stderr",
     "output_type": "stream",
     "text": [
      " 13%|███████▉                                                    | 602/4553 [00:44<04:27, 14.78it/s]"
     ]
    },
    {
     "name": "stdout",
     "output_type": "stream",
     "text": [
      "Epoch 1 Step 601 Train Loss: 0.0035\n"
     ]
    },
    {
     "name": "stderr",
     "output_type": "stream",
     "text": [
      " 18%|██████████▌                                                 | 804/4553 [00:58<04:13, 14.79it/s]"
     ]
    },
    {
     "name": "stdout",
     "output_type": "stream",
     "text": [
      "Epoch 1 Step 801 Train Loss: 0.0022\n"
     ]
    },
    {
     "name": "stderr",
     "output_type": "stream",
     "text": [
      " 22%|████████████▉                                              | 1002/4553 [01:11<04:04, 14.51it/s]"
     ]
    },
    {
     "name": "stdout",
     "output_type": "stream",
     "text": [
      "Epoch 1 Step 1001 Train Loss: 0.0035\n"
     ]
    },
    {
     "name": "stderr",
     "output_type": "stream",
     "text": [
      " 26%|███████████████▌                                           | 1202/4553 [01:25<03:52, 14.43it/s]"
     ]
    },
    {
     "name": "stdout",
     "output_type": "stream",
     "text": [
      "Epoch 1 Step 1201 Train Loss: 0.0018\n"
     ]
    },
    {
     "name": "stderr",
     "output_type": "stream",
     "text": [
      " 31%|██████████████████▏                                        | 1402/4553 [01:39<03:37, 14.48it/s]"
     ]
    },
    {
     "name": "stdout",
     "output_type": "stream",
     "text": [
      "Epoch 1 Step 1401 Train Loss: 0.0018\n"
     ]
    },
    {
     "name": "stderr",
     "output_type": "stream",
     "text": [
      " 35%|████████████████████▊                                      | 1602/4553 [01:54<04:58,  9.88it/s]"
     ]
    },
    {
     "name": "stdout",
     "output_type": "stream",
     "text": [
      "Epoch 1 Step 1601 Train Loss: 0.0028\n"
     ]
    },
    {
     "name": "stderr",
     "output_type": "stream",
     "text": [
      " 40%|███████████████████████▎                                   | 1802/4553 [02:08<03:10, 14.43it/s]"
     ]
    },
    {
     "name": "stdout",
     "output_type": "stream",
     "text": [
      "Epoch 1 Step 1801 Train Loss: 0.0015\n"
     ]
    },
    {
     "name": "stderr",
     "output_type": "stream",
     "text": [
      " 44%|█████████████████████████▉                                 | 2004/4553 [02:22<02:52, 14.82it/s]"
     ]
    },
    {
     "name": "stdout",
     "output_type": "stream",
     "text": [
      "Epoch 1 Step 2001 Train Loss: 0.0048\n"
     ]
    },
    {
     "name": "stderr",
     "output_type": "stream",
     "text": [
      " 48%|████████████████████████████▌                              | 2202/4553 [02:36<02:48, 13.94it/s]"
     ]
    },
    {
     "name": "stdout",
     "output_type": "stream",
     "text": [
      "Epoch 1 Step 2201 Train Loss: 0.0042\n"
     ]
    },
    {
     "name": "stderr",
     "output_type": "stream",
     "text": [
      " 53%|███████████████████████████████▏                           | 2402/4553 [02:49<02:27, 14.60it/s]"
     ]
    },
    {
     "name": "stdout",
     "output_type": "stream",
     "text": [
      "Epoch 1 Step 2401 Train Loss: 0.0042\n"
     ]
    },
    {
     "name": "stderr",
     "output_type": "stream",
     "text": [
      " 57%|█████████████████████████████████▋                         | 2602/4553 [03:03<02:16, 14.25it/s]"
     ]
    },
    {
     "name": "stdout",
     "output_type": "stream",
     "text": [
      "Epoch 1 Step 2601 Train Loss: 0.0028\n"
     ]
    },
    {
     "name": "stderr",
     "output_type": "stream",
     "text": [
      " 62%|████████████████████████████████████▎                      | 2802/4553 [03:17<02:01, 14.38it/s]"
     ]
    },
    {
     "name": "stdout",
     "output_type": "stream",
     "text": [
      "Epoch 1 Step 2801 Train Loss: 0.0041\n"
     ]
    },
    {
     "name": "stderr",
     "output_type": "stream",
     "text": [
      " 66%|██████████████████████████████████████▉                    | 3002/4553 [03:31<02:02, 12.69it/s]"
     ]
    },
    {
     "name": "stdout",
     "output_type": "stream",
     "text": [
      "Epoch 1 Step 3001 Train Loss: 0.0019\n"
     ]
    },
    {
     "name": "stderr",
     "output_type": "stream",
     "text": [
      " 70%|█████████████████████████████████████████▌                 | 3203/4553 [03:47<01:51, 12.14it/s]"
     ]
    },
    {
     "name": "stdout",
     "output_type": "stream",
     "text": [
      "Epoch 1 Step 3201 Train Loss: 0.0038\n"
     ]
    },
    {
     "name": "stderr",
     "output_type": "stream",
     "text": [
      " 75%|████████████████████████████████████████████               | 3403/4553 [04:04<01:44, 11.02it/s]"
     ]
    },
    {
     "name": "stdout",
     "output_type": "stream",
     "text": [
      "Epoch 1 Step 3401 Train Loss: 0.0030\n"
     ]
    },
    {
     "name": "stderr",
     "output_type": "stream",
     "text": [
      " 79%|██████████████████████████████████████████████▋            | 3602/4553 [04:20<01:07, 14.16it/s]"
     ]
    },
    {
     "name": "stdout",
     "output_type": "stream",
     "text": [
      "Epoch 1 Step 3601 Train Loss: 0.0052\n"
     ]
    },
    {
     "name": "stderr",
     "output_type": "stream",
     "text": [
      " 84%|█████████████████████████████████████████████████▎         | 3802/4553 [04:35<01:05, 11.44it/s]"
     ]
    },
    {
     "name": "stdout",
     "output_type": "stream",
     "text": [
      "Epoch 1 Step 3801 Train Loss: 0.0018\n"
     ]
    },
    {
     "name": "stderr",
     "output_type": "stream",
     "text": [
      " 88%|███████████████████████████████████████████████████▊       | 4002/4553 [04:52<00:44, 12.50it/s]"
     ]
    },
    {
     "name": "stdout",
     "output_type": "stream",
     "text": [
      "Epoch 1 Step 4001 Train Loss: 0.0026\n"
     ]
    },
    {
     "name": "stderr",
     "output_type": "stream",
     "text": [
      " 92%|██████████████████████████████████████████████████████▍    | 4202/4553 [05:08<00:27, 12.90it/s]"
     ]
    },
    {
     "name": "stdout",
     "output_type": "stream",
     "text": [
      "Epoch 1 Step 4201 Train Loss: 0.0032\n"
     ]
    },
    {
     "name": "stderr",
     "output_type": "stream",
     "text": [
      " 97%|█████████████████████████████████████████████████████████  | 4402/4553 [05:24<00:10, 14.10it/s]"
     ]
    },
    {
     "name": "stdout",
     "output_type": "stream",
     "text": [
      "Epoch 1 Step 4401 Train Loss: 0.0026\n"
     ]
    },
    {
     "name": "stderr",
     "output_type": "stream",
     "text": [
      "100%|███████████████████████████████████████████████████████████| 4553/4553 [05:35<00:00, 13.58it/s]\n",
      "100%|█████████████████████████████████████████████████████████████| 488/488 [00:10<00:00, 45.18it/s]\n",
      "100%|███████████████████████████████████████████████████████████| 7197/7197 [03:25<00:00, 35.07it/s]\n"
     ]
    },
    {
     "name": "stdout",
     "output_type": "stream",
     "text": [
      "0.002742216462912796\n"
     ]
    },
    {
     "name": "stderr",
     "output_type": "stream",
     "text": [
      "100%|███████████████████████████████████████████████████████████| 4278/4278 [00:47<00:00, 90.27it/s]\n"
     ]
    },
    {
     "name": "stdout",
     "output_type": "stream",
     "text": [
      "Start Training...\n"
     ]
    },
    {
     "name": "stderr",
     "output_type": "stream",
     "text": [
      "  4%|██▏                                                         | 204/5640 [00:14<06:24, 14.15it/s]"
     ]
    },
    {
     "name": "stdout",
     "output_type": "stream",
     "text": [
      "Epoch 1 Step 201 Train Loss: 0.0345\n"
     ]
    },
    {
     "name": "stderr",
     "output_type": "stream",
     "text": [
      "  7%|████▎                                                       | 402/5640 [00:28<06:00, 14.54it/s]"
     ]
    },
    {
     "name": "stdout",
     "output_type": "stream",
     "text": [
      "Epoch 1 Step 401 Train Loss: 0.0072\n"
     ]
    },
    {
     "name": "stderr",
     "output_type": "stream",
     "text": [
      " 11%|██████▍                                                     | 602/5640 [00:42<05:55, 14.18it/s]"
     ]
    },
    {
     "name": "stdout",
     "output_type": "stream",
     "text": [
      "Epoch 1 Step 601 Train Loss: 0.0020\n"
     ]
    },
    {
     "name": "stderr",
     "output_type": "stream",
     "text": [
      " 14%|████████▌                                                   | 804/5640 [00:56<05:31, 14.57it/s]"
     ]
    },
    {
     "name": "stdout",
     "output_type": "stream",
     "text": [
      "Epoch 1 Step 801 Train Loss: 0.0037\n"
     ]
    },
    {
     "name": "stderr",
     "output_type": "stream",
     "text": [
      " 18%|██████████▍                                                | 1002/5640 [01:11<06:30, 11.89it/s]"
     ]
    },
    {
     "name": "stdout",
     "output_type": "stream",
     "text": [
      "Epoch 1 Step 1001 Train Loss: 0.0012\n"
     ]
    },
    {
     "name": "stderr",
     "output_type": "stream",
     "text": [
      " 21%|████████████▌                                              | 1202/5640 [01:27<05:50, 12.66it/s]"
     ]
    },
    {
     "name": "stdout",
     "output_type": "stream",
     "text": [
      "Epoch 1 Step 1201 Train Loss: 0.0016\n"
     ]
    },
    {
     "name": "stderr",
     "output_type": "stream",
     "text": [
      " 25%|██████████████▋                                            | 1402/5640 [01:43<05:42, 12.37it/s]"
     ]
    },
    {
     "name": "stdout",
     "output_type": "stream",
     "text": [
      "Epoch 1 Step 1401 Train Loss: 0.0018\n"
     ]
    },
    {
     "name": "stderr",
     "output_type": "stream",
     "text": [
      " 28%|████████████████▊                                          | 1604/5640 [01:59<04:49, 13.94it/s]"
     ]
    },
    {
     "name": "stdout",
     "output_type": "stream",
     "text": [
      "Epoch 1 Step 1601 Train Loss: 0.0024\n"
     ]
    },
    {
     "name": "stderr",
     "output_type": "stream",
     "text": [
      " 32%|██████████████████▊                                        | 1802/5640 [02:15<04:52, 13.12it/s]"
     ]
    },
    {
     "name": "stdout",
     "output_type": "stream",
     "text": [
      "Epoch 1 Step 1801 Train Loss: 0.0014\n"
     ]
    },
    {
     "name": "stderr",
     "output_type": "stream",
     "text": [
      " 35%|████████████████████▉                                      | 2002/5640 [02:31<04:38, 13.09it/s]"
     ]
    },
    {
     "name": "stdout",
     "output_type": "stream",
     "text": [
      "Epoch 1 Step 2001 Train Loss: 0.0027\n"
     ]
    },
    {
     "name": "stderr",
     "output_type": "stream",
     "text": [
      " 39%|███████████████████████                                    | 2202/5640 [02:45<04:16, 13.41it/s]"
     ]
    },
    {
     "name": "stdout",
     "output_type": "stream",
     "text": [
      "Epoch 1 Step 2201 Train Loss: 0.0018\n"
     ]
    },
    {
     "name": "stderr",
     "output_type": "stream",
     "text": [
      " 43%|█████████████████████████▏                                 | 2402/5640 [02:59<03:59, 13.51it/s]"
     ]
    },
    {
     "name": "stdout",
     "output_type": "stream",
     "text": [
      "Epoch 1 Step 2401 Train Loss: 0.0014\n"
     ]
    },
    {
     "name": "stderr",
     "output_type": "stream",
     "text": [
      " 46%|███████████████████████████▏                               | 2602/5640 [03:13<03:44, 13.51it/s]"
     ]
    },
    {
     "name": "stdout",
     "output_type": "stream",
     "text": [
      "Epoch 1 Step 2601 Train Loss: 0.0028\n"
     ]
    },
    {
     "name": "stderr",
     "output_type": "stream",
     "text": [
      " 50%|█████████████████████████████▎                             | 2802/5640 [03:28<03:18, 14.29it/s]"
     ]
    },
    {
     "name": "stdout",
     "output_type": "stream",
     "text": [
      "Epoch 1 Step 2801 Train Loss: 0.0018\n"
     ]
    },
    {
     "name": "stderr",
     "output_type": "stream",
     "text": [
      " 53%|███████████████████████████████▍                           | 3002/5640 [03:42<03:02, 14.42it/s]"
     ]
    },
    {
     "name": "stdout",
     "output_type": "stream",
     "text": [
      "Epoch 1 Step 3001 Train Loss: 0.0034\n"
     ]
    },
    {
     "name": "stderr",
     "output_type": "stream",
     "text": [
      " 57%|█████████████████████████████████▍                         | 3202/5640 [03:56<03:08, 12.92it/s]"
     ]
    },
    {
     "name": "stdout",
     "output_type": "stream",
     "text": [
      "Epoch 1 Step 3201 Train Loss: 0.0018\n"
     ]
    },
    {
     "name": "stderr",
     "output_type": "stream",
     "text": [
      " 60%|███████████████████████████████████▌                       | 3402/5640 [04:12<03:01, 12.32it/s]"
     ]
    },
    {
     "name": "stdout",
     "output_type": "stream",
     "text": [
      "Epoch 1 Step 3401 Train Loss: 0.0034\n"
     ]
    },
    {
     "name": "stderr",
     "output_type": "stream",
     "text": [
      " 64%|█████████████████████████████████████▋                     | 3602/5640 [04:27<02:32, 13.39it/s]"
     ]
    },
    {
     "name": "stdout",
     "output_type": "stream",
     "text": [
      "Epoch 1 Step 3601 Train Loss: 0.0021\n"
     ]
    },
    {
     "name": "stderr",
     "output_type": "stream",
     "text": [
      " 67%|███████████████████████████████████████▊                   | 3802/5640 [04:43<02:15, 13.61it/s]"
     ]
    },
    {
     "name": "stdout",
     "output_type": "stream",
     "text": [
      "Epoch 1 Step 3801 Train Loss: 0.0021\n"
     ]
    },
    {
     "name": "stderr",
     "output_type": "stream",
     "text": [
      " 71%|█████████████████████████████████████████▊                 | 4002/5640 [04:59<02:08, 12.74it/s]"
     ]
    },
    {
     "name": "stdout",
     "output_type": "stream",
     "text": [
      "Epoch 1 Step 4001 Train Loss: 0.0018\n"
     ]
    },
    {
     "name": "stderr",
     "output_type": "stream",
     "text": [
      " 75%|███████████████████████████████████████████▉               | 4202/5640 [05:14<01:54, 12.54it/s]"
     ]
    },
    {
     "name": "stdout",
     "output_type": "stream",
     "text": [
      "Epoch 1 Step 4201 Train Loss: 0.0024\n"
     ]
    },
    {
     "name": "stderr",
     "output_type": "stream",
     "text": [
      " 78%|██████████████████████████████████████████████             | 4402/5640 [05:30<01:39, 12.43it/s]"
     ]
    },
    {
     "name": "stdout",
     "output_type": "stream",
     "text": [
      "Epoch 1 Step 4401 Train Loss: 0.0015\n"
     ]
    },
    {
     "name": "stderr",
     "output_type": "stream",
     "text": [
      " 82%|████████████████████████████████████████████████▏          | 4602/5640 [05:46<01:12, 14.32it/s]"
     ]
    },
    {
     "name": "stdout",
     "output_type": "stream",
     "text": [
      "Epoch 1 Step 4601 Train Loss: 0.0012\n"
     ]
    },
    {
     "name": "stderr",
     "output_type": "stream",
     "text": [
      " 85%|██████████████████████████████████████████████████▏        | 4802/5640 [06:02<01:05, 12.80it/s]"
     ]
    },
    {
     "name": "stdout",
     "output_type": "stream",
     "text": [
      "Epoch 1 Step 4801 Train Loss: 0.0026\n"
     ]
    },
    {
     "name": "stderr",
     "output_type": "stream",
     "text": [
      " 89%|████████████████████████████████████████████████████▎      | 5002/5640 [06:18<00:56, 11.34it/s]"
     ]
    },
    {
     "name": "stdout",
     "output_type": "stream",
     "text": [
      "Epoch 1 Step 5001 Train Loss: 0.0014\n"
     ]
    },
    {
     "name": "stderr",
     "output_type": "stream",
     "text": [
      " 92%|██████████████████████████████████████████████████████▍    | 5202/5640 [06:32<00:30, 14.49it/s]"
     ]
    },
    {
     "name": "stdout",
     "output_type": "stream",
     "text": [
      "Epoch 1 Step 5201 Train Loss: 0.0027\n"
     ]
    },
    {
     "name": "stderr",
     "output_type": "stream",
     "text": [
      " 96%|████████████████████████████████████████████████████████▌  | 5402/5640 [06:47<00:16, 14.11it/s]"
     ]
    },
    {
     "name": "stdout",
     "output_type": "stream",
     "text": [
      "Epoch 1 Step 5401 Train Loss: 0.0016\n"
     ]
    },
    {
     "name": "stderr",
     "output_type": "stream",
     "text": [
      " 99%|██████████████████████████████████████████████████████████▌| 5602/5640 [07:01<00:02, 14.21it/s]"
     ]
    },
    {
     "name": "stdout",
     "output_type": "stream",
     "text": [
      "Epoch 1 Step 5601 Train Loss: 0.0021\n"
     ]
    },
    {
     "name": "stderr",
     "output_type": "stream",
     "text": [
      "100%|███████████████████████████████████████████████████████████| 5640/5640 [07:04<00:00, 13.29it/s]\n",
      "100%|█████████████████████████████████████████████████████████████| 607/607 [00:17<00:00, 35.06it/s]\n",
      "100%|███████████████████████████████████████████████████████████| 5991/5991 [02:56<00:00, 33.93it/s]\n"
     ]
    },
    {
     "name": "stdout",
     "output_type": "stream",
     "text": [
      "0.003224546757397959\n"
     ]
    },
    {
     "name": "stderr",
     "output_type": "stream",
     "text": [
      "100%|███████████████████████████████████████████████████████████| 4278/4278 [00:45<00:00, 93.80it/s]\n"
     ]
    },
    {
     "name": "stdout",
     "output_type": "stream",
     "text": [
      "Start Training...\n"
     ]
    },
    {
     "name": "stderr",
     "output_type": "stream",
     "text": [
      "  4%|██▏                                                         | 202/5640 [00:14<06:47, 13.33it/s]"
     ]
    },
    {
     "name": "stdout",
     "output_type": "stream",
     "text": [
      "Epoch 1 Step 201 Train Loss: 0.0397\n"
     ]
    },
    {
     "name": "stderr",
     "output_type": "stream",
     "text": [
      "  7%|████▎                                                       | 402/5640 [00:28<06:13, 14.04it/s]"
     ]
    },
    {
     "name": "stdout",
     "output_type": "stream",
     "text": [
      "Epoch 1 Step 401 Train Loss: 0.0087\n"
     ]
    },
    {
     "name": "stderr",
     "output_type": "stream",
     "text": [
      " 11%|██████▍                                                     | 602/5640 [00:42<06:07, 13.72it/s]"
     ]
    },
    {
     "name": "stdout",
     "output_type": "stream",
     "text": [
      "Epoch 1 Step 601 Train Loss: 0.0023\n"
     ]
    },
    {
     "name": "stderr",
     "output_type": "stream",
     "text": [
      " 14%|████████▌                                                   | 802/5640 [00:56<05:34, 14.45it/s]"
     ]
    },
    {
     "name": "stdout",
     "output_type": "stream",
     "text": [
      "Epoch 1 Step 801 Train Loss: 0.0064\n"
     ]
    },
    {
     "name": "stderr",
     "output_type": "stream",
     "text": [
      " 18%|██████████▌                                                | 1004/5640 [01:10<04:59, 15.46it/s]"
     ]
    },
    {
     "name": "stdout",
     "output_type": "stream",
     "text": [
      "Epoch 1 Step 1001 Train Loss: 0.0027\n"
     ]
    },
    {
     "name": "stderr",
     "output_type": "stream",
     "text": [
      " 21%|████████████▌                                              | 1202/5640 [01:24<05:12, 14.21it/s]"
     ]
    },
    {
     "name": "stdout",
     "output_type": "stream",
     "text": [
      "Epoch 1 Step 1201 Train Loss: 0.0029\n"
     ]
    },
    {
     "name": "stderr",
     "output_type": "stream",
     "text": [
      " 25%|██████████████▋                                            | 1402/5640 [01:40<05:49, 12.12it/s]"
     ]
    },
    {
     "name": "stdout",
     "output_type": "stream",
     "text": [
      "Epoch 1 Step 1401 Train Loss: 0.0026\n"
     ]
    },
    {
     "name": "stderr",
     "output_type": "stream",
     "text": [
      " 28%|████████████████▊                                          | 1602/5640 [01:55<05:03, 13.30it/s]"
     ]
    },
    {
     "name": "stdout",
     "output_type": "stream",
     "text": [
      "Epoch 1 Step 1601 Train Loss: 0.0031\n"
     ]
    },
    {
     "name": "stderr",
     "output_type": "stream",
     "text": [
      " 32%|██████████████████▊                                        | 1802/5640 [02:10<05:08, 12.44it/s]"
     ]
    },
    {
     "name": "stdout",
     "output_type": "stream",
     "text": [
      "Epoch 1 Step 1801 Train Loss: 0.0036\n"
     ]
    },
    {
     "name": "stderr",
     "output_type": "stream",
     "text": [
      " 35%|████████████████████▉                                      | 2002/5640 [02:27<05:07, 11.83it/s]"
     ]
    },
    {
     "name": "stdout",
     "output_type": "stream",
     "text": [
      "Epoch 1 Step 2001 Train Loss: 0.0033\n"
     ]
    },
    {
     "name": "stderr",
     "output_type": "stream",
     "text": [
      " 39%|███████████████████████                                    | 2202/5640 [02:43<04:41, 12.22it/s]"
     ]
    },
    {
     "name": "stdout",
     "output_type": "stream",
     "text": [
      "Epoch 1 Step 2201 Train Loss: 0.0015\n"
     ]
    },
    {
     "name": "stderr",
     "output_type": "stream",
     "text": [
      " 43%|█████████████████████████▏                                 | 2402/5640 [02:59<04:25, 12.19it/s]"
     ]
    },
    {
     "name": "stdout",
     "output_type": "stream",
     "text": [
      "Epoch 1 Step 2401 Train Loss: 0.0041\n"
     ]
    },
    {
     "name": "stderr",
     "output_type": "stream",
     "text": [
      " 46%|███████████████████████████▏                               | 2602/5640 [03:15<04:11, 12.06it/s]"
     ]
    },
    {
     "name": "stdout",
     "output_type": "stream",
     "text": [
      "Epoch 1 Step 2601 Train Loss: 0.0042\n"
     ]
    },
    {
     "name": "stderr",
     "output_type": "stream",
     "text": [
      " 50%|█████████████████████████████▎                             | 2802/5640 [03:30<03:43, 12.69it/s]"
     ]
    },
    {
     "name": "stdout",
     "output_type": "stream",
     "text": [
      "Epoch 1 Step 2801 Train Loss: 0.0024\n"
     ]
    },
    {
     "name": "stderr",
     "output_type": "stream",
     "text": [
      " 53%|███████████████████████████████▍                           | 3002/5640 [03:47<03:30, 12.53it/s]"
     ]
    },
    {
     "name": "stdout",
     "output_type": "stream",
     "text": [
      "Epoch 1 Step 3001 Train Loss: 0.0029\n"
     ]
    },
    {
     "name": "stderr",
     "output_type": "stream",
     "text": [
      " 57%|█████████████████████████████████▍                         | 3202/5640 [04:03<03:10, 12.78it/s]"
     ]
    },
    {
     "name": "stdout",
     "output_type": "stream",
     "text": [
      "Epoch 1 Step 3201 Train Loss: 0.0059\n"
     ]
    },
    {
     "name": "stderr",
     "output_type": "stream",
     "text": [
      " 60%|███████████████████████████████████▌                       | 3402/5640 [04:19<02:44, 13.64it/s]"
     ]
    },
    {
     "name": "stdout",
     "output_type": "stream",
     "text": [
      "Epoch 1 Step 3401 Train Loss: 0.0014\n"
     ]
    },
    {
     "name": "stderr",
     "output_type": "stream",
     "text": [
      " 64%|█████████████████████████████████████▋                     | 3602/5640 [04:34<02:25, 14.01it/s]"
     ]
    },
    {
     "name": "stdout",
     "output_type": "stream",
     "text": [
      "Epoch 1 Step 3601 Train Loss: 0.0022\n"
     ]
    },
    {
     "name": "stderr",
     "output_type": "stream",
     "text": [
      " 67%|███████████████████████████████████████▊                   | 3802/5640 [04:48<02:09, 14.21it/s]"
     ]
    },
    {
     "name": "stdout",
     "output_type": "stream",
     "text": [
      "Epoch 1 Step 3801 Train Loss: 0.0016\n"
     ]
    },
    {
     "name": "stderr",
     "output_type": "stream",
     "text": [
      " 71%|█████████████████████████████████████████▊                 | 4002/5640 [05:03<02:01, 13.48it/s]"
     ]
    },
    {
     "name": "stdout",
     "output_type": "stream",
     "text": [
      "Epoch 1 Step 4001 Train Loss: 0.0018\n"
     ]
    },
    {
     "name": "stderr",
     "output_type": "stream",
     "text": [
      " 75%|███████████████████████████████████████████▉               | 4202/5640 [05:17<01:45, 13.64it/s]"
     ]
    },
    {
     "name": "stdout",
     "output_type": "stream",
     "text": [
      "Epoch 1 Step 4201 Train Loss: 0.0018\n"
     ]
    },
    {
     "name": "stderr",
     "output_type": "stream",
     "text": [
      " 78%|██████████████████████████████████████████████             | 4402/5640 [05:32<01:30, 13.62it/s]"
     ]
    },
    {
     "name": "stdout",
     "output_type": "stream",
     "text": [
      "Epoch 1 Step 4401 Train Loss: 0.0018\n"
     ]
    },
    {
     "name": "stderr",
     "output_type": "stream",
     "text": [
      " 82%|████████████████████████████████████████████████▏          | 4602/5640 [05:47<01:30, 11.47it/s]"
     ]
    },
    {
     "name": "stdout",
     "output_type": "stream",
     "text": [
      "Epoch 1 Step 4601 Train Loss: 0.0029\n"
     ]
    },
    {
     "name": "stderr",
     "output_type": "stream",
     "text": [
      " 85%|██████████████████████████████████████████████████▏        | 4802/5640 [06:04<01:05, 12.71it/s]"
     ]
    },
    {
     "name": "stdout",
     "output_type": "stream",
     "text": [
      "Epoch 1 Step 4801 Train Loss: 0.0075\n"
     ]
    },
    {
     "name": "stderr",
     "output_type": "stream",
     "text": [
      " 89%|████████████████████████████████████████████████████▎      | 5002/5640 [06:19<00:45, 13.91it/s]"
     ]
    },
    {
     "name": "stdout",
     "output_type": "stream",
     "text": [
      "Epoch 1 Step 5001 Train Loss: 0.0021\n"
     ]
    },
    {
     "name": "stderr",
     "output_type": "stream",
     "text": [
      " 92%|██████████████████████████████████████████████████████▍    | 5202/5640 [06:33<00:31, 13.80it/s]"
     ]
    },
    {
     "name": "stdout",
     "output_type": "stream",
     "text": [
      "Epoch 1 Step 5201 Train Loss: 0.0045\n"
     ]
    },
    {
     "name": "stderr",
     "output_type": "stream",
     "text": [
      " 96%|████████████████████████████████████████████████████████▌  | 5402/5640 [06:48<00:16, 14.08it/s]"
     ]
    },
    {
     "name": "stdout",
     "output_type": "stream",
     "text": [
      "Epoch 1 Step 5401 Train Loss: 0.0032\n"
     ]
    },
    {
     "name": "stderr",
     "output_type": "stream",
     "text": [
      " 99%|██████████████████████████████████████████████████████████▌| 5602/5640 [07:02<00:02, 13.20it/s]"
     ]
    },
    {
     "name": "stdout",
     "output_type": "stream",
     "text": [
      "Epoch 1 Step 5601 Train Loss: 0.0017\n"
     ]
    },
    {
     "name": "stderr",
     "output_type": "stream",
     "text": [
      "100%|███████████████████████████████████████████████████████████| 5640/5640 [07:05<00:00, 13.24it/s]\n",
      "100%|█████████████████████████████████████████████████████████████| 607/607 [00:19<00:00, 31.93it/s]\n",
      "100%|███████████████████████████████████████████████████████████| 5991/5991 [02:55<00:00, 34.17it/s]\n"
     ]
    },
    {
     "name": "stdout",
     "output_type": "stream",
     "text": [
      "0.005159150773479733\n"
     ]
    },
    {
     "name": "stderr",
     "output_type": "stream",
     "text": [
      "100%|███████████████████████████████████████████████████████████| 4278/4278 [00:43<00:00, 97.58it/s]\n"
     ]
    },
    {
     "name": "stdout",
     "output_type": "stream",
     "text": [
      "Start Training...\n"
     ]
    },
    {
     "name": "stderr",
     "output_type": "stream",
     "text": [
      "  3%|█▊                                                          | 203/6750 [00:14<07:53, 13.84it/s]"
     ]
    },
    {
     "name": "stdout",
     "output_type": "stream",
     "text": [
      "Epoch 1 Step 201 Train Loss: 0.0325\n"
     ]
    },
    {
     "name": "stderr",
     "output_type": "stream",
     "text": [
      "  6%|███▌                                                        | 403/6750 [00:28<07:39, 13.82it/s]"
     ]
    },
    {
     "name": "stdout",
     "output_type": "stream",
     "text": [
      "Epoch 1 Step 401 Train Loss: 0.0063\n"
     ]
    },
    {
     "name": "stderr",
     "output_type": "stream",
     "text": [
      "  9%|█████▎                                                      | 603/6750 [00:43<07:12, 14.20it/s]"
     ]
    },
    {
     "name": "stdout",
     "output_type": "stream",
     "text": [
      "Epoch 1 Step 601 Train Loss: 0.0031\n"
     ]
    },
    {
     "name": "stderr",
     "output_type": "stream",
     "text": [
      " 12%|███████▏                                                    | 803/6750 [00:57<07:28, 13.26it/s]"
     ]
    },
    {
     "name": "stdout",
     "output_type": "stream",
     "text": [
      "Epoch 1 Step 801 Train Loss: 0.0025\n"
     ]
    },
    {
     "name": "stderr",
     "output_type": "stream",
     "text": [
      " 15%|████████▊                                                  | 1003/6750 [01:12<06:52, 13.93it/s]"
     ]
    },
    {
     "name": "stdout",
     "output_type": "stream",
     "text": [
      "Epoch 1 Step 1001 Train Loss: 0.0018\n"
     ]
    },
    {
     "name": "stderr",
     "output_type": "stream",
     "text": [
      " 18%|██████████▌                                                | 1203/6750 [01:28<08:27, 10.93it/s]"
     ]
    },
    {
     "name": "stdout",
     "output_type": "stream",
     "text": [
      "Epoch 1 Step 1201 Train Loss: 0.0016\n"
     ]
    },
    {
     "name": "stderr",
     "output_type": "stream",
     "text": [
      " 21%|████████████▎                                              | 1402/6750 [01:45<06:27, 13.82it/s]"
     ]
    },
    {
     "name": "stdout",
     "output_type": "stream",
     "text": [
      "Epoch 1 Step 1401 Train Loss: 0.0013\n"
     ]
    },
    {
     "name": "stderr",
     "output_type": "stream",
     "text": [
      " 24%|██████████████                                             | 1602/6750 [01:59<06:02, 14.22it/s]"
     ]
    },
    {
     "name": "stdout",
     "output_type": "stream",
     "text": [
      "Epoch 1 Step 1601 Train Loss: 0.0010\n"
     ]
    },
    {
     "name": "stderr",
     "output_type": "stream",
     "text": [
      " 27%|███████████████▊                                           | 1802/6750 [02:13<05:55, 13.91it/s]"
     ]
    },
    {
     "name": "stdout",
     "output_type": "stream",
     "text": [
      "Epoch 1 Step 1801 Train Loss: 0.0007\n"
     ]
    },
    {
     "name": "stderr",
     "output_type": "stream",
     "text": [
      " 30%|█████████████████▍                                         | 2002/6750 [02:28<05:43, 13.81it/s]"
     ]
    },
    {
     "name": "stdout",
     "output_type": "stream",
     "text": [
      "Epoch 1 Step 2001 Train Loss: 0.0014\n"
     ]
    },
    {
     "name": "stderr",
     "output_type": "stream",
     "text": [
      " 33%|███████████████████▏                                       | 2202/6750 [02:42<05:27, 13.89it/s]"
     ]
    },
    {
     "name": "stdout",
     "output_type": "stream",
     "text": [
      "Epoch 1 Step 2201 Train Loss: 0.0025\n"
     ]
    },
    {
     "name": "stderr",
     "output_type": "stream",
     "text": [
      " 36%|████████████████████▉                                      | 2402/6750 [02:57<05:31, 13.11it/s]"
     ]
    },
    {
     "name": "stdout",
     "output_type": "stream",
     "text": [
      "Epoch 1 Step 2401 Train Loss: 0.0015\n"
     ]
    },
    {
     "name": "stderr",
     "output_type": "stream",
     "text": [
      " 39%|██████████████████████▋                                    | 2602/6750 [03:12<05:03, 13.68it/s]"
     ]
    },
    {
     "name": "stdout",
     "output_type": "stream",
     "text": [
      "Epoch 1 Step 2601 Train Loss: 0.0016\n"
     ]
    },
    {
     "name": "stderr",
     "output_type": "stream",
     "text": [
      " 42%|████████████████████████▍                                  | 2802/6750 [03:26<04:34, 14.36it/s]"
     ]
    },
    {
     "name": "stdout",
     "output_type": "stream",
     "text": [
      "Epoch 1 Step 2801 Train Loss: 0.0023\n"
     ]
    },
    {
     "name": "stderr",
     "output_type": "stream",
     "text": [
      " 44%|██████████████████████████▏                                | 3002/6750 [03:41<04:19, 14.44it/s]"
     ]
    },
    {
     "name": "stdout",
     "output_type": "stream",
     "text": [
      "Epoch 1 Step 3001 Train Loss: 0.0022\n"
     ]
    },
    {
     "name": "stderr",
     "output_type": "stream",
     "text": [
      " 47%|███████████████████████████▉                               | 3202/6750 [03:56<05:11, 11.39it/s]"
     ]
    },
    {
     "name": "stdout",
     "output_type": "stream",
     "text": [
      "Epoch 1 Step 3201 Train Loss: 0.0025\n"
     ]
    },
    {
     "name": "stderr",
     "output_type": "stream",
     "text": [
      " 50%|█████████████████████████████▋                             | 3402/6750 [04:12<04:02, 13.83it/s]"
     ]
    },
    {
     "name": "stdout",
     "output_type": "stream",
     "text": [
      "Epoch 1 Step 3401 Train Loss: 0.0012\n"
     ]
    },
    {
     "name": "stderr",
     "output_type": "stream",
     "text": [
      " 53%|███████████████████████████████▍                           | 3602/6750 [04:28<04:26, 11.81it/s]"
     ]
    },
    {
     "name": "stdout",
     "output_type": "stream",
     "text": [
      "Epoch 1 Step 3601 Train Loss: 0.0021\n"
     ]
    },
    {
     "name": "stderr",
     "output_type": "stream",
     "text": [
      " 56%|█████████████████████████████████▏                         | 3802/6750 [04:43<03:28, 14.15it/s]"
     ]
    },
    {
     "name": "stdout",
     "output_type": "stream",
     "text": [
      "Epoch 1 Step 3801 Train Loss: 0.0023\n"
     ]
    },
    {
     "name": "stderr",
     "output_type": "stream",
     "text": [
      " 59%|██████████████████████████████████▉                        | 4002/6750 [04:58<03:15, 14.08it/s]"
     ]
    },
    {
     "name": "stdout",
     "output_type": "stream",
     "text": [
      "Epoch 1 Step 4001 Train Loss: 0.0028\n"
     ]
    },
    {
     "name": "stderr",
     "output_type": "stream",
     "text": [
      " 62%|████████████████████████████████████▋                      | 4202/6750 [05:13<03:12, 13.26it/s]"
     ]
    },
    {
     "name": "stdout",
     "output_type": "stream",
     "text": [
      "Epoch 1 Step 4201 Train Loss: 0.0011\n"
     ]
    },
    {
     "name": "stderr",
     "output_type": "stream",
     "text": [
      " 65%|██████████████████████████████████████▍                    | 4402/6750 [05:28<03:12, 12.21it/s]"
     ]
    },
    {
     "name": "stdout",
     "output_type": "stream",
     "text": [
      "Epoch 1 Step 4401 Train Loss: 0.0041\n"
     ]
    },
    {
     "name": "stderr",
     "output_type": "stream",
     "text": [
      " 66%|███████████████████████████████████████                    | 4474/6750 [05:34<02:54, 13.03it/s]"
     ]
    }
   ],
   "source": [
    "# Run prediction\n",
    "from torch_geometric.data import DataLoader\n",
    "\n",
    "import torch.nn.functional as F\n",
    "import torch.optim as optim\n",
    "import torch.nn as nn\n",
    "from torch.optim.lr_scheduler import StepLR\n",
    "from copy import deepcopy\n",
    "\n",
    "def evaluate(model, loader):\n",
    "    model.eval()\n",
    "    y_all = []\n",
    "    loss_all = []\n",
    "    pert_all = []\n",
    "    y_true_all = []\n",
    "    for step, batch in enumerate(tqdm(loader)):\n",
    "        batch = batch.to(device)\n",
    "        out, y_pred = model(batch)\n",
    "        loss = loss_fct(batch.y.reshape(-1), y_pred.reshape(-1))\n",
    "        loss_all.append(loss.item())\n",
    "        y_all.append(y_pred.detach().cpu().numpy())\n",
    "        pert_all.append(batch.pert)\n",
    "        y_true_all.append(batch.y)\n",
    "    return y_all, loss_all, pert_all, y_true_all\n",
    "\n",
    "def get_dataloader(set2cond, batch_size, test_batch_size = None):\n",
    "    if test_batch_size is None:\n",
    "        test_batch_size = batch_size\n",
    "\n",
    "    cell_graphs = {}\n",
    "    \n",
    "\n",
    "    splits = ['train','val','test']\n",
    "    for i in splits:\n",
    "        cell_graphs[i] = []\n",
    "        for p in set2cond[i]:\n",
    "            if p in all_cell_graphs:\n",
    "                cell_graphs[i].extend(all_cell_graphs[p])\n",
    "\n",
    "    # Set up dataloaders\n",
    "    train_loader = DataLoader(cell_graphs['train'],\n",
    "                        batch_size=batch_size, shuffle=True, drop_last = True)\n",
    "    val_loader = DataLoader(cell_graphs['val'],\n",
    "                        batch_size=batch_size, shuffle=True)\n",
    "\n",
    "    test_loader = DataLoader(cell_graphs['test'],\n",
    "                    batch_size=batch_size, shuffle=False)\n",
    "    return {'train_loader': train_loader,\n",
    "                        'val_loader': val_loader,\n",
    "                        'test_loader': test_loader}\n",
    "\n",
    "for sample_frac in [40, 50, 60]:\n",
    "    for label in ['delta_tot', 'raw_y']:\n",
    "        seed = 1\n",
    "\n",
    "        GI = GI_expt(pick_genes=None)\n",
    "        itr_data = GI.pre_process(sample=sample_frac, seed=seed)\n",
    "\n",
    "        itr_data['raw_y'] = fitness_data['good_phen']\n",
    "        y = itr_data[label].values\n",
    "\n",
    "        gene2idx = dict(zip(itr_data[label].index.values, range(len(itr_data[label].index.values))))\n",
    "\n",
    "        pert_list = [i[0] + '+' + i[1] for i in list(combinations(itr_data[label].index.values, 2))]\n",
    "        pert_list += [i + '+ctrl' for i in unique_pert_genes]\n",
    "\n",
    "        y_list = []\n",
    "        for i in pert_list:\n",
    "            if i.split('+')[1]!= 'ctrl':\n",
    "                y_list.append(y[gene2idx[i.split('+')[0]], gene2idx[i.split('+')[1]]])\n",
    "            else:\n",
    "                y_list.append(y[gene2idx[i.split('+')[0]], gene2idx[i.split('+')[0]]])\n",
    "\n",
    "        pert_list2y_list = dict(zip(pert_list, y_list))\n",
    "\n",
    "        train = [i[0] + '+' + i[1] for i in itr_data['train']]\n",
    "        test = [i[0] + '+' + i[1] for i in itr_data['test']]\n",
    "\n",
    "        from sklearn.model_selection import train_test_split\n",
    "        train, val, _, _ = train_test_split(train, [-1] * len(train), test_size=0.1, random_state=42)\n",
    "\n",
    "        ## add single back\n",
    "        train = train + [i + '+ctrl' for i in unique_pert_genes]\n",
    "\n",
    "        set2cond = {\n",
    "            'train': train,\n",
    "            'val': val,\n",
    "            'test': test\n",
    "        }\n",
    "\n",
    "        from torch_geometric.data import Data\n",
    "        import torch\n",
    "        from tqdm import tqdm\n",
    "        num_samples = 100\n",
    "        all_cell_graphs = {}\n",
    "        pert_na = []\n",
    "        for pert in tqdm(pert_list):\n",
    "            pert_name = pert\n",
    "            pert = pert.split('+')\n",
    "            pert = [i for i in pert if i!='ctrl']\n",
    "\n",
    "            # Get the indices (and signs) of applied perturbation\n",
    "            try:\n",
    "                pert_idx = [np.where(p == np.array(all_pert_list_options))[0][0] for p in pert]\n",
    "                Xs = ctrl_adata[np.random.randint(0, len(ctrl_adata), num_samples), :].X.toarray()\n",
    "                # Create cell graphs\n",
    "                all_cell_graphs[pert_name] = [Data(x=torch.Tensor(X).T, pert_idx = pert_idx, pert=pert, y=pert_list2y_list[pert_name]) for X in Xs]\n",
    "            except:\n",
    "                pert_na.append(pert_name)\n",
    "\n",
    "        loaders = get_dataloader(set2cond, batch_size = 32)\n",
    "        train_loader = loaders['train_loader']\n",
    "        val_loader = loaders['val_loader']\n",
    "        test_loader = loaders['test_loader']\n",
    "\n",
    "        optimizer = optim.Adam(model.parameters(), lr=1e-3, weight_decay = 5e-4)\n",
    "        scheduler = StepLR(optimizer, step_size=1, gamma=0.5)\n",
    "\n",
    "        loss_fct = F.mse_loss\n",
    "        earlystop_validation_metric = 'mse'\n",
    "        binary_output = False\n",
    "\n",
    "        earlystop_direction = 'descend'\n",
    "        min_val = np.inf\n",
    "\n",
    "        best_model = deepcopy(model).to(device)\n",
    "\n",
    "        loss_history = {\n",
    "            'loss': []\n",
    "        }\n",
    "\n",
    "        print('Start Training...')\n",
    "        for epoch in range(1):\n",
    "            model.train()\n",
    "\n",
    "            for step, batch in enumerate(tqdm(train_loader)):\n",
    "                optimizer.zero_grad()\n",
    "                batch = batch.to(device)\n",
    "                out, y_pred = model(batch)\n",
    "                loss = loss_fct(batch.y.float().reshape(-1), y_pred.reshape(-1))\n",
    "                loss.backward()\n",
    "                optimizer.step()\n",
    "                loss_history['loss'].append(loss.item())\n",
    "\n",
    "                if (step % 200 == 0) and (step >= 200):\n",
    "                    log = \"Epoch {} Step {} Train Loss: {:.4f}\" \n",
    "                    print(log.format(epoch + 1, step + 1, loss.item()))\n",
    "            #_, val_loss\n",
    "            val_y_all, val_loss_all, val_pert_all, val_y_true_all = evaluate(model, val_loader)\n",
    "            if np.mean(val_loss_all) < min_val:\n",
    "                best_model = deepcopy(model)\n",
    "                min_val = np.mean(val_loss_all)\n",
    "        test_y_all, test_loss_all, test_pert_all, test_y_true_all = evaluate(best_model, test_loader)\n",
    "        print(np.mean(test_loss_all))\n",
    "\n",
    "\n",
    "        pert_test_list = [i[0] + '+' +  i[1] if len(i) == 2 else i[0] +'+ctrl' for i in [j for i in test_pert_all for j in i]]\n",
    "        test_y_list = np.concatenate([i for i in [j for i in test_y_all for j in i]])\n",
    "        test_y_true_list = np.concatenate([i.detach().cpu().numpy() for i in test_y_true_all])\n",
    "        df_pred = pd.DataFrame((pert_test_list, test_y_true_list, test_y_list)).T\n",
    "        pert2y_true = dict(df_pred.groupby([0])[1].agg(np.mean))\n",
    "        pert2y_pred = dict(df_pred.groupby([0])[2].agg(np.mean))\n",
    "\n",
    "        pred = pd.DataFrame(pert2y_true, index = [0]).T.reset_index().rename(columns = {0: 'truth', 'index': 'test_pert'})\n",
    "        pred['pred'] = pred.test_pert.apply(lambda x: pert2y_pred[x])\n",
    "        pred.to_csv(label + '_pred_no_pretrain_update_' + str(seed) + '_' + str(sample_frac) + '.csv', index = False)"
   ]
  },
  {
   "cell_type": "markdown",
   "metadata": {},
   "source": [
    "### Plotting results"
   ]
  },
  {
   "cell_type": "code",
   "execution_count": 51,
   "metadata": {},
   "outputs": [],
   "source": [
    "import matplotlib\n",
    "font = {'family' : 'normal',\n",
    "        'size'   : 16}\n",
    "\n",
    "matplotlib.rc('font', **font)\n",
    "from scipy.stats import pearsonr"
   ]
  },
  {
   "cell_type": "code",
   "execution_count": 127,
   "metadata": {},
   "outputs": [
    {
     "data": {
      "image/png": "[encoded data removed]",
      "text/plain": [
       "<Figure size 432x288 with 1 Axes>"
      ]
     },
     "metadata": {
      "needs_background": "light"
     },
     "output_type": "display_data"
    }
   ],
   "source": [
    "sampling_rate = 40\n",
    "pred_ = pd.read_csv('raw_y_pred_no_pretrain_update_1_'+str(sampling_rate)+'.csv')\n",
    "sns.scatterplot(pred_['truth'], pred_['pred'], s = 4, edgecolor='royalblue', color='royalblue')\n",
    "\n",
    "plot_min = pred_.iloc[:,1:].values.min()\n",
    "plot_max = pred_.iloc[:,1:].values.max()\n",
    "\n",
    "plt.plot([plot_min,plot_max],[plot_min,plot_max],color='black', linestyle='--')\n",
    "plt.ylabel('Predicted Cell Fitness')\n",
    "plt.xlabel('True Cell Fitness')\n",
    "\n",
    "r_2 = pearsonr(pred_['truth'], pred_['pred'])[0]**2\n",
    "plt.text(-0.75, 0.1, r\"$R^2=$\"+str(round(r_2,3)))\n",
    "\n",
    "plt.title('Sampling rate: '+str(sampling_rate) +'%', fontsize=16)\n",
    "plt.savefig('Norman_fitness_'+str(sampling_rate)+'.pdf',dpi=200, bbox_inches = \"tight\")"
   ]
  },
  {
   "cell_type": "code",
   "execution_count": 128,
   "metadata": {},
   "outputs": [
    {
     "data": {
      "image/png": "[encoded data removed]",
      "text/plain": [
       "<Figure size 432x288 with 1 Axes>"
      ]
     },
     "metadata": {
      "needs_background": "light"
     },
     "output_type": "display_data"
    }
   ],
   "source": [
    "sampling_rate = 50\n",
    "pred_ = pd.read_csv('raw_y_pred_no_pretrain_update_1_'+str(sampling_rate)+'.csv')\n",
    "sns.scatterplot(pred_['truth'], pred_['pred'], s = 4,  edgecolor='royalblue', color='royalblue')\n",
    "\n",
    "plot_min = pred_.iloc[:,1:].values.min()\n",
    "plot_max = pred_.iloc[:,1:].values.max()\n",
    "\n",
    "plt.plot([plot_min,plot_max],[plot_min,plot_max],color='black', linestyle='--')\n",
    "plt.ylabel('Predicted Cell Fitness')\n",
    "plt.xlabel('True Cell Fitness')\n",
    "\n",
    "r_2 = pearsonr(pred_['truth'], pred_['pred'])[0]**2\n",
    "plt.text(-0.75, 0.1, r\"$R^2=$\"+str(round(r_2,3)))\n",
    "\n",
    "plt.title('Sampling rate: '+str(sampling_rate) +'%', fontsize=16)\n",
    "plt.savefig('Norman_fitness_'+str(sampling_rate)+'.pdf',dpi=200, bbox_inches = \"tight\")"
   ]
  },
  {
   "cell_type": "code",
   "execution_count": 129,
   "metadata": {
    "scrolled": true
   },
   "outputs": [
    {
     "data": {
      "image/png": "[encoded data removed]",
      "text/plain": [
       "<Figure size 432x288 with 1 Axes>"
      ]
     },
     "metadata": {
      "needs_background": "light"
     },
     "output_type": "display_data"
    }
   ],
   "source": [
    "sampling_rate = 60\n",
    "pred_ = pd.read_csv('raw_y_pred_no_pretrain_update_1_'+str(sampling_rate)+'.csv')\n",
    "sns.scatterplot(pred_['truth'], pred_['pred'], s = 4, edgecolor='royalblue', color='royalblue')\n",
    "\n",
    "plot_min = pred_.iloc[:,1:].values.min()\n",
    "plot_max = pred_.iloc[:,1:].values.max()\n",
    "\n",
    "plt.plot([plot_min,plot_max],[plot_min,plot_max],color='black', linestyle='--')\n",
    "plt.ylabel('Predicted Cell Fitness')\n",
    "plt.xlabel('True Cell Fitness')\n",
    "\n",
    "r_2 = pearsonr(pred_['truth'], pred_['pred'])[0]**2\n",
    "plt.text(-0.75, 0.1, r\"$R^2=$\"+str(round(r_2,3)))\n",
    "\n",
    "plt.title('Sampling rate: '+str(sampling_rate) +'%', fontsize=16)\n",
    "plt.savefig('Norman_fitness_'+str(sampling_rate)+'.pdf',dpi=200, bbox_inches = \"tight\")"
   ]
  }
 ],
 "metadata": {
  "kernelspec": {
   "display_name": "deepsnap",
   "language": "python",
   "name": "deepsnap"
  },
  "language_info": {
   "codemirror_mode": {
    "name": "ipython",
    "version": 3
   },
   "file_extension": ".py",
   "mimetype": "text/x-python",
   "name": "python",
   "nbconvert_exporter": "python",
   "pygments_lexer": "ipython3",
   "version": "3.7.4"
  }
 },
 "nbformat": 4,
 "nbformat_minor": 5
}

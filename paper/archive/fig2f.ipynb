{
 "cells": [
  {
   "cell_type": "code",
   "execution_count": 4,
   "id": "70961cf4",
   "metadata": {},
   "outputs": [],
   "source": [
    "import pandas as pd\n",
    "import seaborn as sns\n",
    "import matplotlib.pyplot as plt\n",
    "import seaborn as sns\n",
    "from matplotlib import font_manager\n",
    "\n",
    "font_dirs = [\"./\"]\n",
    "font_files = font_manager.findSystemFonts(fontpaths=font_dirs)\n",
    "\n",
    "for font_file in font_files:\n",
    "    font_manager.fontManager.addfont(font_file)\n",
    "    \n",
    "sns.set( font = \"Helvetica\" )\n",
    "\n",
    "sns.set(rc={'figure.figsize':(6,6)})\n",
    "sns.set_theme(style=\"ticks\", rc={\"axes.facecolor\": (0, 0, 0, 0)}, font = \"Helvetica\", font_scale=1.5)\n",
    "\n",
    "import pandas as pd \n",
    "import wandb\n",
    "api = wandb.Api()\n",
    "\n",
    "data_name = 'norman2019'\n",
    "\n",
    "# Project is specified by <entity/project-name>\n",
    "runs = api.runs(\"kexinhuang/pert_gnn_simulation_\" + data_name)\n",
    "\n",
    "summary_list, config_list, name_list = [], [], []\n",
    "for run in runs: \n",
    "    # .summary contains the output keys/values for metrics like accuracy.\n",
    "    #  We call ._json_dict to omit large files \n",
    "    summary_list.append(run.summary._json_dict)\n",
    "\n",
    "    # .config contains the hyperparameters.\n",
    "    #  We remove special values that start with _.\n",
    "    config_list.append(\n",
    "        {k: v for k,v in run.config.items()\n",
    "          if not k.startswith('_')})\n",
    "\n",
    "    # .name is the human-readable name of the run.\n",
    "    name_list.append(run.name)\n",
    "\n",
    "runs_df = pd.DataFrame({\n",
    "    \"summary\": summary_list,\n",
    "    \"config\": config_list,\n",
    "    \"name\": name_list\n",
    "    })"
   ]
  },
  {
   "cell_type": "code",
   "execution_count": 5,
   "id": "a955791e",
   "metadata": {},
   "outputs": [],
   "source": [
    "run = 6\n",
    "cpa_runs = ['CPA_' + str(i) for i in range(1, run)]\n",
    "pertnet_runs = ['PertNet_API_Seed' + str(i) for i in range(1, run)]\n",
    "no_perturb_runs = ['No_Perturb_' + str(i) for i in range(1, run)]\n",
    "linear_runs = ['Linear_' + str(i) for i in range(1, run)]"
   ]
  },
  {
   "cell_type": "code",
   "execution_count": 6,
   "id": "c9477002",
   "metadata": {},
   "outputs": [],
   "source": [
    "res_df = runs_df[runs_df.name.isin(cpa_runs + pertnet_runs + no_perturb_runs + linear_runs)]"
   ]
  },
  {
   "cell_type": "code",
   "execution_count": 7,
   "id": "c6e1ac0a",
   "metadata": {},
   "outputs": [],
   "source": [
    "def normalize_name(x):\n",
    "    if x in cpa_runs:\n",
    "        return 'CPA'\n",
    "    elif x in pertnet_runs:\n",
    "        return 'GEARS'\n",
    "    elif x in linear_runs:\n",
    "        return 'Linear'\n",
    "    else:\n",
    "        return 'No-Perturb'"
   ]
  },
  {
   "cell_type": "code",
   "execution_count": 8,
   "id": "f4693b89",
   "metadata": {},
   "outputs": [],
   "source": [
    "metrics = ['test_combo_seen2_mse_top20_de_non_dropout',\n",
    "          'test_combo_seen1_mse_top20_de_non_dropout',\n",
    "          'test_unseen_single_mse_top20_de_non_dropout',\n",
    "          'test_combo_seen0_mse_top20_de_non_dropout'\n",
    "          ]\n",
    "metrics_name_map = {'test_combo_seen2_mse_top20_de_non_dropout': '2/2 Seen',\n",
    "                   'test_combo_seen1_mse_top20_de_non_dropout': '1/2 Seen',\n",
    "                   'test_combo_seen0_mse_top20_de_non_dropout': '0/2 Seen',\n",
    "                   'test_unseen_single_mse_top20_de_non_dropout': '0/1 Seen'}\n",
    "method = []\n",
    "category = []\n",
    "result = []\n",
    "for m in metrics:\n",
    "    method += [normalize_name(i) for i in res_df.name.values]\n",
    "    category += [metrics_name_map[m]] * len(res_df)\n",
    "    result += res_df.summary.apply(lambda x: x[m]).values.tolist()"
   ]
  },
  {
   "cell_type": "code",
   "execution_count": 9,
   "id": "2ff24e93",
   "metadata": {},
   "outputs": [],
   "source": [
    "out = {}\n",
    "out['method'] = pd.Series(method)\n",
    "out['category'] = pd.Series(category)\n",
    "out['Top 20 DE MSE'] = pd.Series(result)"
   ]
  },
  {
   "cell_type": "code",
   "execution_count": 10,
   "id": "9d8140cb",
   "metadata": {},
   "outputs": [],
   "source": [
    "out = pd.DataFrame(out)"
   ]
  },
  {
   "cell_type": "code",
   "execution_count": 11,
   "id": "bb3a4b0a",
   "metadata": {},
   "outputs": [],
   "source": [
    "color_pal = {\n",
    "'Linear': (0.9058823529411765, 0.5411764705882353, 0.7647058823529411),\n",
    "'CPA': (0.4, 0.7607843137254902, 0.6470588235294118),\n",
    "'GEARS': (0.9882352941176471, 0.5529411764705883, 0.3843137254901961),\n",
    "'No-Perturb': (0.7019607843137254, 0.7019607843137254, 0.7019607843137254)}\n",
    "pal_order = [color_pal[i] for i in pd.DataFrame(out).method.unique()]"
   ]
  },
  {
   "cell_type": "code",
   "execution_count": 12,
   "id": "a5464aad",
   "metadata": {},
   "outputs": [],
   "source": [
    "import numpy as np\n",
    "normalize = dict(out[out.method == 'No-Perturb'].groupby('category')['Top 20 DE MSE'].agg(np.mean))"
   ]
  },
  {
   "cell_type": "code",
   "execution_count": 13,
   "id": "3a629dce",
   "metadata": {},
   "outputs": [],
   "source": [
    "norm = []\n",
    "for i in out[['category', 'Top 20 DE MSE']].values:\n",
    "    norm.append(i[1]/normalize[i[0]])"
   ]
  },
  {
   "cell_type": "code",
   "execution_count": 14,
   "id": "39790f86",
   "metadata": {},
   "outputs": [],
   "source": [
    "out['Normalized MSE of Top 20 DE Genes'] = norm"
   ]
  },
  {
   "cell_type": "code",
   "execution_count": 15,
   "id": "769d91e8",
   "metadata": {},
   "outputs": [
    {
     "data": {
      "text/plain": [
       "{'Linear': (0.9058823529411765, 0.5411764705882353, 0.7647058823529411),\n",
       " 'CPA': (0.4, 0.7607843137254902, 0.6470588235294118),\n",
       " 'GEARS': (0.9882352941176471, 0.5529411764705883, 0.3843137254901961),\n",
       " 'No-Perturb': (0.7019607843137254, 0.7019607843137254, 0.7019607843137254)}"
      ]
     },
     "execution_count": 15,
     "metadata": {},
     "output_type": "execute_result"
    }
   ],
   "source": [
    "color_pal"
   ]
  },
  {
   "cell_type": "code",
   "execution_count": 25,
   "id": "68ab08d7",
   "metadata": {},
   "outputs": [
    {
     "name": "stdout",
     "output_type": "stream",
     "text": [
      "Combo Seen 0: 0.4852492339575375\n",
      "Combo Seen 0: 1.9426877354418715\n",
      "Combo Seen 1: 0.447830655131731\n",
      "Combo Seen 1: 1.8110386049022151\n",
      "Combo Seen 2: 0.44087723174022236\n",
      "Combo Seen 2: 1.7885159696007649\n",
      "Unseen Single: 0.26006025164774965\n",
      "Unseen Single: 1.3514613888858789\n"
     ]
    }
   ],
   "source": [
    "d = pd.DataFrame(pd.DataFrame(out).groupby(['method', 'category'])['Normalized MSE of Top 20 DE Genes'].agg(np.mean))\n",
    "d = d.reset_index()\n",
    "for i in d.category.unique():\n",
    "    x = d[d.category == i]['Normalized MSE of Top 20 DE Genes'].values\n",
    "    print(i + ': ' + str(np.abs(x[0] - x[1])/x[0]))\n",
    "    \n",
    "    print(i + ': ' + str(x[0]/x[1]))"
   ]
  },
  {
   "cell_type": "code",
   "execution_count": 32,
   "id": "02706ff7",
   "metadata": {},
   "outputs": [
    {
     "data": {
      "text/html": [
       "<div>\n",
       "<style scoped>\n",
       "    .dataframe tbody tr th:only-of-type {\n",
       "        vertical-align: middle;\n",
       "    }\n",
       "\n",
       "    .dataframe tbody tr th {\n",
       "        vertical-align: top;\n",
       "    }\n",
       "\n",
       "    .dataframe thead th {\n",
       "        text-align: right;\n",
       "    }\n",
       "</style>\n",
       "<table border=\"1\" class=\"dataframe\">\n",
       "  <thead>\n",
       "    <tr style=\"text-align: right;\">\n",
       "      <th></th>\n",
       "      <th>method</th>\n",
       "      <th>category</th>\n",
       "      <th>Top 20 DE MSE</th>\n",
       "      <th>Normalized MSE of Top 20 DE Genes</th>\n",
       "    </tr>\n",
       "  </thead>\n",
       "  <tbody>\n",
       "    <tr>\n",
       "      <th>0</th>\n",
       "      <td>GEARS</td>\n",
       "      <td>2/2 Seen</td>\n",
       "      <td>0.131399</td>\n",
       "      <td>0.193514</td>\n",
       "    </tr>\n",
       "    <tr>\n",
       "      <th>1</th>\n",
       "      <td>GEARS</td>\n",
       "      <td>2/2 Seen</td>\n",
       "      <td>0.225381</td>\n",
       "      <td>0.331924</td>\n",
       "    </tr>\n",
       "    <tr>\n",
       "      <th>2</th>\n",
       "      <td>GEARS</td>\n",
       "      <td>2/2 Seen</td>\n",
       "      <td>0.074711</td>\n",
       "      <td>0.110029</td>\n",
       "    </tr>\n",
       "    <tr>\n",
       "      <th>3</th>\n",
       "      <td>GEARS</td>\n",
       "      <td>2/2 Seen</td>\n",
       "      <td>0.111895</td>\n",
       "      <td>0.164790</td>\n",
       "    </tr>\n",
       "    <tr>\n",
       "      <th>4</th>\n",
       "      <td>GEARS</td>\n",
       "      <td>2/2 Seen</td>\n",
       "      <td>0.129879</td>\n",
       "      <td>0.191275</td>\n",
       "    </tr>\n",
       "    <tr>\n",
       "      <th>...</th>\n",
       "      <td>...</td>\n",
       "      <td>...</td>\n",
       "      <td>...</td>\n",
       "      <td>...</td>\n",
       "    </tr>\n",
       "    <tr>\n",
       "      <th>75</th>\n",
       "      <td>No-Perturb</td>\n",
       "      <td>0/2 Seen</td>\n",
       "      <td>0.650836</td>\n",
       "      <td>0.921832</td>\n",
       "    </tr>\n",
       "    <tr>\n",
       "      <th>76</th>\n",
       "      <td>No-Perturb</td>\n",
       "      <td>0/2 Seen</td>\n",
       "      <td>0.625955</td>\n",
       "      <td>0.886590</td>\n",
       "    </tr>\n",
       "    <tr>\n",
       "      <th>77</th>\n",
       "      <td>No-Perturb</td>\n",
       "      <td>0/2 Seen</td>\n",
       "      <td>0.930438</td>\n",
       "      <td>1.317854</td>\n",
       "    </tr>\n",
       "    <tr>\n",
       "      <th>78</th>\n",
       "      <td>No-Perturb</td>\n",
       "      <td>0/2 Seen</td>\n",
       "      <td>0.801830</td>\n",
       "      <td>1.135697</td>\n",
       "    </tr>\n",
       "    <tr>\n",
       "      <th>79</th>\n",
       "      <td>No-Perturb</td>\n",
       "      <td>0/2 Seen</td>\n",
       "      <td>0.521066</td>\n",
       "      <td>0.738028</td>\n",
       "    </tr>\n",
       "  </tbody>\n",
       "</table>\n",
       "<p>80 rows × 4 columns</p>\n",
       "</div>"
      ],
      "text/plain": [
       "        method  category  Top 20 DE MSE  Normalized MSE of Top 20 DE Genes\n",
       "0        GEARS  2/2 Seen       0.131399                           0.193514\n",
       "1        GEARS  2/2 Seen       0.225381                           0.331924\n",
       "2        GEARS  2/2 Seen       0.074711                           0.110029\n",
       "3        GEARS  2/2 Seen       0.111895                           0.164790\n",
       "4        GEARS  2/2 Seen       0.129879                           0.191275\n",
       "..         ...       ...            ...                                ...\n",
       "75  No-Perturb  0/2 Seen       0.650836                           0.921832\n",
       "76  No-Perturb  0/2 Seen       0.625955                           0.886590\n",
       "77  No-Perturb  0/2 Seen       0.930438                           1.317854\n",
       "78  No-Perturb  0/2 Seen       0.801830                           1.135697\n",
       "79  No-Perturb  0/2 Seen       0.521066                           0.738028\n",
       "\n",
       "[80 rows x 4 columns]"
      ]
     },
     "execution_count": 32,
     "metadata": {},
     "output_type": "execute_result"
    }
   ],
   "source": [
    "pd.DataFrame(out)"
   ]
  },
  {
   "cell_type": "code",
   "execution_count": 33,
   "id": "47c91bc2",
   "metadata": {},
   "outputs": [
    {
     "name": "stderr",
     "output_type": "stream",
     "text": [
      "/dfs/user/kexinh/miniconda3/envs/eee/lib/python3.8/site-packages/seaborn/_decorators.py:36: FutureWarning: Pass the following variables as keyword args: x, y. From version 0.12, the only valid positional argument will be `data`, and passing other arguments without an explicit keyword will result in an error or misinterpretation.\n",
      "  warnings.warn(\n"
     ]
    },
    {
     "data": {
      "image/png": "[encoded data removed]",
      "text/plain": [
       "<Figure size 864x432 with 1 Axes>"
      ]
     },
     "metadata": {},
     "output_type": "display_data"
    }
   ],
   "source": [
    "sns.set(rc={'figure.figsize':(12,6)})\n",
    "sns.set_theme(style=\"ticks\", rc={\"axes.facecolor\": (0, 0, 0, 0)}, font = \"Helvetica\", font_scale=1.8)\n",
    "\n",
    "g = sns.pointplot('category', 'Normalized MSE of Top 20 DE Genes', \n",
    "    data=pd.DataFrame(out), \n",
    "    order = ['2/2 Seen', '1/2 Seen', '0/2 Seen'], \n",
    "    hue = 'method',\n",
    "    palette= [color_pal['Linear'], color_pal['CPA'], color_pal['GEARS']],         \n",
    "    dodge=True, \n",
    "    join=False,\n",
    "    hue_order = ['Linear', 'CPA', 'GEARS'])\n",
    "sns.despine()\n",
    "g.legend_.remove()\n",
    "g.set(xlabel=None, )\n",
    "g.axhline(1, linestyle=\"dashed\")\n",
    "\n",
    "plt.ylabel(\"Normalized MSE of Top 20 DE Genes\",labelpad=10)\n",
    "plt.tick_params(axis='x', which='major', pad=10)\n",
    "plt.tick_params(axis='y', which='major', pad=5)\n",
    "#g.spines['left'].set_linewidth(0.8)\n",
    "#g.spines['bottom'].set_linewidth(0.8)\n",
    "\n",
    "plt.savefig('subgroup_' + data_name + '_normalized.pdf', bbox_inches='tight')\n"
   ]
  },
  {
   "cell_type": "code",
   "execution_count": null,
   "id": "1cc64fdb",
   "metadata": {},
   "outputs": [],
   "source": []
  },
  {
   "cell_type": "code",
   "execution_count": null,
   "id": "26b28b52",
   "metadata": {},
   "outputs": [],
   "source": []
  }
 ],
 "metadata": {
  "kernelspec": {
   "display_name": "Python 3",
   "language": "python",
   "name": "python3"
  },
  "language_info": {
   "codemirror_mode": {
    "name": "ipython",
    "version": 3
   },
   "file_extension": ".py",
   "mimetype": "text/x-python",
   "name": "python",
   "nbconvert_exporter": "python",
   "pygments_lexer": "ipython3",
   "version": "3.8.13"
  }
 },
 "nbformat": 4,
 "nbformat_minor": 5
}

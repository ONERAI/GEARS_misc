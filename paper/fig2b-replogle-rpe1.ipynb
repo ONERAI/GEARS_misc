{
 "cells": [
  {
   "cell_type": "code",
   "execution_count": 2,
   "metadata": {},
   "outputs": [],
   "source": [
    "import pandas as pd\n",
    "import seaborn as sns\n",
    "import matplotlib.pyplot as plt\n",
    "import wandb\n",
    "import numpy as np\n",
    "import seaborn as sns\n",
    "import matplotlib.pyplot as plt\n",
    "\n",
    "from matplotlib import font_manager\n",
    "\n",
    "font_dirs = [\"./\"]\n",
    "font_files = font_manager.findSystemFonts(fontpaths=font_dirs)\n",
    "\n",
    "for font_file in font_files:\n",
    "    font_manager.fontManager.addfont(font_file)\n",
    "    \n",
    "sns.set( font = \"Helvetica\" )\n",
    "\n",
    "api = wandb.Api()\n",
    "\n",
    "data_name = 'replogle_rpe1_gw_filtered_hvg'\n",
    "\n",
    "# Project is specified by <entity/project-name>\n",
    "runs = api.runs(\"kexinhuang/\" + data_name)\n",
    "\n",
    "summary_list, config_list, name_list = [], [], []\n",
    "for run in runs: \n",
    "    # .summary contains the output keys/values for metrics like accuracy.\n",
    "    #  We call ._json_dict to omit large files \n",
    "    summary_list.append(run.summary._json_dict)\n",
    "\n",
    "    # .config contains the hyperparameters.\n",
    "    #  We remove special values that start with _.\n",
    "    config_list.append(\n",
    "        {k: v for k,v in run.config.items()\n",
    "          if not k.startswith('_')})\n",
    "\n",
    "    # .name is the human-readable name of the run.\n",
    "    name_list.append(run.name)\n",
    "\n",
    "runs_df = pd.DataFrame({\n",
    "    \"summary\": summary_list,\n",
    "    \"config\": config_list,\n",
    "    \"name\": name_list\n",
    "    })\n",
    "\n",
    "runs = api.runs(\"kexinhuang/linear_model\")\n",
    "\n",
    "summary_list, config_list, name_list = [], [], []\n",
    "for run in runs: \n",
    "    # .summary contains the output keys/values for metrics like accuracy.\n",
    "    #  We call ._json_dict to omit large files \n",
    "    summary_list.append(run.summary._json_dict)\n",
    "\n",
    "    # .config contains the hyperparameters.\n",
    "    #  We remove special values that start with _.\n",
    "    config_list.append(\n",
    "        {k: v for k,v in run.config.items()\n",
    "          if not k.startswith('_')})\n",
    "\n",
    "    # .name is the human-readable name of the run.\n",
    "    name_list.append(run.name)\n",
    "\n",
    "runs_df_linear = pd.DataFrame({\n",
    "    \"summary\": summary_list,\n",
    "    \"config\": config_list,\n",
    "    \"name\": name_list\n",
    "    })\n",
    "\n",
    "runs_df = runs_df.append(runs_df_linear)"
   ]
  },
  {
   "cell_type": "code",
   "execution_count": 3,
   "metadata": {},
   "outputs": [],
   "source": [
    "run = 6\n",
    "cpa_runs = ['CPA_seed' + str(i) for i in range(1, run)]\n",
    "pertnet_runs = ['gears_seed' + str(i) for i in range(1, run)]\n",
    "no_perturb_runs = ['no_perturb_seed' + str(i) for i in range(1, run)]\n",
    "linear_runs = [data_name + '_' + str(i) for i in range(1, run)]"
   ]
  },
  {
   "cell_type": "code",
   "execution_count": 4,
   "metadata": {},
   "outputs": [],
   "source": [
    "res_df = runs_df[runs_df.name.isin(cpa_runs + pertnet_runs + no_perturb_runs + linear_runs)]"
   ]
  },
  {
   "cell_type": "code",
   "execution_count": 5,
   "metadata": {},
   "outputs": [],
   "source": [
    "def normalize_name(x):\n",
    "    if x in cpa_runs:\n",
    "        return 'CPA'\n",
    "    elif x in pertnet_runs:\n",
    "        return 'GEARS'\n",
    "    elif x in linear_runs:\n",
    "        return 'GRN'\n",
    "    else:\n",
    "        return 'No-Perturb'"
   ]
  },
  {
   "cell_type": "code",
   "execution_count": 6,
   "metadata": {},
   "outputs": [],
   "source": [
    "metrics = ['test_mse_top20_de_non_dropout', 'test_pearson_delta']\n",
    "metrics_name_map = {'test_mse_top20_de_non_dropout': 'Top 20 DE MSE',\n",
    "                   'test_pearson_delta': 'Pearson Correlation Across All Genes'}\n",
    "out = {}\n",
    "out['method'] = [normalize_name(i) for i in res_df.name.values]\n",
    "for m in metrics:\n",
    "    out[metrics_name_map[m]] = res_df.summary.apply(lambda x: x[m])\n",
    "out = pd.DataFrame(out)"
   ]
  },
  {
   "cell_type": "code",
   "execution_count": 7,
   "metadata": {},
   "outputs": [],
   "source": [
    "color_pal = {\n",
    "'GRN': (0.9058823529411765, 0.5411764705882353, 0.7647058823529411),\n",
    "'CPA': (0.4, 0.7607843137254902, 0.6470588235294118),\n",
    "'GEARS': (0.9882352941176471, 0.5529411764705883, 0.3843137254901961),\n",
    "'No-Perturb': (0.7019607843137254, 0.7019607843137254, 0.7019607843137254)}"
   ]
  },
  {
   "cell_type": "code",
   "execution_count": 8,
   "metadata": {},
   "outputs": [],
   "source": [
    "pal_order = [color_pal[i] for i in pd.DataFrame(out).method.unique()]"
   ]
  },
  {
   "cell_type": "code",
   "execution_count": 9,
   "metadata": {},
   "outputs": [],
   "source": [
    "import numpy as np\n",
    "normalize = np.mean(out[out.method == 'No-Perturb']['Top 20 DE MSE'])\n",
    "out['Normalized MSE of Top 20 DE Genes'] = out['Top 20 DE MSE'].values/normalize"
   ]
  },
  {
   "cell_type": "code",
   "execution_count": 22,
   "metadata": {},
   "outputs": [
    {
     "name": "stderr",
     "output_type": "stream",
     "text": [
      "/dfs/user/yhr/deepamp/lib/python3.8/site-packages/seaborn/_decorators.py:36: FutureWarning: Pass the following variables as keyword args: x, y. From version 0.12, the only valid positional argument will be `data`, and passing other arguments without an explicit keyword will result in an error or misinterpretation.\n",
      "  warnings.warn(\n"
     ]
    },
    {
     "data": {
      "image/png": "[encoded data removed]",
      "text/plain": [
       "<Figure size 252x432 with 1 Axes>"
      ]
     },
     "metadata": {},
     "output_type": "display_data"
    }
   ],
   "source": [
    "sns.set(rc={'figure.figsize':(3.5,6)})\n",
    "sns.set_theme(style=\"ticks\", rc={\"axes.facecolor\": (0, 0, 0, 0)}, font = \"Helvetica\", font_scale=1.8)\n",
    "\n",
    "g = sns.pointplot('method', 'Normalized MSE of Top 20 DE Genes', \n",
    "    data=pd.DataFrame(out), \n",
    "    order = ['GRN','CPA', 'GEARS'], \n",
    "    hue = 'method',\n",
    "    palette=[color_pal['GRN'], color_pal['CPA'], color_pal['GEARS']],              \n",
    "    dodge=True, \n",
    "    join=False,\n",
    "    hue_order = ['GRN', 'CPA', 'GEARS'],)\n",
    "sns.despine()\n",
    "g.legend_.remove()\n",
    "g.set(xlabel=None)\n",
    "g.axhline(1, linestyle=\"dashed\")\n",
    "\n",
    "plt.ylabel(\"Normalized MSE of Top 20 DE Genes\",labelpad=10)\n",
    "plt.tick_params(axis='x', which='major', pad=10)\n",
    "plt.tick_params(axis='y', which='major', pad=5)\n",
    "g.spines['left'].set_linewidth(3)\n",
    "g.spines['bottom'].set_linewidth(3)\n",
    "plt.savefig('Fig2b_' + data_name + '.svg', bbox_inches='tight')\n"
   ]
  },
  {
   "cell_type": "code",
   "execution_count": null,
   "metadata": {},
   "outputs": [],
   "source": []
  }
 ],
 "metadata": {
  "kernelspec": {
   "display_name": "deepamp",
   "language": "python",
   "name": "deepamp"
  },
  "language_info": {
   "codemirror_mode": {
    "name": "ipython",
    "version": 3
   },
   "file_extension": ".py",
   "mimetype": "text/x-python",
   "name": "python",
   "nbconvert_exporter": "python",
   "pygments_lexer": "ipython3",
   "version": "3.8.10"
  }
 },
 "nbformat": 4,
 "nbformat_minor": 5
}

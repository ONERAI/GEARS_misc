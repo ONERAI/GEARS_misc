{
 "cells": [
  {
   "cell_type": "markdown",
   "metadata": {},
   "source": [
    "## Reproduce results from the [preprint](https://www.biorxiv.org/content/10.1101/2022.07.12.499735v2)\n",
    "\n",
    "For Dixit, Adamson and Norman dataset"
   ]
  },
  {
   "cell_type": "code",
   "execution_count": 1,
   "metadata": {},
   "outputs": [],
   "source": [
    "## Note this uses the pip version of GEARS (v0.0.4) - not the one in this repository\n",
    "import gears\n",
    "from gears import PertData, GEARS"
   ]
  },
  {
   "cell_type": "code",
   "execution_count": 2,
   "metadata": {},
   "outputs": [],
   "source": [
    "seed = 1"
   ]
  },
  {
   "cell_type": "markdown",
   "metadata": {},
   "source": [
    "### Dataset: Dixit "
   ]
  },
  {
   "cell_type": "code",
   "execution_count": 3,
   "metadata": {},
   "outputs": [
    {
     "name": "stderr",
     "output_type": "stream",
     "text": [
      "Found local copy...\n",
      "Downloading...\n",
      "100%|████████████████████████████████████████████████████████████████████████████████████████████████████████████████████████████████████████████████████| 168M/168M [00:12<00:00, 13.1MiB/s]\n",
      "Extracting zip file...\n",
      "Done!\n",
      "These perturbations are not in the GO graph and their perturbation can thus not be predicted\n",
      "[]\n",
      "Creating pyg object for each cell in the data...\n",
      "100%|████████████████████████████████████████████████████████████████████████████████████████████████████████████████████████████████████████████████████████| 20/20 [00:59<00:00,  2.97s/it]\n",
      "Saving new dataset pyg object at ./data/dixit/data_pyg/cell_graphs.pkl\n",
      "Done!\n",
      "Creating new splits....\n",
      "Saving new splits at ./data/dixit/splits/dixit_simulation_1_0.75.pkl\n",
      "Simulation split test composition:\n",
      "combo_seen0:0\n",
      "combo_seen1:0\n",
      "combo_seen2:0\n",
      "unseen_single:5\n",
      "Done!\n",
      "Creating dataloaders....\n",
      "Done!\n"
     ]
    }
   ],
   "source": [
    "dataset_name = 'dixit'\n",
    "\n",
    "pert_data = PertData('./data', default_pert_graph=False)\n",
    "pert_data.load(data_name = dataset_name)\n",
    "pert_data.prepare_split(split = 'simulation', seed = seed) # get data split with seed\n",
    "pert_data.get_dataloader(batch_size = 32, test_batch_size = 128) # prepare data loader"
   ]
  },
  {
   "cell_type": "code",
   "execution_count": null,
   "metadata": {},
   "outputs": [],
   "source": [
    "gears_model = GEARS(pert_data, device = 'cuda:2', \n",
    "                    weight_bias_track = False, \n",
    "                    proj_name = dataset_name, \n",
    "                    exp_name = 'gears_seed' + str(seed))\n",
    "\n",
    "gears_model.model_initialize(hidden_size = 64)\n",
    "\n",
    "gears_model.train(epochs=1)"
   ]
  },
  {
   "cell_type": "markdown",
   "metadata": {},
   "source": [
    "### Dataset: Adamson "
   ]
  },
  {
   "cell_type": "code",
   "execution_count": 51,
   "metadata": {},
   "outputs": [],
   "source": [
    "dataset_name = 'adamson'\n",
    "\n",
    "pert_data = PertData('./data', default_pert_graph=False)\n",
    "pert_data.load(data_name = dataset_name)\n",
    "pert_data.prepare_split(split = 'simulation', seed = seed) # get data split with seed\n",
    "pert_data.get_dataloader(batch_size = 32, test_batch_size = 128) # prepare data loader"
   ]
  },
  {
   "cell_type": "code",
   "execution_count": 46,
   "metadata": {},
   "outputs": [
    {
     "name": "stderr",
     "output_type": "stream",
     "text": [
      "Found local copy...\n",
      "Downloading...\n",
      "100%|███████████████████████████████████████| 559k/559k [00:00<00:00, 1.88MiB/s]\n",
      "Downloading...\n",
      "100%|███████████████████████████████████████| 141M/141M [00:10<00:00, 13.7MiB/s]\n",
      "Extracting zip file...\n",
      "Done!\n",
      "These perturbations are not in the GO graph and their perturbation can thus not be predicted\n",
      "['SRPR+ctrl' 'SLMO2+ctrl' 'TIMM23+ctrl' 'AMIGO3+ctrl' 'KCTD16+ctrl']\n",
      "Creating pyg object for each cell in the data...\n",
      "100%|███████████████████████████████████████████| 82/82 [01:26<00:00,  1.05s/it]\n",
      "Saving new dataset pyg object at ./data2/adamson/data_pyg/cell_graphs.pkl\n",
      "Done!\n"
     ]
    }
   ],
   "source": [
    "gears_model = GEARS(pert_data, device = 'cuda:2', \n",
    "                    weight_bias_track = False, \n",
    "                    proj_name = dataset_name, \n",
    "                    exp_name = 'gears_seed' + str(seed))\n",
    "\n",
    "gears_model.model_initialize(hidden_size = 64)\n",
    "\n",
    "gears_model.train(epochs=1)"
   ]
  },
  {
   "cell_type": "markdown",
   "metadata": {},
   "source": [
    "### Dataset: Norman "
   ]
  },
  {
   "cell_type": "code",
   "execution_count": null,
   "metadata": {},
   "outputs": [],
   "source": [
    "dataset_name = 'norman'\n",
    "\n",
    "pert_data = PertData('./data', default_pert_graph=False)\n",
    "pert_data.load(data_name = dataset_name)\n",
    "pert_data.prepare_split(split = 'simulation', seed = seed) # get data split with seed\n",
    "pert_data.get_dataloader(batch_size = 32, test_batch_size = 128) # prepare data loader"
   ]
  },
  {
   "cell_type": "code",
   "execution_count": null,
   "metadata": {},
   "outputs": [],
   "source": [
    "gears_model = GEARS(pert_data, device = 'cuda:2', \n",
    "                    weight_bias_track = False, \n",
    "                    proj_name = dataset_name, \n",
    "                    exp_name = 'gears_seed' + str(seed))\n",
    "\n",
    "gears_model.model_initialize(hidden_size = 64)\n",
    "\n",
    "gears_model.train(epochs=1)"
   ]
  }
 ],
 "metadata": {
  "kernelspec": {
   "display_name": "deepamp",
   "language": "python",
   "name": "deepamp"
  },
  "language_info": {
   "codemirror_mode": {
    "name": "ipython",
    "version": 3
   },
   "file_extension": ".py",
   "mimetype": "text/x-python",
   "name": "python",
   "nbconvert_exporter": "python",
   "pygments_lexer": "ipython3",
   "version": "3.8.10"
  }
 },
 "nbformat": 4,
 "nbformat_minor": 4
}
